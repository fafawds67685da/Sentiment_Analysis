{
  "cells": [
    {
      "cell_type": "code",
      "execution_count": 8,
      "metadata": {
        "id": "1Mst0kKjWI_D"
      },
      "outputs": [],
      "source": [
        "import gensim\n",
        "import pandas as pd\n",
        "import numpy as np\n",
        "import matplotlib.pyplot as plt\n",
        "from gensim.models import word2vec\n",
        "import nltk,re\n",
        "from tqdm import tqdm"
      ]
    },
    {
      "cell_type": "code",
      "execution_count": 10,
      "metadata": {
        "colab": {
          "base_uri": "https://localhost:8080/"
        },
        "id": "2uC2Fnn7WQ22",
        "outputId": "3a3cf2c8-f334-44a1-f969-4f1ddea800fd"
      },
      "outputs": [
        {
          "output_type": "stream",
          "name": "stdout",
          "text": [
            "   Id   ProductId          UserId     ProfileName  HelpfulnessNumerator  \\\n",
            "0   2  B00813GRG4  A1D87F6ZCVE5NK          dll pa                   0.0   \n",
            "1   4  B000UA0QIQ  A395BORC6FGVXV            Karl                   3.0   \n",
            "2  13  B0009XLVG0   A327PCT23YH90              LT                   1.0   \n",
            "3  17  B001GVISJM  A3KLWF6WQ5BNYO  Erica Neathery                   0.0   \n",
            "4  27  B001GVISJM  A3RXAU2N8KV45G          lady21                   0.0   \n",
            "\n",
            "   HelpfulnessDenominator  Score          Time  \\\n",
            "0                     0.0    0.0  1.346976e+09   \n",
            "1                     3.0    0.0  1.307923e+09   \n",
            "2                     1.0    0.0  1.339546e+09   \n",
            "3                     0.0    0.0  1.348099e+09   \n",
            "4                     1.0    0.0  1.332634e+09   \n",
            "\n",
            "                                Summary  \\\n",
            "0                     Not as Advertised   \n",
            "1                        Cough Medicine   \n",
            "2  My Cats Are Not Fans of the New Food   \n",
            "3                            poor taste   \n",
            "4                       Nasty No flavor   \n",
            "\n",
            "                                                Text  \n",
            "0  Product arrived labeled as Jumbo Salted Peanut...  \n",
            "1  If you are looking for the secret ingredient i...  \n",
            "2  My cats have been happily eating Felidae Plati...  \n",
            "3  I love eating them and they are good for watch...  \n",
            "4  The candy is just red , No flavor . Just  plan...  \n"
          ]
        }
      ],
      "source": [
        "data=pd.read_csv('/content/Reviews_new ( 0-1).csv')\n",
        "print(data.head())"
      ]
    },
    {
      "cell_type": "code",
      "execution_count": 11,
      "metadata": {
        "colab": {
          "base_uri": "https://localhost:8080/"
        },
        "id": "A06nnGIOWqq8",
        "outputId": "3ecd7e7e-466a-4dbf-8f9b-4f8f3dfbfcff"
      },
      "outputs": [
        {
          "output_type": "stream",
          "name": "stdout",
          "text": [
            "   Score                                               Text\n",
            "0    0.0  Product arrived labeled as Jumbo Salted Peanut...\n",
            "1    0.0  If you are looking for the secret ingredient i...\n",
            "2    0.0  My cats have been happily eating Felidae Plati...\n",
            "3    0.0  I love eating them and they are good for watch...\n",
            "4    0.0  The candy is just red , No flavor . Just  plan...\n"
          ]
        }
      ],
      "source": [
        "data=data.drop(['Id','ProductId','UserId','ProfileName','HelpfulnessNumerator','HelpfulnessDenominator','Time','Summary'], axis=1, inplace=False)\n",
        "print(data.head())"
      ]
    },
    {
      "cell_type": "code",
      "execution_count": 12,
      "metadata": {
        "colab": {
          "base_uri": "https://localhost:8080/",
          "height": 147
        },
        "id": "FPpWJ8eK6JJM",
        "outputId": "4e078384-e0b5-42c2-94e8-4ee2a350e687"
      },
      "outputs": [
        {
          "output_type": "execute_result",
          "data": {
            "text/plain": [
              "Score    1\n",
              "Text     1\n",
              "dtype: int64"
            ],
            "text/html": [
              "<div>\n",
              "<style scoped>\n",
              "    .dataframe tbody tr th:only-of-type {\n",
              "        vertical-align: middle;\n",
              "    }\n",
              "\n",
              "    .dataframe tbody tr th {\n",
              "        vertical-align: top;\n",
              "    }\n",
              "\n",
              "    .dataframe thead th {\n",
              "        text-align: right;\n",
              "    }\n",
              "</style>\n",
              "<table border=\"1\" class=\"dataframe\">\n",
              "  <thead>\n",
              "    <tr style=\"text-align: right;\">\n",
              "      <th></th>\n",
              "      <th>0</th>\n",
              "    </tr>\n",
              "  </thead>\n",
              "  <tbody>\n",
              "    <tr>\n",
              "      <th>Score</th>\n",
              "      <td>1</td>\n",
              "    </tr>\n",
              "    <tr>\n",
              "      <th>Text</th>\n",
              "      <td>1</td>\n",
              "    </tr>\n",
              "  </tbody>\n",
              "</table>\n",
              "</div><br><label><b>dtype:</b> int64</label>"
            ]
          },
          "metadata": {},
          "execution_count": 12
        }
      ],
      "source": [
        "data.isnull().sum()"
      ]
    },
    {
      "cell_type": "code",
      "execution_count": 13,
      "metadata": {
        "colab": {
          "base_uri": "https://localhost:8080/"
        },
        "id": "nQIZ7pubHiJF",
        "outputId": "3da23b80-7b1b-43a1-a64c-38d5ab593c86"
      },
      "outputs": [
        {
          "output_type": "execute_result",
          "data": {
            "text/plain": [
              "(85114, 2)"
            ]
          },
          "metadata": {},
          "execution_count": 13
        }
      ],
      "source": [
        "data.shape"
      ]
    },
    {
      "cell_type": "code",
      "execution_count": 14,
      "metadata": {
        "id": "P1BpIaPqHcTd"
      },
      "outputs": [],
      "source": [
        "data=data.dropna(axis=0)"
      ]
    },
    {
      "cell_type": "code",
      "execution_count": 15,
      "metadata": {
        "colab": {
          "base_uri": "https://localhost:8080/",
          "height": 147
        },
        "id": "hYWhP5LWHnFH",
        "outputId": "2cbff78c-91ac-4a7e-e61d-83bddd0b6efc"
      },
      "outputs": [
        {
          "output_type": "execute_result",
          "data": {
            "text/plain": [
              "Score    0\n",
              "Text     0\n",
              "dtype: int64"
            ],
            "text/html": [
              "<div>\n",
              "<style scoped>\n",
              "    .dataframe tbody tr th:only-of-type {\n",
              "        vertical-align: middle;\n",
              "    }\n",
              "\n",
              "    .dataframe tbody tr th {\n",
              "        vertical-align: top;\n",
              "    }\n",
              "\n",
              "    .dataframe thead th {\n",
              "        text-align: right;\n",
              "    }\n",
              "</style>\n",
              "<table border=\"1\" class=\"dataframe\">\n",
              "  <thead>\n",
              "    <tr style=\"text-align: right;\">\n",
              "      <th></th>\n",
              "      <th>0</th>\n",
              "    </tr>\n",
              "  </thead>\n",
              "  <tbody>\n",
              "    <tr>\n",
              "      <th>Score</th>\n",
              "      <td>0</td>\n",
              "    </tr>\n",
              "    <tr>\n",
              "      <th>Text</th>\n",
              "      <td>0</td>\n",
              "    </tr>\n",
              "  </tbody>\n",
              "</table>\n",
              "</div><br><label><b>dtype:</b> int64</label>"
            ]
          },
          "metadata": {},
          "execution_count": 15
        }
      ],
      "source": [
        "data.isnull().sum()"
      ]
    },
    {
      "cell_type": "code",
      "execution_count": 16,
      "metadata": {
        "colab": {
          "base_uri": "https://localhost:8080/"
        },
        "id": "3caApieEHrvO",
        "outputId": "9a68d27e-bb8a-4d54-e3fe-f9c1a46eafa4"
      },
      "outputs": [
        {
          "output_type": "execute_result",
          "data": {
            "text/plain": [
              "(85113, 2)"
            ]
          },
          "metadata": {},
          "execution_count": 16
        }
      ],
      "source": [
        "data.shape"
      ]
    },
    {
      "cell_type": "code",
      "execution_count": 17,
      "metadata": {
        "colab": {
          "base_uri": "https://localhost:8080/",
          "height": 472
        },
        "id": "4H5tsgUbsEnE",
        "outputId": "03a34735-d7d5-4d38-b2d9-245595d952e7"
      },
      "outputs": [
        {
          "output_type": "display_data",
          "data": {
            "text/plain": [
              "<Figure size 640x480 with 1 Axes>"
            ],
            "image/png": "[encoded data removed]"
          },
          "metadata": {}
        }
      ],
      "source": [
        "score_counts = data['Score'].value_counts()\n",
        "\n",
        "plt.bar(score_counts.index, score_counts.values)\n",
        "\n",
        "plt.title('Score Distribution for Right Model Training')\n",
        "plt.xlabel('Score')\n",
        "plt.ylabel('Frequency')\n",
        "\n",
        "\n",
        "plt.show()\n"
      ]
    },
    {
      "cell_type": "code",
      "execution_count": 18,
      "metadata": {
        "id": "TzY7GaNhtfZS"
      },
      "outputs": [],
      "source": [
        "#data2 = data.sample(n=500, random_state=564).reset_index(drop=True)\n",
        "#print(data2.shape)"
      ]
    },
    {
      "cell_type": "code",
      "execution_count": 19,
      "metadata": {
        "id": "QplSn96ytRJP"
      },
      "outputs": [],
      "source": [
        "# score_counts = data2['Score'].value_counts()\n",
        "\n",
        "# plt.bar(score_counts.index, score_counts.values)\n",
        "\n",
        "# plt.title('Score Distribution for Right Model Training')\n",
        "# plt.xlabel('Score')\n",
        "# plt.ylabel('Frequency')\n",
        "\n",
        "\n",
        "# plt.show()\n"
      ]
    },
    {
      "cell_type": "code",
      "execution_count": 20,
      "metadata": {
        "colab": {
          "base_uri": "https://localhost:8080/"
        },
        "id": "Pbk35tfUbxae",
        "outputId": "edac8b09-84c1-4f3d-afac-ab478a7df24a"
      },
      "outputs": [
        {
          "output_type": "stream",
          "name": "stderr",
          "text": [
            "[nltk_data] Downloading package stopwords to /root/nltk_data...\n",
            "[nltk_data]   Unzipping corpora/stopwords.zip.\n",
            "[nltk_data] Downloading package punkt to /root/nltk_data...\n",
            "[nltk_data]   Unzipping tokenizers/punkt.zip.\n",
            "[nltk_data] Downloading package wordnet to /root/nltk_data...\n",
            "[nltk_data] Downloading package punkt_tab to /root/nltk_data...\n",
            "[nltk_data]   Unzipping tokenizers/punkt_tab.zip.\n"
          ]
        },
        {
          "output_type": "execute_result",
          "data": {
            "text/plain": [
              "True"
            ]
          },
          "metadata": {},
          "execution_count": 20
        }
      ],
      "source": [
        "from nltk.stem import WordNetLemmatizer\n",
        "lm=WordNetLemmatizer()\n",
        "nltk.download('stopwords')\n",
        "nltk.download('punkt')\n",
        "nltk.download('wordnet')\n",
        "nltk.download('punkt_tab')"
      ]
    },
    {
      "cell_type": "code",
      "execution_count": 21,
      "metadata": {
        "colab": {
          "base_uri": "https://localhost:8080/"
        },
        "id": "mdG6_2njuY6F",
        "outputId": "b0b1ddfe-0c46-4c61-ea1d-b07c92313f80"
      },
      "outputs": [
        {
          "output_type": "stream",
          "name": "stdout",
          "text": [
            "   Score                                               Text\n",
            "0    0.0  Product arrived labeled as Jumbo Salted Peanut...\n",
            "1    0.0  If you are looking for the secret ingredient i...\n",
            "2    0.0  My cats have been happily eating Felidae Plati...\n",
            "3    0.0  I love eating them and they are good for watch...\n",
            "4    0.0  The candy is just red , No flavor . Just  plan...\n"
          ]
        }
      ],
      "source": [
        "print(data.head())"
      ]
    },
    {
      "cell_type": "code",
      "execution_count": 22,
      "metadata": {
        "colab": {
          "base_uri": "https://localhost:8080/"
        },
        "id": "sRmDbnqVcAhS",
        "outputId": "cb607acf-310e-420c-b2d9-ce55fa985dbf"
      },
      "outputs": [
        {
          "output_type": "stream",
          "name": "stderr",
          "text": [
            "100%|██████████| 85113/85113 [00:52<00:00, 1634.90it/s]\n"
          ]
        },
        {
          "output_type": "execute_result",
          "data": {
            "text/plain": [
              "[]"
            ]
          },
          "metadata": {},
          "execution_count": 22
        }
      ],
      "source": [
        "corpus =[]\n",
        "for i in tqdm(range(0,len(data))):\n",
        "  review = re.sub('[^a-zA-Z]', ' ',data['Text'][i])\n",
        "  review = review.lower()\n",
        "  review = review.split()\n",
        "\n",
        "  review = [lm.lemmatize(word) for word in review]\n",
        "  review = ' '.join(review)\n",
        "  corpus.append(review)\n",
        "\n",
        "[[i,j,k] for i,j,k in zip(list(map(len,corpus)),corpus, data['Text']) if i<1]\n"
      ]
    },
    {
      "cell_type": "code",
      "execution_count": 23,
      "metadata": {
        "colab": {
          "base_uri": "https://localhost:8080/"
        },
        "collapsed": true,
        "id": "h2Qk9EVpflUA",
        "outputId": "9bcbf984-ea9b-4e32-cf64-141ff02457ec"
      },
      "outputs": [
        {
          "output_type": "execute_result",
          "data": {
            "text/plain": [
              "['product arrived labeled a jumbo salted peanut the peanut were actually small sized unsalted not sure if this wa an error or if the vendor intended to represent the product a jumbo',\n",
              " 'if you are looking for the secret ingredient in robitussin i believe i have found it i got this in addition to the root beer extract i ordered which wa good and made some cherry soda the flavor is very medicinal',\n",
              " 'my cat have been happily eating felidae platinum for more than two year i just got a new bag and the shape of the food is different they tried the new food when i first put it in their bowl and now the bowl sit full and the kitty will not touch the food i ve noticed similar review related to formula change in the past unfortunately i now need to find a new food that my cat will eat',\n",
              " 'i love eating them and they are good for watching tv and looking at movie it is not too sweet i like to transfer them to a zip lock baggie so they stay fresh so i can take my time eating them',\n",
              " 'the candy is just red no flavor just plan and chewy i would never buy them again',\n",
              " 'this oatmeal is not good it mushy soft i don t like it quaker oat is the way to go',\n",
              " 'arrived in day and were so stale i could not eat any of the bag',\n",
              " 'i purchased the mango flavor and to me it doesn t take like mango at all there is no hint of sweetness and unfortunately there is a hint or aftertaste almost like licorice i ve been consuming various sport nutrition product for decade so i m familiar and have come to like the taste of the most of the product i ve tried the mango flavor is one of the least appealing i ve tasted it s not terrible but it s bad enough that i notice the bad taste every sip i take',\n",
              " 'buyer beware please this sweetener is not for everybody maltitol is an alcohol sugar and can be undigestible in the body you will know a short time after consuming it if you are one of the unsuspecting many who cannot digest it by the extreme intestinal bloating and cramping and massive amount of gas a person can experience nausea diarrhea headache can also be experienced i learned my lesson the hard way year ago when i fell in love with the sugar free chocolate suzanne sommers used to sell i thought i d found sugar free chocolate nirvana at first taste but the bliss wa short lived when the terrible side effect of maltitol kicked in the discomfort wa unlike anything i had ever felt before i blew up like a balloon and had very painful abdominal cramping a the symptom passed this too wa very unpleasant though hard for me to believe a low calorie sweetener could be the culprit all symptom were gone when i stopped eating the chocolate my hunch it had something to do with the maltitol were unfortunately confirmed for me about a year later when i purchased some delicious sugar free popcorn at my local market the taste wa amazing and while i wa looking at the label wondering what could possibly make this yummy new sugarfree treat taste so good my heart sank when i followed the little asterisk next to sugarfree sweetener down to the very bottom of the label and read maltitol in tiny little letter thank goodness i d eaten only a little i still ended up with all the same side effect but for a much shorter duration some people can use maltitol to their heart s content but others like me can have a bad reaction to it in case you re like me it s not you it s the maltitol',\n",
              " 'it is okay i would not go out of my way to buy it again',\n",
              " 'no tea flavor at all just whole brunch of artifial flavor it is not returnable i wasted buck',\n",
              " 'i fed this to my golden retriever and he hated it he wouldn t eat it and when he did it gave him terrible diarrhea we will not be buying this again it s also super expensive',\n",
              " 'i wa diappointed in the flavor and texture of this mix i usually like most of the low carb thing i have tried but wa diappointed in this specific one',\n",
              " 'i must be a bit of a wuss because this soup taste to me how i imagine fire might taste typically i like spicy food if it ha a good flavor i don t find this to be the case with this soup any flavor is killed off by the burn',\n",
              " 'the salsa smelled delicious a i think it probably wa but unfortunately the person at amazon that is a packer there is probably several had very little stuffing to work with especially on the bottom therefore the bottom were broken on all three bottle a i reached for my computer i wa told no return cause it s a food item i then looked for a customer service tag and i found none on their new face lift they seem to be proud of their new face lift but they should at least have a place to contact them in emergency like i buy a lot of stuff and it all come in styrofoam box never would i ship thing br especially salsa in a cardboard box with just a stripe of large bubble wrap on it no matter how much the carrier fed ex is careful it s going to break somewhere along the line especially in an all glass container barbara l s',\n",
              " 'these single sell for at the store for box of single i m not sure why amazon is selling it for for a box of single hazelnut coffee creamer is my favorite but truly this is not a good buy',\n",
              " 'seriously this product wa a tasteless a they come there are much better tasting product out there but at calorie it better than a special k bar or cookie snack pack you just have to season it or combine it with something else to share the flavor',\n",
              " 'i don t know how long these sat on the back of a shelf somewhere but they were so old that they wouldn t cook i had to throw half of them out because the skin were damaged a clear sign of dried bean past their prime i can t even return these or ask for a refund because food is not returnable will find a different brand to use for now i have about fifty serving of bean to throw away',\n",
              " 'besides being smaller than runt they look the same and have the same consistency unfortunately they taste nothing like banana runt nor do they even taste good yucky stuff trying to return with vendor',\n",
              " 'even with small container they don t fill them up these little tin are less than half filled and at the price charged it seems a rip off is there some exotic ingredient a costly a gold contained in those tiny square or how about the cereal ploy they were filled at the factory but settled in transport br can manufacturer be honest in their dealing',\n",
              " 'to me these are nothing like the regular altoids and are not breath mint they are pleasant tasting little candy in a cute convenient tin and that s a far a it go the mintiness is just not strong and the wintergreen are definitely weaker than the peppermint mini i m not a dragon breath person but still one of these mint is too small to have any effect on my breath four or five will freshen my breath for a short while maybe minute at this point i think the icebreaker frost mint are the best a sugar free breath mint',\n",
              " 'too much of a good thing we worked this kibble in over time slowly shifting the percentage of felidae to national junk food brand until the bowl wa all natural by this time the cat couldn t keep it in or down what a mess we ve moved on',\n",
              " 'a with canidae felidae ha also changed their formula cat do not like change when it come to their food and they just had to change it without putting it on their label we noticed the color of the food had changed and so did the smell a you will notice i have also reviewd the canidae and this all happened the same time the dog were having issue br br prior to the change in food we had almost lost two of our cat because we had moved to a new home if cat get upset because of a change in enviorment or a loud noise they can stop eating it depends on the cat two of them had stopped eating and had lost a lot of weight we took them to the vet and it took month to get them back to normal it ha been a year since then and they are better then the formula for this food changed br br we started to noitce they were not eating a much and it started to bug u we asked the shop owner of the feed store and she had no knowledge of any change to the food it wasn t until the we were in there with other customer yelling about their dog food making their dog sick right away we changed the cat food and they started chowing down and haven t suffered one bit like our dog have br br cat are sensitve animal and change to thier food could cause them to stop eating anyone thinking of purchasing this food should not do it we have rescued and fixed cat none of which are picky eater and the change in this formula could have been the death of them had we not found out about the change in their formula br br i urge anyone that ha had these problem to go to the consumer affair website and also the fda website and write a letter to them to let them know how this ha affected your animal a with canidae they do not care how the change ha affected my animal and tell me not to buy it this is just horrible',\n",
              " 'hey the description say gram that is roughly ounce at under per can no way that is the approximate price for a gram can',\n",
              " 'herbal additive in this blend destroy real tea taste it is only for people who like herbal taste i don t',\n",
              " 'this candy is not a described the middle is almost hard it is not a silky or smooth filling a described br look and taste like it s way past it s expiration date br would never reccommend this paid a good chunk of cash for nothing',\n",
              " 'terrible artificial lemon taste like pledge lemon furniture polish don t do this to yourself just use plain flake salt and some fresh grated lemon zest',\n",
              " 'the taste of these white cheddar flat bread is like a regular cracker which is not bad except that i bought them because i wanted a cheese taste br br what wa a huge disappointment how misleading the packaging of the box is the photo on the box i bought these in store make it look like it is full of long flatbread expanding the length and width of the box wrong the plastic tray that hold the cracker is about smaller all around leaving you with about or so small flatbread br br what is also bad about this is that the company state they use biodegradable and eco friendly packaging fail they used a huge box for a ridiculously small amount of cracker not ecofriendly at all br br would i buy these again no i feel ripped off the other cracker like sesame tarragon give you a little br more bang for your buck and have more flavor',\n",
              " 'i ve been drinking this tea for the past or year usually buying a box or two when visiting large metropolitan area where many middle eastern store carry loose ahmad tea usually at for a pound box i ve always considered it an unremarkable but robust tea with enough aroma and taste and beautiful reddish color perhaps not good enough a tea to drink on it own but a decent base for mix br this tea however is nothing of the sort freshly opened package ha almost no characteristic tea smell and the brewed tea is weak flat and tasteless somehow it just doe not seem to be the same product anymore so you get a lot of tea for the money but the quality is such that you might a well drink lipton bag they are not that much worse',\n",
              " 'five minute in one tentacle wa bitten off ball inside cracked in half not durable enough to be a dog toy disappointed so is the dog',\n",
              " 'i felt energized within five minute but it lasted for about minute i paid for this drink i could have just drunk a cup of coffee and saved my money',\n",
              " 'yes it s probably healthier than hour energy or starbucks shot but if you re looking to avoid a caffeine overload this is still not for you most energy drink cannot be made w out a high dosage of caffeine i believe the caffeine content of guayaki shot is ml probably lower than other un healthy energy shot drink but i believe most other people avoid the top brand b c they contain too much caffeine and or sugar if you do not react well to caffeine guayaki is not a good buy either i definitely feel an energy boost w full guayaki shot but not w out all the other caffeine side effect irritability nervousness mood swing caffeine overdose is why i stopped drinking coffee but it look even organic energy drink are still not safe br br now you re not sensitive to caffeine then it s a great buy it s not loaded w sugar the taste is easy and pleasant it s not loaded w a bunch of chemical like hour shot or starbucks drink and the energy boost last for about to hour take about to minute to kick in but all this probably depends on your body weight br br side note if you want to feel energized during the day have a protein drink first thing in the morning and stay away for heavy fattening food during the day that will make you feel sluggish and sleepy',\n",
              " 'i so wish i would have read this review before purchasing two gallon of this oil for my health issue it reek like a chemical rubber smell this smell is coming from the black rubber gasket in the lid when i called to report the situation to the company sabrina told me i would have to pay to send them a sample to have tested by a lab unbelievable good customer service would indicate that they would pay for the product to be returned and give me a full refund including shipping the product is faulty period i will never order anything from this company again and do not recommend it to anyone based on this horrible customer service and lack of responsibility and ownership',\n",
              " 'this product ha a strong after taste of crayola crayon br br i am in the process of trying different brand of coconut oil for cooking purpose upon opening the plastic container the aroma of crayon immediately fill the room and this flavor permeates the food that is cooked in it br br i suspect the source of the problem is the plastic used in the plastic container a i have not experienced this with any of the other brand purchased br br to date my favorite coconut oil is distributed by barleans the flavor is fantastic however they do not supply a gallon sized tub and dr mercola ha the best product in that size category',\n",
              " 'i used to buy this sugar for year i do not eat much sugar but still this sugar is called turbinado sugar but is misleading i picked this brand just because it say real turbinado sugar and other brand in the local food store that their sugar is brown because it is colored with caramel or something br br how did i find out i needed just a sweet water few day ago i put this sugar in the raw in the glass the water became brown and on the bottom of the glass i got just pure white sugar crystal what a shame on the producer u can try to put this sugar in your mouth and after few second you will spit out pure white crystal a well br br i m just wondering if the consumer can hold the company liable for such a practice',\n",
              " 'i paid for a ounce pkg of these at lunch today i bought them because brown rice is a good carb a soon a i tasted one and it tasted like a corn chip i checked the ingredient the name is deceptive these have masa corn flour listed in the ingredient and it overwhelms the taste i won t buy these again i can get sunchips for less money and similar taste',\n",
              " 'this is the first time i ve really been misled by other review on amazon i like hr energy i find rain ok and so i thought i d try this product based on the review boy am i sorry i gagged getting one bottle down even with my nose pinched really and it leaf the worst medicinal taste in your mouth afterwards tic tacs at once did not get rid of it but worst of all within an hour i wa yawning and drowsy unless you really like thing that taste of a weird tea flavored cough syrup and don t work don t buy this i don t know what to do with the other bottle big fail',\n",
              " 'the package came with the label torn off and no cooking instruction i know how i normally cook couscous so tried cup water to cup couscous brought to a boil and let sit covered for min it wa mushy and tasteless we have thrown out the rest of the container',\n",
              " 'i wouldn t even think of buying this product unless i know the price per unit how can i compare other item online or in a store',\n",
              " 'so we cancelled the order it wa cancelled without any problem that is a positive note',\n",
              " 'i received the item in a timely manner upon receipt i removed a pack to consume the pop tart wa stale and left an awful taste in my mouth',\n",
              " 'taste like it is stale will not order this again i had this coffee at a th year annerversery at a reception hall and had to have it this stuff tasted nothing like the douwe egbert at the hall this is possibly stale coffee',\n",
              " 'serveice delivery with the seller wa excellent the product wa not will not order again bad taste iam not sure if it wa old or that how it taste i throw it right away i coudl not drink it',\n",
              " 'a very bitter tasting coffee even when enhanced with cream and or honey definately not my cup of coffee oh did i say it wa bitter',\n",
              " 'these condiment are overpriced and terrible the classic is disgustingly sweet the spiced taste like a bad spicy marinara sauce from a chain restaurant',\n",
              " 'my cat will go for a day probably longer haven t tryed it but he ll walk right by this stuff every time even when i know he s hungery absolutely no interest i swear he d rather die of starvation then even take a wiff of it',\n",
              " 'i haven t used the ham base it is loaded with msg i did not realize this when i ordered it and can not return it because it is a food item',\n",
              " 'this mix is very poorly packaged and break open easily during shipping nearly a full bag of my order wa spilled in the shipping box bag out of had come unsealed at the top there were no tear in the package',\n",
              " 'just awful i thought food wa supposed to taste good i had to eat ice cream afterwards to get the taste out of my mouth it s that bad',\n",
              " 'perhaps the worst bottle of wine i ve ever had i m not even sure i would cook with this it is thin no body and a transparent color not characteristic of a good pinot the taste is just bitter not the complexity that i expect from a pinot noir of any price just not what i m looking for even in a low to mid price pinot noir maybe my bottle wasn t sealed well and went to vinegar other review for this wine are favorable',\n",
              " 'a vile miserable pancake i put these in front of my toddler one morning and she actually cried i don t know if it wa their flat and anemic appearance or their salty bitter taste only the whole wheat flour is organic in this mix the buttermilk baking soda sl and sea salt are not i am going back to nature s path buttermilk pancake mix this one went straight into the garbage',\n",
              " 'i like kettle chip but wa really disappointed with this order because they were over cooked i bought a bigger sized bag from costco and the chip were all cooked perfectly so i don t know why these were different br will never buy these chip from here again',\n",
              " 'i really love kettle brand chip but these are rather disappointing there is very little sour cream or onion flavor',\n",
              " 'i agree with the other review these chip are not for a sore mouth or tender gum the chip are very hard and the taste is delightful if you enjoy the salt vinegar combo unfortunately every bag i received in that case wa over cooked they were very dark and only a few golden brown chip in each bag they definitely need to improve that',\n",
              " 'it wa a great value and i like the package size but not vinegary enough for me won t order this brand again great chip otherwise',\n",
              " 'i wa really looking forward to trying these chip since i love cheese but i wa super disappointed i am a big fan of kettle chip but these tasted somewhat stale and almost plain they are supposed to have a cheddar taste but you cannot taste any of that it s annoying i do not recommend this flavor salt and vinegar and buffalo bleu are my favorite',\n",
              " 'these are perhaps the worst chip that have ever gone into my mouth br br for my entire life sour cream onion and in this case chive chip were my favorite recently kettle brand honey dijon mustard took that slot so when i found out they had sour cream onion i just had to try them br br a soon a i opened the bag the chip smelled of powdered milk and indeed each chip is coated with a powdered sour cream that is just awful it taste like rancid milk not just sour but like sour cream that when rancid the powdery texture is also extremely unappealing i basically hated these chip i would not recommend these chip to anyone unless they had a particular affinity for a powdery chalky texture on a chip with a rancid and onion flavor and i have a hard time believing that person exists br br i plan on contacting kettle and sharing my thought with them hopefully they ll reassess the seasoning on these otherwise wonderful kettle style chip',\n",
              " 'kettle chip now look feel and taste like lay these chip used to be my favorite when it wa crinkle cut and hefty now no longer my favorite',\n",
              " 'these were nasty they were so greasy and too rich for my blood plus they lacked major flavor no spicy jalapeno flavor at all i wa so dissapointed in these chip i am always hearing great thing about these chip but i am telling you yuck yuck yuck give me pain chip any day maybe there is a better kettle chip brand out there but i am staying clear from these chip i wish i could give these zero star if i could',\n",
              " 'being a salt free product is why i purchased this but the chip are quite greasy',\n",
              " 'i once loved these chip and they were the only chip i would buy i discovered them when i wa in england back in and quickly became a fan about a year ago i picked up a bag that wa on sale at my local supermarket i wa finding it odd that they were on sale so much but took advantage of it after opening the bag i found the chip were not even close to the kettle chip i wa used to they were all uniform whitish yellow in color flavor wa way off the lovely extra crisp brown chip were gone completely and i wa very disappointed so i e mailed kettle with the following what happened i bought this bag of chip the other day and they have a very different taste it taste cheaper i don t know how else to put it i also noticed that the chip seemed to be less cooked a i did not see any of the browner colored chip that have the most flavor i am hoping that nothing ha changed with the ingredient or process used to produce this product did i just get a weird batch i have been buying only kettle chip for about year now so i am wondering i did receive a reply thanks for letting u know about your experience with your kettle brand chip it sound like you may have received a bag that should not have slipped by our inspection and we apologize our potato do vary seasonally which could account for a variation in color but our chip should still taste great thanks for providing u with the best before code from the bag this really help when passing on your comment to our staff br we are sending some coupon to replace your purchase with any of our kettle brand flavor or nut butter believing you will have a great experience with your next purchase in case you buy this product again we suggest avoiding the same best before date if you still have it in the rare instance another bag from the same case slipped by our inspection at the same time br thanks again for letting u know about this and expect the coupon to arrive within week please let me know if i can be of any more help well the next bag wa good since that time i have picked up bag of chip all were like the bad bag so i am pretty sure that they have changed there product to reduce cost i did some research and found out that kettle wa bought out by a private equity company so the same cookie cutter management process are probably being employed at kettle acquire company with high quality brand recognition sell product to mass merchant lower quality cost of product to increase margin and finally sell company just before the customer base start to realize that the brand is no longer a quality brand increased profit make the company more valuable on paper so they make a nice profit for the investor customer and employee lose out of course a doe an unsuspecting buyer of the exploited brand stay away from kettle chip they are no longer the same',\n",
              " 'got these kettle chip sea salt vinegar oz bag and wa not impressed tasted kind of flat i wa eating some out of the bag when i looked down into the bag and noticed a hole in the bag about the size of a sesame seed then i started looking at all the unopened bag and many of them had this type same hole some bag had multiple hole one bag had a hole the size of a dime at the bottom of the bag like a rodent had got to it the box they shipped in had no hole so they we re packed this way so much for quality control and who ever let these ship should be fired needless to say i ll never be eating anymore kettle product and expect a full refund from kettle or amazon br m martin',\n",
              " 'when originally produced in england these we re the best chip i had ever tasted but unfortunately since they were bought out by the u conglomerate they now taste plain nasty hard rather than crispy are much thinner than they used to be and lacking any flavour a real shame',\n",
              " 'after opening numerous bag i found that none of the chip had any flavoring on them completely plain and gross how doe this even happen',\n",
              " 'i ve bought these at the local supermarket and enjoyed them although they are so salty that a few leave my tongue and roof of my mouth burning keep you from eating too many occasionally i get really stale item from amazon com and this wa one unedible beware of the quality of food item on this website that are on special a they can be very close to due date or in this case not expired but stale and unedible just the same',\n",
              " 'kettle brand chip used to be so good oily crunchy flavorful i suspect the company ha been bought out and the recipe ha been changed for the worse now they re no better than any other big name brand chip try the good health kettle style olive oil chip instead they are a good a the kettle brand once wa r i p kettle brand chip',\n",
              " 'you can absolutely forget about these confirmed by other reviewer these chip are now total garbage like chewing on styrofoam packaging peanut positively awful no hyperbole or exaggeration i ll never buy anything from kettle brand ever again from a reportedly once great premium brand literally any mass market chip i ve ever tried taste better than these stale and rancid tasting and virtually no salty taste whatsoever completely awful',\n",
              " 'these chip are nasty i thought someone had spilled a drink in the bag no the chip were just soaked with grease nasty',\n",
              " 'unless you like salt vinegar chip a salty a eating actual pinch of salt and drinking actual vinegar i doubt you will like these chip these are the saltiest sourest chip i have ever had and the only reason stop me from throwing these away is because i paid for full box and dont like to waste food the brown chip are especially bad besides being salty and sour they also taste overcooked and burnt unless you are the rare kind that can take this kind of extreme taste you will not like these chip br br i actually have a high tolerance for sour taste so i can down a bag of chip with a bit of difficulty but normal people please do not try this at home',\n",
              " 'i bought this brand a a trial since i am tired of the pingos br br it claim that it is natural i have no argument on this but the point is that more than in the bag is over fried and in brown color i really suffer eating the over fried chip i open some other bag and it look like the same so i just throw away all of them i don t know if i wa with bad luck or every bag they are selling is the same but for sure i will never buy this brand any more',\n",
              " 'i ordered kettle chip in the following flavvors br salt fresh ground pepper br tuscan cheese br n y cheddar and hers br br they all tasted the same to me if there is a variety pack suggest u order before ordering large size br br i wish i could return the unopened bag',\n",
              " 'i purchased these because of the low salt and they were indeed low in salt however many many of the chip in the bag were literally dripping in oil i have never encountered this problem with other potato chip brand it wa very unappetizing and who want all that oil i will never buy these again and i would not recommend them to others',\n",
              " 'if you are looking for strong s v flavor these definitely aren t for you very mild in comparison to many others i live in tx and i can tell you i ve tried all s v chip i can get ahold of the best of the best are heb storebrand and world market bob s and zapp s aren t bad from a chip standpoint they have typically great kettle crunch but if you re looking for s v flavor these have just a touch',\n",
              " 'i don t know if it wa the case of chip we received or what but everyone we allowed to sample the chip in a buffet style setting agreed that these were slightly on the salty side br one person jokingly stated that these would be terrific for melting ice and snow due to the amount of salt in these br br we had ordered these with the expectation that these would be similar to the lay s kettle mesquite potato chip but these kettle brand outback bbq chip are the exact opposite br br sorry folk we just had better expectation from these chip but they a little on the on the salty side br br we are still looking forward to amazon finally getting the lay s kettle mesquite potato chip in stock br these got a star because the bbq powder they had used on these were flavorful enough to be unique',\n",
              " 'these chip are greasy and taste burnt there is grease in the bottom of the bag and the chip are saturated with it especially at the bottom of the bag even if they are trans fat free they need to be a lot less greasy',\n",
              " 'don t waste your money on any of the kettle brand potato chip i bought a case of these and a case of the cheddar and sour cream both case ended up in the garbage can',\n",
              " 'defintely not a tasty a the madhouse munchies which are my family s favorite kettle s are dark burnt more broken bit taste greasy oily and not the light crunch oh well',\n",
              " 'i love sour food but this one i can t bear too strong sour taste and even when you open the bag the sour smell is too strong i don t like it',\n",
              " 'unless you really really really like vinegar avoid those chip should have been called vinegar and sea salt not sea salt and vinegar',\n",
              " 'used to eat the spicy thai flavor all the time msg make my body unhappy and this wa one of the few flavored chip that wa msg free now they have changed the whole recipe and how they make them instead of being real food on the ingredient like it used to be it mostly processed chemical garbage a bunch more salt and msg stuffed in under the label yeast extract they removed the no msg from the label so they know very well what they did br br the worst part though is that they taste horrible instead of crisp oily and full of character say a if they were cooked in like a kettle or something they instead have the color and uniformity of baked lay the spicy thai flavor now taste like sour cream and onion or ranch that ha gone rancid br br what a shame no more kettle chip for me it seems they are slowly moving one flavor at a time to this new cheap ingredient list and manufacturing method dont be fooled into paying a premium price for these chip a they are not a premium product anymore',\n",
              " 'the chip were great for the first few bag however after the first bag or two i noticed that the remaining bag were damaged there were hole in each bag and black sticky stain on the outside other reviewer who bought around the same time that i did are now claiming that they found rodent hole in their bag of chip br br the chip came in a sealed kettle box so it s hard to say who screwed up but someone somewhere screwed up these chip were a health hazard before the hole in the bag now it s like a game of roulette',\n",
              " 'after waiting a ridiculous amount of time for my case of oz bag to arrive upon opening the box noticed that every bag had been chewed open by a mouse don t know if it is still in the box but it is outside on the porch when my son get home i m going to have picture taken and email to amazon the outside amazon box wa intact so it had to be either from the kettle chip people or the amazon warehouse don t know which i will never buy these again from amazon i cannot tell you how disgusted i am with this purchase it make me sick to think about it br br i included picture at the top of the page poor little mousie must have high cholesterol now br br update i forgot to mention that i offered to email the above picture of the mouse damage to amazon but wa told they didn t want them',\n",
              " 'terrible i cannot believe this i received this item and every single bag wa opened but i m stationed in afghanistan and this wa gonna be a snack for my team while going out on mission i wa so embarrassed when the bag were opened and spilt out all in the box gross and the box is filled with grease stain idk if it wa from the airplane ride all the way here but the box should have been more insulated and bubble wrap should have been used instead of paper i m very unhappy with stale crusty chip out the bag and u soldier cannot enjoy now',\n",
              " 'kettle branch potato chip new york cheddar these are good if you like kettle fried potato chip that are waaaay salty on the burnt side and taste rancid either because the cheese flavoring or the oil it wa fried in wa already old i want to like this brand of chip and try their new and other flavor every now and then but after having tried all sort of other brand of kettle cooked chip these just don t hit the spot for me',\n",
              " 'for those of you who like me had to order the kettle spicy thai chip from amazon because they are so hard to find locally you will probably be aggrieved to know that the recipe ha changed they are just like regular potatoe chip i paid for them but now my husband get to eat them because he didn t like the spicy thai but these are fine for him br br yuck',\n",
              " 'while i admit that the oversalted chip is addictive i really think this one ha gone too far skin literally peeled off my lip and inside my mouth after eating these i am surprised that they are still on the market',\n",
              " 'there is nothing too good or too bad about these chip if you like plain potato chip you d like these they are thicker than most brand fresh out of box very crunchy and not too salty for me one bag ha a lot i generally cannot finish it by myself part of the reason is that they are too oily some chip almost look transparent if you know what i mean the taste of oil is a bit too overwhelming for me if you are used to more spicy chip you may not like these since they do not have any spice except salt a the name say i don t think i ll buy these again the best by date on my bag are march and i ordered them at the end of october',\n",
              " 'the spicy thai chip used to be the best tasting chip on the market however kettle food ha changed the ingredient used with ginger being the most important that is now missing notice that they removed ginger with attitude from the bag sadly the changing of the ingredient ha ruined the chip for me they aren t that good anymore and the spice level is virtually non existent br br here are the original and new ingredient listing br br original ingredient br select potato safflower and or sunflower oil honey powder evaporated cane syrup honey salt garlic powder jalapeno pepper ground ginger onion powder habanero pepper dried parsley citric acid cilantro extract ginger oil cayenne pepper white pepper lime oil br br new ingredient br potato safflower and or sunflower oil sugar dried cane syrup salt maltodextrin yeast extract spice garlic powder onion powder dried parsley jalapeno powder citric acid natural flavor lime extract br br i m assuming they changed the ingredient in order to cut cost for their new owner blue diamond they might want to get rid of great taste naturally from their bag a i don t consider maltodextrin to be very natural br br great job kettle way to ruin a great thing',\n",
              " 'i wa sent week past fresh by date stock chip are noticeably not fresh in taste won t order again br br edit and just to add to the danger of expired stock one of the bag had a rat hole in it black mark on inside of hole very obviously rat unfortunately i put a chip in my mouth before i saw the hole br br very bad form amazon',\n",
              " 'and that is the problem i order these by the case of and when they are good which is over half the time they are the best kettle chip the best and then i get a case of the worse the potato are mealy and old so i just throw them out and order again expensive but when they are made with good fresh potato they are the best the last case is what prompted me to write this the potato were weird like they were almost sour a in going bad and i even wrote the company that make them so if you want the best kettle chip there is try these and if the one you get are not the best try again br i myself am done ordering because it is creeping me out that they are using soured potato and either not noticing or not caring',\n",
              " 'i am very disappointed with this product because i could not see how many calorie it ha at the time i ordered it i received it and now i can see it ha calorie per tablespoon granulated sugar ha only calorie per tablespoon how could agave nectar be better than sugar',\n",
              " 'i wa so excited thinking they had my favorite discontinued kettle flavor but wa disappointed when i opened the box and found this substitution i am keeping them but would not have ordered bag of this flavor it is a very good bbq chip but i could get this flavor at the grocery store why oh why do my favorite food item always get discontinued the one star is for the substitution the country bbq is a start chip but not the chip i longed for',\n",
              " 'i guess there s no telling what will tickle the palate i m a huge tabasco fan and i love unconventional snack but these don t taste to me even remotely like the wonderful sauce they re made from i didn t find them to have much of a kick at all practically bland in fact even with my strong aversion to wasting food i had to throw out or give away most of the case do yourself a favor and find a bag of these locally before taking a chance on',\n",
              " 'yeast extract is listed a an ingredient sound harmless right specifically these chip contain autolyzed yeast extract which is on a chemical level monosodium glutamate it s just derived from a different source but it ha all the same toxic property kettle still advertises their product a containing no msg while they acknowledge that their chip are not safe for people with msg sensitivity',\n",
              " 'i did not like these potatoe chip it s hot and sweet with an overwhelming taste of garlic it s also a bit salty',\n",
              " 'long story short these are very tasty we have purchased a number of flavor from this brand this is my favorite br br but a noted by another reviewer these contain msg in the form of yeast extract br br it ha become a popular mean of hiding msg lately by calling it different thing a a person who now find himself having to use more caution in what i consume i find the whole process of hiding in plain site very bothersome br br also the bag is not very large but half of it is air this may well help in shipping but when paying a premium price for organic it just seems more deceptive',\n",
              " 'unfortunately having ordered quite a few of these previously i neglected to not look for the word supreme in this offer and since i wa then receiving free shipping had delivered we that is my husband guest and me knew immediately that these were different from those previously enjoyed but currently amazon featured the supreme babka and now i am awaiting to receive these in the future i will read more carefully',\n",
              " 'i opened the can and immediately became concerned when i saw what looked like dried white crust rather than fluffy frosting the package recommended stirring before use so i gave that a try and under the crust wa an indescribable gelatinous goo the best i can equate it to is a white version of the blue goop the mother serf for dinner in better of dead no raisin in it though br i tried to stir it together and the end result wa gelatinous goo with white crusties in it when lifting the knife to spread it long string on goo trailed from my knife br i opted for making my own frosting instead very easy a little sprectrum palm shortening a lot of powdered sugar a tiny splash of vanilla a tiny bit of salt and rice milk a needed for consistency beat for minute and i had the fluffy butter cream frosting i thought i d get from cherrybrook br br i wonder if our can wa overheated in the store whole food or something br i ve read positive review of their frosting mix so maybe i ll try that next time',\n",
              " 'well i opened it and it is grayish sticky mess i m so mad at myself for wasting my money and not trying to make it from scratch at home which would probably end up better and cheaper oh well live and learn',\n",
              " 'i love cherrybrook kitchen and have tried almost all of their product i wa excited to try the ready to spread frosting a i do not usually keep the needed ingredient on hand for their box frosting i am not a picky eater especially if the item contains sugar but this wa horrible the consistency is absolutely nothing like regular canned frosting it is not light and fluffy it is very gooey i cannot even imagine trying to spread it on a cake it would rip it to piece because it is so thick and gooey i did not even try it on a cake because the taste and texture were so off putting seriously do not waste your money',\n",
              " 'this product wa such a disappointment a all the other reviewer said it s a gluey sticky texture more akin to elmer s glue than to an edible food product the flavor wa sickening sweet i actually thought that the frosting had spoiled it wa that bad save yourself the time and i paid and make your own frosting or go with another brand cherrybrook cake and cookie mix are so good it s hard to believe they even sell this',\n",
              " 'i am glad i found this on the reduced rack for c the taste wa not bad but no way i could frost my cake it stuck to the knife ran down in string what a mess i too thought i had gotten a bad batch my gd birthday cake look like crap who would buy this mess horrible',\n",
              " 'i recently purchased this on sale at my local grocery store now i know why it wa on sale br br this is not a fluffy creamy white frosting you d expect to find when opening the jar now i wasn t expecting it to be just like betty crocker but it wa pretty bad like others said it is a gluey tacky mess that would completely ruin a cake if you tried to spread it on it reminds me of taffy that hasn t quite hit the right stage in the candy making process the taste isn t that great either and it s sickeningly sweet even for frosting the only thing it might be used for is a frosting for cinnamon bun i still don t think it would be the right consistency',\n",
              " 'i can honestly say this is the worst frosting we have ever bought it s kind of generous to call it frosting it ha more the consistency of rubber cement and since we were in a time crunch we didn t have the luxury of going back out to the store for a different frosting so we forged ahead and decorated a cake with it horrible experience bad enough to put u off cake decorating forever it spread about a easily a chewing gum stuck to everything it came in contact with and got crumb of the cake mixed up in it on top of all this it didn t even taste good by the time we were done decorating we knew there wa no way we could feed this mess to our family so we ended up going to the store anyway to buy a pre made cake our cake which took twice a long to decorate because this stuff is so gooey wa used a a centerpiece a really ugly centerpiece that cracked and peeled a the frosting dried',\n",
              " 'a watered down perversion of the acai berry br br this juice come on strong and harsh with tart aftertaste and no texture br br that s because it is mostly apple juice grape juice pomegranate juice blackberry juice blueberry juice and tart cherry juice oh yeah there is some acai berry juice mixed into this concoction br br you shall not find that distinctive smooth chocolaty acai flavor here there is no milky mouth pleasing texture neither for that exotic unique acai experience try zola or samzon brand br br i m not saying that this lakewood juice product isn t nutritious that s not my point i m saying that it s a juice blend that doe not taste anything like the real acai juice',\n",
              " 'my husband and i were very disappointed in this coffee very weak watery cup of coffee a definite waste of',\n",
              " 'this item werther s sugar free hard candy if consumed will give you or your friend loose bowel i purchased bag and discovered more than a bowel problem you can t return them need a laxative i have ten unopened bag you can have for free',\n",
              " 'this kind of tea not good taste and smell so wear it s not like tea and feel like some thing chemical',\n",
              " 'the laddoos turned bad in a few day after we received it no other item inside our fridge turned bad',\n",
              " 'this is not disco dust which is edible and made for baking do not purchase this product for such purpose',\n",
              " 'this isn t a easy a it look doesn t came with enough yellow frosting and the frosting doesn t stick very well my year old did like making it though',\n",
              " 'i am a preschool teacher and do a g is for gingerbread unit every january i wa on vacation during christmas and when i got back not a gingerbread kit wa to be found which is odd i needed one for my preschool class and needed it in less then a week i looked everywhere and could not find ont so i had one overnighted from amazon on nye and it came yesterday i pick this one because of the rudolph theme the gingerbread itself came broken like unable to use would need a glue gun to get it to work broken it s non returnable i called amazon they were nice enough to order me a second one since i spend a ton of money each year with them this one also came broken i order a lot from amazon and thing do not come broken i think only one time have i had returned something because it wa broken in s of order but two of the same thing in a row i think it s the kit itself and nothing to do with how it wa shipped i will say most come ups and overnight come fed ed but it s bubble wrapped very well i think the gingerbread isn t good and crack in shipping and break off the rest of the kit is very cute the first kit the candy had spilled out and where a mess in the box but the second kit while the gingerbread wa all broken up again the candy were all in their bag too bad but i would try something else stay away from this one',\n",
              " 'i wa disappointed in this product because i thought it would be bigger br also it did not come with enough icing i had to use my own',\n",
              " 'the whole idea of a spongebob ginger bread pineapple is really great but the sticker that say use by ha a jn date on it if thats this is not good i think it would be fun to make and a cute decoration but my son is going to want to eat it the least the seller could do is to check the expiration date it right on the front of the box not happy at all',\n",
              " 'this tea carry the flavor one would expect from the smell terrible it invigorates like a puncture wound and the only revival is that after drinking you discover that you are still alive br br well one tea bag wa enough for me my mother in law said oh that smell kind of like wine okay kind of like wine with a hint of rot and a moldy aftertaste if she like it she can have the whole box',\n",
              " 'if it were possible to give this product zero star i would have done so i am a huge fan of twinings tea and wa very excited to try this new blend after arriving home from the grocery i immediately started the kettle to enjoy a cup while prepping dinner between sorting washing and chopping item the hot water wa added to the bag to steep preparation continued until a distinctly off odor hit me i thought one of my ingredient must be rancid i hunted around for almost four minute before i realized it wa the tea even after cleaning up and airing out the kitchen my roommate later came in and asked about the smell save your money to purchase any other twinings product',\n",
              " 'trident strawberry twist sugarless gum is very disappointing both in taste and consistency the strawberry flavor is very artificial tasting and though i guess it is a good thing not very long lasting the gum also get stringy fairly quickly br br i chew a lot of gum but will not be buying this flavor again br br not recommended br br cfh',\n",
              " 'the u made version of this cadbury chocolate ha a distinct taste from the uk version of the chocolate which i have been eating since childhood i did not like this new taste to all my friend from india buy this chocolate if it is either made in uk or india otherwise you will be disappointed a i wa',\n",
              " 'cadbury chocolate us a different formula in each country it is manufactured new zealand is us more cream than australia etc this version by hershey is not what you expect from england australia or new zealand cadbury it doe not melt on your tongue like those country so it taste differently br br if you are looking for the silky smooth easy melting chocolate find the non hershey version br br hershey ha missed an opportunity to introduce high quality cadbury chocolate to usa',\n",
              " 'not my idea of a good caramel flavor of ginger and pistachio dominated same for the chocolate walnut and orange honey variety i missed the mix of rich buttery dairy flavor with caramelized sugar that i expect in caramel',\n",
              " 'i can t eat these oat they have a funny taste to them my kid also think they taste funny my husband think they are ok so he ha pound of oat to eat on his own',\n",
              " 'i think the pocky did not get stored rightly the chocolate wa falling off from the biscuit stick and doesn t taste a it should many of them stick together and whenever i want to split them up it just becomes very messy now i need to clean up my desk every time after i have it',\n",
              " 'the individual pocky stick are not separately packaged and melt and stick together while being shipped',\n",
              " 'this product must qualify for some sort of deceptive packaging award the box only contains bar and the wrapper are smaller than normal so at least of the interior of the box is air then when you unwrap the bar you find they are only about the length of a normal snack bar the rest of it is empty air inside the wrapper if they were to not include wrapper those bar would occupy less than of the space inside the box br br a far a taste go they are so so on the dry side with a hint of berry flavor celiacs who are used to inferior product won t be disappointed in the taste of this one br br i ve also had their cooky and they suffer from the same sort of deceptive packaging the picture on the side of the box show what most of u would consider a normal sized cookie but when you open the box you find that it mostly contains a plastic tray holding cooky about the size of a quarter br br i really want to like this company they seem to be trying hard and coming out with new product and keeping allergen out of the production process that is why i ve continued to try their product i bought their granola many time always wanting to like it but it is some of the worst food i ve ever had the cluster are hard a the partially popped kernel at the bottom of your bag of popcorn and more fitting for gerbil than people br br all in all i would not recommend enjoy life food',\n",
              " 'i have recently stopped eating a number of allergen dairy soy nut and these were one of the few snack which fit into my dietary restriction unfortunately these were pretty gross miserable texture and more cardboard flavored than berry i threw them away i would recommend the cocoa one a they are much tastier and also allergen free',\n",
              " 'my daughter had extensive food allergy a an infant toddler and we bought these bar consistently she still ha the nut and egg allergy so i like that i can trust the manufacturer and know the food is safe unfortnately the last few time we have purchased the bar all variety they have been hard a a rock and my daughter won t eat them i have tried them myself and thought i might break a tooth i had them on subscribe and save which i have now cancelled and have several box which no one in my family will eat i agree with a previous post i want to love these bar and i love everything the company stand for and actually really like their cooky but something ha changed with these bar and they are just not even appetizing i hope they address the issue and i will certainly try them again if they do something to enhance the taste and address the issue with the texture a total bummer they were better in the past but something changed with the taste along with their new packaging',\n",
              " 'i wa extremely disappionted when i opened my shipment of enjoy life on the go bar very berry carmel apple and cocoa loco the box are now a plain generic design you know the kind all brand change to when they want to make their product look cheaper i then compared the ingredient of the new shipment with the older box i still had at home guess what cheaper ingredient next i taste tested and let my year old help he wouldn t eat the new one and i can t blame him they are oily and bland i thought enjoy life wa a brand that actually cared about using quality ingredient to make a good tasting product i wa wrong in summary these are way too expensive to be made with low quality unpalatable ingredient',\n",
              " 'refer to the picture i posted above the bar is half the size you think it is going to be it is literally a two bite bar very deceptive advertising that and the fact that they are ridiculously expensive is the reason for the one star my year old son ate one and didn t like them i ate one and agreed a did my husband couldn t give it away everyone ha different taste but these are no tasty treat a far a i m concerned',\n",
              " 'imagine taking some kid playground chalk perhaps that tan colored one and grinding it into powder with plenty of chunk then scoop it up and put it in your mouth br br that s how disgusting this bar is br br i have no idea how and who is rating this a flavorful it ha none i ve done nutritional coaching for year and watched healthy food progress from painfully bad to barely edible to excellent br br this neanderthal era gluten free bar is so bad i want to go to my local grocery store take all the box off off the shelf and hide them in a different part of the store perhaps if there s a trash compactor just to protect people from the experience my daughter had with this product br br save your money for these ridiculously expensive and spend it on anything else br br enjoy life bar being ill is better than putting this garbage in your mouth',\n",
              " 'the first ball worked pretty well it just looked a little beaten up since then half of these have fallen to piece in hot water all of them do after sitting for a bit if you don t mind the rate of failure the tea itself is pretty good and fairly tolerant of being steeped for a long time especially considering that it is white tea',\n",
              " 'wow i am shocked to find clear plastic piece in the jar the other poster say they notified earth s best about this in august and they are still selling it without checking or recalling no more earth s best for my little guy i am taking my business elsewhere and i am very sad that organic company is selling baby food with plastic and bpa in their jar they gotta do better than this to get my business',\n",
              " 'my triplet will not eat this eventhe one who will eat anything the consistency is way too runny a well and doe not stay on the spoon',\n",
              " 'i normally love earth s best product a doe my son however tonight after i d given him half the jar i thought i would try some since it wa a new flavor and i realized that there were little piece or soft shredded plastic in it i wa appalled a this is my first child and i don t have any experience with this kind of thing i called poison control they said he would be ok and once i knew he wa fine i got really angry i looked it up online and found that earth s best ha actually known about the plastic for some time but are still selling it don t buy earth s best really disappointing',\n",
              " 'only three jar came in a form edible to baby the rest of them were filled will a clump of spongy mush that would not mix with the water it also had a brown color and not the yellowish brown like the jar that had the good mixture br pretty disappointing and a waste of money',\n",
              " 'to be fair only one of my twin got gas from this but it wa horrible up all night screaming from gas pain garbanzo bean are not an ideal food for young baby',\n",
              " 'i usually make my baby s food it s so easy steam fruit veggie and puree but sometimes i don t have enough time to cook and i buy earth s best baby food baby like all the fruit and veggie so far but didn t like this one she refused to eat it when i tried it i understood why i wouldn t eat it myself either it taste nasty my poor baby immediately i made her a homemade potato zucchini asparagus puree and she loved it i wouldn t recommend this flavor',\n",
              " 'this is my daughter s most favorite baby food by far this is the only one she ll eat and rarely will eat the other kind however the taste is very bland for me a an adult at least after you put the unfinished portion in the fridge it may become sort of watery at which point i throw it out it is unique from the others in the combination of vegetable it ha especially zucchini br i had to update my review today because i saw little piece of thin stretchy plastic in two jar of this baby food plastic in baby food i notified earth s best about it and will be sending them these piece of plastic for testing but i am not giving my baby this food any more even though she like it that s it for u',\n",
              " 'i just wanted to post here that i found small bit of plastic in this food a i wa feeding my month old plastic in food baby food so please be careful if you buy this or are considering it br br my daughter love this food it s actually her favorite this is the first time we have noticed plastic in it in over month',\n",
              " 'i first tasted sassafras tea in a local restaurant and really liked it so i started looking in grocery store and online for it in a teabag form after several week of investigation i called the restaurant and asked what they used to make the tea i wa told is wa pappy s sassafras concentrate i looked online and found it at amazon com a i wa ordering it i also saw the sassafras teabags i thought i d order a box to try i wa very dissapointed it didn t taste like the flat rootbeer i wa expecting it wa more like black licorice which i hate with a very mild rootbeer undertone it also didn t have the distinctive red color that you get by steeping the sassafras root br br i ve never had real sassafras tea made with the root so i don t know if the teabags are more like the real thing or not bottom line i won t buy the teabags again',\n",
              " 'i did not care for this product at all i thought it wa the same tea my sister and i use to drink when we were in elementary school i found out the tea we use to drink actually came from the root of a particular type of tree',\n",
              " 'i purchased this because i read that it wa a natural cure for hive um how about not it did nothing for my hive and it taste awful luckily a co worker of mine love this stuff reminds him of his grandmother and i gave it to him yucky yucky stuff',\n",
              " 'these are good sunflower seed at a good price if you prefer the unsalted variety which can be hard to find br br one thing to keep in mind though is the expiration or best by date for example if you order these in april and the batch you receive ha a june use by date it may be a stretch to consume the bag before the seed start going rancid on you since they re roasted in oil and unsalted these seed may spoil more readily than the salted variety even if refrigerated upon receipt br br amazon doesn t seem to specify use by date for the food product they sell so it s a gamble for the purchaser i m assuming that amazon won t ship stuff that ha expired but they probably ship out the oldest stock first and the use by date on the item may not be what you would select if you had a choice',\n",
              " 'omg i would love these cooky except for the chocolate mixed in make it taste medicinal degusting isn t even a strong enough word a horrible horrible mistake an expensive mistake they advertised it a peanut butter cooky which is why i bought them since everyone else had peanut butter chocolate cooky when i just wanted plan peanut butter cooky however when i received them i found out they were the chocolate peanut butter one but i thought okay i ll try them and omg i almost threw up from the taste horrible horrible disgutingly medicinal taste do not buy if they had a zero before the star i would rate it a zero instead of star',\n",
              " 'not hot at all like the other low star reviewer i got suckered by seeing habenero in the name and the oz size some people might like the flavor citrus y and it ha some fish sauce in the mix according to the ingredient label but if you re looking for hot this ain t it',\n",
              " 'i have to admit i wa a sucker for the large quantity oz when shopping for hot sauce but now seeing the size of the bottle it reminds of wing sauce bottle size plastic bottle it doe have a convenient squirt top but overall not very hot or tasty and made mostly from jalape ntilde o if i had seen the ingredient list i would not have bought it br jalapeno br water br vinegar br brown sugar br lime juice br fish sauce br cilantro br habanero br garlic br spice blend br salt br potassium sorbate br xanthan gum',\n",
              " 'ive been craving some deer jerky for a while so i gave this one and some others on amazon a try this one wa very sinue and a little too sweet for my taste not going to buy again im still on my search for the salty dry version im after',\n",
              " 'the noodle in the box were all broken the sauce wa over salted and did not have a good flavor i threw out most of the skillet i would recommend not purchasing this product',\n",
              " 'on a trip to italy muesli is what all the hotel had for breakfast a their cold cereal and i loved it imagine how excited i wa when i saw that kellog s sold this product what did i learn despite the similar name this cereal is quite unlike european style muesli while the overall mix of grain and fruit is similar this cereal is mostly a flake cereal while a true muesli ha no cereal flake at all br br real muesli is made of rolled not flaked grain this ha plus and minus on the plus side milk doe not turn european muesli to mush in a couple of minute like it doe flake cereal on the minus side european muesli have to be soaked in milk or yogurt for about ten minute or so i e while you are in the shower or while the coffee is brewing or the cereal will be a bit on the chewy side for those that are concerned about eating processed food rolled grain have been processed less than flaked one rolled grain are lightly steamed and then rolled and lightly toasted flaked grain are fully steam cooked until they are mush pressed into flake fully baked and then usually sprayed with sugar to extend time to mushiness and certainly only the kellog s product contains hfc br br you owe it to yourself to try one of the many other muesli from amazon or better yet single box from a local health food store if you have one and see what you prefer i eat the bob s red mill product available on amazon and one of my local grocery chain instead of this and am much more satisfied i haven t tried familia but i m not crazy about the idea of the fruit flake and the dorset product are too fruit and nut heavy for me the other product are a hair more expensive than the kellog s but i m willing to plunk down an extra dime or so per breakfast for a far superior product br br i m surprised quaker doesn t sell a muesli product given that they have to be the largest producer of rolled grain in the u s you d think it would be a natural fit for them',\n",
              " 'recently purchased this cereal assuming it would contain nothing but healthy ingredient then i read the label and discovered it contains partially hydrogenated soybean oil and high fructose corn syrup',\n",
              " 'it s no secret that high fructose corn syrup is detrimental to your health unfortunately it s also no secret that it ha replaced other form of sugar in a disturbingly large number of manufactured food even worse is that most high fructose corn syrup is made from genetically modified corn br br since the late s hfc ha replaced regular table sugar honey and similar sweetener in practically everything prolonged consumption of hfc is now the topic of much debate and we are learning that it can cause long term damage to the body br high fructose corn syrup danger br br significant risk of weight gain obesity br increased risk of developing type diabetes br hypertension and elevated bad cholesterol level br long term liver damage br mercury exposure from hfc br br kellogg and other manufacturer know this and are slowly getting rid of this sweetner look at the cover of post rain bran they are advertising that it contains no high fructose corn syrup i applaud them for this high fructose corn syrup is made from genetically modified corn from monsanto which us systemic pesticide in their seed which is causing colony collapse disorder in bee i am a bee keeper and have been avoiding all product with hfc in them to save my family and the bee watch vanishing of the bee food matter and food inc they are all sold on amazon excellent movie which will change your health dramatically and the way you think and eat',\n",
              " 'coffee bean did not seem fresh no oil on them what so ever i have tasted much better and fresher will not order again',\n",
              " 'tossed this out after trying it texture and taste were far below expectation seemed kind of mushy and pasty pricy to boot',\n",
              " 'they claim this product is unadulterated which would make you think oh sweet it s going to be the best because nobody else s coconut oil say it s unadulterated i checked out their website and for those of you who don t know you want to go for cold pressed oil if they re not cold pressed it mean they ve been processed with major machinery and subjected to high heat which a anything go can and usually doe kill any good mineral and vitamin their site post information on their extraction process a of today this is what it state br br manila coco oil extraction method is through a proprietary state of the art mechanical expeller manila virginflo thermo stable to hold off the lowest moisture possible to avoid rancidity and keep shelf life consistent up to year under normal condition our oil are st and nd stage press induced without chemical solvent no bleaching no deodorizing no hydrogenation no fermentation enzyme to keep it natural light sweet coconut aroma and taste this method sustains it unique character even when subjected to high up to degree celsius heat temperature br br mechanical expeller is their form of extraction and they also say it sustains unique character blah blah blah when subjected to high heat temperature therefore in my personal opinion it is not a unadulterated a their information on their product on amazon make them sound i will be steering clear of their product br br i m sorry if my review offends some but if you re going to pay good money for something you should know about it i would use different brand before sticking yourself with this one i wa looking for larger quantity which is why i looked at this product however i will be sticking with nutiva a their coconut oil is cold pressed soon after the coconut are cut open the information below is direct from their website br br what make nutiva s virgin coconut oil so special much of the magic lie in the way the oil is processed within several hour of the coconut being chopped the meat is cold pressed unlike other variety of coconut oil which can be left for more than hour before pressing nutiva s approach preserve a much of the oil s natural color flavor and aroma giving you the best result for any use br br if you don t care about how it s processed it is still going to be much healthier than your average grocery store found vegetable and canola oil if you want to read some scary thing look up the dark information on how those are processed yuck talk about horrifying br br thank you for your time br amy br br p i used to be one of those organic what kind of fruitcake are you think you re more special than anybody else people but i have learned so much in the past year and a half dealing with my son s allergy and intollerances there s more to it than oh it s more expensive so it s just making me feel special because i can afford it no there s way more to it than that i urge everybody to talk to people about organic food it s a way of life a healthier way of life we all deserve to live healthier if you live healthier even though it cost more in the long term you re saving money because you are healthier so that mean less doctor visit less expensive and nasty harmful medication etc',\n",
              " 'the good br br walker shortbread cooky are my favorite i love them i bought the highlander and each set of cooky came individually wrapped with two cooky each if this were the end of it a five star review br br the bad br br unfortunately amazon shipped them in a box that wa about the same size a the container they came in from the walker cookie company after ups wa through with the shipment my cooky were reduced to crumb i contacted amazon about this problem without ever receiving a response since i bought these shipped and sold by amazon i won t be purchasing these cooky from amazon again',\n",
              " 'my cooky were in such tiny broken piece they were useless upon complaint a second mailing arrived several week later the cooky were again in crumb the cooky were packed in a box with a pitiful single air bubble i gave this feedback and expected some effort to improve on the packing but no same packaging same useless cooky having enjoyed these highlander in the past it wa both a disappointment and a big waste of money',\n",
              " 'i purchased this product because of it name rumford natural corn starch the word natural appears large and clear on the pictured product label also the amazon description said it wa made from non genetically modified corn the label on the product that i actually received doe not say rumford natural but it is still made with non genetically modified corn i say made with because this product now contains more than one ingredient it ingredient are cornstarch calcium sulfate and one of the suggested serving tblsp contains of the daily value of calcium that make this product potentially a good source for dietary calcium supplementation on the other hand for person who must restrict their calcium intake example some person with kidney stone it can pose a potential problem even danger amazon provides themselves with a nice out for this they list the following legal disclaimer actual product packaging and material may contain more and different information than what is shown on our website we recommend that you do not rely solely on the information presented and that you always read label warning and direction before using or consuming a product but it is not fair for amazon to not at least list the correct ingredient and photo of the package so that you do not have to order the product in order to read label and find out what you have purchased br br i will not buy this product again br because i don t need extra calcium br because i don t believe that the calcium sulfate wa added out of interest in the consumer s health br but to make the product cheaper to produce so it can be priced competitively with other brand br and still be touted a having been made from with non genetically modified corn br and just on principal because i can t afford to throw it away and did not want the hassle of returning it br br i am very very displeased with amazon s incorrect listing of the product which wa brought to their attention when i purchased it in february and so far nothing ha been done br br although calcium sulfate is considered a safe food additive it is basically the same thing a plaster of paris and if you use too much of this product basically the same amount a i had previous used of pure corn starch the very stiff sediment in the bottom of the cooking container i make pudding in pyrex in a microwave and usually stir it only every second will remind you of damp plaster',\n",
              " 'wa really bummed to find out that these chocolate had melted before they got to my daughter for her bday seems that they should not be sold online if there is not a way to keep them safe',\n",
              " 'all my fault i thought this would be a carton of box of cereal instead it wa box of cereal for who sell cereal for this price plus shipping i feel stupid buyer beware',\n",
              " 'this is not jerky this is processed hard like a rock very greasy and stale smelling stripe of something that you can t break into anything smaller than inch long and that certainly is not the size of a training treat the dog lb dog that will eat anything were not impressed it wa hard to chew and it sounded like they were crunching rock most of them spat it out after a few chew left it there this would be the first time they would not eat something in their entire life these dog will work for lettuce where is a zero star button',\n",
              " 'i ordered both the beef and turkey flavor my dog would not even take these in their mouth both flavor were very dry and had no real aroma to them try a small quantity first i donated the entire order to the humane society',\n",
              " 'this is not jerky this is processed hard like a rock very greasy and stale smelling stripe of something that you can t break into anything smaller than inch long and that certainly is not the size of a training treat the dog who will eat anything were not impressed it wa hard to chew and it sounded like they were crunching rock where is a zero star button',\n",
              " 'we have ordered uncle ray bbq chip many time before always been pleased except this order just not the same br seasoning a usual generally lacked much for taste not sure if they have reduced the seasoning in their processing but out of case we bought we have opened and thrown away bag already very disappointed with this order',\n",
              " 'i have loved ketchup flavored potato chip since i wa a kid and spent my summer at my grandparent in canada this is a very popular flavor there and seems to be always available i recently got back from a trip to montreal where i ate at least a pack a day i decided i really wanted some around and wa happy when i found these on amazon unfortunately the flavor is nowhere close to the brand i ve tried before there s a sort of smoky barbeque sauce thing going on not that they re a good a bbq potato chip which i love they just don t taste like ketchup i tried to get through a bag over a couple of week to see if they would grow on me then just threw them all out yuck',\n",
              " 'after reading all the good review on these chip i have to admit i wa disappointed perhaps i just ended up with a bad batch but i could barely taste the vinegar and there seemed to be far too many burnt and i mean black chip in these bag hopefully the other flavor are better but i m going to stick with other brand from now on',\n",
              " 'these had heat and had good enough coating of the seasoning the first case were amazing best i had ever then they restocked and tried case and they taste either like plain chip or slight hint of seasoning on them what a shame they seemed to cut back on quality to save money bad uncle ray',\n",
              " 'the flavor combination of the ketchup chip wa very good however the coating wa applied so heavily that the chip were gritty and thickly encrusted with it the flavoring grit coated my lip and mouth with grit and crumbled and fell off all over my clothes messy and unpleasant need lighter flavor coating',\n",
              " 'bought uncle ray s wavy s oz potato chip because purchased uncle ray s oz barbque potato chip in the past and wa very pleased oh how wrong we were do not purchase the wavy s chip they are the quality of buying a no name bag of chip from a roadside service station store broken brown very poor quality very very disappointed do not do not do not purchase uncle ray s oz wavy potato chip br br october br br bought uncle ray s sour cream and onion flavored chip for the th shipment with extreme disappointment the other four shipment were very good which is why we continued to buy this flavor br br the additive that when you like an item and start to buy a lot it will change for the worse is proving to be true for u this shipment of chip are awful bag are extremely deflated so wa expecting to be stale however wa not so cannot not explain the semi flat bag chip seem to be the bottom of the barrel flake you know when you try to salt your food and the top come off the seasoning on these chip is like that it appears that the top came off a full bottle or these are the bottom of the barrel crumbled chip where the seasoning ha covered the chip too too much we just opened three bag just now because the first bag wa awful opened second bag awful opened rd bag also wa awful left with more probably not edible bag the chip really appear to be the not so fresh burned bottom of the barrel get rid of leftover very very disappointed will not buy again',\n",
              " 'be careful i ordered a pack of my invoice say pack of but i received only stick',\n",
              " 'even though the item say pack of i only received one i called them up to see where the other were and they said that amazon put it incorrectly seriously they are issuing a refund but still i wanted which is what the item say and instead and only getting the should we just not trust what s on amazon now',\n",
              " 'my cat will not eat this food i don t know why but it wa a waste of money i wa looking for something cheap so i guess you get what you pay for',\n",
              " 'i like the fact that this vanilla flavor ha no alcohol in it so i could add it to my baby s pancake it doe not taste the same to me a the regular stuff it is rather bland in my opinion',\n",
              " 'i just received these brick today and wa very disappointed to find that both of the brick were broken and unusable a a serving cooking plate they were busted completed in half they were packaged in one sleeve of small bubble wrap in a shallow box with no other protection or packaging in the box i went online to try and return them and they are not eligible for return this is the first return i ve ever tried to do in over year of purchasing item off of amazon to the tune of several order a month and yet the one time that i want to return a defective product i can t do it i will be much more careful about what is eligible for return and what isn t in the future',\n",
              " 'item in this gift basket wa delivered to people who called me to say could not eat any of it because everything wa old and stale i wa sad and disappointed time and effort a well a money to get this only to find out terrible',\n",
              " 'very disappointed with purchase the date were so dried up where it tasted like leather instead of date must have been sitting there for a long long time',\n",
              " 'i ordered three of the tray being a date nut and found that two were old or stale i admit to not checking the out of date on the exterior package but still dried out fruit the last tray wa fresher but the experience wa soured at that point i m disappointed',\n",
              " 'buying this product seems to be almost literally like rolling the dice in a game of crap br br my experience with this seems to be similar to the experience of peter r unfortunately br br the price wa excellent i ordered mine after the date of j robert bois positive experience review wa written but before the date of cindy s positive experience written review i bought these gave them to my dad a he love date i noticed when i wa visiting him the dried fruit basket wa hanging around in his fridge a lot longer than any other date basket i had ever ordered for him br br finally i asked him about them he said that he did not want to be rude to me or hurt my feeling but the date well he wa wondering if he should try eat the seed in the center see if they were soft because the date themselves were hard a a rock tasted stale i wa mortified to say the least then he wanted to know jokingly if he had done something to make me mad i bought these for him a his punishment no but i had to laugh when he asked about that br me personally i have not tried them i will take his word for it br br i told him to throw it away or put it out for the squirrel after a week of offering the date i picked them up out of his backyard and threw them away the squirrel opossum raccoon declined to dine on the date br br it seems to be hit or miss with the broadway basketeer irish st patrick s dried fruit gift basket purchase br br i will not say flat out no do not purchase this item it is not good that is a choice you will have to make on your own i just wanted to pas along my experience with the gift basket br br thank goodness i caught it when it wa on special did not have the full current purchase price invested in the box i would have been really sad then br br amazon a usual did a fabulous job with the shipping packaging and they arrived quickly in the time frame advertised promised br br best of luck i hope others have better experience than my dad i had br br a href http www amazon com gp product b h w broadway basketeer irish st patrick s dried fruit gift basket a',\n",
              " 'this vendor is unscrupulous she ripped off her culture from other collector and shamelessly claim them a her own she ha no conscience and i would highly recommend that you do your purchasing elsewhere',\n",
              " 'i don t know whether it wa a fault in the packaging or if they were just past their prime but they were rock hard and the flavor wa not strong enough',\n",
              " 'this wa a disappointment i use other product from this line manufacturer on a regular basis i bought this item a a convenience to carry liquid stevia in my purse the first time i went to use it the liquid wa a dark color almost black and i had to throw out the latte i wa trying to sweeten all the manufacturer s other liquid product are clear and in fact this is titled clear liquid it must have been outdated spoiled i had already thrown the packing out so don t know how it wa dated i tried calling the amazon supplier but the call rolled into voice mail it s not enough money to spend time following up but it wa disappointing',\n",
              " 'i ordered these lollipop for a friend wizard of oz themed shower the arrived packaged well but i noticed the box said they re from oriental trading company if i wanted a cheap product that i knew wa low quality and from china then i would have bought them directly from their site at for of them however from the picture these looked well made the picture is very deceiving and so is the description they show same colored lollipop mine came in a variety of color they also gave dimentions that the lollipop were x i noticed they looked a bit small and when i measured they didn t even come to long not any of them even though they re all differnet length this wa very disappointing since i planned to stand them up in a vase of lemon drop overall i m very disappointed in this product and the seller for not being honest about the product they re providing to consumer',\n",
              " 'i purchased these to give to child who come to my place of business when they arrived it say clearly on the back of the individual wrapper made in china no way i m giving these to child if they were manufactured in china following the whole poisoned pet food debacle the fact that these are made in china need to be highlighted much more clearly',\n",
              " 'i purchased these for my candy buffet at my wedding and i m not impressed at all i could have saved money by ordering them directly from oriental trading company which is clearly where they came from they look cheap and they re not a colorful a shown in the picture the oriental trading company information is on the back of the wrapper on the lollipop most of the lollipop stick are bent and two lollipop arrived broken the box only ha lollipop but in the description it say there s i would have expected that if i knew they were coming from oriental trading company but that s not in the description so i feel ripped off',\n",
              " 'these lollipop are not a pictured they came in assorted color some really drab not the rainbow brights shown in the picture they are also completely flat rather than being the rolled old fashioned candy style so they look cheap i need them for a birthday party and i wa really disappointed when i received them',\n",
              " 'i opened this product to find that the lollipop were all broke i wa very disappointed they did not package this product in a way that would help keep it from breaking you are better off buying them from a store around your area',\n",
              " 'this muffin mix is awful all you taste is flour and sour cream which is used to make these it just taste wierd i ve tried and tried br there are no good tasting low carb treat esp for diabetic',\n",
              " 'for christmas i ordered some coupon from my daughter school for off ohama steak i wa excited to try them a i have been bombarded with their ad for the last year and i wa ready to test them out i went on line and looked at their package and wa so looking forward to receiving my package of fine food and cook them i made my choice and fell for some of the last min add ons by choice i went to pay and use the gift card and well you can only use one at a time having for i naturally thought i wa getting off the total with that said i wa still willing to go ahead with the order later i had ordered one of the package deal and the add ons i received my order ups in day packaged in a styro cooler packaged in the cooler were several cardboard box with vacuumed packaged tiny steak i am a person who love to grill and do so about night a week so i know a little about meat and how to cook it first this is not high end dry aged meat or wet aged this is inferior to quality meat that can be bought at a good butcher the steak are about a pound after shipping and the high price the hamburger are tiny frozen puck that are dry i am so disappointed in the quantity and quality i really have no word to describe how disappointed i am with this whole deal to top everything off i received a e mail coupon for off my next order so the coupon that i purchased wa more than on line deal wow do yourself a favor and spend your money in a good butcher shop of grocery store',\n",
              " 'not happy with the product once they were cooked the potato were flat and didn t look any thing like the product picture that wa seen the shipping cost a much a the potato did',\n",
              " 'where s the ingredient list for this product thought all food were supposed to have it would never buy any food without first knowing what s in it',\n",
              " 'loose prickly pear tea make a great iced tea but it is very difficult to find in pure form this tea is black tea with prickly pear flavor the shipping cost is twice the cost of the tea if there is a prickly pear component it is all but undetectable when i drink it it just taste like regular black tea very disappointing',\n",
              " 'so disappointed with this frosting the first time i used this frosting i wa disappointed but a year ha gone by and i thought that maybe i had gotten a bad container i really should have thought twice about buying it again but i wanted to give pillsbury the benefit of the doubt boy wa i wrong in doing that both time that i used it the frosting pretty much sagged off of the cake my cake were definitely cooled i had even put the latest one in the freezer to slice into layer after thawing it in the fridge i began to ice it sure enough after putting the frosting on it just started to slide off of the cake again this product need to either be marketed a cupcake frosting the recipe need tweaked or it need to be pulled off of the shelf all together shame on me for trying it a second time',\n",
              " 'this wa very pricey for what is essentially a small bag of hard crumb br maybe my dog is just spoiled but she treat these like third class treat it is definitely on the bottom of the doggie treat hierarchy more often than not she will simply walk away from these glad other people like them but i will not be buying them again',\n",
              " 'i remember well the beer nut i used to savor those were the day of the big redskin type peanut surrounded with a glaze of honey sweetness punctuated with a salty tang i remember so well these nut i now have in the palm of my hand are not reminiscent of beer nut in any way yes there is a discernible salty taste but the sweetness is more to me imagined than real plus these nut are simply the common inexpensive spanish peanut in short i would just ask beer nut what happened',\n",
              " 'i ate beer nut all through my childhood year and into my s after that you couldn t buy them in upstate ny when a great friend of mine said he wa looking for them i checked out the net to find them on your site br they are horrible what a dissapointment they taste more like spanish peanut with out the salt the beer nut i remember where sweet and salty just like the label say these peanut are bland bland bland',\n",
              " 'the flavor of the old beer nut is almost entirely gone the beer nut are now just plain spanish peanut with a slight flavor hardly noticeable extremely disappointing',\n",
              " 'it is not the best way to buy beer nut br br perhaps the product had been exposed to high heat and a whole lot of shaking most of the coating and flavoring wa off of the nut even though the individual can are sealed it is like the nut had been sitting out in a bowl for a long time on a hot humid day',\n",
              " 'the current product certified organic raw cacao powder from ecuador sold by saaqin is of terrible quality somehow review for a similar item produced by alive and aware were associated with this product the cocoa i received when ordering through this page is made by organic herbal essence alive and aware is delicious organic herbal essence is not another warning after receiving the lb bag of organic herbal essence and hating it i ordered alive and aware certified organic raw cacao powder from ecuador pound shipped by halaleveryday i thought for sure i d get alive and aware given it s in the product title but halaleveryday actually shipped me organic herbal essence grr',\n",
              " 'a another reviewer stated many of the review for this product are actually for a different raw cacao powder from alive and aware ecuadorian criollo raw cacao powder that is what i ordered about month ago and it wa awesome i am almost out and when i went to reorder my amazon account directed me to this product from saquin which is not what i ordered and it is more expensive the same base price but i got it with free shipping not buck so that is a big price increase i know it wa still from alive and aware mid february but recently something changed br i am really confused irritated how my review for alive and aware raw cacao got switched to a different brand from a different seller i mean can t they just say out of stock or currently unavailable like they do with other stuff why would they switch review around br seems very underhanded to transfer review from a different product to a newer one especially since a the other reviewer stated they are not comparable and this stuff from saquin is terrible compared to what we were getting from alive and aware also the price increase is pretty shocking i guess it is the market and raw cacao is in higher demand too bad that wa such an awesome price for really awesome cacao br i did recently order alive and aware s raw criollo cacao nib and i highly recommend those they are a the description state from alive and aware not another brand br frankly i am beginning to wonder about some of the brand and vendor that ship from amazon i know they have warehouse in different part of the country but it is a little suspicious and i just wish there wa more transparency about what come from amazon and what come from a different company seems like halal everyday alive and aware etc are almost interchangable since amazon took the liberty to take review from alive and aware and post them to halaleveryday saquin are these really different company under the auspex of amazon or is it amazon by a different name only like the other reviewer said he ordered something that said alive and aware in the description and when it came it wa from saquin halal everyday who know i just want some more transparency so i can have more trust when ordering from amazon br br for now i am going to seek out another source not through amazon that stand behind their cacao it is very important to me for health benefit and the ecological social impact of where it is harvested to know that i am getting top notch certified organic raw cacao if amazon is going to be so wishy washy and sneaky i m going elsewhere wagging finger at amazon br br i think for now i will leave the following review for alive and aware in case they do bring it back br br heaven to besty this stuff rock it is such a good value too maybe the best out there a i have def shopped around i have tried a few different brand of raw organic cacao powder and this is certainly top notch kudos to alive and aware for offering it at such a reasonable price br i am not a raw foodie per say but i try to follow a neo paleo protocol which includes super food such a raw cacao properly prepared with just enough natural sweetener i think this is a truly guilt free pleasure it is loaded with antioxidant a you probably know so go ahead get the big bag you can then share it with friend and family and turn them on to this super groovy super food of the god theobroma a they say br my favorite way to consume it is actually a not so hot cocoa i just whisk it into gently heated fresh raw whole milk or cream so it s not too hot and to preserve a much nutrient a possible i know it s not raw but hey this is how i love it add just enough sweetener i like sorghum molasses a scant t spoon a bit of maca powder a dash of real salt and after that s thoroughly whisked i top it off with a spoonful of evo coconut oil yumm i have converted everyone even the kid i babysit who used to prefer swiss miss or i make a concentrated warm cocoa beverage sans maca and coconut oil and then stir it into my raw milk for a half gallon of raw chocolate milk lightly sweetened you better believe it go fast i love my family to get their good old fashioned grass fed animal fat with bioavailable vitamin a d and the x factor read weston a price and load of antioxidant from the cacao to boot plus cacao activates the seratonin receptor and sorry i am bit fuzzy but you know it make you feel good and happy br also process it with evo coconut oil and sweetener such a sorghum or honey or maple syrup in your cuisinart for heavenly truffle refrigerate for proper texture due to coconut oil i often toss in soaked dried nut and dried unsulfured fruit and shredded coconut for healthy truffle energy bar just process in batch so it s kind of homogenous like those lara bar but cheaper and no packaging and even organic or raw br go for it buy this huge bag share the goodness and you ll be healthier and happier for it i guarantee peace be with you',\n",
              " 'this product described a organic raw cacao powder from peru is clearly inferior to all other raw cacao powder i have had the taste of this product is definitely not a good this product ha a bitter muddy thin taste a compared to the fuller richer taste of the real thing from other vendor a soon a i tasted this product which is destined for the trash bag i understood why it wa cheaper than organic cacao from other vendor it is nowhere near a good spend a few dollar more and get the real thing',\n",
              " 'ya know when you re on a gluten free diet you yearn for those forbidden treat like licorice and malted milk realizing that true licorice on this challenging diet is in the past and not likely to ever be repeated in the near future we need to alter our expectation for this treat br br i had tried this company s raspberry lace and strawberry lace pretty good although not easy to chew think bubblegum not real licorice you understand but pretty doggone good a an alternative br br so i thought i try these too how bad could they be i found them pleasant to chew not tough at all but the taste nasty and medicinal cough syrup with an aftertaste that is truly awful br br so i m stuck with pack br br see if you can t find a source where you can buy just one pack to try out your taste may be different than mine and you might enjoy them',\n",
              " 'i bought this for my husband since he love ranch he us ranch dressing with everything before i bought it i read a review that said it taste good inspite of the fat free well my husband had it and say it s aweful i guess to each his own everyone s tastebud are not alike someone else may like it so i am not going to discourage anyone from trying it however i had to cancel my subscription because the only one that like ranch in the family doesn t like this one i guess he need the fat',\n",
              " 'this wa my favorite stevia product and i had it on subscribe and save until i queried customer service about nunaturals gmo use yes nunaturals us gmo product so i ve canceled my subscribe and save order and am now using a href http www amazon com gp product b ell u stevita stevia clear liquid extract ounce container pack of a',\n",
              " 'i bought this pack to have some inexpensive caviar to use for garnish over the holiday the other night i decided to go ahead and use one for some dip it wa so bad i couldn t believe it it wasn t spoiled it just had an odd flavor with a terrible aftertaste it didn t even taste like caviar i threw the jar away',\n",
              " 'i ordered this for gift around christmas time i actually wa hoping to use it for our christmas day meal two out of the four jar i ordered were rotten and inedible i never did get to try it and i wa very annoyed and disappointed',\n",
              " 'this stuff sounded perfect way too much red dye and no taste according to me and my friend who tried it kind of salty basically i would stay away from it i am tempted to toss it out but paid too much to feel right about it',\n",
              " 'caviar taste awful maybe it s because i bought from a cheaper brand or maybe because cavier is just bad no matter who you buy it from or how much you paid for it why do people like to waste money on these thing',\n",
              " 'i would never have ordered this had i known i wa only going to be sent and one of them wa open and leaking powdered spice out i complained to amazon and i know from experience that they always have awesome customer service since i just got my package today and just opened it now i have to wait a bit to hear back from them on this issue will keep you updated i just wanted you guy to know that even though it state packet it is not must be a misprint double check with amazon before you order this what sound like an awesome deal is a meh deal if you are getting only of them',\n",
              " 'i found this product doing a search for edible gold leaf i decided to purchase after reading rave review about food item that were created using it however it is clearly marked not to be consumed and for decorative use only so this is a misleading product',\n",
              " 'me and my wife have tried a wide range of the hormel compleats and this is by far the worst tasting one of the bunch i could complain about the lack of chicken but the horrid taste even br overshadows that minor drawback i know it a cheap meal but i do expect something at least a little edible if you are looking to the compleats then go with something at least worth you money pick up the far superior tasting spaghetti or turkey dinner and feed this thing to the family dog',\n",
              " 'this is a starchy soup rather than the meal portrayed on the outside there is very little taste and very little chicken it is mostly rice in a weak chicken stock thickened with potato and corn starch br br it is not repulsively bad if you want a light convenient snack br br the chef boyardee microwavable meal are tastier and more substantial and also more convenient because you just have to pull off the lid which come away easily with these hormel compleats you have to pierce the top first and then peel it off afterwards which is not so easy especially a it is hot',\n",
              " 'the taste isn t good at least isn t good for japanese and chinese br it taste is basically sort of american japanese taste br plus the price isn t competitive br br i d suggest asian never buy it',\n",
              " 'the noodle for this product are what make me gag i am not a fan of this meal at all and i lt asian food for those looking for a delicious snack who are not already vegan i would either a go try first or b skip buying this package a it is not delicious',\n",
              " 'i read the review for this product and had high hope for a healthy decent tasting cup of noodle needless to say i found this not to be true first the consistency is gross and second the taste is awful maybe i am just not accustomed to eating crap think twice before ordering this product i wish i did',\n",
              " 'this coffee supposedly is premium it taste watery very thin not good at all maybe old br not sure it wa a waste and i m using it line the bottom of my sitting shoe and trash can and rained on luggage to absorb the smell so i used it but not to drink do not buy',\n",
              " 'i never got the product and complained about the non receipt so i bought some in the store klefje lskejfewl lsfjewldf',\n",
              " 'make nasty loose poo the dry food doe the same thing i ve tried the adult version and the puppy version and both gave my adult dog and my puppy super soft and stinky stool',\n",
              " 'i have purchased locally many other flavor of da vinci syrup and ordered blueberry online to try it because it isnt available locally and i love blueberry well this wa a disappointment to me very very sugary sweet with little blueberry flavor not to mention i paid x what i would pay locally br very disappointed',\n",
              " 'this coffee is absolutely horrendous i cannot believe it ha any favorable review and agree with the other reviewer who belief positive review were written by employee i cannot stress enough how bad this coffee is it doesn t even taste like coffee the best way to describe it is a cup of chemical i am really bummed i cannot returned this a complete waste of money it all went in the garbage',\n",
              " 'the flavor of these pod is horrid i ordered them only because senseo wa out of stock for so long and i needed some decaf pod and these had received a couple good review which i now suspect were written by baronet employee i have never tasted such awful coffee before a big yuk for baronet',\n",
              " 'how come you sent me instant choc fudge pudding br the order told you to send me the cook serve choc fudge pudding br you show the picture of it br why couldn t send it to me br it make me wonder if i should order anything else from you br pissed',\n",
              " 'i tried the martha white turtle fudge chocolate chip cookie recipe and these are the worst cooky i have ever made either there is someone on the staff of martha white who ha a lopsided sense of humor or their taste bud have taken a permanent vacation i wasted my time a lot of money on chocolate and pecan and my effort martha white either need to tweek this recipe or take it off the website so no other unsuspecting housewife will waste her money and time on these worthless cooky my husband picked up one on his way through the kitchen and within two second he came back in and threw it in the garbage',\n",
              " 'i simply don t like it it is easy to prepare but when i eat it i feel that i am eatting a lot of artificial ingredient i cannot even finish one fourth of it',\n",
              " 'we enjoy a taste of tai s peanut noodle they rock that peanutty flavor mmm so we decided to try these um ginger not so much nothing really distinguishes these from any other noodle flavor and the ginger is a bit overpowering br br take this review in stride though if you re a ginger lover and i m not talking gilligan s island here then these may be right up your alley just a bit outside for me though if i may mix my metaphor',\n",
              " 'thanks for the egg tip it work very well and really help this product nevertheless i ended up giving away three of the six container because i wa not thrilled with the nutritional information',\n",
              " 'i had recently tried a similar product from trader joe s and not having a tj s around me presently i decided to try this more readily available variation i didn t really like this thing too much for starter there is too much packaging for my liking too many thing to throw away and i agree with a previous reviewer that they re kind of big carton for how much they hold inside the container are package one for noodle and three for various seasoning then you have to add water they give you a fill line but it s kind of awkward then microwave for minute then stir then microwave again for one minute the one from trader joe s only ha two packet one for noodle one for sauce and no water involved just microwave for minute and you re done and those are a lot tastier i didn t like the texture of this thing everything clumped together too much and it really didn t have much taste especially considering the three different packet of seasoning i put in time to try a couple of the other brand of these thing',\n",
              " 'i bought these for my son to take to work for lunch apparently his co worker found the smell so offensive they asked him not to eat it at work again maybe it wa a bad batch',\n",
              " 'i tried these a i love thai food ginger and coconut that wa my problem a this mess doe not even vaguely resemble thai food and ha no discernible ginger or coconut taste plus the noodle stick together even when prepared a suggested and come out in a big clump when you try to eat them br br also the nutrition label is misleading i am dieting and read label very carefully this say a serving is one cup and also say one package weighs oz half a cup i figured a it did not say otherwise and a this type of meal is usually one serving that after adding water there would be one serving per package not so one package is actually two serving or over calorie this is far more than any other pre packaged noodle meal i have seen br br the excessive calorie content might have been ok had the product tasted good but it doesn t i would definitely recommend you stay away from this mess',\n",
              " 'found this product for sale on vacation in north carolina and loved it great maple flavor walmart sold it for for the oz pack wish i would have bought some more while i wa there because i m not paying for what walmart can sell for that is just robbery very disappointed in zon for their insanely high price if price wa reasonable would love to buy more and rate much higher',\n",
              " 'i had high hope when i ordered this tea a year ago in san francisco i used to buy a lovely rose black in chinatown which wa my favorite tea ever unfortunately this blend lack body and is very high in caffeine i prefer the opposite a full bodied tea i can brew strong without sending my blood pressure through the roof but for someone who want a light tasting tea with a powerful caffeine punch this might be a good choice',\n",
              " 'i wa giving my shihtzu the fromm adult gold dog food she didn t seem to want to eat it though so i thought i would try something different i found the harmony farm and thought i d give it a try she actually liked it it s cheaper then the other food and it seemed to contain really healthy ingredient i couldn t believe how she gobbled this up but after having her on this for a week she developed a rash on her stomach took her off and the rash went away completely in day her hair also wasn t a soft this kibble did not do well for her',\n",
              " 'i read the review on this and thought id get some for my dog and pup br they will not touch it even if i mix it with home cooked food br br they like the dollar store dog food better than this br br amazon let me down on even allowing this dog food to be sold under their name',\n",
              " 'i bought two bag of popchips at whole food original and barbeque and loved them when i went to amazon to order lot more i liked the idea of single serving bag rather than the larger one which i d consume too quickly i knew i wa taking a risk but when the order came i really disliked about half of the flavor in the assortment in addition only the original and barbeque nutritional value calculated at pt the others were all i still like popchips but will only buy bag of the flavor i know i will enjoy eating and not have to choke down i recommend that you try a bag of each flavor before you spring for a volume order',\n",
              " 'i bought these and tried each flavor i could not even finish any bag but the barbecue i really liked the barbecue but all the other flavor were gross and the texture is really like fingernail on a chalk board to me how is this the best selling item amazed anywho to each his own godbless and enjoy but if you are like me and enjoy barbecue just get the barbecue kind',\n",
              " 'very tasty chip original and other flavor but one with salt flavor way too salty not sure who like so much salt in chip',\n",
              " 'i hate to type this because there are so many people that really enjoy this product but take a look at the ingredient in this so called all natural product i have the cheddar cheese flavor right in front of me so that is the only flavor i can vouch for right now about halfway down the list of ingredient you ll see yeast extract unfortunately this is the new msg many people are still unaware of this fact and natural food company are taking advantage it is a chemical flavor enhancer whose potential side effect are very scary google msg yeast extract for yourself or check out',\n",
              " 'these are to potato chip a pringles are to chip a instant coffee is to brewed coffee and stephen baldwin is to alec baldwin same family but scant resemblance so i d buy a single small package at your grocer and try them out not for everyone and certainly not for my family which includes two teenage boy even they take a pas on these unless they are truly desperate crispness is ok even mouth feel is good but there is a lingering not good taste again kind of like pringles p the flavor are ok but definitely taste like they were made at that flavor factory along the jersey turnpike',\n",
              " 'purchased the oz bag seemed the same size a the other bag when purchased but didn t realize it wa ounce a compared to other bag just be aware might be perfect for some but not for u having a bag with potato chip in it doesn t cut it for me might be perfect for kid but just a head up',\n",
              " 'i don t know why everyone love these chip they are healthy but taste disgusting only the original flavor tasted good so getting the variety pack wa a very bad idea i would not buy this again and would rather go with baked chip than these pirate s booty make popped chip that are way better',\n",
              " 'despite the plethora of positive product review for these snack i see no reason to buy them again read those positive review and compare the content in some of them to the guideline of a non profit consumer organization for review they contain a lot of wow with little specific that would have been included by a true believer weigh the others a you will but the proof is still in the pudding br br the texture is their best asset if you like that sort of texture that s about it for me they appear to be an extruded potato product many of those out there with various seasoning that do not impress me either the most basic of them put mg of sodium into the tiny oz package if you were a deer you might eat them for that alone the fat is reduced that much is true but br br unless you are ready to trade fat for sodium it s no deal but wait baked kettle chip in a oz serving up the fat to g the same a the of the basic flavor you got oz free on that one the baked kettle possess mg sodium v these chip give you g fiber in v in oz of baked kettle this product loses again br br the only place you might gain is in carbs for the kettle chip for these but remember you have oz extra in the kettle s nutrition info just about a wash br br and then topping it all the cost an oz v for baked kettle in subscription wow these wonderful snack cost per pound packed a they are the price will fluctuate but think about the thing you can buy for that money instead these are microscopic bag that doe not help the environment either portion control aside with product largely deriving it kick from sodium and cheap spice br br the most positive thing i can say is the product is packed very well lot of air in the bag to protect the chip and they will mostly arrive intact in their tiny portion in tiny bag you won t have many crumb in the bottom of these little bag so that is a good thing br br but bottom line expensive junk health food wow',\n",
              " 'two word potato flake not sure what the buzz about these is try one bag before you buy a case can t be returned',\n",
              " 'ok but would never buy them again my husband ate some br br i thought they tasted a lot like the chip they used to call muncho s br br just not for me',\n",
              " 'i ve heard about these chip for a while now and thought they would be a good alternative to regular chip i couldn t eat them though they just don t taste good to me personally my grandmother loved them though and i gave the rest to her',\n",
              " 'i decided to give these a try since one of my good friend and her son raved about how good they were bad idea i almost ordered two since they were such a good price i am so glad i didn t we don t care of these at all the concept is nice chip that are crunchy and better for you than most but they taste funny they have a funny aftertaste and are not that enjoyable we have been slowly and i mean very slowly making our way through the the box brought we still have left and we received them over two week ago so they are not so horrible that you can t eat them it just like forcing u to eat them so we don t have to throw them all away if you haven t had them before i suggest trying them before committing to bag of various yucky flavor',\n",
              " 'i love shrimp chip and i love healthier alternative a well so i thought these would be a match made in heaven not so much the flavor were too strong most of the time i am a huge fan of pepper but even i had a hard time enjoying the salt pepper flavor and the salt and vinegar made me shudder with each bite because of how strong the vinegar flavor is and this is from someone who currently life in the uk and enjoys all type of vinegar crisp here and too bleh in others the only flavor that my husband and i both liked were the bbq and sour cream and onion and we didn t enjoy them enough to want to buy these again br br i wish these were a good a all the hoopla regarding them said but we still have bag of these in our cabinet four month later uneaten so needless to say i will be giving these away and avoiding them from now on',\n",
              " 'i love amazon and i love the review from people i ve been introduced to alot of great product b c of the review but this time total complete let down popchips having star is just down right perplexing the should not get more than a but generally i sorta want to give it a but the packaging is very pretty and aesthetically pleasing so i through in the extra point br br i ordered these thinking that d they d be maybe a slightly better version of baked lay man wa i wrong i ve tried most of the baked lay flavor my go to s at first were original baked lay and sour cream baked lay since those are my favorite regular lay but then i discovered bbq baked lay and seriously those are fantastically great bbq baked lay are packed with so much flavor br br these popchips taste like slightly burnt airpocket chip literally they do because they aren t a good a baked lay i can definitely see eating much less of them which could be a benefit but i say just use portion control and zip lock bag a bunch of baked lay br br i m trying to think of way to go into more detail but there s really not much more i can say br br summary br br how do popchips taste like slightly burnt air chip it s sort of a weird taste take alot of getting used to br br would i suggest buying them no if you re eager to try them i say buy a bag from your local grocery store a week or so after i ordered these on here i saw them at m local krogers so they re definitely expanding br br nutrition information bag oz g calorie total fat g sodium mg total carbohydrate g dietary fiber g sugar g protein g vitamin a vitamin c calcium and iron br br if you buy a big bag of bbq popchips and big bag of bbq baked lay here are the nutrition information side by side br br pop chip br serving size oz g about chip calorie total fat g sodium mg total carbohydrate g br dietary fiber g sugar g protein g br br baked lay br serving size oz g about chip calorie total fat g sodium mg potassium mg total carbohydrate g dietary fiber g sugar g protein g vitamin c calcium br br so these two are very close but baked lay win because it virtually ha not sodium since potassium mg offset the sodium mg leaving g of potassium plus there s more fiber and more vitamin c and most importantly they taste better br br i for one have to be careful about my sodium intake so the fact that baked lay ha potassium in it is a huge benefit br br at the end of the day make a decision for yourself but i d strongly advise you to purchase a bag from the store first maybe even compare your favorite flavor in both baked lay and popchips i can almost guarantee you that baked lay will win hand down br br hopefully amazon start selling well priced variety single serve bag of baked lay soon for now i found one from a seller but the price seems a little high but there are bag instead of a href http www amazon com gp product b tvdhio smart mix variety pack count baked lay s classic baked cheetos baked ruffle baked doritos nacho cheese rold gold tiny twist pack of a',\n",
              " 'i bought those chip after reading good review but i wa very disappointed with the taste it wa nothing like what i expected granted that i expected good old kettle cooked potato chip i bought the flavor variety pack and there were many flavor i did not care for it wa worth trying them but i am not going to purchase them again in the future',\n",
              " 'pop chip are basically a horribly over priced version of munchos which are baked potato chip and have been around forever period',\n",
              " 'i bought these chip thinking that they are all natural per their description of no preservative no artificial flavor or color when i received them i checked the ingredient and they contain yeast extract which is synonymous with msg yeast extract contains processed free glutamic acid i will never purchase this product again',\n",
              " 'the best flavor in this box is the salt and pepper and the bbq flavor all the other flavor wa just so so',\n",
              " 'i wa at a charity fund raising event where they were handing these out they seemed pretty tasty so i bought a couple bag at target the one i bought barbeque and salt and vinegar were awful i ended up throwing away most of them neither i nor anyone else who tried them could choke them down the one they were handing out a sample were clearly very different from what they are selling don t waste your money',\n",
              " 'these chip taste average and they are insanely expensive compare to the big bag of chip from safeway or costco for you can get a big bag with time the amount of chip compare to these oz bag chip so for in safeway you can get worth of popchips these bag are so tiny it s like serve size for fat people trying to lose weigh or something for me i never gain weigh i rather go buy big bag of chip these are expensive ripoff chip will never buy again br maybe i think the price is high because i bought it from amazon com maybe elsewhere is cheaper but chip a junk food shouldn t be that expensive compare to local store',\n",
              " 'these chip are too salty br i like the crunch size of the bag and variety br but i cannot finish the case due to how salty these chip are',\n",
              " 'these chip arrived in terrible condition the box they were sent in wa a display box with all the usual perforation on the box for display why someone would send a box like that in the mail and not have put it in another real box is beyond me the box we received wa heavily taped to keep it together since the box came open on the display perforation and looked like someone had driven over the box a well which give you an idea of the shape of the box the chip bag inside were pretty flat there were no chip but plenty of crumb for any use you would need crumb for this is how many of the package looked flat there were a few with edible chip but not many not sure what to think of shipping chip in this type of a box common sense should have been used',\n",
              " 'the only flavor we could stand wa the barbecue which wa the reason we purchased them in the first place i had to give the others away i won t be buying this again for lunch although the size packaging wa great i just wish the other flavor tasted better plain salt pepper etc weren t really kid friendly',\n",
              " 'these chip taste so dry and gross i would rather eat carrot or something than these they just didn t satisfy the salty craving and weren t worth the calorie',\n",
              " 'i bought this because i had been seeing this pod in magazine and other place i thought it would be a great addition to my fridge to save money on cilantro however this is very poorly designed i could not open it whats or ever even after searching through review after review finally my genius boyfriend found the solution basically you will need to open it from the bottom you will need to squeeze the two side next to the cap in order to open it you will have to be careful when you are opening or closing it while there s water in the pot if any one who is reading this still having problem opening it let me know i ll try to explain it better there but anyway this is a pretty useless product for it productivity but a bit more useful if you are too lazy to make your own and want a prettier fridge you can make you own with a cup or any container filled with a bit of water and wrapped in plastic bag with the herb so unless you have money to waste don t buy this useless pot',\n",
              " 'i have had the herb pod for about month they are a great concept but have a poor design the plastic cover is very hard to take off and snap back on i m constantly afraid that i m going to break it the pod do keep herb fresh for several week in the fridge a long a you replace the water unfortunately i don t use them half of the time i buy herb because they are more trouble than they are worth',\n",
              " 'with no clear instruction on how to open and close the unit the first few time are an act of frustration when i finally realized that if i grip with my thumb and forefinger over the clear plastic shield about one third from it s bottom and squeeze the side the bottom lip pop out nicely br i will agree that this size is too small for most popular herb like parsley basil ect the company doe now make a larger unit and it look like it is more user friendly br all in all i like it i took away one star for the lack of instruction br br after a few month i have thrown this thing away it became increasingly harder to open and the size wa just too small for the herb i use most i have seen some newer larger unit that don t have the issue with opening it like this one ha i m going to order one of these br br i no longer recommend this unit and have lowered it to star',\n",
              " 'despite reading the review of others on how hard this wa to open i wa confident i knew the secret so would be fine not so no matter what i did couldn t pop off the clear plastic lid instruction showed the bottom part screwing off didn t husband couldn t even do it and he open everything for me he finally got it open only held about half of the aspargus which is what i wanted it for so tossed it in the garbage and then bought one from progresso that we both can open note to self pay more attention to what people are saying',\n",
              " 'the review on this are so true great idea but such a pain to pop the clear lid off from the side even once i figured it out i keep waiting for it to break in my hand because it doe take some pressure to pop off the lid but it feel fragile and likely to break with too much pressure i would consider buying one of the new design that seem sturdier and open from the top not the side',\n",
              " 'i rarely write review but these pod are so awful i wa hoping to save even one person from wasting their money like i did the little green plug barely stay in even after twisting it so the water is always sloshing out and the clear plastic cover is absolutely the worst design it is nearly impossible to remove and actually snapped into shard when i tried to open one of the pod and i can attest that those plastic shard are sharp if you are able to actually open the pod be prepared for the water to splash out from the bottom even if the pod actually worked well and preserved the herb which they don t really do they would not be worth the aggravation or cost like another reviewer said just put your herb in a cup with a little water in the bottom and a plastic bag covering the top work perfectly and cost nothing please don t waste your money on this',\n",
              " 'even with the tip shared on how to open it it s still pretty difficult to open i guess i have weak hand my husband usually ha to open it for me and even he doesn t do it with ease i would recommend getting the larger prepara herb savor instead of the pod it s much easier to open and can hold more i could hardly fit any cilantro in the pod considering that the grocery sell them in such large bunch and i only use half',\n",
              " 'saw this on oprah s favorite thing and thought it would make a great little christmas gift for my friend that love cooking a much a i do since they come in package of three i kept one and gave two away i couldn t open mine to clean it so my husband had to open it and he had a hard time i thought it wa just too tight from the factory my basil looked great after ten day but when i went to use the basil i could not open the pod husband not home neighbor not home dog missing thumb i tried lightly rapping it against the counter edge and the seam cracked right down the middle okay maybe a little harder than lightly i wa pretty frustrated luckily i had emptied the water so i only had a small mess to clean up the pod went into the garbage forcefully i checked with my friend friend had the same problem and her pod is now a rooting capsule for plant clipping because she had to throw away the clear cover it also broke when she squeezed the pod to try to open it friend ha now been warned there were no special tip included on how to open the pod and judging from comment i ve read we re not the only one who have had this problem i think this wa designed by the same guy that invented the security wrapping tape on music cd i ve gone back to my old method a wide mouth mayo jar with pretty hair band holdingdown a circle of fabric it work',\n",
              " 'i wanted very much to like this product but after using it for more than month i just can t the clear plastic cover is very difficult to get off especially when the pod is filled with water it s also difficult to get the cover on especially when you re trying to store bushy herb like parsley or cilantro the o ring that is supposed to seal the bottom of the pod doesn t seem to seat correctly after removing the bottom of the pod to clean out dirt left behind from some rooted herb i ve never again been able to get it to be water tight consequently every time i use my pod i have to store it in a bowl or else i m mopping up water from my fridge shelf on the plus side the leaky bottom help to remind me to change the water every day',\n",
              " 'i ve been told that the refrigerator of the future will have herb vegetable salad bin inside to grow vegetable and i thought the prepara herb savor pod looked like the perfect precursor wrong the detachable bottom come loose continually and leak water everywhere similarly the plastic plug at the back doe not hold a good idea a nice looking product but poorly executed refrain from purchasing plastic bag are much much better',\n",
              " 'i threw this away after about a week of ownership couldn t get the clear plastic cover on and off without spilling water all over and half the time i couldn t get it off at all it only work for long stemmed herb and all need to be about the same height',\n",
              " 'the prepara herb savor pod is advertised holding asparagus that wa why i purchased it thinking it would be good for keeping asparagus fresh in reality the pod will hold very few spear and they would need to be quite thin and short the ad is misleading i ll keep it for storing herb but asparagus is out of the question',\n",
              " 'after i enptied the can i noticed it wa black in an area at the top of the can and appeared to be corroded of course i wa afraid to eat the fruit so i threw it away i am waiting for a response from native forest to ascertain the type of metal can and if it is harmful one would expect if they went to the effort to be certified a organic they would use safe canning i will post an addendum w their response',\n",
              " 'after reading a previous review i carefully inspected the can when they arrived the can were immaculate and very clean so i felt relieved after cooling in the fridge i ate the first can the fruit wa very mushy and not attractive to look at and frankly a disapointment but did not taste rotten per say only minute later though my mouth felt like acid wa eating at it and wa very painful for hour even after washing out my mouth i eat much canned and fresh fruit and this wa a first for me only day later my teeth and gum were infected and i had to go to the dentist for the pain wa so bad he found infection and i had to undergo a treatment of antibiotic and painkiller before i wa finally ok again after about week sheesh needless to say i threw out the remaining can of fruit the problem must be at the source a the can and packaging were st rate and shining clean quality control must really suck i m all for natural but great care must be taken so contamination is avoided this is a foreign product and their health standard may be lacking there i would stay far away from this stuff if you value your health',\n",
              " 'this product wa a complete disappointment taste like mushy pineapple there wa no papaya taste',\n",
              " 'i will never buy this item again i wa addicted to it until the last order fruit had foul smell tasted rotten wa the expiration date forged',\n",
              " 'edit i just noticed each bag is only pound not my review is not star instead of three br br first off a you can probably guess by the picture these are sour gummies that isn t said in the description also each one is about to inch in length and inch wide br br texture and flavor the came to me soft and with the same texture a most gummies such a peach ring the sourness is average not overwhelming but not too little where i took off the star wa the flavor most important part a i chewed them a few different flavor hit my tongue none of which tasted that great i couldn t make out any of them in particular not good at that anyways but the combination wa just plain strange br br i could see myself getting through one bag but will probably give the other away to nephew niece after all they will eat anything sugar coated right',\n",
              " 'i purchased this item because it wa cheaper than other olive juice i wa looking for a good quality olive juice for martini i wa pretty disappointed the juice is very strong i followed the instruction and put the ratio on the bottle into the shaker and made a martini the ratio wa part vodka to part olive juice it wa way too salty the olive juice wa over powering i made a decent dirty martini with part vodka part olive juice i would not recommend this item',\n",
              " 'ordered this a few month ago only to find it is just basically lactic acid read the ingredient the main label say olive juice by no such thing i am going to suggest that amazon take this off the website',\n",
              " 'this product is simply for cheap liquor since taste and quality is not important i prefer to drink my grey goose straight however on occasion it is absolutely delicious with a very tiny splash of olive juice this product wa a a quick fix for me to stop purchasing olive in order to use the juice it s not worth it the after taste is worse',\n",
              " 'sea salt is more easily administered with a salt mill this is just a salt shaker that delivers uncontrollable amount of sea salt and anti caking agent into your food and no iodide the anti caking agent isn t event that effective so the salt either come out in clump or get stuck at the exit stay away',\n",
              " 'this candy tasted like sugar without much rose flavor at all br br i ended up throwing most of it out because i don t like so much sugar i prefer strong flavor like a href http www amazon com gp product b kyoene altoids twin pack mint wintergreen tin a br br the center of the candy doe have a licorice flavor because it s an anise seed but there are better licorice candy out there like a href http www amazon com gp product b jtzlk twizzlers twist black licorice pound bag pack of a',\n",
              " 'i too wa a little disappointed with the mix of the donut sampler in my case i had of the were decaf but i guess this is what you get when you purchase a sampler pack through the amazon warehouse deal section all the k cup had a best used by date of i wa happy about that atleast',\n",
              " 'i have had the regular donut house coffee before and enjoyed it but i had never had the flavored kind i wa looking for a sampler pack to so my roommate and i could try the flavor a well a get some of the regular stuff i don t drink decaf so i knew that some of this pack would not be used i figured that the rest of the cup would make up for the loss on the decaf i wa wrong this sampler pack wa a joke of the cup were decaf and of them were the standard house brew i got cup of chocolate glazed donut and cup of cinnamon roll now i will not be using most of the k cup in this package because it wa again mostly decaf this is what they consider a sample pack br br donut house regular br donut house decaf br donut shop regular br donut shop decaf br donut house chocolate glazed donut br donut house cinnamon roll br br some sample',\n",
              " 'my husband just bought a keurig coffe maker in the box wa sample his favorite wa donut shop i ordered the k cup for him i wa so disappointed out of the k cup were decaf giving me k cup of each of the flavor br i also ordered the wolfgang puck sampler i got flavor each how cool is that br i would order donut shop again just not the sampler',\n",
              " 'i ordered this because i have had the donut shop coffee before and really enjoyed it and wanted to taste some of the other flavor they offered after receiving my order of the sampler pack i wa very disappointed over half my order wa decaf coffee and i only got cup of the flavored coffee which wa the main reason i ordered it i love this coffee but am disappointed in the so called sampler pack or the lack of variety pack',\n",
              " 'i got this on the warehouse deal so i wasn t expecting much however be advised you will get no regular donut shop and instead you will receive over half of the box a decaf i love the flavor of all of these though so that s ok but i will think hard about getting another variety pack',\n",
              " 'i used to buy bob s red mill organic grain pancake waffle whole grain mix until i saw all these rave review about stonewall kitchen farmhouse pancake and waffle mix i decided to order from amazon and tried it this morning br br this pancake mix is very fine and powdery when i made my pancake mix the mix wa all over my kitchen floor the mix is almost foamy like when it is done mixing the waffle recipe from the label asks for tbsp of melted butter which i never use that much when i use the rob s red mill pancake mix i could only make two perfect round pancake from it even though it claim the serving should be pancake the pancake is indeed fluffy a others claimed in the review however i also tasted a lot of chemical in it i guess one reason it is so fluffy is a lot of baking soda in the ingredient looking at the ingredient label did i realize it ha more chemical than other brand and i do not understand what artificial flavor it ha to be added in when this pancake mix is just the normal type with no fancy flavor like cinnamon and apple etc br br in short i am going back to my rob s red mill brand at least i know what i am digesting in my stomach',\n",
              " 'didnt really enjoy these after wanting to try something other than aunt jemima s from dominick the pancake tasted strange and sometimes forgettable but it might have been due to the poor packaging they came in along with the syrup',\n",
              " 'i have an immense love for pancake i have been on a search for the best pancake mix for about a year i did not write this review prematurely a i wanted to give the product a fair chance i tried it with whole milk i tried it with buttermilk i tried it with blueberry i tried it without blueberry it is by far the worst mix i have tried thus far the flavor is not good seems like it need more sugar with blueberry it is very hard to get the pancake to cook all the way through without overcooking them i really am telling you all the hype on this product ha got to be from people that either work for the company lol or have never tried another high quality mix i honestly would rather eat pancake from mcdonalds don t waste your money robbys mix is also wayyyyyyyyyy better and i believe it wa cheaper may be better for waffle since i m stuck with two can i may try that ugh',\n",
              " 'this expensive pancake mix taste so processed and fake a less expensive bisquick from your local grocery store beat the taste no doubt it s a yucky product',\n",
              " 'this mix produced some pretty bland pancake followed the direction on the canister and the batter wa pretty thin which in turn produced some pretty thin pancake considering the ingredient that needed to be added it would have been just a easy to create my own buttermilk pancake from scratch i debating trying to figure out how to jazz up the remaining canister i have left maybe some pumpkin pie spice but that won t help the thicken up the batter',\n",
              " 'make okay pancake only marginally better than the standard bisquick recipe they are edible i should say that my kid liked them br br not that great in my opinion',\n",
              " 'we didn t care for this product at all it seemed to have a funny after taste to it wasn t worth the cost we were unable to even finish using what we purchased it wa that nasty',\n",
              " 'what am i missing br br this mix creates a pretty much tasteless pancake i ve tried adding vanilla and cinnamon i use real maple syrup on top i cook them in fresh bacon grease the pancake are still just blah it s like they absorb and negate the flavor br br the pancake cook ok the texture is fine just absolutely no flavor br br won t get this again considering pitching the rest of what i have',\n",
              " 'part of me want to ask for a refund i bought this package of k cup because i wanted a mix of tea when i got my package i wa very disappointed to see hardly any tea in the package i know they substituted based on availability but i think it s completely misleading to substitute with product that don t pertain to the packaged theme i got a mix of gingerbread and eggnog disappointing',\n",
              " 'this is not a summer sampler br br the majority of this sampler wa hot including hot eggnog hot apple cider hot gingerbread coffee hot caramel apple and golden french toast coffee br br sound like the perfect brewed over ice k cup to you this wa the totality of iced drink vanilla iced coffee peach iced tea and unsweetened black iced tea br br additionally there were only variety rather than the listed on the description br br i literally thought they might have mixed my summer drink for holiday drink but it wa clearly labeled summer sampler br br even worse this item doe not generally qualify for a refund beware',\n",
              " 'thought i wa ordering summer tea flavor got leftover winter garbage i will not buy from this seller again i hate iced coffee much less gingerbread and eggnog flavor i cannot believe i just spent that amount of money on crap that i will not ever drink should have waited until walmart carried it doe keurig know this stuff is being sold under such false advertisement yes i know it say flavor may be substituted that would be fine if they were more tea if i had wanted gross iced coffee flavor i would have ordered such br br on the up side the peach tea i received wa very good otherwise don t waste your money',\n",
              " 'i got two tea and one type of iced coffe and the rest were holiday coffee and apple cider spicy eggnog gingerbread bait and swtich the only redeeming factor amazon wa great and issued me a refund',\n",
              " 'there should be an option for a star rating because that is what i would rate this item br first the sampling wa to include variety but included only it appears that the two flavor out of stock were not substituted with two other flavor but instead a few more of the remaining flavor were tossed in the box i had expected that when a limited edition coffee flavor such a island coconut wa out of stock it would be replaced with a different limited edition coffee flavor same thing for the half and half lemonade br second the order wa not balanced of the flavor i did receive only were coffee the remaining were tea br the concept of a summer sampler set is a good one but the execution here wa an epic fail the order is being returned today',\n",
              " 'really amazon nothing say delicious summer treat to me like a nice cup of egg nog and when i am not craving egg nog in the summer it s gingerbread i d really like don t buy this it suck i m probably just going to toss it if there wa the ability to rate this with a negative number i d say',\n",
              " 'i do not consider gingerbread spicy eggnog caramel apple cider spiced apple cider summer item you cleaned off your self at my expense very disappointed',\n",
              " 'i wa hoping for the gift box instead i got a cardboard box full of a mixed bag of k cup don t get me wrong if the price is right then i have no problem but the price wa a little misleading i wa under the impression that this would be in a sampler box not a warehouse box it look like a mix and match of k cup that fell out of other package or were returned buyer beware',\n",
              " 'i ordered ka me rice crunch cracker plain i received ka me gluten free rice cracker original all natural unfortunately they have soy product in this cracker and therefore i can t eat it this look different from the picture that came with the cracker i ordered apparently i can t return the box of cracker',\n",
              " 'you won t believe how many way this product ha saved my life i only gave it one star because i m so dehydrated from drinking regular water all week because i ran out of money before my penta ran out when i can afford another shipment i ll jack it back up to star br seriously folk some water just run through your system and you pee them all out right away not penta it stick to your rib like oatmeal restoring your body s natural tendency to develop sympathetic electrolytic rehydration but it won t weigh you down br other thing i have noticed about this product br br i accidentally dropped my cell phone into a glass of it and when i pulled it out it had better reception br i wa going to discipline my kid after they tried to clean my computer with it until i discovered that it improved it functionality br i threw some jumping bean into the bottle and the next day i had a pair of baby pogo stick growing in my refrigerator br br hey if you fill up your solar shower with this stuff you won t even need soap it come at a price but it s so super br br if you are tired with the uninvigorating boring old swill other people call water or are lethargic from all that unenhanced blah that s so bad they can t attach a higher market value to and you re so over the cheap readily available and monitored crap your mcburbia proffer then look no further',\n",
              " 'the site doesn t list the ingredient for their product online had i known the product wa full of trans fat i would not have ordered it watch your label partially hydrated partially hydrogenated you have to laugh at the way manufacturer will try to fool the public in the future i will not order a product that doesn t list it ingredient online so that consumer can make informed purchase br br did try the product and found it tasteless no heat spice and it left a waxy film on the roof of the mouth must be from the wax i wa going to send it to my son in college but tossed it in the trash instead the sad thing is that they do not have to use trans fat to get flavor they just don t care',\n",
              " 'i bought this because it s organic cheese puff my son love gerber cheese lil crunchies i thought he may like this too i subscribe it once a month now there is can not open the idea of mixing cheese and carrot is great but there is no taste for this cheese snack there is no cheese flavor in the puff my son opened the can and keep giving the puff to me my son love happybaby s yogurt melt beef stew happy baby banana beet blueberry and spinach mango and pear this cheese puff doe not work for him',\n",
              " 'this flavor is awful we absolutely love all the other flavor but goji cacao maca is really difficult to get down i give all the other flavor star',\n",
              " 'we have been feeding this to our dog for over a year over the past few month we have had a problem with the case of grammy s pot pie can some can were full of chunk of fat and a thick lard like gravy with no veggie and some case were fine with chicken and veggie etc what happened to truth in labeling we also had the problem with the can being only half full sometimes our dog were getting bad diarhea from the fat in the food so we had to stop giving them merrick br they need to start testing their food again it used to be great look at the old review from last year and before',\n",
              " 'please think twice about purchasing this product especially if you have a small breed dog i wa lured by the cute gimmicky labeling and sold by the ingredient list but i twice fed merrick canned food to both of my dog and both time both dog were diagnosed with pancreatitis an illness which is dangerous extremely painful to the animal and which requires hospitalization i m not sure if the fat content in those particular can wa high or if merrick us an ingredient additive that somehow sickened both of my unrelated dog but this food made them very ill after their second hospitalization for pancreatitis i spoke with other folk who had stopped feeding merrick to their small breed dog for the same reason the food caused vomiting diarrhea and lethargy in their pet',\n",
              " 'i had heard this wa wonderful canned food so i tried it for my very fussy schnauzer i wa first surprised to see a layer of fat on the top when i opened the can i scraped that off and added a couple spoonful to her dry and she sniffed it and walked away she doe seem to like the merrick bg dry food i chose the buffalo flavor and my girl say this is a winner',\n",
              " 'i have a special need pet and searched for the right food since amazon ha been a five star resource i chose to have pot pie shipped many of the can are dented so i have to toss them or return this is a big hassle but would not ever feed a dented can to my beloved boy best to purchase at the pet store evidently',\n",
              " 'i ordered through source in the past and cancelled my membership due to the excessive charge every month i wa happy to look on amazon and find that i could purchase for much cheaper and use my prime account this tea is not the same a the one that came in the black box the orignal tea is brown and this tea is green the pamphlet is the same inside a the other and the fragile tea bag are the same but the tea is different this one come packaged much preetier but it doe not taste the same i have lost pound in the last month by drinking this tea in the morning and only water throughout the day that is my only diet change i used the other tea for a month and half and this new tea for week now i dont want to stop taking the tea just is in case it is the contributor to my weight loss the next order i will try the other tea that you have to pay for shipping on i hope i can find this orginal stuff because this is not it',\n",
              " 'just got my teabags today and the first bag i made tea with the part of the teabag where the string is connected to the bag tore across the bag after seeping the bag remained intact though the second bag while unwrapping the teabag the tag ripped the bag right open br br the tea tasted fine not very strong like most other oolong tea the quality of the tea bag is like some flimsy material two out of two broke i guess i need to be more careful with the others',\n",
              " 'holy cow i have never seen this much grease in a boxed product like this also it ha enough salt to kill an entire family of slug use it in your garden don t eat it',\n",
              " 'i had high hope for this product when i first opened the package because the noodle had a great texture and the sauce looked appealing the food wa easy to prepare at my workplace however to me the taste wa very oily and flavorless i m a big peanut satay fan and wa expected more spice in the flavor',\n",
              " 'i love peanut satay this product is truly terrible in no way doe it resemble that dish oily salty and taste lousy don t waste your money on this brand',\n",
              " 'very bitter and not nearly a thick a expected very runny actually there are better brand out there',\n",
              " 'hi br br my first grandson wa born and i wanted everything under the sun to celebrate this is a wonderful idea that ha been around for a very long time however everything wa fine and wonderful except the fact that they just weren t fresh these little bubble gum cigar were a hard a a rock the moral of the story is that being a fun item the shipping wa a much a the cigar themselves at least they could have been fresh and not hard',\n",
              " 'i purchased this item to celebrate the birth of my grandson i should have opted for real cigar they might have tasted better these cigar were very hard and hurt my teeth to chew not to mention that these gum cigar were much too sweet',\n",
              " 'ordered some from an amazon fulfilled associate normal amazon shipping etc the cigar were cracked and stale how doe chewing gum shatter and break no way it wa fit for consumption br easy return process',\n",
              " 'i ve had a lot of san marzano tomato in my day both fresh and canned and typically they are the best tomato on the planet i opened the first can from this order and the tomato weren t very good at all nothing like i wa used to i later noticed that the can doe not have the d o p certified label like the photo on the amazon page doe these tomato are not d o p certified and are not real san marzano tomato they are a cheap imitation the seller tried to mimic the label of real san marzano tomato so they could sell them for a higher price i would recommend you stay away from these you can get better tomato for a fourth the price at your local grocery store',\n",
              " 'the label is misleading cento actually sell two kind of san marzano with the same label other than one that say d o p certified you will receive the one w o the d o p if you order from amazon i have made the mistake in the grocery store not realizing cento sell one are d o p and one that are not and did not realize till it wa too late the true d o p one i have to say make the best sauce you can taste the difference',\n",
              " 'buyer beware the label on the amazon site clearly state d o p certified but the product received doe not match the site label and doe not state d o p certified this is bait and switch and i will file a complaint with amazon',\n",
              " 'you order and pay for d o p certified san marzano tomato but you will receive certified which mean absolutely nothing a true sm tomato will have an eu d o p emblem on the label plus the corsorzio san marzano stamp this is false advertising if you enlarge the picture shown you can see on the upper left side partially one of the stamp you will not receive this dop label you will receive another tomato from somewhere in the region under the cento name typical marketing hoodwinking amazon refuse to take return on this item so beware',\n",
              " 'since a dop product is not readily available at my local grocery store i got really excited when i saw the photo of this product at the amazon website because the photo state that this product is d o p certified br br but when i received the shipment it wa a huge disappointment it wa a different product than what the photo promised i can buy the one that wa delivered to me at my local grocery store very easily very disappointing',\n",
              " 'i ve used cento san marzano dop certified tomato many time in the past and wa always pleased with the quality of these great tomato br that said this is the st time i ve ordered this item from amazon and all can arrived completely dented and banged up br terrible presentation for an expensive item br a an aside none of the can i received ha a dop certified label but only certified and no serial on the side of the can so i m not sure if these tomato are actually dop certified or not',\n",
              " 'the can that is shown say d o p certified but when my relative ordered them from amazon com the can that were shipped only indicate certified one can buy these non dop at any walmart what do they mean by certified certified a to what br br unfortunately the vender are making fool of amazon com a a consequence i am staying away from cento product entirely fool me and amazon once shame on cento fool me and amazon twice shame on me and amazon there is no way i can make this review fun',\n",
              " 'these are not dop they re just certified which mean nothing significant they should go a step further with a little more nonsense and write department certified real dop tomato are much better',\n",
              " 'they tomato are certified san marzano but not dop like the item show in picture i called amazon and they sent me another box of for free to fix issue the new shipment wa still certified not dop so please know this tomato are ok but not the best fyi',\n",
              " 'i purchased a case of these tomato a couple of month ago and the can were so badly bent and warped my can opener won t open them i complained to amazon and they shipped another case out right away but those can are worse than the first case i won t order again',\n",
              " 'the product image is misleading the image ha the tomato a d o p certified but the tomato i received are not',\n",
              " 'merchandise wa not damaged during shipment but supplier send me damaged and incorrect merchandise of the can were badly dented and the can they shipped were not dop certified they sent me lower standard merchandise received full refund from amazzon',\n",
              " 'of the can shipped of them had very very serious dent in them i m not talking ding i talking serious dent so dented that i truly thought of throwing them away my husband stopped me though because at a can he felt that it wa too wasteful in my local grocery store item this dented are put into a reduced price bin because they usually don t move otherwise a href http www amazon com gp product b c hz cento san marzano certified tomato ounce can pack of a',\n",
              " 'it s a shame to use so much corn syrup for baby i m very disappointed when i noticed that the same kind sold in china is even better',\n",
              " 'do you really want to be feeding your baby a bottle of corn syrup br i used this until i realized that i switched to gerber it so much better for your baby',\n",
              " 'i decided to try this formula for my baby since he started being very gassy however this formula made him more gassy the formula is very thick and produce a lot of bubble that get fed to the baby i tried to make the formula with anticipation to let the bubble disolve but that didn t work',\n",
              " 'if your newborn cry inconsolably you should try a lactose free formula right away even though they re so expensive however the ingredient may not look so good it s important to shop around if you re going to use a lactose free formula lactose free formula always are the most expensive and this one is loaded with processed corn syrup solid br br from wikipedia baby colic also known a infant colic three month colic infantile colic and colic is a condition in which an otherwise healthy baby cry or scream frequently and for extended period without any discernible reason you ll know it if it happens to your baby and it s awful to not be able to do anything to immediately relieve your baby it contains dha ara and iron but all baby formula do because it is required by law br br lactose free formula is expensive is because it go through a very specialized and difficult manufacturing process i m told by the company s public relation representative so much food in the u s is prepared with corn syrup solid so that shouldn t be a worry i m told ok but i notice the obesity rate is high',\n",
              " 'the description of this product is disceptive this product wa represented a a powder but it is not a powder it s a granule it is nothing more than shredded coconut and doesn t even dissolve in a high speed commercial blender br br unless you are using this product to manufacture a dark chocolate coated coconut patty to me it is useless my intention wa to use it a an additive in a healthy shake it ended up ruining the shake a i had to resort to chewing the undissolved tasteless coconut piece rather than drinking the shake br br additionally the way the product wa packaged there wa no protective cardboard preventing the slashing the top package when the box wa opened br br if i could have rated this product zero star i would have the only redeeming quality wa that it wa rather inexpensive i gave one package away for free to a patient who love coconut and she gave it back to me two day later complaining that it wa terrible',\n",
              " 'i bought this same brand from an online indian grocery store that usually ha excellent product i wa able to turn it into cream butter using my super blender and adding some water but it barely had any flavor i usually buy the chao kah brand of coconut cream which is quite tasty and flavorful and read another review for a different product for making your own coconut cream my complaint is not the shred or texture mine wa just virtually tasteless',\n",
              " 'i bought this for our young son and wa disappointed in several aspect of this dispenser br br it s made of cheap plastic and arrived w the globe scratched and cracked br br the top doesn t screw on it just pop off w very little exertion br br part of the appeal for me wa that this dispenser is coin operated what the description on amazon doesn t tell you however is that a coin is not necessary to dispense the candy furthermore when the crank is just barely turned the candy usually two piece fly out so quickly that some go on the floor w o your hand there to catch it a young child is often not coordinated enough to turn the crank and put his hand out to catch the candy br br the dispenser only came w enough candy to just fill the bottom of the globe br br it is very much over priced at',\n",
              " 'i wa disappointed when i received this dispenser it said a large dispenser it look like something for a child to play with i bought it for my husband to put in his man cave he is a huge m m fan i buy him a tree ornament each year from the m m collection i wa hoping it had more substance to it i also did not realize i wa unable to return this item',\n",
              " 'i found this muffin to be dry and very disappointing if i cut it up and put it in a bowl with yogurt it wa ok would not order this flavor again',\n",
              " 'the picture shown is for three package and the price is fair for three but i wa only sent one but wa charged for three also the item sent wa not the item shown i can buy the item shipped all day long at any local grocery store i went to amazon because i wa looking for the type shown br br when i contacted the seller and told them about this they said they would give me partial credit for the item but nothing for shipping seeing a how i wa shipped something i didn t order i should be entitled to a full refund including shipping i wa not offered that br br if i could give this seller negative star i would any future buyer beware',\n",
              " 'too much of the white pith on this orange peel making the product overly bitter and diluting the real good taste of the orange zest',\n",
              " 'wa shocked at the skinny size of this item they are five inch long a i expected because that s the size i wanted and ordered but can t be any bigger around than even a pencil and that s a big stretch wow i m sure disappointed considering the cost and shipping won t be ordering these again br of course my dog like them ok but wouldn t call them her fav by any mean will i send them back don t know if it s worth the hassle at this point but i will not recommend them either because of the size quality and high price compared to so many other product to choose from keep looking is my advice br the other beefeater product i ordered well met my standard this one wa a dud what s the old saying buyer beware i fell into that trap big time br here s the product link at this time br br a href http www amazon com gp product b aidu beefeater great fillin porkhide roll with meaty chicken filling inch a br br wish you luck if you try this product but again buyer beware br br update my little dog got very sick not too long after i wrote this review i contacted cust service with even more reason to not like this item and they refunded my money how s that for customer care great thank you amazon com you are terrific',\n",
              " 'the treat were ok my main complaint is they were small about the size of a lifesaver which made it hard to give them to my medium size dog a a treat one treat just di not do it this package should be labeled for toy or small dog',\n",
              " 'too much of the white pith on this orange peel making the product overly bitter and diluting the real good taste of the orange zest',\n",
              " 'i bought bottle of this tart cherry juice because they were cheaper than tart is smart they may be providing the anti oxidents that they say but they completely failed me in helping to sleep better at night i returned bottle to amazon went back to tart is smart i used to wake up time a night have trouble getting back to sleep being nearly retired i can sleep in if i choose with my ti formula i get to sleep fairly quick wake up hour later get anothert hour or two after visiting the bathroom this product may work much better for you but i found one that work for me will stick with it forever i hope to read your opinion of this product soon',\n",
              " 'too much of the white pith on this orange peel making the product overly bitter and diluting the real good taste of the orange zest',\n",
              " 'i ordered this item in a large quanity but wanted the item packaged a shown they were for favor in a holiday bag for the company employee when they arrived a few were packaged a shown but the bulk were loose if i had know they would come like this i would have gone to costo or some other discount store for the purchase the cute little box that would have helped make them special and what i thought i paid for wa missing',\n",
              " 'when tea is decaffeinated is all the flavor removed or is this just lousy tea in any case all you get from a couple of these tea bag in a oz mug of hot water is hot water true the hot water is slightly brownish after five minute of steeping but there s no tea flavor at all very disappointing',\n",
              " 'if you are ordering cooky beware the cooky arrived in crumbles so if you want a box of stale crumb order away',\n",
              " 'two of aunt gussie s cooky contain of daily fat allowance the cooky are so full of grease they fall apart they may be sugar free and gluten free but they make it up with mostly fat i can t even give them to my grandchild',\n",
              " 'carabou mahogony is the worst tasting cup of coffee i have ever had and i ve been drinking coffee for over decade it taste just like a piece of burnt toast the only way i can make it palatable is to put it over ice add lot of vanilla sugar syrup and milk i ve got to find some way to justify the purchase and icing it seems to help',\n",
              " 'if you like strong coffee a i do this coffee is over rated i found it weak with a sickening after taste',\n",
              " 'honestly i m not sure why so many folk like this coffee in their review it s a little weak but mostly just doesn t have a rich flavor it is really missing something i drink coffee black maybe it taste better with cream and sugar before buying this coffee i had been drinking starbuck s french roast and folger s black silk both of which taste so much better than this coffee',\n",
              " 'please contact the manufacturer and ask them to change back to the old formula if you love this product we just cancelled our subscription of case per month because the new formula is disgusting not buying again unless the change back to the old version',\n",
              " 'ugh i tried this a a replacement for the coconut water with pineapple that wa available before in the automatic ship program this stuff is awful it s got added sugar which is not needed at all and actually make the drink taste pretty gross never getting this stuff again and i do love coconut water in general a it is a fantastic hydrator and tastier than gatorade well usually not this stuff',\n",
              " 'almost gagged at first taste i have used other coconut based product water milk cooking oil etc and this is the first time i have been disappointed my teenage kid hated it my son is health food nut and drink all the protein shake and he couldn t stand it i am sure done is not the healthiest but one you try that there is no comparison in flavor tolerance',\n",
              " 'i ve had amy and brians coconut water yum vico s plain in the tetra pack great the one in the plastic bottle and some in the larger tetra pack are from concentrate blah and yuck don t get those and the one in the glass bottle green cover can t remember the name but pure coconut water great too br br this one with pineapple no good the added cane juice is superfluous to the natural sweetness of coconut water and pineapple juice it make the water taste thicker and not so healthy br br i wish these brand can just stick to the name of the drink in their ingredient i e coconut water and pineapple juice no more',\n",
              " 'i love coconut and pineapple but i wa not wild about the one coconut water with a splash of pineapple it wasn t bad it had a mildly coconutty though not sweet flavor but it just wasn t anything special it wa rather bland and i had a hard time finishing it a it started to warm up since i m not a competitive athlete and don t have any great need to replenish my electrolyte i d rather just drink water',\n",
              " 'i m usually into pineapple and coconut drink but this drink just didn t taste all that great to me the taste doesn t resemble anything close to a pina colada flavor and it wa actually difficult to taste the pineapple or coconut in it it just taste tangy and a little sour like water that ha a bit of sugar and sour ness to it yeah not really a taste i crave i m not sure if everyone had this reaction to this drink but it just didn t appeal to me i really wanted to like it though because a i said before i usually love pineapple coconut drink',\n",
              " 'this product is billed a an all natural anti oxident and electrolyte replacing beverage sort of like all natural gatorade with anti oxidents br br like a sport beverage it too is also kinda bland i love some of the gatorade flavor some not so much this drink fall into the not so much category for me br br it is sorta sweet sorta pineapple y and also sorta bland my wife commented that it ha a slippery feel in her mouth like the glass had soap in it still i didn t think it wa that bad but the drink really didn t appeal to me br br in the end yes this drink is probably much better for you than a glass of apple juice and definitely better than some sugar infused punch but a a sport drink i think i ll stick with plain old gatorade it s cheaper and contains fewer calorie per serving br br if going the all natural route with your juice drink is of the utmost importance this may be something to consider and bump this review to star',\n",
              " 'i received a single once container of one coconut water with a splash of pineapple a part of the amazon vine program for review br br it would have been nice if it had come with a straw especially considering the price of the product now a to the splash of pineapple well it must not have been a very big splash because i never did taste any pineapple so what did i taste it is hard to describe it doesn t taste like coconut or cane sugar or any natural fruit flavor br br to be honest it taste like water sort of like water with an odd undefinable extra flavor it s not a bad flavor or a good flavor it s just meh flavor i don t care how healthy this drink is supposed to be for it s price it should have a better flavor or just have a flavor br br and a a thirst quencher it doesn t equal up to gatorade or even a lemonade i feel a glass of tap water would do just a good a job to quench your thirst',\n",
              " 'coconut water with a hint of pineapple shipped to the u from indonesia packaged in usually non recyclable disposable container and catering to the sport drink market good source of electrolyte br br i took a ounce container and poured serving for teenager and adult first impression the teen serious athlete were not told what the drink wa but i did mention that it wa being marketed a a potential sport drink br br the result no negative vote but no one would choose it over existing drink everyone recognized the pineapple flavor instantly it leaf a strange feeling in my mouth one teen said this wa probably the coconut water it had a residual flavor and feel br br there wa no straw included with the package so the opening and pouring needed the assistance of a fork or knife it s mostly cane sugar water so why bother br br but the biggest issue is the waste coconut sugar water from indonesia what s the carbon footprint of this product and the container ha recycle symbol on it but like milk carton it is difficult to find a community that will actually keep them out of the landfill br br bottom line it s not that tasty being little more than sugar water and the transport and packaging waste really don t fit into a culture for me focusing on sustainability',\n",
              " 'sojo s diet lack calcium and if fed a directed will cause severe metabolic bone disease in your dog this diet requires supplementation with a balanced calcium phosphorous additive to be safe',\n",
              " 'this paste is actually what first got me into thai curry at the time i loved it made it all the time then i discovered a better brand of curry paste hand brand curry paste premium stuff amazon doesn t sell hint to amazon stock it but you can get it at it based in seattle and they import everything from thailand the flavor of hand brand is so much better the mae ploy a huge difference i went back to mae ploy after having hand brand and i didnt even finish my meal very bland boring by comparison also a a side note these are very small container i wa used to buy the large one at my local asian store these are like the size of those one not a good deal if you can find it locally',\n",
              " 'there s one important thing not mentioned on their label and that it is not for use in container why hide that info to make more sale of course you ll only learn that if you read their q a on their website i studied the label and opened the back label and it s never mentioned you can t use it on potted plant thanks bayer now i have to go back to the store to return it i guess a lot of people have wondered why their potted flower or rose died not knowing it s because of this product if you see your bee dwindle and disappear then this is the reason will systemic product affect your fragrance of your flower after year of use they will not have a fragrance got earthworm you wouldn t know unless you thoroughly dug through your dirt avoid this',\n",
              " 'if i could give this product a minus star i would there is now very strong evidence that chlothianidin which is in this product is one of the pesticide that is affecting honeybee and contributing to colony collapse disorder this u ha yet to ban this pesticide but it ha already been banned in other country avoid this product and any others containing clothianidin',\n",
              " 'the taste is good but i found myself biting down on small bit of lobster shell more often than acceptable this made me not want to finish my bowl of soup',\n",
              " 'it is ok soup but i expected more a i love lobster bisque and tried so many different kind in different place this one is very watery and i could not find any lobster there i guess it is ok for the price but i would never buy this brand of the lobster bisque again',\n",
              " 'i gave this product a one because zero wasn t an option this is like a can of generic tomato soup with some overcooked bit of fish scrap in it the only lobster in the soup wa some shell it wa salty fishy nasty and inedible not only that but of the can were dented a complete waste of money beyond disappointing it made me angry',\n",
              " 'saw this soup in the supermarket and bought a can opened can heated soup tasted soup dumped soup down drain rinsed mouth with mouthwash enough said',\n",
              " 'a far a canned soup go this is ok i wa disappointed with the texture extra unexpected bit shell piece and overall quality having been spoiled by living in maine for year before relocating to the south i tried different brand of canned bisque i have come to the realization that lobster bisque is best when made fresh',\n",
              " 'this is one of the worse tasting soup i ve ever eaten i hated it and now i have a full case it taste bitter to me and my husband wouldn t even try it only my cat wa trying to reach it on the counter',\n",
              " 'i wasn t thrilled because i had to pick out tiny bit of gravel the flax seed themselves were fine top quality if it weren t for the gravel bit that get through the sieve w the seed i guess this would get star',\n",
              " 'given the recent issue with product made in china i have decided to not buy any food product from there so i won t be buying anymore of this snack if they ever switch to made in the u s i ll buy it again a i did like it',\n",
              " 'this product is made in china i would not believe any claim they make regarding allergy safety and vegan kosher considering mr may s market itself a a healthy product i wa shocked when i glanced at the back and noticed this product wa made in china china ha proven that we can not trust their manufacturing practice unsafe toy dog food and now we re supposed to trust them making our health food br br not to mention the carbon footprint created by shipping something halfway around the world i will not buy this product anymore',\n",
              " 'i m a little shocked that this so called health food product is made from chinese grown ingredient i d be curious to see what the carbon footprint of each bite is also keep in mind that chinese ingredient and product have been found to have all kind of contaminant such a lead in toy and melamine in milk and other exported food product all the ingredient in this snack are widely available in the united state why not support product and company who source locally and consider our own economy before we sell out for a slightly cheaper price your purchasing choice doe make a difference let s stop expecting corporation and government to take care of our safety and economy they never will we can change the way these company do business for the benefit of our long term health and economical well being make purchase decision wisely',\n",
              " 'mr may s should inform their customer where exactly their product are made and take a stand i won t be buying any more of her product until further notice no matter how yummy they are do no harm and quality control is a concept not understood in china totally frightening what they re getting away with',\n",
              " 'i used to like this product until i learned that it is made in china br br how many more horror story do we need to hear about such atrocity a lead in baby toy made in china contaminated baby formula made in china contaminated tooth paste made in china and poisoned pet food before we learn that if it come from china it should not go in your mouth your baby s mouth or your pet s mouth',\n",
              " 'i used to buy these a healthy snack at my office cafeteria and consider it better than a bag of potato chip these taste very crunchy and tasty br br given the kind of unethical food story we read about china we need to see some kind of assurance and fact on the process that the manufacturer is following to make these you just cannot import food stuff and sell in the u a gourmet snack food there need to be data backing this br br few example of chinese food yuk br br melamine kind of platic in baby food and milk so wide spread that of milk in china contained this plastic in br br honey contaminated with ciprofloxacin antibiotic because of which it wa banned in the u br br soy sauce made from human hair not joking google it if you want br br spurious drug exported to african country br br need some good fact and quality control from the manufacturer that the chinese producer are complying with some good quality control',\n",
              " 'i expected the flavor to be more like that of brewed green tea it really doe taste like dried green tea leaf simply dissolved in water although i m sure this is probably a good way to get a concentrated amount of antioxidant i wouldn t order this again',\n",
              " 'a others have said this is really mild in flavor the instruction call for packet per oz of water there are packet per box br br i decided to give it a try a i am basically lazy and wanted some unsweetened unlemoned iced tea that i could make on a moment s whim br br i started with packet per oz of water then packet per oz of water and got some flavor now i m using packet per oz of water i placed a fairly large order so i could experiment with it and have it throughout the fall and winter br br since i m using triple the amount of product in order to get some flavor i will probably not order this item again',\n",
              " 'i have been drinking green tea powder for a few year and have come to love the slightly bitter and tannic flavor of it i decided to try the stash brand instead of my normal japanese brand and it s not even in the same universe the stash product is just green colored powder with no flavor at all seriously the stash brand us a maltodextrin base and it ha dehydrated tea added to it real authentic green tea powder is supposed to be tea with no additive br br if you drink a lot of green tea you will be very disappointed with the stash product i strongly recommend you go with a japanese brand that contains tea only br br i tried to return it to amazon but they don t allow grocery item to be returned',\n",
              " 'what can i say i love iced tea i drink a lot of it and love the convenience of these new individual serving size packet i am also a big fan of stash product or rather of all the other stash product i have tried br i purchased a case of all variety when i say i drink iced tea i am not kidding and these were all way too weak when i mixed them in my ounce water bottle br i finally found that i needed to dissolve packet in a small bit of hot water first if not the tea clumped on me and than add a packet of sweetener before adding the rest of the water just to make these palatable br unfortunately by doing that to this flavor the ginger wa out of control and not in a good ginger tea sort of way br over all i am very dissatisfied with the product and will stick with the other brand that are out on the market',\n",
              " 'what can i say i love iced tea i drink a lot of it and love the convenience of these new individual serving size packet i am also a big fan of stash product or rather of all the other stash product i have tried br i purchased a case of all variety when i say i drink iced tea i am not kidding and these were all way too weak when i mixed them in my ounce water bottle br i finally found that i needed to dissolve packet in a small bit of hot water first if not the tea clumped on me and than add a packet of sweetener before adding the rest of the water just to make these palatable br over all i am very dissatisfied with the product and will stick with the other brand that are out on the market',\n",
              " 'i wanted desperately to love or even like this drink mix but am not having success doing so i love mint tea but this taste all green tea to me it s too strong a green and too weak a mint flavor for me to enjoy it every once in a while i ll try to tolerate a bottle again hoping i change my taste it s not gross and so clearly is appealing to some people',\n",
              " 'i wasted a little over because the review were so good br this ha no taste cold or hot it state to use oz of cold water br well i used just a cup and it didn t work out for me br i tried adding more packet and it helped but very little br i am an avid tea and coffee drinker and can only resolve br that the other reviewer have never had a good strong cup br of green tea or i am missing something here br i do not recommend this tea',\n",
              " 'what can i say i love iced tea i drink a lot of it and love the convenience of these new individual serving size packet i am also a big fan of stash product or rather of all the other stash product i have tried br i purchased a case of all variety when i say i drink iced tea i am not kidding and these were all way too weak when i mixed them in my ounce water bottle br i finally found that i needed to dissolve packet in a small bit of hot water first if not the tea clumped on me and than add the rest of the water just to make these palatable and only than were these passable br over all i am very dissatisfied with the product and will stick with the other brand that are out on the market',\n",
              " 'what can i say i love iced tea i drink a lot of it and love the convenience of these new individual serving size packet i am also a big fan of stash product or rather of all the other stash product i have tried br i purchased a case of all variety when i say i drink iced tea i am not kidding and these were all way too weak when i mixed them in my ounce water bottle br i finally found that i needed to dissolve packet in a small bit of hot water first if not the tea clumped on me and than add a packet of sweetener before adding the rest of the water just to make these palatable br over all i am very dissatisfied with the product and will stick with the other brand that are out on the market',\n",
              " 'this tea is the most awful stuff i ve ever put in my mouth it ha a chemical taste i tried adding sugar and it didn t help i enjoy the arizona pomegranate gree tea and would highly recomment it',\n",
              " 'the tea wa very weak and not that good now i have six box of tea i that no one in my family like',\n",
              " 'this iced tea is terrible this is the first stash product that i do not enjoy it is not iced tea it taste more like powdered peppermint leaf',\n",
              " 'the first ingredient in this mix before the tea is even listed is maltodextrin if you suffer from a corn allergy please do not forget to read the label unwittingly drink this i have no idea why there is more maltodextrin in this product than the main product the tea itself i realize this is not a review let alone a helpful review a i did not describe the taste of the product or even review the product i couldn t review this product if i wanted too i want people with a corn allergy to be advised of the ingredient in the tea i didn t know how else to inform folk about the ingredient except for on the page with review i could not give the product more star a it contains more maltodextrin than tea itself',\n",
              " 'i bought this tea a i like blueberry and stash is known a making good tea however when i first emptied the drink mix in the water the color wa an odd green not very appetizing once i mixed the powder with water the resulting tea had no real flavor i feel like i wasted my money and can t get a refund',\n",
              " 'i bought this flavor and the raspberry pom and while they are consistent it s useless br br if you plan on making a pitcher of tea forget it it take pack for oz and is still very very weak in flavor and it must be consumed in hour so they say so you re much better off brewing your own br br however if you re idea is to stash this in your purse for the lady or pocket for men which would be weird it s still miss the mark one packet doe very little for flavor with oz of water so you d have to use two and who drink just oz of water when out to eat or something of that nature also with only to packet in a box depends on flavor who know why that give you to oz drink for not sure it s worth it at all i d rather drink lemon water when out than this',\n",
              " 'if you plan on making a pitcher of tea forget it it take pack for oz and is still very very weak in flavor and it must be consumed in hour so they say so you re much better off brewing your own br br however if you re idea is to stash this in your purse for the lady or pocket for men which would be weird it s still miss the mark one packet doe very little for flavor with oz of water so you d have to use two and who drink just oz of water when out to eat or something of that nature also with only packet in a box that give you oz drink for not sure it s worth it at all i d rather drink lemon water when out than this',\n",
              " 'if you plan on making a pitcher of tea forget it it take pack for oz and is still very very weak and it must be consumed in hour so they say so you re much better off brewing your own br br however if you re idea is to stash this in your purse for the lady or pocket for men which would be weird it s just okay one packet doe little for flavor with oz of water so you d have to use two and who drink just oz of water when out to eat or something of that nature also with only packet the raspberry pom in a box that give you oz drink for not sure it s worth it at all i d rather drink lemon water when out than this equally a bland but free',\n",
              " 'this wa a big disappointment there wa no raspberry or pomegranate flavor to this the color is green and not very appealing to look at however it doe work a a great antioxidant',\n",
              " 'i wish i had read the product description better i didn t realize this wa sweetened i do not like the sweetened tea now i am stuck with order of them but the other green tea powder is great',\n",
              " 'when i saw the mint iced tea powder on the website i thought i would like it but when i received it and tried one i wa very disappointed it wa the green tea and not sweet at all the flavor wa nothing at all like an iced tea like i wa expecting i had to add sugar to it to get a flavor that i like to be similar to regular iced tea i don t even know if i ll be using the others i had received sorry about this but you did ask for my review on this',\n",
              " 'upon opening the sealed bag i wa struck by an unpleasant scent looking at the ingredient i saw in addition to the black tea and rosebud a natural flavor additive i believe this additive is the culprit to ruining what should have been a delightful bouquet to my nose then i brewed this tea and could still taste that additive but overall the tea wa tasty i hope the davidson family read our review because i am certain that if they would just refrain from adding the natural flavor i and others would find this tea to be superb and in keeping with the other tea i have come to enjoy from davidson s for example upon opening their darjeeling loose tea a well a their assam loose tea my nose is struck with a lovely bouquet this is what one want to experience from superb tea i will look forward to davidson s responding to my and other customer s suggestion re this nasty flavor additive i ve enjoyed tea with rose petal while in india and they did not put anything other than the tea and the dried rose petal',\n",
              " 'this tea wa horrible it tasted like potpourri i have really enjoyed other davidson s tea many also containing flower and thought to try something new i think the last ingredient is where thing went bad it wa natural flavor which must have been rose oil or something since my tea chemical taste and making a weaker tea did not help at all',\n",
              " 'when i ordered this tea i wa so excited because i thought i had finally found the equal to another brand s rose tea in individual bag i wa excited for the loose quality of the tea along with the anticipated light delicate taste i d hoped for br i wa sadly mistaken when i excitedly opened it i wa hit by a very sweet syrupy cotton candy like smell coming from the bag not a good scent then i thought the smell doesn t determine the taste so i steeped the recommended tablespoon for the amount of time indicated and then tried a taste the overpowering sweet smell gave wa to a bitter taste not at all reminiscent of my previous experience with rose tea unfortunately i had to pour the rest of mine out br i have a bag of hibiscus tea coming in the mail soon from this company i m really hoping it s better',\n",
              " 'we purchased from the original website flavored sugar all but the raspberry wa worth the money the rest had little or no flavor at all it wa expensive and not worth the money',\n",
              " 'i love the popcorn but the shipping cost are insane a total rip off wabash valley farm or amazon or whoever is charging the shipping is out of their mind star for the popcorn minus star for the terrible cost associated with shipping argh yes the popcorn is tender and luscious and it melt in your mouth like you re eating cooked grasshopper but come on can t you ship this product for less br br shipping the pound bag is even worse sigh too bad really',\n",
              " 'i purchased the baby white by accident we usually get the medium white which is great the baby is so small when popped that the taste and texture of the hull shell really overwhelm it',\n",
              " 'tasty small kernel popcorn however too small and too light to be popped in a hot air popcorn popper the kernel are blown out of the popper before they are popped',\n",
              " 'popcorn ha grear color white but taste is average and due to shipping costing more then product i would not buy again',\n",
              " 'this is terrible popcorn no taste poor popping ratio and the size omg i popped this gourmet popping corn in front of a party everyone busted out in laughter',\n",
              " 'do not spend your money on this product a you will find the popping ratio extremely poor one cup of popcorn will have cup of un poped old mades kernel left over which is unacceptable this is a non returnable item so if you buy this one you are just out of luck so i recommend staying away from this one',\n",
              " 'bought lb of this popcorn based on review that the hull are softer on this baby white than on regular popcorn not only are the hull just a tough a regular popcorn the corn pop up so tiny that it s about hull popped corn per kernel i wa hoping to use this a a healthy snack for my kid who love popcorn but not the hull br i popped this using every tip i could find on the internet all experiment still resulted in a tough hull',\n",
              " 'i am so surprised that they have this popcorn for sale i received bag the other day and the special popcorn pan from wabash valley farm amish country gourmet well the popped kernel are the size of a pea and with hull it burn very easily there are too many old maid due to the delicate nature of the kernel i ended up throwing most of the popped corn away i am so disappointed in this product i now have bag of this stuff i have nothing good to say about it but if you like tiny popped corn with lot of hull then this may be your product i am giving mine to the squirrel',\n",
              " 'the baby white popcorn ha lot of hull when popped very small kernel and scorched the bottom of my new whirley popper i ve had several popper and this is the first time one ha scorched and the first time i ve used the wabash corn shipping charge were very high for a relatively inexpensive corn',\n",
              " 'this popcorn ha alot of hull i order bag and can t stand to eat it it s so hully terrible',\n",
              " 'i ordered this because amazon recommended it to go along with the redenbacker popcorn popper i got from them hey only a few of these actually pop most of these small unpopped kernel get thrown out of the popper what an absolute waste of money',\n",
              " 'worst popcorn ive ever bought chewy not fluffy gave it to the bird for bird food postage wa outrageous just not a good experience all around wont be buying from them ever again',\n",
              " 'this baby white popcorn pop small and somewhat hard i have tried several batch with various adjustment of heat using a whirlypop popcorn popper unsatisfactory result i won t purchase this again',\n",
              " 'we loved this popcorn but come on shipping is way over the top we would settle next time for something we can buy but not spend time on shipping',\n",
              " 'i can only go a low a star on the review though i d like to rate it a this item still show in stock but clearly isn t which is why my order wa canceled from amazon today amazon suggested i search out the item again and in doing so i see that this same vendor state the item is available not so br br technically this review doe not relate to the quality of the product just the ability to be able to ship it good luck',\n",
              " 'i ve just prepared my first can of this soup it tasted incredibly bland and didn t have much clam flavor so then i added more milk butter onion salt and fresh ground pepper plus white wine for per oz can all of those ingredient should have been adequately added in there already except for the pepper bar harbor brand certainly didn t stint on the other ingredient in order to increase the amount of clam that s for sure there were larger piece of clam than in progresso s but that s damning with faint praise next time i ll buy the clam and make my own for less probably i m just perplexed by these review i think i can safely say progresso s taste better and of course it s much less expensive',\n",
              " 'i m a little perplexed by all the great review this wa the most bland chowder i ve ever had i prepared it with just milk and a little butter and it tasted like nothing added some salt and white pepper still nothing added some black pepper and provence herb now it taste like herbed potato soup br br on the plus side the clam were nice big chunk and the potato were tender the consistency wa pretty good too it just had no flavor not going to be buying this again certainly not when it s this expensive too',\n",
              " 'bit of clam not sure in water with something i assume is potato whose recipe is this save your money get something worth having how do so many like this it s awful if you prefer real clam chowder and not seawater with something floating in it do not buy this',\n",
              " 'my local store had the product lineon close out at cent a can so i bought a dozen can of different verity lobster soup wa very fishy for starter and the manhattan chowder wa very watered down the new england chowder is somehow creamy and void of flavor the clam corn chowder wa not enjoyable br br i am real soup eater and take soup at least once a day and always when i dine out long story short this is the most tasteless soup and just not good i suggest you pas on this and i am sure cambells will be a much better choice than these soup sorry i had leave an unfavorable review bit this soup is just not worth eating and cent a can i would never buy this again',\n",
              " 'i expected better from a premium maine chowder this is no better than say snow s which you can get for less than half the price not bad but not worth the money',\n",
              " 'we opened a can of bar harbor clam chowder and could not believe how few clam were in the chowder there were mostly potato',\n",
              " 'tried this yesterday a a treat on a cold rainy fall night it had an unpleasant grainy and somewhat watery texture the clam were actually sandy and gritty and the potato were kind of chalky for lack of a better term the flavor wa also very lacking it didn t really taste like well anything definitely not worth the price i can only imagine the people who wrote the good review either work for bar harbor or have never tried any other kind of clam chowder',\n",
              " 'one perfect box no rip tear or gouge inside the box badly dented can of chowder that looked like they fell out of an airplane every single can very disappointed should i return them all is the chowder any good wa this a joke i rate this star for the unblemished box',\n",
              " 'when i first started to use iams savory sauce my dog loved it after a few week they don t seem to care too much for it anymore they still get a little drizzle in their kibble every once in a while and will eventually eat it when they are hungry but they don t consider it to be a treat anymore i still buy it once in a blue moon when it is on sale because of it contains vitamin and it decently priced and low calorie one big negative i have noticed about it is that their face is getting dirty from it they are white dog and this product tends to cause increased tear and around the mouth stain i used to buy all different flavor of iams savory sauce buy my groomer told me the chicken flavor is best a the beef and pork based flavor can cause an even worse increase in face staining vitagravy is a similar product that contains more vitamin so if your must have some sort of gravy i recommend vitagravy a bit more or you can also just mix in some warm water with your dog food and let it sit for a bit before you feed it to your dog this creates a gravy like texture and aroma that most dog love not the greatest idea if your dog ha dental issue but a great free solution for picky eater',\n",
              " 'i ordered this pack of pound full leaf tea which looked like a great deal well br br st it s not lb of tea i received only br br nd it s not high quality full leaf tea but rather the ground tea leaf you d expect from lipton br br strangely enough i ordered the non decaf regular version and it arrived a full leaf tea and doesn t taste half bad if someone receives something different than i or rather if someone receives what wa advertised i d like to know about it maybe i ll try again',\n",
              " 'this wa the nd time that i ordered the smokehouse usa chicken stix the st order had usa printed right on the bag this one had a usa sticker over the china sticker in addition the product looked entirely different obviously i am concerned i pay more to ensure i am not feeding my fur kid product from china if it happens again i ll stop ordering all smokehouse product on line',\n",
              " 'this product doesn t have the greatest taste i like jamba coconut water but it s hard product to find i purchased this to try out and i m not liking it but it s tolerable when it s cold really cold reason why i gave it two star i tried the coconut water when it wa warm to see if it really taste bad like some of the review said and sure enough they were right',\n",
              " 'according to an article on cnn com on the nutritional content of this brand doe not live up to what is on the lable br researcher at consumerlab com tested the sodium potassium magnesium and sugar content of three leading brand of coconut water and they found that only one zico natural contained the stated amount for all four ingredient br br the sugar and potassium content in the other two brand vita coco and o n e also matched the label but the amount of sodium and magnesium two nutrient key to hydration were a much a and lower respectively than the listed amount',\n",
              " 'i bought this at a local gas station near my house and wa excited to try it because i see it everywhere it wa nasty i will never drink this crap again i don t care how good it is for you the taste is disgusting and i d rather just drink regular water blah',\n",
              " 'this stuff is pretty disgusting i don t care if madonna tom cruise or whatever celebrity invested in the company and carry a container of it around for photo opps it taste bad and a far a rehydrating better than water umm don t think so it might replenish potassium although unless you are participating in the olympics you probably are not going to risk a potassium deficiency from physical activity',\n",
              " 'i had hoped that this would taste like pina coladas but it doesn t it is rather nasty and left a film on my tongue i wanted something to drink after a work out or to give to my kid when we are traveling but it is to hard for me to swallow the reason i gave it star is because it is good in mixed drink i have been able to add it to smoothy and drink with alcohol if you are going to drink this straight it help if it is really cold almost frozen if you really like the taste of coconut milk you might like this because that is the only thing i can taste in it',\n",
              " 'the product description say pack of count but when you order you only get a box of twelve i did this week ago talked to amazon but they still haven t updated the product description',\n",
              " 'when i placed my order it wa for hartz pigskin pack with sweet potato center when i received the order it wa hartz pigskin pack but it wa all pigskin and this is not easy for my dog to chew i contacted the company and they were very nice about the hole thing a they refunded the money to my credit card and told me to take the pigskin pack to a local shelter or spca they were also very fast in sending out the original product they told me that they forgot to change the photo from sweet potato center to all wrapped pigskin and they would do that',\n",
              " 'i emailed customer service and asked if the treat were filled with sweet potato and they assured me that they d checked with the manufacturer and confirmed that they did in fact have a sweet potato center however the one i received did not and i feel like i wa lied to by customer service because they didn t want to take the time to actually check into it',\n",
              " 'if you love super dark rich bold and thick flavored coffee then this is the coffee for you with one problem personally i love coffee that embodies everything i just said i love esspresso and the like to find a k cup that is this bold even on the oz setting is great but there is that problem again br br it smell taste and leaf the after taste of burnt urine like someone torched a public restroom and mopped the floor with coffee then packaged it yum br br there are other dark bold k cup out there that have a better smell flavor and doe not have a nasty after taste you may not believe me and that is fine but get a sample pack before going for the you ll thank me later try the green mountain coffee extra bold sumatran reserve k cup better all around cup of coffee',\n",
              " 'i wa sorely disappointed in these cooky they are pretty tasteless and damn hard too i wouldn t buy them again and i ve certainly tasted much better low cal cooky i definitely recommend saving your money folk',\n",
              " 'chip ahoy cooky were not very tasty my child and husband would not eat them i tried to give them away and everyone refused',\n",
              " 'these thing are nothing like oreo you think wow oreo think again i would say spend your money on something better the hershey s or reese s crisp wafer bar come to mind my honest view on these thin crisp cooky is that they have a little more flavor than a communion wafer or milk bone',\n",
              " 'to be honest with you i got these at a store you think wow chocolate chip and oreo think again for those that think these are so good i would recommend the hershey s or reese s crisp wafer bar my honest view on these thin crisp cooky is that they have a little more flavor than a communion wafer or milk bone',\n",
              " 'these thing are low cal oreo s minus the creme minus the cookie the title oreo is basically a total misnomer these are nothing but black cracker with some sugar if that is what you want then click purchase',\n",
              " 'well when i bought this item i thought it would be a direct japan import it is taiwanese br it wa bought at costco and resold the price label wa still the product br br the product can be bought at costco for half the price if not less br br the expiration date wa not printed on the product which make me think it wa expired br i believe this a most of the mochi is dry and tough br br will shy away from this product',\n",
              " 'this come in a case of so i bought one can locally before ordering the large amount good move i have cat and none of them would eat it this review is for the mature gourmet beef entree haven t tried the other favor yet',\n",
              " 'i feed hill science diet to my pet because i love him and the vet tell me i should but in all honesty this product ha what is quite certainly the worst snap lock reseal that i have ever encountered it is painfully difficult to get it to close properly and even when it is resealed a best it can be there are still gap on the side that allow air in to oxidize the product br br packaging is important it is no better for your pet to live on stale oxidized food than it would be for you oxidized fat are also called rancid if you imagine how healthy a rancid diet is for a human well you get the idea this is about more than just inconvenience br br i am posting this review for all the hill science diet product with this kind of packaging if you have had the same experience a me with this product please take the time to let this company know about it br br i love my animal i want to keep feeding him what the vet tell me is good for him but this quite literally the worst reseal that i have ever had the misfortune to encounter br br theo',\n",
              " 'this review will make me sound really stupid but whatever i don t really care a long a people find out what s real and can avoid my mistake br br i got my wonderful little sweet bella bean when she wa a few day shy of three year old she had been bounced around from house to house and eating whatever wa cheap i have had cat around me my entire life for about twenty five year now my mother always just fed them whatever the kind of food you buy in the supermarket friskies nine life kit kaboodle stuff like that and our cat were always fine at least in term of their eating habit they would eat in the morning stop when they were done come back and eat some more when they got hungry br br my housemate at the time wa working for hill s and assured me that this wa the best food ever made so great so on and so forth i now know that she is an utter buffoon but i initially trusted her judgment which is so unfortunate because she doesn t think she also had plenty of coupon for free or deeply discounted bag which made it a much more attractive choice br br i first tried feeding the little bean an unmeasured amount of science diet in a bowl but that didn t work a she would devour it in one sitting so then i took to measuring it and she did the same thing then i started parsing it out to twice a day that didn t work either because she would start going crazy in the middle of the day running around intentionally destroying thing deliberately spilling her water cry etc until she got more food so then i split it into three serving same thing then it got to be four serving that wa a little better but it wa too much maintenance and unrealistic to be around every day to feed her four time so then it went back to three all the while i wa trying to reduce the amount of food i wa feeding her to less than of a cup because she wa a little chubby reducing wa hell she became even more hungry but i figured she would get used to it not really br br for over a year she would wake me up every morning looking for food in a serious way knocking thing off my desk ripping up any paper she could find scratching at the door and committing general act of mischief a soon a she got food she wa back to her sweet self but only for three or four hour br br we thought she wa bored we thought she wa a little nutty and maybe even had a kitty eating disorder she always wanted food it wa kind of funny but in the end it wa just sad br br a few week back we took her to a new good non money factory vet for her second checkup since i ve had her i talked with him about her being always hungry he asked what she ate and i told him the adult indoor science diet without saying a much he basically told me that this food is garbage and i should look for something else he said cat food should have a protein followed by a carbohydrate a the first two ingredient science diet doe in a very loose by product kind of way ground up slaughterhouse leftover and corn dust then they put a bunch of vitamin in it to make it healthy instead of just using good ingredient from the beginning not that i care about spending money on the bean but this food is way too expensive for what it is br br so we began transitioning her onto wellness indoor formula about two week ago she is still eating percent science diet with percent wellness you really shouldn t just give a cat different food one day out of the blue but she never freak out anymore it s amazing and it s percent because she is eating real food now along with that sawdust and chicken heart i still regrettable have to feed her we have her down to eating twice a day only cup in total she wa eating three time a day of a cup in total now she eats some in the morning walk away eats some more a few hour later and then look for dinner about twelve hour after her initial feeding no more knocking thing over no more trashing dad s paper on the desk no more howling no more deliberately spilled water on the floor it s incredible br br i feel so bad that i wa doing this to her for so long we really thought she wa just being dramatic or whatever but no she wa genuinely hungry because she wasn t eating any real food br br do your cat a favor buy her or him so food made with real ingredient thing you would eat wellness halo innova evo whatever figure it out for yourself but please don t feed your cat this it s garbage',\n",
              " 'we have five cat one an elderly cat of year the other four in the year range the oldest cat wa diagnosed a couple of month ago with the beginning stage of chronic kidney disease his number didn t warrant being on prescription food yet but we needed to start paying attention to thing like protein and phosphorus level in his food because we have five cat and some of them are nibbler eating four or five nugget at a time we decided to switch them all to an acceptable food for the oldest so we picked the active longevity because it specifically mentioned kidney support and calorie appropriate for less active older cat br br since we made the switch week ago all of the cat have gained weight this wa fine for the little old guy a he wa a bit underweight not good for the rest of them our other male went from a slightly chunky lb to an obese lb almost three pound in week the female gained between to pound each we noticed them making a lot more visit to the food bowl like they couldn t seem to get full we also saw a lessening of coat quality lot of shedding even though they are brushed regularly including with a furminator and one developed bad dandruff the stool developed a really bad odor although i do have to say nobody developed diarrhea which i am grateful for most worrisome wa that the lab result on the old guy came back with some of the kidney value of concern having worsened br br i am very disgusted with science diet they are actively fooling the public with the nutritional claim on the bag one of the site i researched on for chronic renal failure ha chart detailing the nutritional breakdown of most of the various food available if you compare the various science diet formula that have different health claim on them the nutritional value for the component listed are all within a tenth of a point or two basically from the nutritional analysis it appears that they are the same base formula with maybe a slight difference in a vitamin or additive with other brand such a innova or royal canin there appears to be an actual difference between the different formula br br now to deal with the weight gain a well a the other problem we noted we are switching food again this time we are trying royal canin indoor mature wish u luck',\n",
              " 'although this seems like a great product it is definitely not minced the can say it is minced but it isn t it is ground beef my cat only like minced not chunk not ground although she will eat ground cat food sometimes it ha to be inviting and delicious yet she just walk away from this br br i hate it when the packaging lie about the content of a product the shipping wa speedy and the value is great a long a they deliver what the promise now i am stuck with food my cat wont eat at all',\n",
              " 'we have five cat one an elderly cat of year the other four in the year range the oldest cat wa diagnosed a couple of month ago with the beginning stage of chronic kidney disease his number didn t warrant being on prescription food yet but we needed to start paying attention to thing like protein and phosphorus level in his food because we have five cat and some of them are nibbler eating four or five nugget at a time we decided to switch them all to an acceptable food for the oldest so we picked the active longevity because it specifically mentioned kidney support and calorie appropriate for less active older cat br br since we made the switch week ago all of the cat have gained weight this wa fine for the little old guy a he wa a bit underweight not good for the rest of them our other male went from a slightly chunky lb to an obese lb almost three pound in week the female gained between to pound each we noticed them making a lot more visit to the food bowl like they couldn t seem to get full we also saw a lessening of coat quality lot of shedding even though they are brushed regularly including with a furminator and one developed bad dandruff the stool developed a really bad odor although i do have to say nobody developed diarrhea which i am grateful for most worrisome wa that the lab result on the old guy came back with some of the kidney value of concern having worsened br br i am very disgusted with science diet they are actively fooling the public with the nutritional claim on the bag one of the site i researched on for chronic renal failure ha chart detailing the nutritional breakdown of most of the various food available if you compare the various science diet formula that have different health claim on them the nutritional value for the component listed are all within a tenth of a point or two basically from the nutritional analysis it appears that they are the same base formula with maybe a slight difference in a vitamin or additive with other brand such a innova or royal canin there appears to be an actual difference between the different formula br br now to deal with the weight gain a well a the other problem we noted we are switching food again this time we are trying royal canin indoor mature wish u luck',\n",
              " 'this review will make me sound really stupid but whatever i don t really care a long a people find out what s real and can avoid my mistake br br i got my wonderful little sweet bella bean when she wa a few day shy of three year old she had been bounced around from house to house and eating whatever wa cheap i have had cat around me my entire life for about twenty five year now my mother always just fed them whatever the kind of food you buy in the supermarket friskies nine life kit kaboodle stuff like that and our cat were always fine at least in term of their eating habit they would eat in the morning stop when they were done come back and eat some more when they got hungry br br my housemate at the time wa working for hill s and assured me that this wa the best food ever made so great so on and so forth i now know that she is an utter buffoon but i initially trusted her judgment which is so unfortunate because she doesn t think she also had plenty of coupon for free or deeply discounted bag which made it a much more attractive choice br br i first tried feeding the little bean an unmeasured amount of science diet in a bowl but that didn t work a she would devour it in one sitting so then i took to measuring it and she did the same thing then i started parsing it out to twice a day that didn t work either because she would start going crazy in the middle of the day running around intentionally destroying thing deliberately spilling her water cry etc until she got more food so then i split it into three serving same thing then it got to be four serving that wa a little better but it wa too much maintenance and unrealistic to be around every day to feed her four time so then it went back to three all the while i wa trying to reduce the amount of food i wa feeding her to less than of a cup because she wa a little chubby reducing wa hell she became even more hungry but i figured she would get used to it not really br br for over a year she would wake me up every morning looking for food in a serious way knocking thing off my desk ripping up any paper she could find scratching at the door and committing general act of mischief a soon a she got food she wa back to her sweet self but only for three or four hour br br we thought she wa bored we thought she wa a little nutty and maybe even had a kitty eating disorder she always wanted food it wa kind of funny but in the end it wa just sad br br a few week back we took her to a new good non money factory vet for her second checkup since i ve had her i talked with him about her being always hungry he asked what she ate and i told him the adult indoor science diet without saying a much he basically told me that this food is garbage and i should look for something else he said cat food should have a protein followed by a carbohydrate a the first two ingredient science diet doe in a very loose by product kind of way ground up slaughterhouse leftover and corn dust then they put a bunch of vitamin in it to make it healthy instead of just using good ingredient from the beginning not that i care about spending money on the bean but this food is way too expensive for what it is br br so we began transitioning her onto wellness indoor formula about two week ago she is still eating percent science diet with percent wellness you really shouldn t just give a cat different food one day out of the blue but she never freak out anymore it s amazing and it s percent because she is eating real food now along with that sawdust and chicken heart i still regrettable have to feed her we have her down to eating twice a day only cup in total she wa eating three time a day of a cup in total now she eats some in the morning walk away eats some more a few hour later and then look for dinner about twelve hour after her initial feeding no more knocking thing over no more trashing dad s paper on the desk no more howling no more deliberately spilled water on the floor it s incredible br br i feel so bad that i wa doing this to her for so long we really thought she wa just being dramatic or whatever but no she wa genuinely hungry because she wasn t eating any real food br br do your cat a favor buy her or him so food made with real ingredient thing you would eat wellness halo innova evo whatever figure it out for yourself but please don t feed your cat this it s garbage',\n",
              " 'i made the mistake of believing that science diet wa the best choice for my cat after the woman at the animal shelter mentioned it a the food they use after doing some research i realized that science diet is no better than any grocery store generic brand or iams i would not recommend any of these option br br the main ingredient are chicken by product and corn here are some interesting fact cat s can t digest corn in fact they are obligatory carnivore and only eat up until the point of reaching optimal nutrition when i fed my cat the science diet he ate all the time constantly after switching him over to castor and pollux indoor cat formula he eats much less now br br also by product mean just that beak feather toe nail clipping meat not suitable for human consumption dead animal etc totally not worth the it s cheaper just to dig in the trash and puree it yourself doesn t sound so appealing doe it science diet is notorious for implying superior quality product when they are in fact no better than all the other terrible pet food you find don t let your vet fool you either vet usually get a cut from hill s to sell you their cat food br br my recommendation is to use common sense and to do some research try brand like newman own or castor and pollux a they have wholesome ingredient and a proven track record br br i later called the shelter only to hear that they are required to feed the animal science diet a it is donated and they have a special arrangement with petsmart to house their animal in their in store adoption center a requirement is to exclusively feed science diet to the animal br br try this instead a href http www amazon com gp product b bcubz castor pollux ultramix indoor feline fomula dry cat food pound bag a',\n",
              " 'sent this a a gift and found out later that many item were stale they loved the thought though and loved the way it looked',\n",
              " 'i did not know anything about chutney until i went on a known recipe cite and found out that they mix the fruit with pepper and vinegar i thought chutney wa a different form of marmalade but i wa wrong',\n",
              " 'i received this box with great anticipation since they don t sell these on the west coast i got the package opened the box and wa extremely disappointed the cooky looked like a gorilla shook the box to death and left most of the box filled with crumb and there wa a rodent sized hole on the side of the box so needless to say i will not not be reordering these again',\n",
              " 'the shipping wa very fast but so wa the expiration date got it on feb expiration is april only week before it expires who can eat so much seaweed in such a short time i should have returned it but who want to go through all the trouble well i stuffed it all in the freezer and hope it will be still eatable that s what you get when you order food online i will not order it again',\n",
              " 'i wa disappointed when i received this shipment a the seaweed contains msg and it s not listed a an ingredient br amazon wa very gracious and refunded me the amount of purchase',\n",
              " 'my local walmart and target both have this ground or whole bean at a regular price of less than per oz bag it s way overpriced here br br it is an excellent coffee i m drinking it a i write this an interesting hint of woody creamy citrusy taste that s dark but without the burnt aftertaste that come with many dark roast',\n",
              " 'i made cupcake with the vanilla cake mix they were just ok they were dense but not overly so so that wasn t too bad the flavor however is where i wa disappointed the vanilla flavor wa so subtle that i missed it entirely and i felt like there needed to be a little more sweetness which probably would have also made them a bit more moist the child i made them for only ate a few bite',\n",
              " 'i tried vanilla cake mix and pizza crust mix and wa disappoined in both they had a medicinal bitter taste and even smelled strange i threw both item away',\n",
              " 'the chocolate cake is fantastic so i had reason to think that this would be a well not the case it wa very dense tasteless totally unlike the airy tasty chocolate br i want my money back or an even exchange for the chocolate cake mix',\n",
              " 'i wa expecting these cooky were going to be normal size but i wa wrong i wa planning on dipping them in chocolate but they r not those average size at all so disappointed i now have to go out n find the normal size cooky what a waste of money i also needed but of them were broken they do not put fragile on the box outside',\n",
              " 'reading in earlier review that these were genuine chinese fortune i served them with a chinese christmas dinner and wa greatly disappointed a were my guest three sample fortune are life is not a struggle it s a wiggle management is doing thing right leadership is doing the right thing if you re feeling down try throwing yourself into your work these are not fortune they are self help mini bite a fortune is your love of travel will soon be satisfied and it doesn t matter if they are predictive or not what matter is that they state a fortune beware the dog in the corner house would be fun to get life is a wiggle is boring br the cooky arrived on schedule a promised and in good condition in their individual wrapper all of that wa a i d hoped but content count in fortune cooky especially',\n",
              " 'if you want the best wild rice buy the regular kind this quick cook type is not near the taste quality of the regular minute cook time rice',\n",
              " 'i love these cooky they taste exactly like oreo but unfortunately every time i eat them cooky at a time i get horrible headache and migraine which i don t get from real oreo it obviously caused by some of the nutritious ingredient another thumb down they include vitamin k which should not be eaten by anyone on blood thinner or for anyone middle aged or older who overindulges in these cooky be warned vitamin k can cause blood clot br headache migraine sufferer beware of these cooky',\n",
              " 'we purchased this product and were greatly disappointed the product did not have the texture or the taste that it should have we contacted customer service and when they discovered that we were complaining they suddenly could not understand u and said customer service would contact u we never got a call back and could not get in touch with them again very expensive and no quality stay away from this company we lived in spain for year and know what this product should taste like and this wa not what it should have tasted like',\n",
              " 'i ve had many type of pepper jelly and this is by far the worst ever the price is high and the taste is not good the shipping wa outrageous more costly than the green pepper jelly don t waste you money',\n",
              " 'i m a big fan of hodgson mill product we love their bread mix i use their pancake mix i m not afraid of whole grain i mill my own grain wheat kamut rye barley and i even put milled flax seed in my home made yogurt i ve been a baker for year and love to try new recipe br br i had high expectation for this product but wa very disappointed by the result the box call for too much fat and the baked brownie have a distinctly oily feel in the mouth i can enjoy the grittiness and the chocolate flavor is fine but i would caution buyer against the result if following the instruction on the box br br one of the problem is that the coarse texture of the mix doe not allow the fat to be absorbed well br br i will go back to making whole wheat brownie from scratch a little bit of time required a little less convenient but brownie being a treat and comfort food the texture should be right',\n",
              " 'first off i love whole wheat product and flax seed so i hope we just got a bad batch and no it wasn t expired i checked the date but my mom and i just had some of these and we re not fan they had an oddly fishy grassy taste to it kind of like you might get with rancid flax oil tablet o o',\n",
              " 'i ve been buying these for nearly year and this is the fiirst time that my son ha refused to eat them they are darker green than usual which wa not a problem but the texture wa chewier and the flavor wasn t a good this is a problem since it s the only vegetable my son eats and he ha severe feeding issue the taste texture were so different he wa gagging not pleased with the change',\n",
              " 'even though this item is listed under the gluten free category it is not the ingredient state that it contains wheat protein do not order this if you need gf food bad reviewing by amazon',\n",
              " 'a short while ago my doctor looked me in the eye and said buddy you got acid reflux real bad my dentist said the same only he wa able to make his announcement a bit more colorful by showing worst case scenario picture of teeth on battery acid he put me off coffee for a week so with that double whammy in mind i ve lately been trying to cut back on acidic food hence my decision to go the low acid coffee route br br and like the headline say this coffee is a good news bad news situation br br first the good news puroast coffee doe in fact appear to be legitimately low acid i ve noticed a distinct reduction in acid reflux activity after drinking it br br now the bad news this coffee is kinda bad i should note this isn t the opinion of a coffee snob while i like a good cup of peet s coffee a much a the next guy i m a okay with a batch of folger s or the basic house brand of whatever chain store i happen to be shopping in i m usually just looking for a pleasant kick start in the morning at a price that isn t highway robbery br br ala for all of it low acidity and decent price this coffee ain t that pleasant kick start there s an unpleasant flavor to it that is rather hard to describe other than to say that puroast doesn t really taste like french roast coffee even doctored up with cinnamon and milk the unpleasant flavor remains br br so yes this coffee is effective if you absolutely need to have coffee but if you re looking for a pleasant low acid kick start to your day black tea might be a better tastier option',\n",
              " 'i drink cup a day of verona italian or french roast coffee and wanted to try a lower acid version this brand of coffee smell and taste like vinegar it is totally unpalatable and you are better off drinking water if the acid in coffee bother you',\n",
              " 'this coffee taste so nasty i can t even drink it it s disgusting i can t believe anything this bitter is acid free i actually threw away two bag',\n",
              " 'flavor may be something that ha to be given up with low acid coffee but i decided i d rather take massive dos of pepcid and drink regular coffee than subject my tongue to this awful swill',\n",
              " 'this coffee smell really bad there is definitely no delicious smell a it brew or a you take sip from your mug it taste just a awful too the first couple sip that i had with my nose closed so i couldn t smell it wasn t too bad but the more sip i took the more disgusting it wa it is absolutely stomach turning to me at least and unfortunately i will never drink the whole bag it taste like a weak poorly brewed cheap cup of coffee though not cheap the only positive note is that it did not irritate my bladder just irritated my nose and taste bud',\n",
              " 'i have made potato bread before with great result but this hodgson bread mix is way too dry it need some more moisture don t buy it unless you want really dry bread',\n",
              " 'white bread is not my thing so that s probably why i don t like this one i like herby white bread and really full bodied white bread but otherwise i always choose whole grain this one is not full bodied and ha no particular flavor not interesting at all to me',\n",
              " 'three of u tried it one of u wa barely able to drink it with ice i guess this is like evian an acquired taste unless you re able to try a single bottle before purchase i recommend you pas',\n",
              " 'i have a recurring shipment of this product each month every month when the box arrive they are barely in one piece and very mangled last month one of the case of water had to be repackaged before it arrived and it wa a day late br br i suggest using a more sturdy box for shipping br br the water product is fine it s just the shipping packaging i have a problem with',\n",
              " 'somehow my previous review got deleted i live in houston tx i buy lot of bottled water cannot tell any difference between a bottle of talking rain and a glass of cold tap water',\n",
              " 'yes the water appears clear but once the water is heated for tea it turn the tea cloudy why is that well it mean it ha impurity perhaps bacteria i m a registered nurse not a water expert but i can tell you that i am right about the water i can run my well water from my tap and get the same result it s awful i normally use brita filter with the pitcher provided and when i heat or even boil the water the tea stay clear this mean no bacteria have been killed off by the heating process it mean you d be better off drinking the brita water i gave this bottle water a chance i got a second case and the same thing happen i wouldn t drink this water straight from the bottle ever a a nurse i know it s not a good idea if you ever want to know if water is good or clear of bacteria impurity you can make lipton tea hot then a it cool down if the tea turn very cloudy it ha dead bacteria and other impurity i used the ice cube made from this bottled water a well so nothing is different except the tea tried the brita water and brita made ice cube and it remained clear sorry not a good review from me i am afraid br br i wa very disappointed a i thought yeah a bottled water i can carry to work so i am not force to pay for a bottle from the machine but it turn out not to be so br br okay so i tried another company on this website nestle which in my region came a deer park i have never tried this brand but it is so much better it doesn t t turn cloudy when i boil it so you be you own judge',\n",
              " 'do not buy this if your thinking it only mango ingredient say fruit juice blend organic white grape juice organic apple juice and organic pineapple juice from concentrate organic mango puree br br i cancelled order a soon a i realized this drink had grape and pineapple',\n",
              " 'consumer report rated these cracker the highest in inorganic arsenic of all the rice cracker on the market i like these cracker but will no longer eat them until the arsenic issue in brown rice is resolved',\n",
              " 'i ve been eating snow s clam chowder for year so i buy a few can when it s on sale well it look like bumble bee ha taken over what a big mistake when i opened the can it wa all watery and smelled funny i put it in a bowl to microwave and noticed how thin it wa but thought i d try it anyway it wa nasty to say the least it about made me sick so i went and opened another of the new can more of the same then i got an older can of the non bumble bee chowder and it wa great like always if i could give the new junk no star i would suck bad',\n",
              " 'look like and taste like chocolate colored water no chocolate flavor whatsoever this wa a complete disappointment i got the hot chocolate k cup from swiss miss instead how people can be giving this product four and five star is astounding to me is the amazon rating system being gamed for this product',\n",
              " 'i found this too sweet am hoping there s an unsweetened version available not very chocolatey too kinda like swiss miss',\n",
              " 'it ha artificial sweetener which not only taste bad to me but also give me a headache this should say light or diet to let the buyer know this i would have never bought it had i known it seems like it would taste good otherwise',\n",
              " 'i have to admit based on most of the review i wa sold on getting the pack wa a mistake all three flavor had a distinct taste of the sucralose that is the name of the artificial sweetner in the product if you like splenda you may like this but it ha a distinct taste unfortunately not for me a few friend of mine that tried it and said it wasn t bad unfortunately that wa the best of the comment br if you really want a good cup of hot chocolate try cafe escape or swiss miss both are twice a good in my opinion liked the escape best wish i liked the artificial sweetner but the that taste ha a distinct after taste probably would be better without the artificial stuff and more regular sugar if your going to order i would get the small pack to try it better then throwing out try cafe escape and swiss miss and see for yourself',\n",
              " 'when i bought my keurig brewer i eagerly looked for other beverage option for my wife who is not a coffee drinker i m still looking the grove square hot cocoa had a nasty aftertaste almost metallic no amount of cleaning tinkering with the brewer made any improvement i used the brewer to make hot water for a nestle hot cocoa pack and that wa a far superior beverage the grove square quickly found it s way to the trash i ll find quality mix and use the keurig to heat the water from now on',\n",
              " 'i wa hoping this wa a good idea however we tried them even after i heard they tasted bitter like artificial sweetner and it wa true not the same a the stuff from the can',\n",
              " 'so if you are a person who like swiss miss hot cocoa packet or hot cocoa from a gas station so do not get this product i can not taste any chocolate flavor in it whatsoever it just taste like heated sugar water and nasty sugar water at that this product ha a strong fake sugar taste and i am perfectly ok with diet soda and other fake sugar product there is something about this i just can not put a finger on it but it made my stomach curl i even waited for it to cool down but it got worse very disapointed in this product and it wa not what i wa expecting at all',\n",
              " 'all this is is artificially sweetened hot cocoa mix that is placed in a kcup delivery device what a waste of money also grove square product are notoriously inferior',\n",
              " 'very easy to use not the best flavor it ha too much sugar and is not a quality i thought i wa getting',\n",
              " 'a hot chocolate packet wa the first k cup on my new keurig it wa a m and i wasn t ready for coffee before bed i had read they ran a little watery but i decided to try it on the oz setting took a sip and tossed it the next morning i made one with oz and added some whipped cream the taste wa kind of grainy and it wa still pretty watery my husband made one to try at oz and said it tasted like sugar water i might try combining oz serving to use the box up but we won t be buying more',\n",
              " 'i really really dislike sucralose i don t like the taste the aftertaste or the after effect i bought this based on it not saying it wa diet or low calorie the first ingredient is sugar so it s only partially sweetened with sucralose sucralose is buried way down in the ingredient list but the taste is noticeable br br sure wish amazon contained the full nutrition and ingredient label from all food product',\n",
              " 'since i am willing to try alot of new thing i thought that i would buy this product and since i do like hot cocoa i bought box worst thing i could have done this is bland with very little flavour it also ha a grainy texture near the bottom of the mug br personally i will not buy this product again i will stay with swiss miss or another hot cocoa brand for the keurig k cup',\n",
              " 'this taste like it ha artificial sweetener in it and doesn t taste very chocolatey the name brand cocoa kkups are better or just dumping a regular cocoa packet in a cup and running the water through into it is better',\n",
              " 'just plain nasty this item tasted like cardboard very watered down and no flavor to it at all very disappointed',\n",
              " 'thin runny and the fake milk powder used to add creaminess ha an off flavor better off eating your ceramic mug',\n",
              " 'i don t expect great hot chocolate from a k cup but it should at least taste like there s some cocoa in it i can t believe how bad this stuff taste i tried it time and then threw the rest away',\n",
              " 'i wish i had listened to the other bad review the artificial sweetener taste is awful i gave two star only because my husband doesn t seem to mind i can t drink this even if they were a bargain',\n",
              " 'i looked forward to a delicious hot cocoa but wa very disappointed with the flavor it ha an awful aftertaste like the taste you get after drinking a bad diet soda also kind of weak even on the smallest cup setting',\n",
              " 'so bad i returned it my child didn t even like it and they are not difficult to please when it come to sweet drink or food',\n",
              " 'i bought this for my daughter and grandson they both tried it at different time and they both said it had a funny taste and did not drink it therefore i will not buy it again',\n",
              " 'the artificial sweetener ruined this for me it leaf the fake sugar taste in your mouth and my husband who drink diet soda even noticed at least it wasn t pricey',\n",
              " 'i tried to find the ingredient for this hot cocoa before i bought it but couldn t find anything online turn out it ha one of those mile long ingredient list and yet that didn t help the taste at all it is awful br br i had three box of the stuff sitting around for a month and couldn t find any taker i finally got rid it of it at the christmas white elephant gift exchange at work i put it with a nice cookbook which wa the real present and wrapped it real prettily unfortunately the bos ended up with it i haven t asked him if his family enjoyed it because i don t want to put him on the spot judging by the review there are a lot of people who like it hopefully he will too maybe it just depends on how your taste bud are trained mine grew up with hot chocolate made on the stove with milk cocoa and sugar and maybe a tiny pinch of salt compared to that this stuff taste like a chemical experiment br br anyway instead of trying one of the other brand i now heat some milk in the microwave stir in a couple spoonful of hershey s cocoa and some sugar to taste it take about three minute and it s delicious now where did i put those mini marshmallow',\n",
              " 'i just got a keurig a few week ago and wanted to get some hot chocolate for it a an alternative to coffee i didn t have super high expectation but these are absolutely awful there is a very strong plastic chemical taste to these k cup i tried all of them and tried putting some milk in them to help mask the chemical taste and nothing will help the only reason i gave these k cup star is because my boyfriend can tolerate them but i don t trust him because he ll eat just about anything in his opinion they are not that good but he will still drink the mug br br from what i ve read of other hot chocolate k cup you d be better off just buying a regular mix and doing it that way',\n",
              " 'well you get what you paid for while this milk chocolate k cup is pretty cheap per cent per count but it is not good it tasted like watered down chocolate a if you put in too much water and not enough milk or chocolate cacao for that matter this thing is sweet tho in fact kinda too sweet for my taste i am beginning to think half of the powdery content is sugar sweetener i thought it wa the amount of water that made it taste watered down so i lowered the cup size from ounce to ounce on my keurig brewer and it s the same thing',\n",
              " 'this is much too watery it taste very much like the tasteless hot cocoa one get out of a vending machine after receiving the box and reading the list of ingredient i ve decided not to order again this product if definitely not worth the money',\n",
              " 'with a href http www amazon com gp product b q xw green mountain hot cocoa a being perpetually out of stock in the winter i thought i d give the cheaper grove square brand a shot br br since the k cup patent are starting to sunset grove square is one of the first unofficial producer of we can t legally call these k cup but they work in your keurig r tm coffee maker pod and i thought that i d be getting the same overall quality without the licensing fee tacked on to the price br br well i wa right about grove square being cheaper but i think that s the nicest i can be br br a others have pointed out there s a definite diet or a href http www amazon com gp product b e lbxk splenda a aftertaste this hadn t been reviewed yet when i bought it so i didn t see the warning from others and re checked the ingredient several time to make sure br br well it s got calorie which seems a bit lower than green mountain but a bit high for something that diet conscious people would want and the ingredient list didn t seem to point to obvious diet sweetener br br the overall taste is kind of like someone dropped a sugar free tootsie roll in your hot water using the normal cup setting going one size down didn t seem to improve much beyond making a weak chocolate flavor sweeter but that just meant a heavier shot of low calorie sweetener to the taste bud br br the way i see it i saved about by going with this brand on the other hand now i ve got of these cup left that are probably going in the trash if i can t sucker someone er please my discerning guest with a few cup br br if you drink diet soft drink by choice you re probably going to like this',\n",
              " 'this taste terrible like putting aritficial sweetener in already sweet hot chocolate the best i have tried so far is swiss miss hot chocolate k cup don t think they are sold on amazon yet',\n",
              " 'had i known this cocoa wa sugar free i would not have purchased it i realize that this will not bother some people but i really don t like the aftertaste of fake sugar in the interest of fairness this did not seem to trouble my nephew just update the description',\n",
              " 'my whole family people tasted all flavor and they are sickly sweet very disappointed that product ha sucralose i wouldn t buy it again',\n",
              " 'using oz water a the direction state made the cocoa much too weak it wa like hot water with a few drop of chocolate syrup using oz made the cocoa much too sweet and still too weak in the chocolate department it us sucralose a a sweetener which give it a very intensely sweet flavor this may not be a problem for those who like very sweet thing or don t mind the taste of sucralose unfortunately i m not one of those people',\n",
              " 'can t tell you how this taste because i read the ingredient first but it ha trans fat in every flavor the seller should disclose all ingredient in the description i wouldn t have purchased this otherwise',\n",
              " 'i received my order of grove square hot cocoa mix today and wa very shocked to see that hydrogenated oil wa one of the ingredient in the mix i have avoided using any product that contains trans fat because of the negative effect on blood lipid level i would urge amazon to require an itemized list of ingredient for all food item listed for sale if the ingredient had been listed those of u who have concern about our health can avoid these product',\n",
              " 'this doe not taste like cocoa it is very weak no matter what cup size you use i is just not good',\n",
              " 'when i got my keurig i fell in love i bought a bunch of different sample pack and two box of the grove square hot cocoa i m a bit of a hot cocoa nut partially because i can t have caffeine and partially because it brings back wonderful memory of playing in the snow and the fun of warming up afterwards i really wanted to love this hot cocoa i tried all three flavor multiple time in different way i tried them on the different cup size adding thing etc there s just this strange taste to them that doesn t sit well on the tongue i m not sure what it is but it ha a faint ring of sour milk it really lingers and i haven t found anything that take the taste away i m going to give my second box to a friend she doesn t seem to notice it my daughter and husband both said it tasted weird so it s not just me i also took it to a friend s house and have tried them in three different keurig machine just to make sure mine didn t need to be descaled so i guess my suggestion is to try it before you go for the multiple box',\n",
              " 'i ordered this product because of a good price deal amazon shipped accordingly absolutely no problem there however the taste of this product wa horrendous it tasted a if someone through chemical in a cup and told me to brew it i personally will go back to buying swiss miss in a can and just using the keurig to give me hot water cheaper and much better tasting',\n",
              " 'this ha to be without a doubt the worst tasting hot chocolate ever the best way to describe the taste of this stuff is really cheap suger free instant hot chocolate swiss miss instant is way better and cost less after only cup threw the rest in the garbage where it belongs and canceled my subscribe and save for this slop',\n",
              " 'i guess there is a reason that the ingredient section on this page doesn t mention that the first ingredient is trans fat partially hydrogenated oil had i know i would not have purchased this consumer need to vote with their dollar and avoid buying item where the manufacturer is using cheap and unhealthy ingredient',\n",
              " 'please stay away from artificial sweetners br br some of them actually change the shape of human cell br br this ha an artificial sweetner',\n",
              " 'i ve been excitedly trying every type of k cup i can get my hand on since i got my keurig for christmas and until now have not encountered any that i truly hate until i discovered this one i would have though it pretty difficult to ruin hot chocolate but the people at grove square certainly did a good job not only wa the hot chocolate watery but it had a horrible plastic aftertaste also yuck',\n",
              " 'i ordered this specifically b c they said dark chocolate so i wa hoping for a rich chocolate flavor they taste very watery even using the lowest amount of water on the keurig the nutritional fact show that it only ha gram of sugar where the normal store bought powder ha gram i didn t like these at all if you re going for something low sugar they might be for you',\n",
              " 'i read all the review on every hot chocolate k cup on the market and decided to try this one first it not good even on the smallest cup setting it taste watered down and there is a distinct plasticy taste i think that this an inherent problem with all the k cup hot chocolate you just can t fit enough chocolate in the cup so that it doesn t taste watered down i m going to stick with making hot chocolate the old way',\n",
              " 'this hot chocolate is ok but not nearly a rich and smooth a the cafe escape product we tried it out because they were less expensive but once they are al gone we ll be going back to the cafe escape brand',\n",
              " 'i ordered the dark hot cocoa in hope it would be real chocolatey and it wa no better than buying a pouch of hot chocolate and adding it to hot water i actually think the pouch added to hot water is load better and a whole lot cheaper v e r y d i a p p o i n t e d for the price it s a rip off',\n",
              " 'the cocoa wasn t too bad the taste is ok and a good a other hot chocolate mix i wa disappointed though when i went to a local store and saw it for less than what i paid just for shipping i really thought i wa getting a good deal until i went home and checked the ticket i just paid three time a much for a box of hot chocolate to be delivered to my house so disapppointed',\n",
              " 'this product taste stale and is full of artificial ingredient br no real peppermint is in this product and to be honest it doesnt even taste like real cocoa is either',\n",
              " 'i can t believe i didn t check out the ingredient for this i never would have bought it if i would have known there wa artificial sweetener in it first cup though i got that weird after taste it give and that wa all she wrote if you don t have a problem with a chemical taste or concern about health problem you may like it not worth it to u',\n",
              " 'found my kid actually cutting open the pod and dumping them into a cup to add hot water too they complained that lot of the good stuff stay in the pod kind of defeat the purpose of the packaging so we switched back to packet',\n",
              " 'we prefer the swiss miss brand k cup this one wa watery in both milk and dark chocolate this is my least favorite of all k cup brand',\n",
              " 'nice price and glad to see a subscribe save option on k cup however this wa undrinkable in our opinion didn t seem to be too watery like another reviewer said just a bad off taste',\n",
              " 'thought i d try these because it s a good price but the chocolate flavor is not that good and the sucralose taste is very strong i like the swiss miss hot chocolate one better even though those have sucralose too you can t really taste it',\n",
              " 'i have never tasted such a poor excuse for a cocoa drink it ha such a bad aftertaste that i checked the box to see if i ordered sugarfree by mistake i will toss this and chalk it up to a loss but if you are reading this dont buy this brand it downright awful',\n",
              " 'we bought both brand to try and found this one with much less chocolate taste then cafe escape dark chocolate it wa also thinner in consistency won t buy again',\n",
              " 'we bought this to replace our cafe escape dark chocolate cocoa they are less expensive but you get what you pay for this cocoa is watery brown sugar water with an aftertaste i do not recommend it a href http www amazon com gp product b k q t grove square hot cocoa cup dark single serve cup for keurig k cup brewer count a',\n",
              " 'i love hot chocolate and wa very excited to find a variety pack however these are gross horrible after taste my kid dont even like them now i have box of the stuff that no one will drink very disapointed',\n",
              " 'i wa very excited to get some hot chocolate cup for my keurig and even happier there wa a variety pack i read the review and even there were some negative one i went with it anyways br i tried the milk chocolate it ha such a weird taste to it but i gave it the benefit of the doubt and tried another later that night same weird aftertaste i asked my husband to try it to make sure my taste bud weren t off he commented that it had a hot plastic y aftertaste to it not even worth drinking too bad i have more cup that will go to waste',\n",
              " 'a a hot chocolate lover i wa verrrrry disappointed when i tried this product i first had the peppermint disgusting and then tried the dark chocolate a little better the problem is that you can really taste the artifical sweetener i am a diet soda drinker so i don t have a problem with artifical sweetener it s just that the taste wa so strong in these hot chocolate that it overpowered the chocolate taste i definitely will not buy again i would not recommend these to anyone',\n",
              " 'i m an avid hot chocolate drinker and this is just doesn t measure up it reminds me of the sugar free swiss miss no matter what size you set your cup on it s just missing that cocoa flavor maybe the dark chocolate would be better i personally like the cafe escape milk chocolate better br br i bought a pack and then i wa able to find it at my local grocery store so i bought another one now i m stuck with the pack',\n",
              " 'taste nothing like how cocoa should taste i ll never touch this again i ll be trying the swiss miss cocoa maybe better luck',\n",
              " 'ingredient sugar glucose syrup solid coca processed with alkali partially hydrogenated vegetable oil may contain coconut soybean sunflower palm and or canola nonfat dry milk modified whey maltodextrin salt natural and artificial flavor cellulose gum sodium caseinate cornstarch lactose dipotassium phosphate sucralose mono and diglycerides silicon dioxide soy lecithin artificial color br contains milk and soy br br people please read label',\n",
              " 'there is a taste of sugar substitute the aftertaste turn me off i ve even tried using a little bit of milk in the mug before hand to hide the taste it didn t so i m just using swiss miss powder and a little milk to make it a creamier hot chocolate before using using my keurig',\n",
              " 'if anyone know of one that doe not have it please let me know it definitely isn t very strong but i coulod handle it if it didn t have the artificial sweetener aftertaste this ha artificial sweetener sucorse just like the other hot chocolate out there',\n",
              " 'i enjoyed these k cup when i used them they tasted pretty good however i quickly noticed that my keurig brewer began to have problem after i started using these and other grove square k cup even when i would brew other cup i would get half brewed cup of coffee smaller cup and other issue i cleaned the brewer following all the instruction and tip in the manual the issue came up again a soon a i used these k cup what i discovered is that the grove square k cup were gunking up my brewer badly i had to clean out every part of the brewer completely including the brewer basket area the water reservoir and the internal mechanism after completing the entire cleaning process two more time my brewer got back to normal i won t order any grove square product again',\n",
              " 'this hot chocolate taste like hot sugar water with a pinch of coco in it although even the sugary taste is weak and tainted by the flavor of the artificial sweetener sucralose the consistency is watery and bland this is when i made the oz cup a directed by the direction on the box br br i do not recommend this product',\n",
              " 'i thought the grove hot chocolate is to sweet it also ha an off taste i would not recommend this to anybody',\n",
              " 'i bought this to include in my daughter s party bag it worked so well with the circus theme that we had unfortunately the cracker jack were stale when i heard this the first time i thought no way can t be but then someone else told me the same thing and then i heard it again from someone else really disappointing i am so embarrassed',\n",
              " 'arrives postage due in a used friendly s box unfriendly don t you think worst service ever totally unfriendly aweful aweful aweful service',\n",
              " 'ordered this and most of the box were stale and stuck together br br checked the expiration date and it wasn t expired br br starting to think they just changed the expiration date and shipped everything that went bad',\n",
              " 'i don t know the deal is here but they are terrible i love cracker jack and not just cause there is a prize especially now that the prize are pointless compared to what you use to get br br these arrived and the first box i ate seemed very stale checked the date and wa not expired and the date wa a long way away so i figured maybe it wa that box but i m a few box in now and they are all the same it s like chewing on cardboard i event went to the local to get some to compare and those at were timex better br br since it wa so cheap to get them it s not worth the hassle to send them back so i think i ll just give them out for halloween',\n",
              " 'cracker jack were horrible stale not crunchy and tasted awful even though the expiration date on the package had not expired',\n",
              " 'becareful if you plan to use these more then two month after you order them they expire quick i can t use these i ordered them to use in my november wedding but they expire in march',\n",
              " 'original description and order said assorted chocolate what i got week later wa one pack of all white chocolate the least desirable not worth the bother of returning even with prime might be better just buying at local store same or cheaper price when you can see what you get',\n",
              " 'these look like typical sugar plum jelly but they are actually grape flavored you would assume that they would have a sugar plum flavor they taste like cheap kool aid and not the yummy jelly belly one i can t seem to find on amazon',\n",
              " 'they decided to ship both my order in one huge box of can instead of green bean in one box corn in another and i wa barely able to get this inside my house then every single can of green bean wa dented and can of corn were dented',\n",
              " 'the purchase and receipt of the box of chocolate wa very good and made my home in plenty of time for christmas the box wa opened the day after new year the cholocates were discolored and dry the box had expired two month before i made the order i made a complaint with amazon which wa resolved in a few day with full credit to my charge card this company wanted me to mail them back the chocolate which i had saved along with the wrapper they would not reply back to my inquiry a to who would pay for the shipping the chocolate back to the seller i still have the out of date and bad box of cholocate and will keep them for inspection for the next month or so then trash can',\n",
              " 'what more can i say barley edible crunch on sugar did come on time but have a feeling that they wanted this unloaded because it didn t sell or maybe bad batch doesn t make you sick or anything like that but you can actually find yourself crunching on sugar like you put a sugar cube in your mouth kid probably don t care hope this help',\n",
              " 'the box ha only pasta and dried up sauce no tuna br br if you can see the word in the spoon on the bottom right of the box it say just add tuna br br so the product is making a false claim shame on you annie',\n",
              " 'instead of a resealable tub with the jelly bean i received a cardboard box with a plastic bag full of jelly bean they were closed with a twist tie and there wa no labeling on the bag on the box there wa a typed label that said green apple jelly belly oz new there wa no ingredient list company logo allergen information or anything else you d expect to find on food package i certainly wouldn t eat food that arrived in a plastic bag with a twist tie i did ask that it be shipped next day so maybe they couldn t take the time to package it in the advertised tub amazon wa nice enough to give me a full refund which wa the only positive part of the experience',\n",
              " 'i wait for this cereal to go on sale before i buy it and the sale price is usually per ounce box the regular price is about br br for small box of less than one ounce each is cent per box nearly per ounce the sale price is cent per ounce the regular price is cent per ounce br br on the other hand this should make two rice krispie treat with one box starbucks sell rice krispie treat for a one of their lowest priced snack',\n",
              " 'i bought this for father day my father love dried fruit and nut br br it came in a somewhat cute crate box and each compartment wa in a plastic bag that mean that if you don t eat the nut in one sitting they will go stale a they are now sitting in the open same story for the fruit br br while all the bag were closed when my father opened them he found that the nut were stale and the fruit were hard chewy br br i recommend purchasing this if you need a centerpiece but not if you actually want to eat it',\n",
              " 'this is not a oz bag it is only oz each bag misleading product thought i wa buying oz bag not very happy should ve gone local for dollar per bag',\n",
              " 'i have to say that i really wanted to like these muffin but i could not they have a really bitter after taste whether this is attributable to the gluten free nature of the product i do not know the hodgson mill blueberry muffin mix is a far better choice on a positive note they do raise very nicely but it is unfortunate that i find them barely edible and have five more box of the mix left',\n",
              " 'i really wanted these to taste good but there is something in there that is very bitter i had to add too much sugar to make them even slightly palatable no one would eat them they looked delicious after baking and they re healthy but that s only if you manage to choke one down i have tried their gingerbread corn muffin mix and jalapeno cornbread mix and those are all great',\n",
              " 'this product come from a very good company that make a number of excellent gluten free a well a non gluten free baking product do not let the poor quality of this one product keep you from trying other product they make this mix is a classic example of a very poorly designed and likely untested gluten free product it lack enough sugar and moisture ingredient to make the finished product taste good and mix well a with many gluten free product new to the market you find yourself constantly adding something to try to make it right to these i had to add nearly a full cup of sugar to begin to dissipate the very bitter taste i added both applesauce and plain yogurt during different baking session to get a consistency that would feel and move like a muffin mix this mix take too much doctoring to be recommended at all until hodgson mill go back to the drawing board and fix this but hodgson mill doe have other good product try their blueberry muffin mix and hope that one day amazon will carry a wider array of their gluten free offering a many are very very good',\n",
              " 'these came out smaller than i expected but the taste a not a good a i thought it should be second time i added a couple of item which helped a little but it is hard to find a great tasting boxed muffin mix i thought it would save me time but i like my own muffin better my husband thought they were okay but not great',\n",
              " 'i have never prepared anything so disgusting the taste wa a mix of sour milk and cardboard the smell just a bad i had to take the trash out because the whole room wa beginning to smell i bake often so i know it s not a kitchen error and i m not that picky but i could not stop gagging i would recommend pamela s brownie add extra dark chocolate and they re delicious a brownie bite cooky side recipe on the bag i even make them super healthy and use c applesause instead of oil',\n",
              " 'i bought these at my local grocery store i wish i would have read the review on here first the positive is they do hold together well and look like a muffin the negative is they are so bitter i could barely finish my half i just recently found out i have celiac disease so i cant have gluten i have never tried a gluten free muffin mix before so i can not compare it to any others i have tried the betty crocker gluten free brownie mix and that is wonderful so i do believe there would be a good muffin mix out there',\n",
              " 'i wa really excited and surprised when i found this mix in my local wal mart given it wa a good price i figured id give it a shot before i whipped up a batch i figured id do a little investigating to see if there wa any input suggestion on the mix wow is everyone using the same mix or what review from it great to it horrible like a total split soooooo before i wasted a bunch of money on product to whip up a batch and see for myself i figured id simply open the packae up and take a taste to the mix all on it own ummmmm yeah it totally ha a pretty strong bitter after taste and like another reviewer i had figured this mix would be adequately sweet enough for me and not need any extra sweetener i dont like thing very sweet at all but it def not a i re read the ingredient i realized there isnt any sugar sweetener in this mix so youd def need to add sweetening but overall i dont even plan on taking this mix that far im pretty certain that adding sugar wont take that aftertaste away thats an issue with the flour mix and no amount of sugar is going to make that go away id strongly suggest avoiding this mix i hope the company work on this mix it ha good element to it i like the fact you can determine how sweet youd want it and the apple piece are pretty tasty and i think it could be really tasty',\n",
              " 'if i could i would give it zero star i am not a picky eater but this mix did not rise can you say hockey puck wa extremely bitter and not sweet even with the recommended amount of sweetener added save your money',\n",
              " 'i bought this because i have celiac disease and wa really craving some muffin i am not a health nut i just can t eat gluten with that said this is nasty it call for very little sugar i figure for the health nut so i simply added more sugar since it said to sweeten to taste even with extra sugar it leaf an extremely bitter taste in your mouth i would rather pas on muffin than ever taste something like this again on a positive note the muffin do stay together and look like muffin and if you try the product and dislike it you can mail in the bottom of the box and your purchase price for a refund',\n",
              " 'i concur with previous reviewer in that these muffin have such a bitter taste i also bake often and i m certain it wasn t me my gluten eating husband didn t like them either they were also dense br if you are looking for an apple cinnamon flavor and need a mix you might be better off using pamela s baking mix which is awesome and adding apple and cinnamon to it the muffin recipe is on the back of the pamela bag br in conclusion i don t recommend these they were really disappointing',\n",
              " 'i bought these graham stick based on their excellent review and having purchased earth s best organic vanilla cooky had high hope for a healthy snack to serve my kid needless to say i should have purchased one box at the grocery store first before committing to box through amazon which you are unable to return even unopened box since this is a food item the cracker smelled strange even before tasting them my year old turned up her nose and refused to eat them anymore after trying a few i wish i could describe the taste but it would be really hard it may sound strange for an organic food but it wa almost like a faint chemical smell at best i can say that they weren t anything like a regular graham cracker flavor even a an organic option they should have a better taste my year old did eat some of them without complaint so i am hoping she will tolerate them through box so i feel like i did not waste my money good price but definitely test one box first to see if you like them',\n",
              " 'i really didn t notice elmo on the package these are for kid more than adult nothing wrong with flavor but priced for kid that scream alot',\n",
              " 'these cup are artifically sweetened with sucralose i didn t realize until i tried one and ended up with a little bit of a headache which made me check the ingredient list it isn t noted on the front of the box they definitely have an artificial taste i would not buy them again',\n",
              " 'this hot cocoa is the nastiest tasting instant cocoa i ve ever had i know it s not going to taste like the real thing but after just three cup i can t bring myself to finishing the box i think i ll just throw them out our k cup machine is about a month old and the coffee flavor we ve tried are all fine so we wanted to try the cocoa the first try wa very watery so i thought the cup size need to be reduced this result in just a sweeter cup of hot water stick with coffee',\n",
              " 'these have an artificial sweetener aftertaste not pleasant i would not purchase them again this the first kcup hot chocolate i ve tried i ll keep looking',\n",
              " 'this product taste like muddy water maybe because it is out of date i don t know but i ll not buy this again',\n",
              " 'these were a little disappointing the hot chocolate is very watery and the flavor is a bit strange kind of plastic tasting haven t been able to find a good brand of hot chocolate for keurig',\n",
              " 'after trying several of these k cup we threw the rest of the box away it only ever created flavorless brown water we then tried the grove square dark chocolate cocoa k cup and were much happier',\n",
              " 'sure to be a hit with chalk a holics everywhere from first sip to last this product suggests it european heritage deep in the chalk mine of southern france br br some seem to be making a case for it only having calorie but the keurig chai latte only ha and that product actually taste pretty good br br i have yet to find a keurig compatible hot chocolate that stand up to plain old swiss miss scooped from a tub or a foil packet and swiss miss isn t that great to begin with although it sure is cheaper than this stuff br br i wonder if the size of the keurig capsule limit the amount of cocoa and powdered milk that can be put into a cup so what end up there ha to be strong and highly compromised',\n",
              " 'this one ha a major problem it s waaaay too watery even at the recommended setting the chocolate flavor is okay and it s not overly sweet although it still isn t great dark chocolate flavor the really issue is that there isn t any creaminess and adding milk only dilutes the flavor even more blech i ll pas and i m throwing the rest of the box out',\n",
              " 'just got a new keurig and immediately went on a search for br the best dark rich bold coffee caribou mahogany and other brand br with rich taste wolfgang is winning so far but really wanted to find br the best hot cocoa and got these first now trying to give them away br the are even worse than the packaged kind you get in the store actually br i think i ve found better instant one i hate to write a bad review but if br you want to find a delicious cocoa mix in the k cup get the grove station brand br here on amazon they are always sold out which duh i know why now a they are a far better br tasting brand but if br you put your email on a wait list they ll let you know when they come in and br you dont have to wait very long i d stock up though a you ll find you want a cup br or two every night and the dark milk and peppermint combined box is the bomb i just br sent a couple box out to a friend of mine who wa complaining about how bad the k cup hot br chocolate were she ll be thrilled to get my care package',\n",
              " 'gross i tried these thinking they would at least taste like the regular powdered mix the flavor is all fake sweetener odd since sucralose is the last ingredient and no dark chocolate i am bummed because now i have a box of these cup and don t want to drink them',\n",
              " 'my son would rather have no cookie than one of these cooky the taste is okay the texture is hard and weird even when microwaved short shelf life if you are buying in bulk not absolutely terrible but worse than average try pamela s chocolate chip cooky they are wonderful or try a baking mix',\n",
              " 'i wa looking for a good sweet and sour sauce for chicken and based on the review i took a chance well no one in the family like this stuff it taste nothing like sweet and sour sauce more like what it say it is chili sauce now i m stuck with two huge bottle sometimes reading the label is really all that matter',\n",
              " 'i went to check out and found out that the freight is on an canned not fresh produce ridiculous',\n",
              " 'although this coffee taste fine there is nowhere enough coffee in the pod the cup that is brewed even with a smaller amount of water is weak and watery',\n",
              " 'my husband didn t care for this coffee at all he complained it lacked flavor and aroma',\n",
              " 'to make a decent cup of coffee i have to use two pod at a time i prefer a strong cup of coffee even if it is decaf br what happened to senseo decaf',\n",
              " 'this coffee a href http www amazon com gp product b m y melitta one one java pod breakfast blend coffee count pod pack of a is terrible cheap bean bad roast whatever my lot actually taste like it is moldy maybe i just got a bad batch i have tried the buzzworthy dark roast melitta pod and they are drinkable even though i prefer medium roast coffee suggest you try one box of these not the box lot i m stuck with also to help you evaluate this response better you should know that i like quality roast kenya aa or sumatra or columbian supremo etc rich flavor type coffee i don t like folgers maxwell house pedestrian type blend but even those are way better than this coffee',\n",
              " 'i have a melitta one one machine and have been using juan valdez pod in it when i ran out i searched for pod for it only came up with these melitta brand one i figured incorrectly that the others weren t available purchased these very disappointing my coffee had been nice strong tasty but coffee made with these is weak tasteless i bought a box package of three different type am now stuck with them forget these head to juan valdez same price range unless you like weak coffee',\n",
              " 'i can get it at walmart for each or the gas station for for why just why',\n",
              " 'i m flabbergasted by the glowing review that truffle oil is receiving on amazon those of you espousing a desire to drizzle this stuff on your food might be sorely disappointed to learn that the truffle flavor in those tiny bottle of truffle oil are made in a laboratory there s not a molecule of actual truffle in them it s a sinful shame that s perpetuated despite being outed a few year ago in an enlightening new york time article called hocus pocus and a beaker of truffle read it and weep br br and if you see truffle oil advertised on the menu somewhere you might ask if they re using any other artificial flavoring in their dish',\n",
              " 'it s not real crispy stick to your teeth and lot of hull br br i know homemade popcorn ha a few more kernel hull than your store bought microwave but it s a little too much for me i wa really hopeful for this brand but it just didn t work out i tried a couple of different method popped using different temperature and also tried different oil it wa the same both time with no improvement it doesn t get better after it cool either nothing worked to improve it br br it doesn t taste old so i know it s not that i seal my popcorn kernel when i m not using them a well the flavor is really mild and it s definitely a good tasting popcorn it just doesn t turn out the way it should',\n",
              " 'tried these the other day because of the low price and regreted it from the moment the jar wa opened these sausage tasted like card board soaked in beef flavored vinegar im used to eating glazier s pickled sausage that snap when you bite them guess i will stick to what i like',\n",
              " 'the product wa advertizes a hot sausage s the lable on jar say s hot sausage but they not even warm the sausage s do have agood flavor but just pickled we have been serving these type of product at our vfw for year s so i know what i m talking about',\n",
              " 'while i gave it the benefit of the doubt confirmation wa ascertained on the second bite that it taste like vomit',\n",
              " 'i ordered this prouct along with others i bought all together to get the free shipping over what really happened is that each item shipped from a different location and i wa charged seperate shipping for each the shipping wa such that i could buy these product more cheaply at the corner drug store i feel i wa misled into overbuying and wa left feeling ripped off by amazon this is the experience i shared with my friend after this purchase i bought book from walmart on line for the first time',\n",
              " 'i love the product but the bottle design is terrible in order to get the last or so of the body wash out of the bottle in a timely manner you would normally store the bottle upside down with the pointy top that is impossible so you must stand in the shower the try to shake the remaining product the length of the bottle to squirt it out this take much more time that you ll want it to take redesign the bottle with a flat top please',\n",
              " 'i will never understand the soap from mainstream and sometimes otherwise great brand who claim to have a line of sensitive skin product which still contain sodium lauryl or laureth a in this case sulfate if you re someone who need sensitive skin product there s a more than decent chance that you also need stuff without sl boo refer to their bar soap which is wonderful',\n",
              " 'this product gave me a horrible rash it contains both soybean oil and fragrance which are allergen they need to list allergen',\n",
              " 'i don t enjoy giving product a bad review but i wa so disappointed i had to i ve tried quite a few tea and i ve been able to drink tea that others say taste like dirty dish water so i can get down some pretty harsh tea i usually don t use any type of sweetener either because i drink my tea right before bed i ve tried to give this tea a chance ive tried it with sugar honey and lemon and masking the flavor with vanilla and a little milk to me this tea smell like dirty foot and probably taste like them too i ve also tried straight chamomile tea before too so i know it s not that i would rather eat the plant itself than drink this tea i haven t tried any other twinings product so this review is strictly for this product',\n",
              " 'something to eat if you re starving but please give real food to hungry people br br what s in kellogg s corn flake milled corn sugar malt flavoring high fructose corn syrup salt yes of course it also ha lot of yummy preservative such a bht and a few synthetic vitamin and iron in minute quantity for nutrition you get basically carbs from lot of sugar and almost no protein add skim milk or you ll get saturated fat with a little protein from whole milk for added nutrition include a sliced banana and a capful of wheat germ br br if you like corn flake that is your business and you should enjoy them but this is not health food and it is a very poor value for more than cent an ounce per package at this price the inner package s failure to maintain freshness is an even bigger drawback when one think of how long it may take to finish ounce of this stuff why not use a vacuum sealed container like kretschmer s wheat germ to preserve freshness after all it s in the same price range br br so if you are hungry you are really eating the wrong stuff something to eat if you are starving but please give real food to other hungry people please',\n",
              " 'it saddens me to say i had to return this item the item s page specifically said the calamares were packed in olive oil however on the actual box the ingrediant showed it wa packed in another oil an unhealthy oil that wa the bad news the good news is amazon a usual wa gracious and professional in allowing me to return this item which is considered to be not returnable that is why i buy everything online from amazon com they are the best',\n",
              " 'these bag never close well so if you are a compulsive bag closer forget about it ah the taste you ask dry and dusted with it own carnation in powderized form snack creator branching out by offering traditional product in slightly different form result in me expressing negative comment via review and why oh why doe everything have to be miniaturized in order to appeal to rugrats and the type of people who have to proclaim their brood with stick figure ish sticker on the back of their vehicle please just go straight for the original chip ahoy in standard size pig out and forget about the kid for six minute',\n",
              " 'i did not know that i wa ordering biscuit crumb that is exactly what i received such a lousy product it s amazon s fault for shipping out expires product will never order food from amazon com ever',\n",
              " 'chip ahoy chewy oatmeal cooky are so moist that it is difficult to separate a single cookie from the package without it breaking into piece my tastebud say they are too sweet not cooked enough lack ample chocolate chip and oatmeal flake if you like cookie dough you most likely will enjoy these i ll stick with a crunchy less sweet cookie',\n",
              " 'when i eat junk food i d like to enjoy it the guilty pleasure it is br br these cooky are neither healthy or tasty stick to chewy chocolate chip cooky',\n",
              " 'taste pretty crappy it s like raw cooky br br it s not even like a cookie it s a squishy thing in a cookie shape',\n",
              " 'i purchased these thinking they would just be ordinary oatmeal raisin cooky wrong i like chocolate chip and i like oatmeal raisin but these combination cooky just don t work well together i wish i had read the item listing more carefully even my kid said blech',\n",
              " 'after eating tang s chocolate and double chocolate cooky all other cooky will taste like expired tepid dogfood to you her cooky will enhance your life in way you never dreamed possible tim horton s timothy s second cup starbucks treat and those horrid packaged cooky at zupas are just pathetic imitator to the grandeur that is a tang cookie her cooky are da bomb a hawt damn',\n",
              " 'overall i wa not happy with the crumbiness of these cooky they were way to fragile and crumby there is just too many crumb in my bed how am i supposed to sleep like this',\n",
              " 'i have been purchasing this product for about month the taste of the product is inconsistent from lot number to lot number i have gotten case where the chip had no flavor at all have contacted the manufacturer time have not received a response from my latest inquiry i don t recommend purchasing',\n",
              " 'i bought these because i had decided i wanted to eat and even snack healthier these had so many good review so i decided to try them i admit it wa a big mistake to order a whole stupid case without trying them first when i opened them they looked totally unappetizing and then i tasted them it tasted just like a rice cake styrofoam with salt on it they also have a very unusual texture the combination of taste and texture wa very disappointing my teenage daughter tried them and felt the same way not even the dog would eat them we tried them with a variety of dip and couldn t come up with a tolerable way to choke them down br br luckily i have a niece that is newly vegetarian hungry all the time and she took these off my hand i am still out for buying the case of these to begin with what a waste',\n",
              " 'the product that i received wa not the product that wa pictured and described on the item s page the worst part of it all wa that when i attempted to return the case of soy crisp i wa unable to do so amazon said that this wa a non refundable item so i wasted and i am stuck with a case of soy crisp that i will not eat',\n",
              " 'just plug and play with your preferred software no hassle worked great for about month then just stopped working didn t drop it it is made of a flimsy plastic and is light a a feather feel cheap it just stopped working when i buy a product i don t just want it to work great for three month totally dissapointed',\n",
              " 'owned two of these and when they work they are fine the power knob ha no indicator on it though my biggest problem and the reason i will never purchase another is this both gave out with in a year one now sound like i am recording from behind a wall and one developed a hum that will not go away do yourself a favor and find a more reliable option',\n",
              " 'great audio until a few month in it just decides to stop working common problem google it and you ll see cheapest construction of any product every designed in the entire world feel like a fast food toy br br i do not recommend this product piece o garbage',\n",
              " 'i will admit the icicle doe allow you to plug any mic with an xlr jack to your computer using a usb jack it doe indeed provide phantom power to condenser mics and it will deliver a signal to your recording software br br beyond that the usefulness depends on your mic and what you consider an acceptable recording level br br i tried this with an akg blue encore and an akg all deliver very nice sound when used in a conventional recording chain i could barely get an audible record level yelling into the encore my staple for location voice recording normally i plug the encore directly into a digital audio recorder with an xlr cable no mic preamp no phantom power no eq and i get a good clean clear sound level near the peak of input level br br this is one very disappointing product if you route your mic through a preamp then put the icicle between the preamp and the usb input of your computer you can get a decent record level but that extra equipment is what this light weight gadget is supposed to avoid personally i think you might be better off getting a decent channel strip or mic preamp and an xlr to to mini jack to go between the channel strip and your computer input and forget the icicle altogether br br blue make some great product but this is not one of their better one br br for those that don t know channel strip combine several piece of equipment into one box typically a mic preamp and a compressor higher end unit add some eq capability a well or have other option',\n",
              " 'this product wa awesome the first couple month i wa convinced i wa over any potential defective period well after caring for it well and giving it no reason not to work it of course stopped working for me i now can t use it for anything serious anything i record that is profound or important run the risk of cutting out half way without giving any warning leaving me with half a recording of audio and half with cricket there must be some crappy design inside the tube that prevents establishing a solid connection i m just happy it s not my blue microphone don t waste your money on the icicle it s productive ability ha an expiration',\n",
              " 'cheap a plastic tube with some presumably lightweight circuit inside never worked right no user interface no known way to engage or defeat the phantom power',\n",
              " 'i wa told by the salesman at guitar center that the icicle wa easy and very high quality it is perfectly easy but i have had nothing but problem from mine there is a constant popping in anything i record i am using an akg c b microphone i have had for a long time and it is in perfect condition so the problem is not with my mic anyone else having this problem haven t been in touch with tech support yet but i will say i am not happy with the icicle',\n",
              " 'i find that even with the gain on maximum the volume is not very loud i use it with a shure sm mic and my macbook using audacity one must be very close to the mike and speak somewhat loudly when i use the shure mics with a mixer the analog way there are no volume problem br br it is simple to set up being almost plug and play you have to choose the input source',\n",
              " 'the product wa simply not recognized by my window home premium computer very disappointed considering on the blue website it say that it is i gave this the extra star because im sure it a great product but the lack of communication of the compatibly wa very disappointing most likely wont be buying anything else from blue',\n",
              " 'i have several different way of connecting xlr microphone to my computer for use in webinars and i thought this design would be simpler to transport and connect but when i tried to use it with a shure sm mic the volume it produced wa about of what i am used to and wa not adequate for my purpose',\n",
              " 'i had this product for literally only a week and had only used it one time when trying to use it again i found that it wasn t sending the sound through when i plug it into my pc it recognizes it and the icicle light up and i select it a my recording device but then when i actually try to record it make no sound at all and i have tried moving the gain knob around so it s not that this wa a complete waste of money unless there s an easy fix that i m missing',\n",
              " 'this doe not work on window tried reinstating software and to no surprise it din t work this wa a waste of time and money be aware of this issue',\n",
              " 'i have been using a standard xlr to usb cable with my shure dynamic mic which work okay except for an annoying hissing noise that accompanies the majority of my vocal recording i bought the icicle in hope of eliminating those noise issue br br when i received the icicle i couldn t wait to plug it in and take it for a test drive unfortunately right off i got an error unable to load driver this is a plug and play device so there are no driver to download and i knew something wasn t right after restarts and uninstalling the usb hub and port numerous time a suggested by icicle s troubleshooting website it wa still a no go i went to icicle s website and logged a ticket explaining the issue in detail and that i wa running window the next day i received an email instructing me to send the icicle back a it ha a defective driver amazon wa great about sending a replacement while the return wa on it way br br so i received the replacement icicle today pulled it out of it packaging and with bated breath plugged it in hoping for success no such luck the same error message came up about the driver i decided to google my issue icicle compatibility with window and bam it took me to a guitar center review of the icicle that clearly show in the product specification that it is not compatible with window br br amazon need to get on the ball and add this to their information it is nowhere in amazon s description and the icicle tech themselves didn t have a clue about it either i found this inadequacy with the blue mic technical team to be unacceptable they probably have non technical csrs pretending to be tech for all their troubleshooting that s one way to save a dime but please people if you re going to give u technical support then say so if it isn t really technical support then say it is customer service br br i am terribly disappointed that this device ha not been upgraded to accommodate the newer technology window ha been out for some time now there is no indication in the little mini booklet that come in the icicle package that say window is incompatible it only give set up info for mac and window doe not show which o i am sending my icicle back to amazon for a refund and will need to look for something that will work with window br br if you have a pc that wa purchased in or later save yourself the hassle and don t bother with this product a your o will more than likely be window',\n",
              " 'picked one up to use with a laptop running window home premium the computer saw the item but said it needed troubleshooting nothing worked after researching online i found that many people had run into this problem apparently the firmware is not compatible with window it s supposedly been corrected in newer run but there s no way to tell if the one you re purchasing is newer or not i tried contacting blue twice hoping to get a firmware update or check into exchanging it but never got a response from both attempt so i finally just had to return it',\n",
              " 'i ll add to the growing list of review here regarding the window usb audio device error i figured i had a chance of it working it didn t window insists on loading a usb driver that doesn t work there is a review here giving detail on how to possibly circumvent this loading process however that did not work for me it easier to return this thing than spend my whole weekend jerking around in window hardware manager br br blue probably ha a good product here and probably blame window for this issue however blue should provide a driver that work don t rely on window to do this that is corporate laziness spend some resource on programming something that work for window make it available on your support website and make it true plug and play not plug and cross finger then spend hour messing around in the weed of window setting br br also agree with other review here in the day i spent with this product it s all plastic part feel cheap and fragile and the gain button is poorly thought out br br hey blue you had my business then you lost me i m moving on to something else',\n",
              " 'purchased and it came looking new a i had bought it new but it wa actually damaged br customer service with the actual company is awful a i needed to contact the company itself to return it',\n",
              " 'used it a couple of time over the course of a month and it worked great third time high pitched noise and no mic signal coming through not too surprising given how flimsy this thing feel this is apparently a known issue just look at other star review of this product nuff said',\n",
              " 'i wanted to like this product a it would have been a fast and easy solution for many of my need but it didn t work well at all very noisy lot of hissing and pop that are completely absent when using the same mics and computer with other adapter device considering the decent review by others i may just have a defective unit either way it s going back in the mail today',\n",
              " 'i bought this before i purchased the mxl micmate it is plastic and very cheaply made i felt like it would break very easily and would not be something that would last me a while so then i bought the micmate it is solid metal and is way better sound quality than this i beg you to buy that over the icicle buy the mxl used like new from themintmovieman a great seller and it is a great product a href http www amazon com gp product b vz wc mxl micmatec xlr to usb preamp for condenser microphone a',\n",
              " 'i used the icicle for about two hour after taking a break i plug it in and my laptop wont recognize it i did everything i could think of to fix this even hour of searching google nothing in the process of a return it would ve been perfect if it just worked',\n",
              " 'it work reasonably well with condenser microphone with dynamic the hum exceeds the signal work with window not with linux the build is very cheap anything more than for this is too much',\n",
              " 'i ordered this item on march nd i expect to get it replacement from the people at blue sometime today so what s a month anyway the first one that came from amazon had a constant high pitched tone i emailed then called blue and eventually spoke to a pleasant tech support guy who wa aware of the problem he allowed that the company had shipped out a number of unit with this defect that s always good to hear so several email later i received a return merchandise authorization and shipped it right back to them who know if this one work maybe i ll like it blue s product look good but they make a strong case for buying locally',\n",
              " 'been gluten free for year now thought we were done with mix that tasted awful we threw it away because we did not like it for my money you can t beat pamela s baking mix but the betty crocker chocolate chip are the best so don t give up betty crocker just work on this one',\n",
              " 'i wa hoping bisquick got it right when they released this product but they missed their mark br br i made both biscuit and dumpling chicken dumpling the biscuit came out okay but the flavor wa bland the dumpling were fluffy but not very flavorful and turned hard after a day or two',\n",
              " 'i love pancake so giving up gluten wa hard for me i ve used bisquick for pancake for year with great result ala the best i got from the gluten free version wa edible but not enjoyable it tasted a lot like pillow foam not in a good way i will probably keep the mix for breading thing but not for pancake i ve found much better option',\n",
              " 'overall this mix is okay but the sugar content is very very high you can actually see the sugar in the mix if you look closely for pancake or waffle this is fine but for savory concoction this is not acceptable sausage ball casserole and biscuit all come out almost inedible this mix is also oddly gritty the grit is very fine but still make my teeth want to curl i recommend pamela s baking and pancake mix a it is smoother and much more versatile because it s not a sweet a good cook know you can always add more of something but you can t take it out if you ve added too much br br that being said if you re traveling and this is the only mix they have it s better than nothing',\n",
              " 'i wa so excited to get this and try it unfortunately i m not impressed br br for starter the value is terrible you get cup of mix per box that s enough to make batch of pancake and batch of biscuit or batch of pancake whatever for almost a box that s not worth it to me especially when the end result is mediocre at best for the biscuit i made cheddar biscuit and not even the bread loving toddler would eat them the pancake were okay if i used twice a much real maple syrup a i normally do br br the pro s br the biscuit did puff up nicely that s the only pro i have',\n",
              " 'second ingredient is sugar need i say more make your own bisquit mix it s super easy',\n",
              " 'i made pancake and biscuit with this mix and found them to be mediocre at best i really tried to like this product but the taste is just so far off for me i wanted a break from making thing from scratch but this just wa not worth it',\n",
              " 'i ran out of pamela s mix and bought this in a regular grocery store because it wa all they had i followed the pancake recipe on the back a a person with celiac who ha tried many thing i knew when i saw the fine crystalline mix it wasn t going to be good the batter is pasty looking the pancake were too dense and slightly off the end product wa pretty bland you will be much better off with pamela s mix pamela s can be served to a gluten eater i cannot say the same for this product',\n",
              " 'the rice flour in it is a crude gritty grade cheap if you ve ever used thai rice flour a href http www amazon com gp product b eyc thai rice flour oz a you know that rice flour doe not need to be this unpleasantly gritty br br i tried compensating for the grit by using bisquick gluten free to make johnny cake since the cornmeal is sort of gritty but sadly after you chew you are still left with this unpleasant grit like fine sand in your mouth',\n",
              " 'i made the waffle and wa not impressed br definitely not worth the expense br br it s only redeeming quality wa that i seasoned it to bread oven fried pork chop br i would rather have saved my money and made up a flour mix from scratch',\n",
              " 'thought i had died and gone to heaven when i made the bisquit recipe i wa wrong went to indigestion hell i had serious hope for this product i truley loved the mix but it didn t love me i haven t had indigestion since i gave up gluten until i ate a bisquit from this mix best luck on getting it right bisquick',\n",
              " 'i will first say that i have only tried making pancake with gf bisquick my family s experience with these pancake however wa very disappointing and i will not be trying any other recipe i have tried betty crocker s gf brownie and loved them so when i decided to spend a little extra and try gf bisquick i wa greatly let down by the result we couldn t even finish them we just threw them out if you can tolerate tree nut and milk product i recommend trying pamela s pancake mix otherwise if you are looking for great gf pancake look elsewhere gf bisquick is not worth it in our opinion',\n",
              " 'my personal preference is to stay clear of this i did not like the smell or taste i wa attempting to make pizza crust for the first time on my second attempt it came out better but i did not like the taste of it if i at least liked the taste i would buy again and make my crust very thin',\n",
              " 'i bought these for pancake and i haven t used it to make any other recipe so i cannot speak for how it make biscuit or any other item but for pancake it s a no go they have a hint of pancake flavor with lot of butter syrup but i don t like smoothering my pancake in fattening syrup so these pancake are not for me moving on to other mix',\n",
              " 'when i saw the ingredient on this box i knew it would be a disappointment it would be much better and pretty easy just to make your own mix also there are plenty of other quality mix out there like pamela s and bob s red mill this will be a huge disappointment to you so don t waste your money',\n",
              " 'reading other review i wa excited to try this mix since it appeared to be gluten free dairy free technically the dry mix is gf df but the basic pancake recipe call for egg and milk technically i can use my own egg and milk substitute but then i could already do this with so many other mix i ve found that mix that request egg and or milk really are better with the original not substitute the best gf df mix already include a substitute so the direction only require water and or oil or other non dairy ingredient in this case i will return to my old favorite mix by the craving place these are truely targeted for a gf df lifestyle that said if you are not df then perhaps this is a fine choice it would have been better to have a print picture of the back of the package to more clearly see that this is not a great df option',\n",
              " 'these pancake are gross they are pale and do not taste like pancake i bought these based on the review because the maple grove farm pancake were out of stock that week i expected a lot more from bisquick i mean when these pancake are fully cooked they look like pale wafer of cream of wheat if you leave them in a little longer to get some color they just get hard and taste worse i hate wasting food so i forced myself to finish the box but i dont think i ll buy these again even if my other one are out of stock the only reason i gave these star is because they are gluten free other than that they re awful i m so glad i ve got my maple grove back this week and that these are out of my pantry',\n",
              " 'wa awful the sight of this in my pan made me sick smell like potato duh potato starch would not brown my child laughed the entire time a i complained because i wa so hungry and thought i could have a late night pancake session totally not the case yes i am a gf newbie i tossed the box',\n",
              " 'pure toxic garbage eat poison if you want to toxic metal go ahead and buy this junk and feed yourself poison look at all the high rating apparently people love eating toxic metal not harmful would you eat sodium mercury phosphate enjoy your metal',\n",
              " 'a great idea that fall short bisquick gluten free still us an aluminum based baking powder that is toxic to human aluminum lodge in our body and ha been found in quantity unacceptable in autistic individual the company refuse to respond to customer inquiry concerning this i cannot give this to my family until the baking powder formula ha been changed',\n",
              " 'i actually wa delighted to find this product and my family and i loved the recipe made with it however it ha sugar a the nd ingredient and worse it ha aluminum in it why would i intentionally feed my family something neuro toxic when i am trying to avoid gluten to keep healthy i sure wish those company who jump on the gf bandwagon would keep health in the equation my kid bowel movement are gluten free too but i wouldn t serve it to them for breakfast just sayin',\n",
              " 'i am thorougly disgusted with betty crocker for this product gluten free bisquick which is a shame because i do applaud them for their excellent cake cookie and brownie mix br br i m not upset with them for for coming out with a gluten free baking mix but for br br marketing it a though it s an equivalent to bisquick and br for pricing it so ridiculously high br br ingredient for regular bisquick enriched flour partiallly hydrogenated soybean and or cottonseed oil leavening dextrose salt br br ingredient for gluten free bisquick rice flour sugar leavening baking soda sodium aluminum phosphate monocalcium phosphate modified potato starch salt xanthan gum br br notice anything missing from the ingredient of gluten free bisquick yup that s right there s no shortening or oil br br that wa the whole point of the original bisquick a baking mix that already had the shortening mixed in that avoids the longest and messiest step of baking thing like biscuit that is why people buy baking mix for that specific convenience br br betty crocker ha decided to leave out the shortening or oil altogether even though shortening or oil is always naturally gluten free so they can t pretend it s a safety for celiacs factor it s a cost saving to them pure and simple br br here s the breakdown of what you re paying a pound for br rice flour cent a pound at my local asian store br sugar for a pound bag at walmart br potato starch also cent a pound at the asian store br baking powder a pound at emergency essential br salt for ounce of morton s br xanthan gum for ounce on amazon br br yes xanthan gum is expensive but very very little is needed a ounce box of gluten free bisquick would contain about a teaspoon of xanthan gum maybe cent worth of xanthan gum br br betty crocker is charging over time what it would cost you to make their mix at home while eliminating the major convenience factor and cost to themselves but not to you of their regular baking mix br br i don t mind their making a fair profit especially if the product really were the equivalent of regular bisquick but they re gouging u and being misleading about the product br br make your own easily and for less than of what they charge br br since there s no oil in gluten free bisquick you can easily stir up an equivalent make pound or more at a time with very little effort and it will keep for several month br br or if you want a real bisquick substitute betterbatter org ha a recipe on the site for a cup for cup substitute for bisquick that doe use shortening and non fat dry milk powder or you can use buttermilk powder or even vance s dairy free powder it make cup at a time store well and you don t have to use their gluten free flour you can use any gluten free flour replacement you want like rice flour and potato starch from your local asian store mixed with an appropriate amount of xanthan gum about teaspoon for every two cup br br to find the recipe do a google search of betterbatter bisquick substitute master mix br br boo on betty crocker',\n",
              " 'i regularly purchase this item in the bulk and loved it because it wa also dairy free br however my last purchase wa disappointing after opening a brand new package i noticed a black thing in the mix carefully removed to find out it wa a dead flour beetle i sifted the mix and found more dead bug br br this is the second time i writing this review amazon didn t publish my first review thank you amazon br i will not be purchasing this item again',\n",
              " 'i have been gluten free since and this is i think the worst tasting gf mix i have come across i have found all to have their own pro and con but this one have very little to brag about i appreciate the effort anyone put into a gf product but i couldn t buy this one again it wa like eating reconstituted potato that lookes like pancake no butter or gravy just dehydrated spud the only real good thing to speak of wa the texture it wa light and moist but i would have to seriously alter the recipe to add flavor',\n",
              " 'now if you could just make it sugar free also i know i don t want for much a href http www amazon com gp product b dk bisquick pancake and baking mix gluten free ounce box pack of a',\n",
              " 'i read lot of good review and loved the idea of the convenience of this mix for pancake and waffle so i whipped up some pancake breakfast for dinner style i m newly diagnosed celiac and thus new to gf so perhaps i should let a little more time go by on just a diet of naturally gluten free food before i start trying substitute food for the wheat food i used to love but i swear i cried a little bit when i ate these pancake because i thought they sucked frankly they are completely bland and have no flavor at all and the texture wa reminiscent of wallpaper paste i don t know if that s gluten free but if so it s probably cheaper to just put some syrup on that and eat it after letting the batter stand minute to thicken up a bit it wa more like kindergarten paste but still totally flavorless my year old daughter gobbled them up so that s something then i cried a litle bit more thinking about the fact that i guess i ll never get to teach her how to make a real delicious fluffy wheat pancake but that s a whole other thing br br i m giving it star just because it is useful for breading oven baked chicken but you could do that more economically with another gf flour',\n",
              " 'the pricing is quite a bit higher than in the grocery store it is not available in all store but i have found it conveniently enough for my purpose',\n",
              " 'i am giving this two star a my family didnt mind the taste but the texture wa so grainy and the biscuts fell apart easily i wa not a fan of the pancake at all i believe they really didnt have a good flavor will not be wasting my money on such a tiny package either when you can but a bigger package of regular mix for less not fair to u with allergy in my opinion',\n",
              " 'going gluten free is not optional for those diagnosed with celiac disease but eating a pizza made with a dough created with this product is optional and definitely not recommended i knew something wa amiss when i opened the product and it wa the consistency of very fine white beach sand putting my reservation aside i proceeded to make pizza dough a directed on the box needless to say the pizza dough wa chewy and tasted very strange i would not recommmend this product for pizza dough',\n",
              " 'bisquick gf is easy to use pancake and muffin are very br tasty the product is quick and easy to use it make my day gram',\n",
              " 'these stick definitely don t look like one in the picture br they are much thinner and imho not worth the money i should have returned it but instead gave my dog gsd at a time to keep her busy br br i d stick with the redbarn or equivalent from another website',\n",
              " 'i just received my order of count regular bully stick and am extremely disappointed br only valuepetsupplies bulk bully stick are hand measured for consistent thickness i beg to differ br the regular size is quoted a thickness the product i received is less than in thickness br out of piece less than five actually measured up to the regular thickness advertised br my blue heeler dispatched one piece in less than a minute it usually take him five minute br br on the other hand my toy fox terrier is still working on hers and won t leave leftover for the big guy to clean up br while i understand that valuepetsupplies com sponsor good cause i will be spending an extra cent per piece and get a much more substantial treat',\n",
              " 'i ordered these despite my concern after reading other review re small diameter size absolutely true and i regret making the purchase for the same price i briefly ordered from a different amazon vendor the same and length bully stick for the same price difference original vendor bully stick were on average thick this vendor bully stick are at most thick with most closer to br br what difference doe it make br br our dog a slender lb mixed boxer chow would take day to get through a bully stick and would get hour and hour of good gnawing time in on each one these new thin one she completely consumes in less than min that make a huge difference in how fast we go through the bag br br will not order again from this supplier',\n",
              " 'apparently regular size thinner than standard sized pencil my chihuahua finish these in a matter of minute when it normally take them day to consume a thicker bully stick',\n",
              " 'the ghastly horror of these pickle is enough to strip the mind of reason they are brown mushy and flavored with spice that bring to mind the morgue and the taxidermist on top of that each and every pickled chunk is sweetened with a full tablespoon of pure cane sugar br br no living human being could consume more than one without selling his immortal soul',\n",
              " 'i have used this mix for year for yellow pound cake and everyone seems to love it i m still able to purchase the oz at my local grocery i wa going to order this product but saw that it wa oz and wa afraid it wouldn t go with the old duncan hines pound cake recipe hope these company realize the damage they are doing to time proven recipe when they downsize their product',\n",
              " 'in the past i wa able to make so many different cake using this cake mix i made rum cake today thinking i had done something wrong when the first one didn t turn out a usual i now realize i didn t do anything wrong duncan hines did something wrong by reducing the size of their product i would gladly have paid more for the larger mix now i will never buy another dunkin hines mix how dumb do you think we are',\n",
              " 'duncan hines used to be my favorite line of cake mix i bought them all of the time but now they like betty crocker have downsized their package of cake mix these new mix will not work with older recipe that called for the ounce size of cake mix that rule out a lot of our favorite cake even a plain cake will be changed it won t bake up a high or a big in the pan duncan hines just lost me a a customer br br pillsbury ha not reduced their cake mix size at least not yet i will be buying them if they shrink in size i will bake from scratch',\n",
              " 'while i think this product is good i m disappointed that they reduced the weight of the product from oz to oz ha anyone else noticed how difficult it is to read the type used for the weight the look very much like an same size box less product hmmmm',\n",
              " 'i have bought duncan hines yellow cake mix in the past and have made a favorite recipe with it in the past it had ounce pillsbury and betty crocker have the required ounce i bought duncan hines at safeway because it wa less expensive than the other brand and after i got home i discovered why i will not buy duncan hines again unless they go back to the ounce or go to ounce for consumer beware and read the number of ounce in the product',\n",
              " 'maybe i got a bad one it s very plain nothing special in flavor i felt like i wasted my time and money i will not buy this flavor again',\n",
              " 'i made one for my daughter s birthday party and everyone but her died of uranium poisoning still tasted pretty good though',\n",
              " 'the food and drug administration fda is again cautioning consumer that chicken jerky product for dog also sold a chicken tender strip or treat may be associated with illness in dog in the last month fda ha seen an increase in the number of complaint it received of dog illness associated with consumption of chicken jerky product imported from china these complaint have been reported to fda by dog owner and veterinarian',\n",
              " 'be advised you will only receive one box they are less than in the local grocery store will not purchase again',\n",
              " 'this product wa absolutely horrible each and every bar wa obviously old because it wa stale smelled awful and had to be thrown out shame one you for even trying to sell such a product',\n",
              " 'four of the eleven glass vial arrived broken the product is apparently not able to be returned so i just wasted dollar',\n",
              " 'one of the vial wa broken when we received this product but you can t return the product or get a refund what a rip off',\n",
              " 'while the flavor and quality of this chili is great the ounce can is mostly liquid the number of serving is listed a but the reality is that it will only serve about unless you add more of your own ingredient a the first reviewer indicated i won t be purchasing this again',\n",
              " 'b u r n e d br br i read the other two review and didn t heed their warning that s on me br br they are usable but they were certainly burned',\n",
              " 'i can t believe i wasted almost on this they were burned they were inedible it wa so nasty and they took forever to arrive br you should take this product off of your product list worst product i ve ever ordered',\n",
              " 'i purchased box a gift at per box i spent over and none could be used every piece wa broken and could not be used for the seder sending a gift that is broken and can t be used is very embarrassing also the return window is april th which is ridiculous since the matzo wa for the first seder which wa on april th at night',\n",
              " 'this is the first time we bought this tea from amazon we used to get it directly from revolution tea i don t know if that made any difference or if it wa just a change in the tea s composition along with the packaging but what used to be my wife s favorite tea now ha a metallic smell and aftertaste with much less of a pomegranate flavor and now a strong almost cheap generic green tea flavor really disappointing especially since we re stuck with six box',\n",
              " 'trader joe s pomegranate white tea is superior to this tea this is very bitter and perfumey maybe thats what you get when you brew whole leaf and stem i found it repulsive',\n",
              " 'some reviewer say the coffee is bitter i like bitter but i didn t like this it wasn t a good bitter taste it wa a cringe kind of taste br br i drink one of the strongest coffee s out there and this wa too much for me the strange taste of it turned me off br i once owned a coffee pot by melitta too and it took a cone shaped special filter i wasn t impressed with that either br br maybe i m just not big on arabica coffee or whatever it is but the taste wa unpleasant to me not smooth bitter yes but not smooth br br it smell ok i agree with charlie another amazon reviewer who said the package wa difficult to open it wa sealed extremely tight and when you did eventually get it open the bag tore apart br br no way would i spend buck for this if i wa addicted to it possibly but even then that s steep and i surely won t buy this in the future br br you can go down to the local name of popular coffee shop here and get bag for this price of freshly ground coffee br br melitta make it sound like it s the greatest thing since sliced bread on their package gourmet swiss water process from europe s charming sidewalk cafe s top quality hand picked bean br br if you want to pay this kind of money and like melitta coffee then get it but i don t think it s anything special',\n",
              " 'the initial aroma upon opening the package wa decent though subtle unfortunately it quickly dissipated i really couldn t smell anything after a minute which i assume is due to it being pre ground br br i brewed this coffee in a french press a well a in a drip brewer both result tasted flat and boring although there wa a decent amount of body at least it wa inoffensive perhaps a notch up from bad diner coffee for about the same price you could get better tasting fresher bean from a cafe or natural food store',\n",
              " 'i ve read lot of other review deeming this tea a coffee tasting or with roasted flavor but to be very truthful it taste just the way i could imagine second hand smoke would it s very very strong requires minute to steep and is not for the faint hearted i ve heard wonderful review related to weight loss regarding this product but i wa not able to tolerate the taste long enough to actually see any weight loss benefit good luck to those who care to brave this roasted flavor',\n",
              " 'this wa the worst tasting tea actually the worst tasting anything that i have ever consumed i took one sip and could not bring myself to finish the cup it tasted like dirt which make sense since it is a root the rest of the tea bag are going in the trash',\n",
              " 'first let me state that i brew most of my tea in a gaiwan hence i use loose leaf tea br br white tea is one of my favorite so i m always on the lookout for a nicely priced bai mudan br br a much a i love bai hao yinzhen i just cannot afford to drink it exclusively due to the volume of white tea i drink br br i thought this wa a pretty good price and when i opened it up it didn t look too bad either much to my surprise after taking the first layer off the top i transfer my tea to good tea tin it wa nearly all powder dust with hardly any intact leaf this is extremely problematic if you don t use any filter or screen like me i don t mind when some tea leaf get in my tea and it is pretty much normal if you don t pour through a screen however this wa so broken up that it wa just unworkable br br i have only opened one bag at this point so there is a chance that it wa just that bag or possibly even a bad batch but at this point i most likely won t be ordering it again br br that being said the whole leaf that were there on the top looked fine it doe have a bit of a green tea taste v some other high quality white tea i am used to however it isn t bad or anything definitely drinkable on a regular basis if the bag wasn t mostly powder br br i took a couple pic so i will post them keep in mind this came in two pouch i poured into tin and that is where i took the picture the product doe not actually come in tin',\n",
              " 'i also bought two of these a gift and will be returning them for the same reason a some of the others unacceptable packaging unless you have already tried the product there is nothing about this that make you want to try it i assumed big mistake that there would be some kind of packaging but there wa not this is really sad too because the product is great',\n",
              " 'i purchased this a a present but it doesn t come a shown in the picture it is little white bag with the flavor written on them someone receiving it a a gift wouldn t even know what it wa unless i explained it to them will be returning',\n",
              " 'i bought this for a christmas gift but i will be returning there is no box or packaging a pictured it is just white baggies containing the mix which would be fine if i wa just buying for myself but not for a gift',\n",
              " 'the ener g english muffin that i received from amazon were not of the same quality when i buy them directly from the distributor in seattle they crumbled and had dense place that were not really edible also there were only in the pack instead of i had to cancel my recurring order',\n",
              " 'the ener g food english muffin look good in the packaging but something in them make them mushy on the bottom this present a gooy feel in the mouth and both my husband and i got stomach ache won t be buying this again',\n",
              " 'these english muffin are okay at best they are very hard to cut and break apart easily making it hard to toast they definitely have to have something like jelly or peanut butter spread on them otherwise do not taste the best',\n",
              " 'if you are looking for english muffin go to the grocery store and buy them these do not even resemble english muffin and are tasteless however if you are on a restricted diet wheat flour soy dairy gluten etc these might be for you check the list of ingredient i didn t care for them at all',\n",
              " 'i tried these for a substitute for a sandwich roll i couldn t cut them without falling apart i ended up toasting them in piece more like chunk and with enough cream cheese they were only ok tapioca hamburger roll are the only product i would recommend',\n",
              " 'these are not the greatest thought they would be great to have on hand when guest come not so they were not what i had expected',\n",
              " 'come on amazon give me a break powdered tofu get in some real food and i ll buy more from you i went looking for table sugar you ve got weird kind of sugar that you expect me to buy in bulk but no just plain sugar i m not eatin any more of this rice and tofu bread either br br sorry i just had to rant',\n",
              " 'do not buy review online look like another treat made in china with multiple report of suspected poisoning please only buy treat made in the usa',\n",
              " 'don t you know that sugar is the sand of time since the ingredient of kavli crispy thin were listed on amazon and the time i received my order sugar wa added to this product you are going to get in trouble mister',\n",
              " 'this tea ha no flavor taste like dust it look like quality pretty package but it s no good lipton regular pekoe is farrr superior',\n",
              " 'kobe beef come from a specific prefecture in japan and is illegal to import in to the united state in fact it ha been illegal to import since in any form this is just overpriced regular american beef',\n",
              " 'good but not my favorite newman s own organic adult dog food formula pound bag i now buy my dog taste of the wild salmon just great stuff buy it on amazon the less filler the better not meal for my doggy',\n",
              " 'this food might have great content but my lb yr old poodle doesn t like the taste she s not a picky eater',\n",
              " 'based on the great review from everyone about their picky dog loving it and always eating it i figured my picky dog would enjoy it a well the price for the amount is also very good considering it is all organic but sadly my dog hate it she smell it and walk away and when i try to hide the food she find her way to eat around this food i wont be buying it again but i really wished my dog enjoyed it so i could continue to support this brand',\n",
              " 'i expected newman s own dog food to be great it may be very nutritious but my little terrier told me we are not eating this stuff period no way after day they sniffed their bowl and walked away so i ordered another organic dog food natural balance organic and it came today so half old half new by the book and they picked out the new stuff and left the newman s in the bowl go figure just thought some of you might like to know i am switching them from iams to something much healthier and i finally think i have a match but it s not newman s',\n",
              " 'if you are looking for an actual organic dog food newman s own is not the way to go i accidently purchased this thinking it wa what it claimed on the front package only to read the ingredient list to find out that basically everything else but the chicken wa organic with all of the drug and hormone fed to conventionally raised food animal this ingredient is the most important one that should be organic',\n",
              " 'i cringed a little after reading the ingredient list way too much grain and not enough quality protein for our dog notice all of them are at the beginning which mean they make up quite a bit of the diet soy protein is included but some dog don t do well with soy mine and meat should be the protein source in dog food not grain br not recommended for your furry one',\n",
              " 'i purchased two bag of this dogfood after one week of feeding the newman brand my dog started vomiting after eating she had gas all the time and lied around whimpering due to stomach ache after having her checked for a stomach disorder i took her off the newman dogfood and the symptom disappeared br i have sent three email to newman dogfood website no reply or acknowledgement phone number not available the dogfood is expensive and the customer service is non existent',\n",
              " 'i feed my dog royal canine brand which i typically have to mix with chicken stick or wet canned food for her to eat i thought this stuff would be more flavorful and easy to serve upon opening i could tell i made a mistake smell like cardboard my dog won t eat it no matter how i dress it up much less could i get her to eat it plain plus it ha none of the science behind it like higher end brand like royal canine the newman brand is spreading itself too thin here they should stick with pasta sauce',\n",
              " 'i had to pick up a grocery store brand after running out of our regular innova dog food i fed this to my lb dog for a week and could not believe the amount of waste this brand produced he wa going up to time a day unbelievable this just go to show how much filler is in this food would never recommend',\n",
              " 'this food is organic sure however look at the ingredient top includes chicken meal never feed your pet anything with chicken meal or chicken by product it s a cheap substitute and really is bad for the dog i suggest a brand like evo blue buffalo ect no ingredient should be meal or by product',\n",
              " 'i have dog and all were sick on this food one actually almost died it had to be ressucitated after i spent on vet s bill i decided to call the fda to analize this food they found ethoxyquin on it a pesticide i just want to make sure if someone out there ha the same problem that it must be known i m still not happy about this incident i decided not to pursue it any longer but i still feel people should know these organic company can t get away misleading people if everyone exposed them then this would be a better world think about it br br a href http www amazon com gp product b yqmb g newman s own organic chicken rice advanced dry pound a',\n",
              " 'chicken meal br not legally allowed in human food br br subject to only the less stringent animal food safety standard br may contain d chicken product br diseased chicken br chicken that were dying prior to butchering br chicken that were dead prior to butchering br disabled chicken may carry more infection br rendered br may contain waste product br restaurant waste br meat processing facility waste br packinghouse waste br not subject to testing for quality standard or nutrient level may vary widely from batch to batch',\n",
              " 'the number one ingredient is chicken not organic chicken just the hormone pumped junk you wouldn t eat yourself i will stick to natural balance which is sold here on amazon a well',\n",
              " 'i will never again even consider a dog food with corn wheat or soy in it grain ha no place in a dog s diet',\n",
              " 'i have to say in the beginning i have not tried this food it had me sold i said oh boy it made by paul newman it ha to be good this should not be catarized organic it deceitful it should be advertized a partially organic then you wont be upset that the most important thing you want to be organic the meat is not who care if your veggie r organic well yeh it help def but they dont normally raise veggie with antibiotic etc etc br so if organic is what ur looking for walk up the aisle to castor and pollux organix dog food every single ingrediant is o r g a n i c br shame on you the company of one of my fav actor im truly surprised he let this be under the review of organic',\n",
              " 'we have been using newman s organic dry dog food for over year it wa a godsend when we discovered it our little jack had such severe allergy she wa tormented day and night with unrelieved itching after trying endless other avenue to find relief for her we were to the point we thought we might have to have her put down for her to find relief then the idea came up that maybe she had chemical sensitivity so we decided to go organic all her deal miraculously cleared up once we started the newman s however after giving glowing review for many year we now have to concede something ha changed our little jack s itching returned to the point of drawing blood it is clear something changed and i believe it clearly is no longer a organic a it once wa we are on the hunt again i am not saying it doe not have good quality ingredient but if you have a dog that is highly chemical sensitive this likely is not for you too bad it once wa a superior product',\n",
              " 'we ve been feeding this food to our wheaten terrier for a year with happy result until last tuesday when my latest subscribe and save bag wa opened my dog started throwing up during the night after eating from this new bag on the first night i figured she d eaten something bad off the street on the second night i figured it wa the lingering effect of eating something bad off the street on the third night i started looking for other cause for the nighttime retching and i realized that the vomiting had started on the same day a we d started the new bag i stopped feeding the dog the newman s own and the vomiting stopped for night last night i fed her the food again and sure enough she threw up in the night br br i trusted and liked this food and all thing under the newman s own brand but i ll never buy their product again they clearly have a dangerous quality control problem',\n",
              " 'both of my dog had trouble with this formula allergy wise it took me a couple of day to realize that their itching wa related to the food needless to say i won t buy this product again',\n",
              " 'when one purchase a product that is called newman s organic one would expect organic food not just the vegetable which are much less expensive to be organic than the meat or chicken i wa very very disappointed to find out that the chicken is not organic for a couple of dollar more just buy real organic dog food this dog food isn t exactly cheap so you expect that they will provide what they are advertising this whole greenwashing thing need to be regulated better if someone us the word organic in their description it better be organic otherwise the consumer is being deceived which is unfortunate newman ha a great reputation i buy a lot of their product but this wa intentionally deceptive and it make me reconsider buying anything from them in the future br br on the positive side my dog loved it she would lick the bowl around the room for minute after the last morsel wa consumed i have no idea what they put in it that tasted so good it s like the crack cocaine of dog food she ha never been a finicky eater she ll pretty much eat anything voraciously but this stuff really rocked her epicurean world too bad she isn t getting any more of it',\n",
              " 'a other viewer have pointed out this dog food contains pesticide and grain among other questionable ingredient the experience with this brand ha been disappointing i appreciate newman s own brand but i no longer trust them with dog food and have questioned some other product from them br br i have since switched to blue buffalo a they seem to have the best reputation br br stacey s review sold me on it br br dog food ha changed alot over the past few year a pet owner were willing to spend more money feeding their pet larger corporation bought out the smaller dog food company and changed the ingredient without notifying the customer this wa particularly true of the more expensive brand that contained the higher quality ingredient real meat and rice were substituted with meat by product and cheap imported grain particularly corn that were determined to be unfit for human consumption they are taking ingredient that used to be considered waste and packaging it up a healthy nutritious food for your beloved pet our once healthy pet are contracting debilitating disease and dying because of the toxic waste material that are currently being marketed a pet food br br blue buffalo is one of the few remaining company that at least to my knowledge ha not sold out yet the food really is nutritious and still contains real meat with no by product filler corn or soy we switched our dog over this past summer after having lost one to an autopsy toxicology verified case of aflatoxin poisoning from the healthy nutritious dog food we were buying and feeding him this wa not cheap food folk this wa a well known brand highly marketed a natural that we were paying bag for the fda analysis of this food verified that it contained toxin but nothing wa done to the dog food manufacturer they are still producing their high priced waste and heavily marketing it a natural br br my advice to pet owner read the ingredient label thoroughly and often blue buffalo a great product that you can still feed your pet with confidence because it doesn t contain any cheap filler it s more satisfying to your dog so you don t need to feed a much of it thus making it still relatively economical don t wait until it s too late for your beloved pet',\n",
              " 'the chicken is not organic it is the main ingredient this is not organic dog food it is marketing lie to fool you into thinking you are paying more for quality ingredient when you are not getting organic chicken',\n",
              " 'i bought a big pack of this gum the flavor kiwi watermelon is ok but it didn t last long i found i would usually pop a new piece in my mouth after about minute to get another shot of flavor i wouldn t really recommend this gum it s not horrible but not that great either',\n",
              " 'this gum is the worst i have ever purchased plain and simple within two second of chewing taste gone',\n",
              " 'i ve never had an allergic reaction to any food or anything else in my life but within second of starting to chew a piece of this gum my throat began to burn and my airway became constricted that s strange because i ve been chewing spearmint and peppermint ice cube for a while now with no reaction i tasted another piece from another pack we get this stuff free at the dining facility here in iraq and again my throat started burning so if you have a history of food allergy you might not want to try this flavor',\n",
              " 'are you kidding me i buy this all day long at popular wholesale club for under no more then at reqular store watch these price guy',\n",
              " 'i absolutely love this stuff but i pay to for a pack in the grocery store why is this price so high',\n",
              " 'you can get these sooooooooooooo much cheaper at wholesale club br br i get the oz yes oz for or it actually even cheaper then buying the bottle from the regular store',\n",
              " 'i hated this coffee i m much more of a starbucks or peet s loyalist so maybe i m a bit spoiled but after reading many positive review of this company i decided to give it a try big mistake i had a hard time giving it away it definitely taste like chicory blagk bad news',\n",
              " 'i bought this dog food because the bag showed pictured of veggie and chunk of meat and with a name like beneful i thought i wa purchasing a nutritious brand of dog food my dog did eat this food but after reading the ingredient i completely regret purchasing it and feel just awful for feeding it to my dog the first three ingredient are ground yellow corn chicken by product meal and corn gluten meal how disgusting is that the main ingredient is a corn filler one thing my vet told me a while back that i never forgot when you eat corn what come out of the other end the same thing happens with dog basically dog cannot digest corn it is just a filler and cause them to actually eat more to feel full poop out more and retain less nutrient the only meat in beneful at all is a by product it not even a real meat by product are the stuff leftover once all the actual meat is harvested we re talking beak chicken foot eyeball even chicken poop i would not recommend this product to anyone for any reason ever it is an absolutely awful dog food i can t believe the picture of veggie and full chunk of meat on the bag can be allowed to be on the packaging of such a disgusting product it is very misleading and should be considered false advertising br br i recommend to stay far away from beneful and most purina product when purchasing a dog or cat food the most important thing to consider is the first ingredient just make sure those first three are decent ingredient that you would eat yourself now that i know what to look for i usually buy my pet all natural organic food such a blue buffalo halo or wellness',\n",
              " 'when i got this it wa melted through the package and what wasn t completely destroyed wa stuck to the inside of the wrapper you would think that if you are going to ship chocolate in the summer time you would pack it in something cold i wasn t very happy with it i love the candy and once you peeled it off the inside of the wrapper it wa good',\n",
              " 'very weak blend slightly bitter aftertaste noticeably light brew when brewing won t purchase again in fact i regret this purchase even on oz brew still really weak taste',\n",
              " 'after reading all the great review i optimistically ordered some of this tea i ve had problem with sinus congestion very often this winter and have tried all kind of remedy with little success unfortunately this really didn t do anything for me the taste is ok bearable but it did nothing to relieve my sinus congestion so far the only thing i ve found that have helped me somewhat are the vicks personal warm mist humidifier and neti xlear',\n",
              " 'this tea didn t do anything steal have issue with itching throat ear and everything else but i do enjoy the smell of it ill say it last up to a few hour and that s it',\n",
              " 'i had high hope when i purchased this produce shipping wa amazingly fast and i ve tried it a few time i don t enjoy the taste and since i don t sweeten my tea it wasn t that great and it did nothing for my sinus will not purchase again but i do recommend the seller',\n",
              " 'i bought this tea during a major sinus infection crisis which included headache earache toothache i drink multiple cup over a few day and am sad to report it had absolutely no effect taste is so so but that s not really what matter a every sinus sufferer know if eating dirt would make the pain go away we d eat dirt',\n",
              " 'i have ordered numerous tea potion lotion and other remedy but have never had a lack of product in an order that wa sealed the tea bag wrapping in question wa sealed without a tea bag inside i would have said something sooner however i only tried these when i had a sinus infection and the last time i tried to use one the sealed pouch wa empty beware',\n",
              " 'all natural beef but too soft for my taste doesn t have the snap and drier outer surface that some like this is a matter of personal taste the product is good just not for everyone br i suggest trying this company s old fashioned cold smoked beef stick strong hickory flavor a good bite of spice and drier texture br this company ha superb customer service',\n",
              " 'i couldn t resist the price so many beef stick for so cheap however i think i wa expecting something different the jerky ha a good taste and at first it wasn t very oily but a they got older and exposed to the air i did notice some oil spot forming through the casing of the stick overall if you can consume this say within week of opening they are great if you need something that will stick around longer stick get it then maybe this isn t the right product they also sent me a free sample of some of their other product with my order and the shipping wa quick i like the company the beef stick just weren t what i wa looking for i guess',\n",
              " 'i guess it doe the job okay and it s much cheaper than hour brand but the packaging it arrived in wa in spanish since i don t speak or read spanish i wa a little leery of this item since it wa impossible for me to read ingredient and nutritional information panel br the item is labelled a being made in the usa but the website on the label ha a mx extension for being a mexican company br i don t have anything against our neighbor to the south i just expect that when i buy something on amazon that the labeling will be in english unless otherwise stated',\n",
              " 'i took a chance with this product even though there weren t enough good review since they are cheaper than hour energy they did not work for me so i tried red rain which did work and wa even cheaper red rain did work for me so i am done with hour energy and hour power the ingredient are pretty close to hour energy but someone is lying since it doesn t work',\n",
              " 'i ve tried a few of the different energy shot and found that the hour energy have a flowery note lavender in all of their flavour br br i can t say i like it the effect is ok but the flavour is like bad flat orange pop and is otherwise uninspiring i think i d prefer the more standard berry flavour of other shot v this one',\n",
              " 'i had to be taken to the er in an ambulance earlier the day before yesterday i wa having seizure near syncope passing out but still being somewhat conscious couldn t breathe and my blood pressure wa at stroke level i felt like and thought i wa dying or maybe already dead for about hour it wa painful and horrifying i think i figured out what it wa that caused my near death experience it wa probably the energy shot i took minute before then i don t usually take something like that someone offered it to me and i wa so tired i didn t even look at the bottle and took it please don t use these',\n",
              " 'i received these in bad condition most of them were broken but the one that weren t had hole in them they were so weak that they would tear when you tried to roll them i would try three lady brand they are a way higher quality',\n",
              " 'i purchase banh trang spring roll skin frequently to prepare a tasty batch of fresh spring roll but recently i got a container with black spot mixed into the skin i tried to rinse them off when they were soaking but it didn t work and had to be thrown away at the bottom of the container skin had what looked to be tiny ant embedded within the skin at that point i decided not to have fresh spring roll at all until i purchased a fresh batch of a different brand when trying to find the company on the internet to write them directly i wa unable locate their company webpage although there were many reference to the co name bahn trang',\n",
              " 'i bought this brand and it wa just horrible amazon need to source and offer lady brand wrapper a they are just superior to anything out on the market today',\n",
              " 'i have one cat who cannot tolerate this particular fancy feast salmon product it is only the shredded one that get her but get it doe br everytime she eats it she throw it up all over everywhere my shoe the white rug and gratefully the tile br br she ate this for several year with occasional upset but now it is every time no more for this family i realize that this occurs on an individual basis usually br br but i also have one younger kitty who is at the occasional upset stage so if you have a kitty with a tender tummy i would avoid this',\n",
              " 'i really wanted to like these br br first off these cooky are about the size of a half dollar and aren t that thick and they are more like fudge that cooky look at the ingredient they are nut flour held together with honey they need some egg or something they are gooey and sticky they are extremely sweet and pack a whopping g carbs each and yes that is not counting the fiber br br i m sorry i appreciate the effort guy but in my option these are a novetly they are too expensive and too non functional to be a serious part of your regular diet',\n",
              " 'i wa not impressed with these cooky when i tried them when they first came out and the company had only one flavor i did not care for them but i knew that something more satisfying could be had because i d tried others br br i have found many great paleo cookie recipe on web site and in paleo cookbook that i love and they my friend cooking student and neighbor have really enjoyed if you re looking for rock your taste bud paleo cooky i suggest you check out the recipe for chocolate chip cooky and other flavor of cooky made from blanched almond flour found in the gluten free almond flour cookbook make it paleo and on elana amsterdam s web site',\n",
              " 'i ve been paleo for six month a ha my partner we both found these inedible all four kind which by the way taste nearly the same br br i m not sure what it is about them either it seems like they would be good from the ingredient but something about the combination of flavor just doe not taste good i kept trying them again hoping that they would grow on me they sure didn t we finally tossed them br br so i would advise getting just one from a local co op or something before you buy a whole bunch online i sure which i had',\n",
              " 'formula itself is great work wonder for a baby that spit up but wtf why is it so expensive here for oz can that s for a oz can when you can buy a oz can at any store for less than almost double the price i don t get it',\n",
              " 'i love using generous amount of vinegar on sandwich salad etc but this drink wa so vinegary that i got a bit of a tummy ache it tasted closer to salad dressing than it did a drink i tried really hard to like it but no go',\n",
              " 'i bought these bar for several year at my local co operative grocery store and ate them daily they are tasty however the price increased nearly during that time and i noticed that although the individual wrapper within the box remained the same size the bar within the wrapper decreased when i stopped buying these the actual bar wa only half the size of the wrapper that s deceptive packaging so i refuse to buy these any more i suspect that other shopper likewise complained because last month the store where i bought these stopped carrying them',\n",
              " 'this product wa a big disappointment the picture on the box is misleading these bar aren t chunky the dough isn t flaky more like cardboardy they aren t filled with piece of fruit and if you didn t read the label which claim about item down the ingredient list that yogurt powder is added you wouldn t have any idea you were eating yogurt at all the bar probably contain msg with all of the natural flavoring etc whatever calcium and other vitamin might be present have probably been added in what the ingredient list call a vitamin blend there s too little food in the bar to give you much nutrition anyway the experience is very much like eating a long thin fig bar only not a tasty the fig bar i buy at my neighborhood grocery contain sugar but also real fruit whole wheat no msg and no trans fat i d rather eat one of them i won t be purchasing this product again',\n",
              " 'these aren t a good a other bar of this type my kid won t eat them nor will my husband they are all fond of the nutrigrain variety but i thought these would be a healthier alternative',\n",
              " 'looked like a good deal so i ordered the ground fennel a well a other spice and seasoning from this company but wa disappointed with them all zero flavor not even the fragrance of the right herb or spice when loosely sealed container were opened the dill smelled like dried musty grass and the onion even worse ended up throwing them all away save your money do not buy this product',\n",
              " 'when i received this product it wa old and dried out dingo make a good product i buy them all the time and my dog love them but this supplier should pay more attention to what they ship',\n",
              " 'most of the nut in these bag were so old they had turned black totally worthless will never order again',\n",
              " 'i did not even receive the correct product what i received were raw unshelled peanut but had no option to return them becuase amazon doe not allow this i attempted to contact but got no reply do not buy from here',\n",
              " 'i would agree with the other poor rating for royal oak very poor customer service from royal oak we ordered this year the exact same product a last year when it arrived the nut were not the same product and they would not refund or pay shipping for the return also they only operate the few week that peanut are in season otherwise email and phone call are not even acknowledged',\n",
              " 'go to costco and you can buy lower than this price per oz currently off regular tax for big size oz br br besides it is more convinient to return if you kid doe not like this formula br br be careful many time some seller over price a product and still make the product rank in the best seller',\n",
              " 'be careful when odering this because they say it s a pk but you will only get a pk plus the formula go out in month so if you did like i did and got it early for grandchild your out of luck so i know i will not be buying off of this site again for food for my grandchild because they won t be able to eat it',\n",
              " 'if one read this product ingredient they will find that the first ingredient is cow milk then sugar diabetic maker then milk again the fourth ingredient is sunflower oil fifth ingredient is maltodextrin which is starch produced from grain containing the sugar maltose and dextrin with the seventh ingredient being get this tuna fish oil they even feature vitamin d which is animal derived there are four different sugar source in it and some artificial flavor for good measure if we really think about what we are feeding our baby would we use this product i know i wouldn t know your food source',\n",
              " 'these were rancid upon receipt terrible very little sugar if any used something went wrong with these a i can t believe anyone would see this a a final product both can',\n",
              " 'i felt ripped off the photo clearly show two bone and the price at plus is indicative of two i thought i wa purchasing a bone packaged a two to a pack walmart sell identical big smoked knuckle bone for ea why doesn t the photo show one bone instead of two if they are just shipping one it wasn t worth the hassle to return the package to make my point of protest so i am doing it here beartoothjoe',\n",
              " 'is that these are calorie per serving however in all honesty i didn t make it through a full serving br br i wa excited about these they looked like a grown up graham cracker br br first problem wa the smell they smelled like melted plastic and something else i d hesitate to even guess what it is but it s bad i bravely pulled out one small crisp hoping that maybe it wa the packaging that had the aroma it wa not the crisp itself smell horrific br i figured there wa no way it could taste a bad a it smelled br second problem is that i wa very very wrong about that they have a funky chemical taste that just defies description the aftertaste is sort of like a skunky chewing on a plastic pen cap that went thru the wash wet cardboard kinda taste seriously it wa awful br br i tasted these about minute ago and after drinking an entire bottle of water and brushing my teeth i can still taste it br br i m glad these were an add on but they are still absolutely terrible their only redeeming quality is that they are cute not one single member of my family will actually eat them though so this wa definitely a waste of had i known they would be this awful i d have just got a second bag of a href http www amazon com gp product b poa hi i m skinny stick sweet onion multigrain ounce a br only cent more than these but mile better in taste',\n",
              " 'tortilla soup is one of my favorite soup and i like both the tomato and chicken broth variety although i didn t expect freshly fried tortilla strip or queso fresco in a canned soup i did expect something that resembled all other tortilla soup i have tried that is a light broth with a mix of vegetable corn bean chicken and mexican spice this soup is thick really thick like the thickest tomato soup you ve ever had with a grilled cheese sandwich it s also sweet and doe not taste in the least like a mexican soup instead imagine straight tomato soup with a bunch of vegetable bean and some chicken thrown in br br i ended up giving it all away and to be fair one of the people i gave the soup to said her husband really liked it br br for a canned soup that much more closely resembles real tortilla soup try a href http www amazon com gp product b eub i campbell s select mexican chicken tortilla ounce can pack of a',\n",
              " 'coconut water should not be sweetened actually no sugar should ever be added sweeting thing is an american custom which ruin the real flavor of coconut water i lived in jamaica for year and the bahamas for and the coconut water from real coconut doe not have any added sugar it natural br i will stick to buying the brown hard shell coconut from the supermarket and drink that it s more natural and unaltered these boxed caned and packaged coconut water are nasty i am still yet to try a brand one of the many that i have tried that will make me wanna buy it',\n",
              " 'it say habenero pepper on the ingredient but my guess is they just waved it over the closed bottle smell like molasses and soy sauce taste like molasses and soy sauce absolutely boring',\n",
              " 'taste too sweet which jerk seasoning is not walker s wood is the most authentic to taste this wa a waste',\n",
              " 'i thought i would try this but i am sticking with my uncle joes jerk sauce this is sweet not hot should be hot if they are going to put jerk on the label',\n",
              " 'first of all somebody is chasing me around and negging all my review so dont pay any br attention to those no vote they both arrived within minute of posting this review br br this sickly sweetish molasses flavored thing is not jerk sauce doesnt even remotely br resemble a bad facsimile i dont know what world harbor is thinking cause this stuff br is horrible br br btw i like their teriyaki sauce but this it a bad a it get',\n",
              " 'these are very tasty but way too sweet sugary i felt like i wa eating candy instead of meat if that s okay with you then you ll probably love these but i wa looking for something a bit healthier yes i know it say sweet in the product name but i bought it because of the no hormone no antibiotic no artificial ingredient aspect',\n",
              " 'i wanted to love this because i love earl grey tea i need decaf and i adore the convenience of the keurig unfortunately i don t love these the flavor is very weak and doesn t deliver on the aroma i typically use the large cup setting on the size model but even the small cup is wimpy with these i did find that mixing this one with a stronger flavored decaf tea result in a more suitable strength but then you have to make cup of something the english breakfast decaf is a much better choice',\n",
              " 'my kid love these and we ve ordered them often but a wa the case with at least one other reviewer this batch came in with some mold i freeze them a soon a they arrive so had the have been moldy upon arrival br br too bad but at this price won t run the risk of having to toss out product',\n",
              " 'this slop ha the color and consistency of baby diarrhea with whole pea in it our cat ate less than half a bowl of this slop and immediately puked all over the carpet br br she devours the felidae platinum which we feed a an occasional alternative to newman s own turkey she wa raised on felidae dry so i can say that generally the canidae company provides quality product except for this grain free slop you can find the good stuff at a href http www amazon com gp product b wfl s felidae canned cat food for senior and overweight cat platinum diet formula pack of ounce can a br br absolutely do not order this slop from amazon because they will charge you for the privilege of returning the can your cat will not eat before you make the same stupid mistake i did buy a can from your local pet food store and try it out first then when your cat puke this slop back up you will only be out instead of the amazon nailed me br br in my opinion your cat and you will be much better off with newman s own organic cat food especially the turkey and chicken the newman food literally brought our cat back from the brink of death after we listened to our former vet and fed her science diet k d she dropped down to less than pound in a month we switched her back to newman s own turkey and within one case of small can she wa back up to her usual weight of lb and ha maintained that healthy weight for over month she also gained increased mobility after we stopped feeding her the k d i read somewhere that science diet buy veterinary student their book in exchange for their later recommendation of their product nice br br just say no to science diet and felidae grain free formula here s the good stuff a href http www amazon com gp product b vk hj newman s own organic turkey vegetable formula for cat ounce can pack of a br br did they really want me to post a video with this review would you then it unanimous this review will remain video free',\n",
              " 'i ve been feeding wellness grain free for a while now and all three of them love it i ordered the felidae last time because the wellness wa no longer eligible for free shipping and the felidae wa which make the difference between whether it is a better deal to order it or buy it at petco brick and mortar none of my cat will eat it they actually at nothing for the past day since the only thing offered them wa the felidae i broke down today and gave them a back up can of life grain free and they are happily curled up and purring now i think felidae is a high quality food and i only feed the lower quality grain free food on rare occasion but the rest of this case will be donated to my local shelter hopefully something there will like it i m off for the trip to petco for the wellness',\n",
              " 'the consistency of the grain free chicken turkey lamb and fish formula wa like br baby poop there wa so much water in this cat food that two cat went through a br full case in a short time i can put the water in the cat food it is misleading br and a poor value for the manufacturer to water down a product call it a oz can br and provide nothing like i have come to know and expect from other brand the same br size',\n",
              " 'i wa really hoping this grain free canned cat food will work for my cat look like it ha good ingredient but none of my cat will eat it in fact one of them will smell it and start doing the scratching thing like he smell poop another weird thing is the whole can is kind of soft and meshed like baby food but there are some whole green pea in it not sure if that is by design or some green pea escape the meshing',\n",
              " 'yikes what wa i thinking when i ordered can of this stuff the food pantry may be getting some br br it taste like well i can t use the word i d like to br let s just say that it ha no character at all no distinct taste if yu blinded yourself and then drank the coffee i don t know if you d even know it wa coffee br br i use just more than the amount suggessted doesn t help',\n",
              " 'warning it contains food preservative other than that it is fine but presence of preservative in date justifies my low star rating',\n",
              " 'the taste is great but it gave me a terrible migraine from the msg those who are sensitive beware also msg addition is usually a way to fake true flavor',\n",
              " 'the packet of these seed that i received must have been old because i don t believe even of them grew i tried some several time in soil and water and only got a few sprig of grass i garden regularly i live in florida so it s not that i don t know how and i even followed the instruction to the letter but they did not grow',\n",
              " 'look at the ingredient it is made with black tea google black tea and fluoride and you will see that black tea is loaded with fluoride because it is made with the oldest part of the tea plant it contains the highest level of fluoride of any tea fluoride is not healthy for anyone if you want a healthy natural tea get one that is made with white tea leaf white tea leaf still have all the beneficial antioxidant property but much much much less fluoride than either black or green tea',\n",
              " 'spent for real kona coffee and didn t want the kona blend sold here the hawaiian roaster wa disappointing tasted nothing like the kona we had everyday while honeymooning in maui not good',\n",
              " 'i like my chocolate tempered to some level of crispness these nut were chewy not crunchy and the chocolate coating wa a bit mealy br if you know anything about dark chocolate and like yours with some snap don t order these br br actually the best dark chocolate covered walnut are called perigord and are available through a canadian company called ki global br they are sun dried super crispy covered in a fairly thin shell of dark chocolate and dusted with unsweetened cocoa br very adult and superb',\n",
              " 'we ordered the product our dog love them but no one care if it degree outside recieved in one big melted ball thought they would ship in dry ice if it summer or hot in your area dont order them',\n",
              " 'by the time i received this product all package were melted so all had to be thrown away because everything in each bag had melted together',\n",
              " 'i can not believe that this is actually for sale it need to be recalled sugar is absolutely unhealthy for all your pet they do not digest assimilate sugar like we do every vet will tell you the same thing and you will never see any quality treat or food that ha sugar or corn syrup on the ingredient list if you do see it on the list do not buy it',\n",
              " 'this is my nd review for this product the first one wa supposed to be word that would be too long for this item the product itself is good but the price for shipping for such a small item wa ridiculous the package wa small and light weight but i wa charged for shipping of a item i have bought many item from amazon com and it seems here lately that the shipping ha gotten totally out of hand i bought several item and the shipping wa all together therefore i did not know how much wa charged for each item i will not buy from this vendor again since they are making money on the shipping enough said',\n",
              " 'on top of the delightful aspartame this come complete with hydrogenated oil and is a dead ringer for country time lemonade mix',\n",
              " 'instead of just being pork rind oil salt and vinegar they have lactose and maltodextrin on them contributing to g of sugar per serving many people myself included who buy this kind of snack who are on low carbohydrate diet they will not be happy about the sugar br br the labeling on the package is very strange and i am surprised it get by the nice government men who worry about this sort of thing it say total carbohydrate are less then g so they get to put zero gram ok fair enough i have seen that before but then the label admits to gram of sugar which is a carbohydrate how they can get away with saying they have zero gram of carbs when there are gram of sugar is beyond me i assume it is just that nobody ha caught them yet br br then there is protein the nutritional analysis say g of protein per serving not bad for a snack food right next to the g is say not a significant source of protein huh a slice of cheese is about gram of protein a is an ounce of meet i believe those are significant source of protein br br i went to their website to check out the nutritional fact i did notice they were high in sodium what i missed wa that they claim the number of serving in a oz package wa three so the sodium in a package is actually three time higher i doubt many people expect a oz package to be three serving i just looked up fritos corn chip a oz package is considered a single serving package and the analysis on the back show one serving so when fritos tell you the sodium level it is only mg for the entire package for these pork rind the oz package is mg of sodium about half of your daily requirement a little steep for a snack br br although i went to their site to look at some nutritional info they don t show the label or the actual ingredient on their site or at amazon if they had i would not have purchased it they use partially hydrogenated oil a kind of fat may be destructive to your health long term since the government broke down and required that partially hydrogenated oil be listed on the label a lot of the food industry ha switched away from it a people are correctly suspicious of it br br to add insult to injury i wa unhappy with the taste they have a chemical nasty taste i suppose that is subjective but a few bite left me a little queasy br br i feel bad having bought this but perhaps my error will be of some use to others looking for a low carb snack please pas this company s product by and let s find someone else who can actually provide u the food we want and the information we need in a rational ethical and legal way',\n",
              " 'this product which i am not allowed to return ha ingrediants of salt spice hydrolysed soy protein that last item is the common industry con for adding msg to your food every soup on your grocer shelf contains msg but i digress so the third ingrediant is a form of msg further down the ingrediant list is proudly displayed monosodium gludamate msg this doe not add spice to your food it stimulats your tongue into feeling that the food taste good when it doe not msg can make dogfood taste like hamburger anyone who think this is making their food taste cajun may be serving alpo tone and durkee sp do not contain msg i prefer tone br br i have eight ounce can of this stuff would anybody like to buy some hamburger from me',\n",
              " 'i bought this seasoning because amazon stopped selling the count konriko cajun seasoning so this wa the one they had in a count i bought it thinking it would be similar to the konriko boy wa i wrong br br first of all like another reviewer said some of the ingredient are a follows hydrolyzed soy protein and partially hydrogenated cottonseed and soy bean oil i wa completely stumped a to why these two ingredient were necessary in a spice blend mix now i know why with the hydrolyzed soy protein a the other reviewer stated it s a industry way of adding msg well why in the world do we need that and what s up with the hydrogenated soy bean and cottonseed oil beside it being bad for your health it cause the product to cake and clump i steer clear of product with hydrogenated oil in them an even though this may not have many trans fat an accumulation over time is what make this deceptively bad for your health when i purchased this last year they did not have the ingredient listed in the description now it is i think that amazon a a regular practice should require all food product company s to list the ingredient of their product to sell on their site why wait until the customer purchase it to find out i don t think this is a customer friendly practice br br not a good buy imo i found my konriko at another site and will be purchasing it from there unless amazon brings it back at a count offer otherwise to buy one at and s h is just way over priced and highway robbery',\n",
              " 'i agree with a previous reviewer when it come to the dinner just about all of the earth s best choice they are watery and sweet apple or some other fruit in just about everything and the first ingredient is nearly always water i ve decided to stay away from these a much a possible and purchase protein containing dinner from another jarred brand or mixing my own i d really rather not nurture a sweet tooth at such a young age br br the earth s best fruit and vegetable for the most part are great just check the label to make sure water isn t the first ingredient listed i just love how baby food will have water listed first but then some kind of flour added a well to thicken it up',\n",
              " 'a i have with all other earth s best jarred baby food i won t be purchasing these dinner for my baby because the jar lid contain bpa i contacted earth s best s consumer relation dept personally and the representative read me a prepared statement saying that the epoxy resin that line earth s best baby food jar lid contains trace amount of bpa but it doesn t come into direct contact with the food that kind of lukewarm response wasn t enough to put my concern about bpa to rest after all packaged food is jostled around so much during shipping that these jar could spend day upside down with the food resting directly on the jar lid so i guess i ll have to pas on these jarred dinner for now the earth s best rep did say that they were doing accelerated testing of bpa free alternative for lining their baby food jar br br this is such a shame because earth s best is the only company that make organic pre packaged stage complete meal e g with meat protein veggie carbs starch in puree form all the other organic baby food manufacturer such a plum sprout ella s kitchen etc only make stage meal in chunky form earth s best doe make some baby food in bpa free squeeze pouch but that doesn t include it dinner line i wa hoping to be able to expose my little one to a wider variety of flavor and well balanced meal while still at the puree stage but i guess i ll have to wait until she s old enough for stage chunky meal or make her baby food myself virtually impossible for this super busy and domestically challenged mom lol',\n",
              " 'i ordered this from amazon and they were pure liquid like water i did not feel at all comfortable feeding them to my daughter amazon customer service however wa awesome and gave me a full refund',\n",
              " 'bought this after reading the good review not sure if it ha to do only with my package but rice and lentil mix literally ha a smell of mold i actually opened two container to make sure it wasn t just my nose playing trick on me i love this brand and i am very disappointed',\n",
              " 'amazon normally doe a fantastic job getting product out to me in great shape and on time but i guess this is one product that they can not br br several jar had compromised seal and so we had to immediately throw them out i wish i could order this by mail but it seems this is one item we ll need to go to the grocery store for',\n",
              " 'i wa excited to try this product after reading all of the good review i wasn t really impressed when my son tried the food the consistency wa way too thin and my son would hardly eat the whole jar i would recommend making your own baby food or use the gerber organic',\n",
              " 'my baby didn t seem into these dinner so i tried them they re not terrible but not good either we ll stick with the eb fruit and veggie until she s ready for table food',\n",
              " 'we ordered the earth s best nd dinner variety pack along with the fruit variety pack we got the fruit variety pack and an oatmeal and fruit variety pack not the dinner pack found out we can t return the item either we will try the amazon phone help but if all else fails maybe my little one will like this stuff',\n",
              " 'my baby love this food at whole food they sell the same flat for and thats retail i ordered this and just received it today i hadn t even opened package and i could smell a rotten smell coming from box i opened it to find jar smashed and mold everywhere i m so disgusted and can t believe i waited over a week for this to arrive what a waste of my time the worst part is i ordered the fruit flat a well and also a broken jar and rotten mold everywhere i don t get how this happens the shipping box isn t dented or damaged neither is the flat box so what someone packaged and sent a smashed and rotting shipment not a happy customer',\n",
              " 'don t let the earth s best name fool you a stated in multiple review here check the ingredient no wonder so many positive review here have the same theme my kid will only eat earth s best well that s because they are all sweetened which is one of the worst thing you can feed to your child regularly they will develop a sweet tooth quickly and will start rejecting pure vegetable other good thing because of this there is no need to inject applesauce or other sweetener into other food that s just shameful and there is only one reason for it so the child will eat it and only want this brand br br best advice if you must buy pre made food be sure the ingredient are just the main ingredient s and if needed water that s it don t buy a vegetable that ha applesauce or another silly ingredient added just to make the child love it and want that brand because it s sweetened br br shame on earth s best a a company kudos to their marketing department for creating a name whereas consumer will automatically be drawn to them because they think it s a great product based solely on the name',\n",
              " 'google propylene glycol to find out why i bought this product along with several others without running the ingredient by my wife first a nurse of year she br wa surprised when she noticed it we went a googling and poured my order down the drain afterwards there s pure and then there s not so much br br from the website br br propylene glycol br br a cosmetic form of mineral oil found in automatic brake and hydraulic fluid and industrial antifreeze in the skin and hair propylene glycol work a a humescent which cause retention of moisture content of skin or cosmetic product by preventing the escape of moisture or water the material safety data sheet warns user to avoid skin contact with propylene glycol a this strong skin irritant can cause liver abnormality and kidney damage br also used in br br tyre sealant br rubber cleaner br de icer br stain remover br fabric softener br degreaser br paint br adhesive br wallpaper stripper br br i wrote the company about this concern and they never responded',\n",
              " 'received bottle of concentrate from paragon mixed exactly to their spec and wa extremely disappointed in four of the six flavor br br i am truly saddened to have to encourage you to not purchase the watermelon flavor br br this item ha be returned for a refund',\n",
              " 'i wa disappointed to find out that the lid of earth s best jarred food are coated with an epoxy lining that contains bpa br i thought i wa avoiding the whole bpa issue because these are in glass rather than plastic container if it s in the lid it s going to get in the food a the food move around in the jar during packaging shipping storage etc i wa planning on being a devoted earth s best jarred food user because it wa organic and in glass but then i found out about the bpa a a note if bpa doesn t bother you most of earth s best food is tasty',\n",
              " 'packaging wa fine but the baby food were rotten however amazon com doe not let me return it this is not right i have put the pic of the food on packaging review page buyer should all take a look at it',\n",
              " 'just off the phone with them aug and they said that yes they stopped putting bpa in the liner in oct of course there is old stock on the shelf so i asked how to tell whether the liner we have are the old with bpa or the new without bpa and the person there said to look at the inside the surface of the lid if it is all white then it is bpa free if it is metallic or gold then it s the old lid which did contain a bpa layer thought this might help some of you out there',\n",
              " 'i ordered this because i really like this brand and i have never had any issue with them my son usually like all the flavor i ordered this and the pear were sour spoiled the other flavor my son refused to eat i am sure there wa something wrong with it so i am not sure what happened but i will not be buying these online anymore',\n",
              " 'several broke during transit causing mold to grow over all the other jar jar are cheaper at walmart',\n",
              " 'beware of what you are being charged it say that it s but drugstore is charing you plus in shipping i ve found this to be true for several other item on this site br i m not sure if this is a misprint amazon doesn t seem to think it s an issue since the seller can charge whatever they want for the item i disagree and think it s amazon s responisbility to get to the bottom of this',\n",
              " 'i just called up customer service and found that since october all the jar are bpa free but the jar manufactured before october are still available in the market usually all these product have a long shelf life a they are vacuum sealed so the jar with bpa lining on the lid are still floating around in the market the consumer cannot tell the difference so what is the point in buying this when you do not know if you are giving your baby something that is bpa free or not this is very very disappointing from earth s best',\n",
              " 'i usually feed earth s best baby food to my grandson he ha never had a reaction of any kind to any baby food i have given him this is the first time i have tried this particular variety pack i fed him the peach oatmeal banana and apple and apricot for breakfast this morning shortly after i noticed he wa scratching i looked and he had a rash i remembered reading a baby food review where someone mentioned an allergy so i checked and yes it is this variety pack i don t know what is in it that would cause this type of reaction unfortunately i fed him two different jar so i don t know which one caused it but i don t want to take a chance of him having another one so out they go just thought i would let others know',\n",
              " 'amazon normally doe a fantastic job getting product out to me in great shape and on time but i guess this is one product that they can not br br several jar had compromised seal and so we had to immediately throw them out i wish i could order this by mail but it seems this is one item we ll need to go to the grocery store for',\n",
              " 'there is bpa in the lid and company claim it doesn t touch the food so it s okey why do they even write organic time around the lid not honest to their costumer i wouldn t even give star if l could',\n",
              " 'i have a month old who eats food all of the time i bought this variety pack and noticed that the peach oatmeal is thick like a paste coincidentally a i wa thinking that a i wa feeding him he started choking and gasping for air he couldn t breathe and i had to give him the heimlich maneuver and luckily he started cry very scary and those jar went right in the garbage',\n",
              " 'this food is phenomenal but way overpriced i pay a case in new york city and it is often on sale for less than a case at babiesrus in new york city grocery price are obscene in ny so if i am paying less here this is no deal',\n",
              " 'the reviewer from florida wa being extremely kind in their review br this gruel is not even fit for farm animal i ve lived in hawaii most br of my life and have shopped mostly in the local health food store so i have had br many many different batch of basmati rice what amazon ha sent me is not br edible in my opinion it is not long grained a basmati should be and doe not br cook a it should it fully cook too soon and doe not need the full amount of br water that basmati usually doe br i am tempted to contact the fda to see what it really is br br my apology to the reviewer from florida i should have listened to you and br passed on all this frustration amazon doe not allow return on grocery br needless to say i am now stuck with several pound of inedible rice',\n",
              " 'i love fact that this drink is neither too tangy or tos sweet the combimation of both is perfect and therefore quenches yor thirst without leaving an unpleant after taste t',\n",
              " 'i would never buy this cake it look horrible some of the fondant work on this seller s other cake is shabby the piping is horrible worse than a cake you would buy at the grocery store the flower look like red and green blob how can you possibly think you should sell these to people',\n",
              " 'i love green tea and green tea beverage when i saw this on sale i wa happy to try it once i received it and tasted it i wa not so happy first off tasted like the smell of dirty water best way i can describe it lol this ha cane juice yet taste like it doesn t have anything added calorie for what no flavor no thanks so yeah all in all pretty flavorless beside the dirty water smell taste wa a huge disappointment worse yet i bought pk case now i have to doctor the rest up maybe just buy some lemon and make them into a green tea lemonade oh well i tried',\n",
              " 'maybe it s just me but i have used this extract in my oatmeal same amount a mccormick extract and i can t taste any flavor at all very disappointing',\n",
              " 'in the attempt to make blueberry cake for my brother i used the whole bottle and still didn t have a blueberry cake i added about half the bottle to the cake mix white cake not vanilla and the other half to the frosting white frosting not vanilla and it still only had a hint of blueberry flavor i wa completely disappointed in all the time effort and money spent making it and it barely tasted blueberry i would have thought that using the whole bottle would have made a blueberry flavor i guess i will have to see if i can find actual blueberry extract and not blueberry flavored extract will not be wasting my money on this again',\n",
              " 'something is very wrong the product is excellent i have been buying it for several year first at whole food and then when they dropped the product i have been purchasing it online in fact i purchased it in it original larger size jar when the size wa decreased to oz the selling price remained the same at whole food i also purchased all flavor a this product is really delicious br br the price ha been going up considerably i purchase jar per order to save on shipping with each order there is always another price increase br br my recent order of september for jar wa apparently packed at the warehouse and sent to the store the store did not repack it each box of six wa sealed with warehouse tape identifying the item it stated the name of the store it wa shipped to a well a the flavor the following information shocked me and i quote br br rigoni fruit sprd oz pack retail br br did you note the price retail it did not state wholesale it said retail price no one sell it for yet the warehouse stipulates that is the retail price am i missing something here how many hundred of dollar have i wasted i guess it is a matter of what the market will bear outrageous of course there is the additional shipping chg on principal alone i will give up on this product the greed is beyond comprehension br br i gave the product a low rating even though the product is excellent because it is incredibly overpriced',\n",
              " 'i believe gerber may have mixed apricot with the peach it now ha a sour after taste and my son hate it',\n",
              " 'they have some textured powder stuff on them that make them taste bad bad after taste i guess it s so they don t stick together never again',\n",
              " 'so a soon a the delivery guy gave me the package i opened it ready to eat some gummy bear and all i got wa a big goo of gummy bear due to the heat of the delivery truck it all melted into gel of course it is not refundable so now all i have is a bag a liquid multicolored goo thanks for making me throw away dollar good game amazon so think about if it summer or kinda warm stop and wait till december',\n",
              " 'the taste is not horrible but it is not very good there is not a very good mango flavor i would not buy again',\n",
              " 'oh my gosh i bought this tea and drank my first cup in the late afternoon by evening i wa having the worst stomach cramp and diarrhea i belatedly looked at the ingredient and the first one is senna leaf during internet research i discovered that some individual may experience discomfort or cramping after using senna product also the following admonition don t take senna for more than a week or so or your body could end up relying on it to contract your bowel br br side effect can include br diarrhea br intestinal cramp or gripping pain br rash br severe weight loss br br senna should not be used by person with crone s disease diverticular disease and other similar disease br br senna is not a daily or causal supplement and excessive use can cause liver damage br br i wanted to die my inside hurt so bad any weight loss you may accomplish with this tea may not be worth the pain be aware before you use i threw my remaining tea bag away',\n",
              " 'i dont like the taste of this at all i have some other fennel tea from another company not on amazon and it is fantastic cant remember exact name but think it is something like mb is a french company and i got it in canada and by mail order after that it is much better to my taste never dreamed there would be this much variance among fennel seed a only ingredient',\n",
              " 'this is not for me it wa like eating a bowl of fat not my preference everyone is different personally i dont like this at all',\n",
              " 'this egg pasta ingredient wa powdered egg product and a such not a tasty a those containing the real thing i don t like anything powdered but price wa right can t have it all i guess',\n",
              " 'i wa really disappointed in these olive the are very mushy and i prefer a more firm texture cat cora s olive are much much better',\n",
              " 'i ve read the review and i agree that yuban is absolutely the best coffee but at for can come to over a can that s more a can than i pay at my local store i don t understand the high price',\n",
              " 'i have never tasted this coffee but when people brew it in my house it make my house smell like fart it might taste really good but i can t get over the fart smell you ve been warned',\n",
              " 'the picture and description wa pure butter mini shortbread round then i decided to order it because i love them so bad but when i got the package it came out at mini chocolate chip shortbread which i don t like',\n",
              " 'when habanero is in powder form it doesn t taste the same nor doe it have the same heat it s almost physically impossible to get a habanero powder to taste decent go with habanero flake instead they taste better and pack a lot more heat',\n",
              " 'i have a tried a few of these wasa crisp bread this one wa by far the worst it wa in essence entirely flavorless it tasted to me the way that i expect that those little packing styrofoam peanut would taste br br don t get me wrong it didn t taste bad hence the star it just didn t taste like anything looking for a low cal snack type cracker try the wasa sourdough rye cracker now those are heavenly',\n",
              " 'wasa crisp n light inside packaging cannot be recycled the crackerbread is excellent but it inside packaging is a cellophane or type of plastic that cannot be recycled anywhere in the six state i have contacted todate wasa ha not revealed what the inside packaging is made of nor where i can recycle it',\n",
              " 'this wa my first experience of a bad darjeeling before i hadn t known there wa such a thing the first brew yielded a dark rust color tinged with olive green the bottom of the cup wa invisible the taste wa sharp and astringent thinking i d brewed too long or too strong i set the first cup aside and tried again and then again a light brew of minute improved the clarity however nothing i have tried since ha removed a level of astringency and a furred taste that i associate with lesser tea the wet leaf are the typical size light brown but unexpectedly interspersed with limp green square the aroma of dry tea in the bag reminds me of old hay neither moldy nor spoiled just old in contrast the davidson s keemun conjou which arrived in the same shipment smell and taste like delicious keemun conjou and nothing else br br given the price i knew i wa gamboling and consider this a lost bet i have given the product two star instead of one because i haven t thrown it out yet i keep a supply of lipton s bulk tea for emergency such a long period of unemployment and i don t really need more emergency tea perhaps it will work for iced tea br br by no mean am i an expert but i do value tea and so i hope this opinion help other buyer who are trying to decide between two darjeeling davidson s ship quickly with value pricing and so i am not giving up on the merchant just on this particular darjeeling',\n",
              " 'i bought two kind of davidson s bulk tea darjeeling and gunpowder green and i wa very disappointed in the quality they both make kind of a murky harsh tea the darjeeling is very light in color and ha an aftertaste more like pekoe the gunpowder green is weak and flat i certainly wouldn t recommend them',\n",
              " 'the price is right organic tea at a great price but that s a far a it go i ve tried about of the davidsons so far and they just lack character',\n",
              " 'i have never received anything like this from amazon before the product wa packed in an old used golf ball box bizarre the can were all dented and old looking the bowl were chipped up i thought oh well maybe the soup will taste good wrong three different flavor but they were all awful completely inedible all of them were horribly fishy and metallic tasting the worst canned soup i have ever tasted in my life poured them all out and donated the chipped bowl to charity complete waste of money',\n",
              " 'while the product is delicious it s annoying that the peanut butter stay on the waxy paper instead of on the product you need a fork to scrape the peanut butter off the protective top sheet',\n",
              " 'my cat are not picky eater and lick their bowl clean of virtually anything i feed them wellness fussie cat fancy feast bff i tried feeding them tiki cat on separate occasion and my cat threw up both time i thought they may have gotten sick the first time from eating something off the floor but when it happened a second time i wa certain it wa the tiki cat i m not sure if i received a bad batch but i will certainly never be purchasing a tiki cat product again',\n",
              " 'she liked the food a little at first but didn t want much to do with it the price is very high and not worth it if she ll only eat a couple of bite she had tried most of the flavor and would always have the same reaction',\n",
              " 'this product smell so bad that i couldn t even try to consume it it smell sour and rancid and is detectable even before the package wa opened the seller ha a no return policy so i m out the i spent on this a it will go right into the garbage',\n",
              " 'i have been making wonderful homemade vanilla with a recipe that i found on line using vanilla bean purchased from williams sonoma i decided to try spicy world vanilla bean rather than the much more expensive vanilla bean from williams sonoma two vanilla bean from williams sonoma in a pint of vodka resulted in a very dark richly aromatic vanilla after only two month i used three spicy world vanilla bean in a pint of vodka and after two month i had a liquid that looked like weak tea and had the aroma of alcohol i added three more bean and waited the result were disappointing so i added three more vanilla bean you can still see through the vanilla and it doesn t have the aroma of vanilla i am completely disappointed with the vanilla bean from spicy world they are totally worthless a complete waste of money i would not recommend them or purchase anything from spicy world',\n",
              " 'i purchased these bean based on other review my plan wa to make a premium vanilla extract for family member i purchased a very expensive vodka unusual bottle to fill and waited for my bean order to arrive i wasn t happy about the wait the bean arrived after the th and i rushed to open the package i could not smell the bean a others reported most of the bean were skinny shriveled more dry and a great disappointment i would not recommend this product i will be looking for another source',\n",
              " 'this product had pretty good review so i thought it would be safe to buy package so i did boy am i full of regret now i m stuck with pack of these bean and i can t return any them the moment i opened the bag i should ve known it had a stale sour smell to them but the optimistic side of me said these bean look fresh and plump maybe it won t smell like that once i scrape the seed out i wa wrong i made two test batch to see if it wa the salt i wa using to make my vanilla salt but they both have that weird sour rancid smell i ve made vanilla salt before so i know what it s supposed to smell and taste like unfortunately even after a few day this smell isn t going away i wa really looking forward to making jar of vanilla salt to give out a cheap gift but now i need to go buy more vanilla bean to replace these which is going to end up costing me i m so disappointed i haven t cooked with these seed so i don t know if the taste and smell transforms with heat or with any other mixed in ingredient i know for sure though that if you re looking to make vanilla extract vanilla sugar or vanilla salt i highly discourage you from buying this product',\n",
              " 'true the bean were huge moist and plump with a good mixture of really big fat one and smaller skinny one however the most noticeable aroma coming from the bag and the bean is best described a pungent with a side of sour is that normal i ve only ever used the crappy dried out grocery store version and wa thrilled when i saw such a good deal on these br br can a vanilla bean expert tell me if that odd unpleasant aroma is what i m supposed to be smelling',\n",
              " 'would have rated no star if available beefeater chicken liver freeze dried treat for dog are a product of china and irradiated for your protection according to the company s hold message called amazon com customer service and requested a full refund with pre paid returned shipping too bad none of this is in the product description amazon csr wa very helpful and very cooperative postage paid shipping label received via email immediately thank you amazon com',\n",
              " 'anyone see where thesis are made i am avoiding treat from china because of all the problem lately and i do not see a country of origin here',\n",
              " 'one star given just for possibility that some cat out there may be less or different picky from ours see my review of cat man doo bonito sprinkle for info on several product i tested in search of a flavor appetite enhancer including this shrimp version and another f s tuna treat product that wa much better received by our gang of four',\n",
              " 'i m of russian descent and have been eating buckwheat for my entire life i live in the u and usually buy buckwheat in local russian or eastern european store this is the first and last time i tried american made buckwheat here are thing that i found br it take only min to cook this normally it take min and this item is not branded a an instant buckwheat br it taste quite different than usual br there is a strong metallic smell br this item is overpriced just go to the closest russian or eastern european shop and buy the same thing time cheaper',\n",
              " 'i really wanted a decaf product so didn t have a lot of option this powder essentially make a chocolate flavored blended drink even when i use cold decaf coffee or espresso a the base the chocolate is what you taste when i think of an iced coffee drink i think of coffee with a hint of chocolate mocha not the other way around br br a other reviewer point out the calorie is for half the packet and no milk added br br i will try a different brand next time i m still on the hunt for a mix that creates the same flavor i ve experienced once in a great while at a coffee shop or like the iced blended at a west coast chain cb tl that is overpriced to have shipped and i think is available sugar free',\n",
              " 'i really wanted to like this a it wa organic and came in a glass bottle but there wa hardly any flavor at all i could barely smell it and even when i poured a generous amount on my dish it imparts little to no truffle flavor aroma my truffle salt is much more potent',\n",
              " 'this wa not good the flavor wa lacking and barely came through unlike the hint water which i really enjoy i wanted this to be good and wa so excited to get it but it just disappointed',\n",
              " 'personal preference too sweet taste like general food international coffee price is great if you like that though and make up very easy',\n",
              " 'i love taco bell s grocery item so i wa excited to try this new rice unfortunately it wa disappointing this is more of an imitation spanish rice than a mexican rice it is tomato based and very sweet i expected it to have more of a taco type seasoning cumin garlic etc i cooked the rice for the recommended amount of time second and this came out very mushy and sticky mostly clumping together the flavor wa too much for me since i do not like sweet rice with my taco i would not try this again and i would be hesitant to try another flavor',\n",
              " 'the oatmeal inside the canister wa good however the packaging by amazon wa terrible every single can arrived dented and several of the can popped open amazon treat product terribly i haven t ordered from amazon in a long time not since they sent me expired pirate s booty which i tossed i thought they had gotten better and decided to give them another try what a mistake never again customer service at amazon leaf much to be desired a well if you get someone they ll probably speak broken english and be very hard to understand then they will not understand the problem you ll have to ask for a supervisor who you hope will speak better english be prepared to wait a long time for a supervisor and you may be disconnected several time before actually getting through to a supervisor the supervisor will ask for every piece of identification imaginable not short of your ssn before saying well what do you want me to do uh you re customer service service the customer amazon ha lost my business forever',\n",
              " 'my baby enjoyed this flavor when i purchased it at a store i ordered a case of it from amazon the whole case arrived moldy each jar popped when i opened it too showing that it wa properly sealed i contacted earth s best they said they would look into it but would not follow up with me given what is going on in our food industry i will not purchase any more product from this company it is to scary when feeding a baby amazon refunded me but did not take it any further be very careful and inform other family too update i wa so disappointed with the lack of concern from earth s best and amazon i contacted the fda they referred me to the usda because the product contained meat they took it very serious and had also received several complaint they have come to my house and written a report if anyone else noticed this problem please contact the usda br to report your claim problem they will investigate the problem and the earth s best plant to make sure they are following regulation',\n",
              " 'my baby enjoyed this flavor when i purchased it at a store i ordered a case of it from amazon the whole case arrived moldy each jar popped when i opened it too showing that it wa properly sealed i contacted earth s best they said they would look into it but would not follow up with me given what is going on in our food industry i will not purchase any more product from this company it is to scary when feeding a baby amazon refunded me but did not take it any further be very careful and inform other family too update i wa so disappointed with the lack of concern from earth s best and amazon i contacted the fda they referred me to the usda because the product contained meat they took it very serious and had also received several complaint they have come to my house and written a report if anyone else noticed this problem please contact the usda br to report your claim problem they will investigate the problem and the earth s best plant to make sure they are following regulation',\n",
              " 'i ordered a flat of food they were on sale that contained chicken apple compote dinner it contained of this variety and he liked the first one but the others although properly sealed were solid and moldy and stinky br one of the turkey dinner in the flat wa also improperly sealed the lid popped we were lucky because i just happened to check that one now i m so paranoid that i check all of them several time i called earth s best and they assured me that they haven t had this problem before and that i shouldn t worry about it i m so suprised that this got passed qa qc inspection at a baby food manufacturer why would a company take the risk of bad publicity when baby food manufacturer rely so much on a reputation of safety br br we also recently opened other jar in this flat after my son refused to eat them and realized that they were rotten of them were completely solid and domed at the top we poked a toothpick down to the bottom of the jar and it wa dry throughout shortly after eating his last dinner of this box my son started vomiting and refused to eat we have contacted the usda about this if this happens to you please same your jar so you can give them the information they need it may prevent other baby from getting sick br i ll never buy anything from earth s best again',\n",
              " 'i don t think it s eb i think it s amazon i buy eb from baby r u target and whole food and haven t had any problem it s only the shipment from amazon that come moldy',\n",
              " 'when i saw some of the earth s best jar offered a a gold box deal i remembered that i needed to offer a caveat to other parent br my child have previously enjoyed many earth s best flavor which in general taste quite good so in february when there wa a promotional offer through amazon we ordered two pack when they arrived one of the pack seemed ok but the other pack contained several broken jar and wa leaking it smelled and looked like there might be mold under the plastic that surrounded the second pack br i noticed that the shipping box holding the two pack had air filled padding on only the top side of the box which meant that there wa no padding protecting the bottom side br i don t know whether some of the jar had broken at the warehouse or during delivery but either way i wa afraid to use the unbroken jar too because what if the seal had broken or what if there were small piece of broken glass inside the intact jar too br for more durable item i still order from amazon but i canceled my subscription of the earth s best jar and from now on will buy jar at a physical store where i can check them first',\n",
              " 'i also ordered a flat of food they were on sale that contained the turkey and wild rice dinner one of them wa also improperly sealed the lid popped we were lucky because i just happened to check that one now i m so paranoid that i check all of them several time i called earth s best and they assured me that they haven t had this problem before and that i shouldn t worry about it i m so suprised that this got passed qa qc inspection at a baby food manufacturer why would a company take the risk of bad publicity when baby food manufacturer rely so much on a reputation of safety',\n",
              " 'we had the same issue with this product half the flat wa improperly sealed and resulted in an expired food issue but you can spot the unsafe jar because they have dried up turned solid resulting in a different sound when shaken also when opened these bad jar are mounded up in the middle and have a rotten smell it may be that the product wa frozen in shipping and the expansion caused the seal to break i have requested a refund from amazon br br our baby did love this meal though it wa like thanksgiving dinner the one that were still edible were delicious and are one of his favorite food',\n",
              " 'my daughter think this taste nasty and i agree she is sensitive to carrot so i wa looking for a food for travel that delivers protein but doesn t contain carrot though she eats homemade turkey and pea all the time she wouldn t even take a full bite of this i tasted a little bit and i can see why',\n",
              " 'this wa not a hit it s bitter like maybe the carrot were not sweet and or not peeled and the main ingredient is carrot amazon should include the ingredient for all item quality control seems to be an issue this is the second gourmet meal flavor with this issue i had never had a bad experience with the eb product before very disappointing',\n",
              " 'my girl seem to like this food they ve only ever shown an opposition to green bean but it is so messy it s apparently tomato based and it get everywhere where we usually just wipe their face gently you really have to clean them it simply turn their skin orange and the bowl and spoon end up crazy oily even after soaking',\n",
              " 'my mo old daughter only eats earth s best product and love all of them that is except this i can t figure out what it is but we finally concluded that it smell a little like catfood i tried feeding her this mango chicken flavor a few different time and she would only eat a few bite i gave up and donated the rest to the food bank hoping someone else s child would like it i have had a good experience with the subscribe and save product in general no broken jar and the quick delivery is great i find that it is cheaper than whole food even with the coupon this is the only flavor of earth s best baby food that my daughter dislike for what it s worth i suggest skipping this one or trying it in a variety pack first',\n",
              " 'earth s best is supposed to be one of the best baby food but apparently my son doe not have a palate for their food maybe he did not like the texture of this stuff it look gritty he normally eats anything but wa very sluggish with this food turning his head after a couple of bite',\n",
              " 'it wa bad before we open them i saw them when we got i did open it had some spot green color i did not know what it wa i wa very upset do not buy this product',\n",
              " 'when i saw some of the earth s best jar offered a a gold box deal i remembered that i needed to offer a caveat to other parent br my child have previously enjoyed many earth s best flavor which in general taste quite good so in february when there wa a promotional offer through amazon we ordered two pack when they arrived one of the pack seemed ok but the other pack contained several broken jar and wa leaking it smelled and looked like there might be mold under the plastic that surrounded the second pack br i noticed that the shipping box holding the two pack had air filled padding on only the top side of the box which meant that there wa no padding protecting the bottom side br i don t know whether some of the jar had broken at the warehouse or during delivery but either way i wa afraid to use the unbroken jar too because what if the seal had broken or what if there were small piece of broken glass inside the intact jar too br for more durable item i still order from amazon but i canceled my subscription of the earth s best jar and from now on will buy jar at a physical store where i can check them first',\n",
              " 'when i saw some of the earth s best jar offered a a gold box deal i remembered that i needed to offer a caveat to other parent br my child have previously enjoyed many earth s best flavor which in general taste quite good so in february when there wa a promotional offer through amazon we ordered two pack of the tender beef spinach when they arrived one of the pack seemed ok but the other pack contained several broken jar and wa leaking it smelled and looked like there might be mold under the plastic that surrounded the second pack br i noticed that the shipping box holding the two pack had air filled padding on only the top side of the box which meant that there wa no padding protecting the bottom side br i don t know whether some of the jar had broken at the warehouse or during delivery but either way i wa afraid to use the unbroken jar too because what if the seal had broken or what if there were small piece of broken glass inside the intact jar too br for more durable item i still order from amazon but i canceled my subscription of the earth s best jar and from now on will buy jar at a physical store where i can check them first',\n",
              " 'this is for puppy the bag is super small the bag didn t last more than a day i thought it wa funny when i got the bag i thought it wa a gift to be honest',\n",
              " 'i bought these for my wife for her birthday she love chocolate and it a staple gift i give her well this year i got her these she only ate one and put them away very strange later i caught her putting them in the garbage when i tried one i quickly realized why they taste like they have no sugar in them and leave an aftertaste that reminded me of badly burnt toast i had to brush my teeth to get the taste out we had a good laugh about it fortunately i also gave her a necklace which she really did love so they didn t ruin her birthday dollar wasted',\n",
              " 'i purchased this coffee to make iced coffee drink it ha very little coffee taste and the dark chocolate taste is more chemical than chocolate similar to the taste of flavoring used in baking br br i will not be purchasing this coffee again my suggestion to those considering a purchase buy something else',\n",
              " 'i am big coffee lover this wa some of the worst coffee i have ever had it smell wonderful but the taste is horrible i would not recommend purchasing this coffee at all',\n",
              " 'i have a one one coffee pod machine and have ordered pod online before these looked good and sounded like high quality coffee albeit a little pricey for pod this wa the worst cup of coffee i have ever tasted it left a bitter taste in my mouth that lingered for hour yuck don t be fooled by the fancy name and packaging it taste like rocket fuel fortunately amazon refunded my money when i explained how bad it wa throwing the whole box away',\n",
              " 'several of the seller s listing indicate kona blend but the delivered product doe not have this package printing br a a long time kona coffee drinker the content are more indicative of or less kona coffee have ordered twice and completely disappointed',\n",
              " 'you have to put a lot of sugar in this to make it taste good the coffee just by itself kind if ha a stinky smell like a poopy diaper or a pee pee poo poo puppy in a cup next time i am going for raspberry flavored coffee cause the chocolate is like poop yuck',\n",
              " 'the advertised regular price of is ridiculous hour energy drink are widely available for each don t buy from seller who inflate price and charge ridiculous amount you can get a case of for right here on amazon',\n",
              " 'i bought this bag and found it cheaper at smart and final it wa also old and and white this wa terrible i bought it to put in the candy canister i give to co worker so i didn t find out it wa old till a co worker informed me i wa so embarrassed do not buy this candy it all ended up in the trash very disappointed',\n",
              " 'this candy wa obviously old each chocolate wa discolored the krackel krispies were not crispy and the chocolate wasn t right peant butter cup and goodbars nasty the nut are horrible hershey pull their candy off of the shelf in the store when it is getting old seller must have bought it up sold it here last year or the year before it ha to be at least or more year old do not buy chocolate from zany value it isn t good for you br br i m sure that if the candy were fresh that it would have been just fine i have re ordered from a different vendor and will let you know if theirs is fresh a it should be or not',\n",
              " 'i don t know what all the positive reviewer here are raving about i tried ghiraradelli s premium cocoa mix and found it much too sweet that it wa almost unpalatable and not a very chocolatey taste either the direction given for one serving are tbsp of the powder to oz of milk did they meant tsp using their direction would yield a total of cup of hot cocoa not very economical for a product with so much sugar i had high hope for this product but wa very disappointed',\n",
              " 'very bitter i couldn t taste the coffee at all it basically taste like baking cocoa no sweetness no richness not coffee i bought the pack though so i ve begun mixing it half and half with swiss miss in the can and then sprinkling it with instant coffee after i ve made a cup even making it with whole milk couldn t make this yummy by itself if you like a rich chocolate taste with just a bit of coffee shop elsewhere',\n",
              " 'having liked the various type of ghirardelli chocolate and premium hot cocoa s i decided to try some ghirardelli chocolate premium hot cocoa mix chocolate mocha after trying several cup of this i started to wonder what happened to the ghirardelli chocolate a myself i thought it wa overpowered with the coffee taste not my cup of hot cocoa',\n",
              " 'i love hot cocoa and hot chocolate and have tried many different brand br br ghiradelli is by far the worst that i have ever tasted i honestly don t have any idea how they ever became famous for their hot cocoa br br this cocoa ha an awful stale taste and you can tell that it is made of cheap ingredient br br it even taste worse than the much lower cost brand like swiss miss and nestle br br if you want a real hot chocolate look up marie belle it is thick and rich not weirdly processed garbage like ghiradelli',\n",
              " 'not really sure what i expected but since i like ghirardelli chocolate and i like hot chocolate and hot mocha from coffee shop i thought i d like this product br br unfortunately despite following the direction and making this in milk it s not a rich and satifying a i hoped i hate to say it but i think swiss miss mixed instant coffee taste better than this br br that s unfortunate because this is a four pack of cannister and i m only half way through the first one',\n",
              " 'i bought this product and when it arrived it wa not organic beware the package shown in the photo is not an organic product',\n",
              " 'my recommendation get a juicer and make your own or try odwalla the taste wa bitter and the smell wa strange and foul the label say enriched with organic lemon juice and that is not pure carrot juice in my book maybe it wa the lemon i tasted i don t know i had about three sip and couldn t stomach it',\n",
              " 'talk about horrible br i wa craving carrot juice and the store wa out of the brand i normally like which ha what i like for ingredient carrot juice br br i did see before buying that it said it had organic lemon juice in it when i looked at the ingredient but i figured that the maker would only add it if it didn t change the taste that much well all i have to say is i taste no semblance of carrot at all it tasted more like drinking a bad v or something then after sipping a couple of ounce i now have an acid reflux feeling in my throat and chest i drink water with lemon pretty often and never have that happen so now i m wondering exactly how much lemon juice is in here br br if you want carrot juice this is not for you i don t even think they should call it that br br i don t normally do it but i am seriously considering taking this back to the supermarket i also think i should write a letter to the company because it is just that ridiculously bad',\n",
              " 'i tried this carrot juice for the first time today and regret buying it i took my first sip and actually wondered if someone had put pickle juice in the jar it wa awful i ve had several carrot juice and never had any a sour a this it is difficult to fathom how this product is still produced it ha lemon juice in it but apparently far far too much if you enjoy pickle juice with your carrot juice you will love this product i don t',\n",
              " 'i don t know how they did it but this is by far the worst tasting carrot juice i have ever had i think it ha to do with the long shelf life expires in i drank it in well i tried to drink it it wa probably bottled in or something br br yyeecchh',\n",
              " 'first indiana jones found the lost ark of the covenant then the mystical stone from the temple of doom then the holy grail and finally the palace of the crystal skull but the loser still cant find the lost lakewood bottle of real honest pure carrot juice minus lemon not without short round anyway br br i tried to leave no star or fewer cuz i felt and tasted the pain of other misguided customer i spewed out my first rancid acidic taste of this clearly labeled pure carrot juice lakewood s knucklehead faux pa is their troglodytian approach to the label design i can easily read pure carrot and pure again just above the illustration of carrot only but nada lemon but in much smaller print at the very bottom of the label and below the carrot only illustration sans lemon it mention enriched with lemon to be exact which mean of their marketing team make o donnell look constitutionally wise br br intentional or not it aint the keenest marketing approach to thinking consumer to paraphrase a wiser woman you might want to rethink those tie label in this case e brockovich even juicy juice wa smart enough to clear up their ambiguously labeled product today s mcfly fyi and word of the day is pure and brought to you from my sponsor merriam webster pure unmixed with any other matter a in gold pure gold jerry i watch tv and commercial doe it show br br for an amazing ride courtesy of the short bus marketing team see the label here br http www amazon com lakewood organic pure carrot juice dp b zshak br click on the photo and zoom in to find the of einsteinian logic or lack there of finding the pure b or at least requires no zoom matter of fact arm length like in a grocery store aisle is close enough to be misdirected br br ok lakewood so think what you will about my criticism be it glib harsh frank curt or possibly even unfair or totally wrong on the other hand i think not but i would love to be proven wrong are you game for a little challenge get three rd grader heck even three year old and give them each crayon green yellow and orange now ask them to draw a picture for the label of juice which contains carrot and lemon or if your brave enough for a real acid test lemon and carrot all i am saying is give s a chance in a world of scam rip offs and misconception and misdirection be honest and be excellent to one another br br no hard feeling right br br ret hink aka curt frank aka bombastic sarcastic b t rd',\n",
              " 'i bought this molasses at a local grocery store and nowhere on the bottle doe it state that it is unsulphered i called the company and talked to a sale rep in which he stated that it wa not unsulphered although it doe have a higher percentage of iron i m going back to plantation',\n",
              " 'this stuff doe not taste like black licorice or sweet in any way to me it taste kind of like thick nasty soy sauce i can t see how anyone could take tablespoon a week of this i barely managed to swallow the teaspoon i put in my mouth we eat very healthy and not much sugar but my tastebud say no way to this stuff it doe have of your daily iron so i will make some attempt to hide this in something else though i really can t imagine what right now br br in addition the cap wa not on tightly when the package arrived and the black goo had leaked out into into the packaging they did have it wrapped securely in bubble wrap though so it only got on that still not pleasant to have to clean the container before i could open it',\n",
              " 'the shipping wa very prompt and the packaging excellent all other item in this order were excellent these were lollipop shaped and painted like flamingo but you have to hold them up close to the eye to figure out what they are they ll be ok to set out on the candy buffet but they won t be the eye catching item we d anticipated when we ordered',\n",
              " 'i thought the whole fig would be softer for spreading but they are not you have fig laying in a very sweet syrup i ve only tried it on toast one time and it wa way to sweet to eat the fig just lay on top unspreadable i would not buy again save your money',\n",
              " 'the first ingredient is vinegar anyone who us hot sauce religiously should understand what that mean i read the other review and wa expecting a hell of a lot more than what i got it s got a good flavor to it but it s just a few step above tabasco from what the other reviewer described it seems this product ha a lot of variability in heat which mean it s going to have a lot of variability in quality the bottle i got is really tame far far below my dave s ghost pepper dave s ultimate insanity blair s after death da bomb beyond insanity da bomb ground zero professor phardtpounder s colon cleanser it s a lacking sauce hell sriracha is hotter than this if you get lucky and get a hot bottle congrats i use mine liberally on cheap pizza because that s all it s good for',\n",
              " 'i ordered this glitter based on the fact it advertised it wa edible i wouldn t even try to feed this to anyone let alone on a cake for child i read several review and they all said how fantastic it wa so i purchased on good faith when it arrived i wanted to see if it had a taste it taste like i assume craft glitter would taste i packaged it to send it back but didn t if you want a trust worthy edible glitter stick with wilton product',\n",
              " 'if i could give this food a zero i would i tried it out and the dog loved it until they all had the run for day it wa horrible smelled bad and i would never get it again',\n",
              " 'i bought the kit to dabble in spherification the item is a described and arrived on time my complaint is that the instruction measure the required chemical in fraction of gram my kitchen scale measure a low a gram but doe not do fraction of gram i cannot find a kitchen scale that measure fraction of gram therefore i find the kit difficult to use i would not recommend the kit because it requires the purchase of specialized scale that can measure tenth of gram',\n",
              " 'the chip are awesome i first bought them at costco and now i cannot get them there any more the bag at costco were about time larger than the one i recieved from amazon the arrived mostly in tiny crumbles of chip and the bag were about full i won t waste my money buying them from amazon again a the shipping is just not up to par if you can find the chip retail i would advise buying them that way their website say that super target and costco carry them but have not been able to find them there recently',\n",
              " 'i am constantly looking for gluten free food that i might enjoy for health reason i wa excited to see these in my local store not only need you be concerned just with the msg and soy protein be aware of the weight in the package the bag purchased stated oz one seemed to be much lighter than the other when i got them home i put them in zip lock bag to check the content the bag that had seemed very light compared to the others wa indeed less than a third of the amount in the other bag it wa no more than a very small handful it did not contain crushed or broken chip it contained very few chip this is not the time for corporation who want to succeed and grow to cheat consumer is this a growing trend i find it so',\n",
              " 'these thing are like eating poker chip with seasoning salt they re remarkably high in calorie too',\n",
              " 'the only other flavored coffee i ve used wa nestle hazelnut it too wa a whole bean i really enjoyed that one and thought i pick this one up br br where the nestle s shared flavor with the bean this one overpowers this one ha a burnt note that seems flavoring instead of roast related i like hazelnut and this a isn t anything like hazelnut br br now i have of the stuff my mistake br br more info br i am about of the way through the bag my opinion ha not changed also i would note a very inconsistent flavor today s grind seems almost devoid of the flavoring it appears they really don t have the adding of flavoring down the intensity of the flavoring is all over the park',\n",
              " 'this is not a deeply roasted or rich tasting coffee at all it s very light with unevenly sized bean clearly a blend some bean are normal size and some are tiny the hazelnut aroma and flavor is good but this coffee is not strong at all even using twice a many ground i could not get enough coffee flavor from these bean br br people who like very weak coffee will probably love this people who like starbucks will not like this one bit',\n",
              " 'it taste like jack link brand not wild bill s even the texture is totally different from wild bill s not recommended',\n",
              " 'i blame myself for trying to save a buck this coffee is way too weak for my tastebud they say it s a dark blend but it s not even close to a dark roast i buy at store in the end i have blend each can with a pound of dark roast and it s ok',\n",
              " 'if you like a rich dark coffee this product is not for you we d been looking for an organic alternative and i ve tried some great one so we ordered this when it wa on special unfortunately we ordered can to get the discount and now we are stuck with organic but very dull tasting coffee to make the best of it we ve bought other tried and true rich dark brand to mix with it very disappointing',\n",
              " 'so so there wa great review on product only made it once will try it again',\n",
              " 'i m recently widowed so have to learn to fix for a single person i hoped this microwaveable bowl of beefaroni would provide a tasty lunch to my surprise i found that it wa nearly all macaroni with some tomato sauce and a very small amount of beef the taste wa ok if you like macaroni and a rather strong tomato sauce but i expected more beef also a with so many canned food these day be prepared for a high dose of sodium salt that is of average daily requirement in one small serving overall no so good',\n",
              " 'when the flower showed up they were in pretty bad shape i figured that water and the provided plant food would spruce them up within a few day didn t happen they went from being dull and wilted to being dead within four day of arrival',\n",
              " 'i got this product ship one day express unfortunately when it arrived and i opened it all i saw wa a big blob of melted chocolate with little macadamia nut in the center of the holder',\n",
              " 'i only use c h baker sugar for all my baking need and i go through it fast with a lot of baking i looked on amazon to see if i could purchase it in a case for ease and cost saving at the grocery store one lb carton cost less than so to get three of them it would cost or less here on amazon it is plus shipping that total for a product yep that s almost time more expensive than if i just purchase it at the local grocery store i love amazon and wa really shocked to see this price this is a definite no thanks i know better than to purchase this item here',\n",
              " 'too soft i just used this sugar to bake one of the layer for a firm pound cake like layer cake intended for decoration wilton butter cake recipe this is a pretty hardy cake and can stand up to change in temperature etc and still turn out well i had already baked several of the layer with regular granulated sugar before i ran out and decided to use some of this baking sugar be forewarned this sugar make cake far too tender the layer literally fell apart coming out of the pan and it wa well cooled and in a pan liberally covered in cake release even when i wa mixing the batter it for some reason stuck to my stainless bowl and wa impossible to scrape entirely out i m sure this is good for meringue and such but i would never attempt to use it again for a cake or even cooky you would never get them out of or off the pan',\n",
              " 'the seed are fresh the shell are hard and the seed are jumbo sized the taste is good but the over powering amount of salt ruin the experience the ranch flavor would be much tastier if the salt used were lessened then again without the overwhelming amount of salt david might have to use a bit more of the flavor for which you are actually paying by the way i don t often find item too salty but this border on the ridiculous imo i wholeheartedly endorse the jumbo size seed a they are much more enjoyable than the puny regular sized sunflower seed by david br br i will be buying another brand of sunflower seed in the future hoping that it will not have the amount of salt the david s have br br update i finished all but a little of the case of david buffalo ranch flavored seed and bought a case of the jumbo brand ranch flavored sunflower seed i compared them back to back the jumbo brand is far less salty and flavorful compared to david s it will be interesting how i will find the jumbo brand to be after eating them for awhile right now they seem a bit under flavored still that is preferable to david s overuse of salt',\n",
              " 'the product is a good value for the amount you get however it is way too salty the product is very dry and firm i think this would be good if they cut the salt content in half',\n",
              " 'i m really disappointed with the change in quality it s not even the same product that we used to love a couple of year ago the product wa consistently fantastic but now the taste quality of the meat and freshness are hit or miss and recently it s all been a miss',\n",
              " 'i love all different type of beef jerky but not this one it ha the flavor of grocery store bought beef jerky once you get over the overwhelming taste of salt these stick are cut thin making them tender and easy to chew but they re just way too salty and definitely not worth',\n",
              " 'i read the review and thought i like salt i thought the saltiness wa on the exterior of the jerky there is very little salt taste on the outside of the jerky but the saltiness come out with every chew the strip are about the size of a chopstick or a very thin pencil ounce for is way too expensive there is very little beef flavor but too be fair it is probably covered up by the salt these taste very similar to the chopped and formed cheap jerky at the convenience mart that you swear you will never buy again but much more salty the amount of salt made my tongue numb if you want good jerky keep looking jack link s smokehouse beef jerky strip wood smoked count jar',\n",
              " 'the jack link s jerky strip were verrrryyyy skinny some were only about inch wide and counted a one strip if i had known this i would not have ordered the beef jerky strip tasty but totally not worth the money',\n",
              " 'too salty enough said i order the wood smoked count jar remember the price is for only one jar not two',\n",
              " 'i like almost everything about this jerky the toughness and chewiness but it is just too salty if you nibble it you may enjoy it but that is not how i eat also it is not good for my health to eat something this salty i have run into too many of salty beef jerky patch recently this review is for the wood smoked but if other flavor contains the same amount of salt per serving they will be just a salty why everything is either too fatty sweet or salty are they trying to get u addicted',\n",
              " 'i buy jerky all the time always willing to try something new i ve even made my own at home i agree with the review that called these salt stick they are way too salty for my taste also being a jerky eater for year i eat it because i like the toughness and chewiness of jerk but the tube i got wa nearly un chewable i have bit into some hard jerky in my time but jeez louise these were literally like chewing leather many of the strip would not yield to my super powered bite',\n",
              " 'this is a good name and a good value the texture and size of the jerky is fine br but be prepared for the salt it ruined it for me',\n",
              " 'wow the hickory smoked jerkey stick were incredibly salty i could not even eat half of the stick i have had different people try them and they had the same problem they are so terrible it taste like you are dumping salt into your mouth avoid these at all cost',\n",
              " 'first time ordering this jerky from amazon and i highly recommend to everyone do not buy it it is harder than a rock i have bought it from other seller not amazon and it is much better the experation date is not for another year but you cannot even bite it or chew it horrible i think it the worst jerky ive ever bought',\n",
              " 'i don t eat beef jerky and i wanted to buy some for a christmas gift i read all of the review at amazon com and decided that jack link would be the best purchase it came nicely packaged but there is liquid in the packaging a lot of it if you turn the packaging upside down the movement of the liquid is obvious so now i have to pay to return soupy beef jerky and buy a different type br br three day since my original review amazon cannot accept return of food item so it kindly replaced the beef jerky the replacement also ha liquid in it it s not fat but a liquid a described above this time i m asking for a refund',\n",
              " 'i buy jack link peppered jerky every month i tried these a this wa the first time seeing them don t waste your money they are so tough even the kid wouldnt eat them they do not taste anything like the other peppered jerky stick with the oz or the oz stick they are moist and not so much grizzle',\n",
              " 'this is the worst jerky i have ever tasted it is not edible i actually gave it to my dog and he spit it out i kid you not don t buy this product unless you are a bar owner and want your customer to guzzle beer to put out the salty fire that is created when you eat a small bite of this crap i deserve a refund for buying this dog food oh excuse me i forgot even my dog won t eat it',\n",
              " 'i did not realize when i decided to purchase these that they were boxed and because of that i found them stale and hard i had previously purchased these at a local store who packaged them in plastic and they were soft and fresh sorry that i could not give these a better review',\n",
              " 'i haven t had a cat yet that liked this one it s just a little too interesting for them i think it smell nasty but i think it s just the taste that really get them my current cat just won t touch it he might eat a couple of bite if he s really hungry but i always wind up throwing it out this one is ground so if your cat like piece don t try this one',\n",
              " 'this say pack so i assumed like other purchase that i made that it wa box each with pack big mistake you only get four little pouch who would pay over for a little squirt of applesauce don t make the same mistake buy elsewhere',\n",
              " 'i honestly have to say that i just won t buy this variety it look bad smell bad and i m sure taste bad because my cat won t touch it no way no how won t even look at it my other cat wa the same way with this one it just look like a huge ground up mess of leftover they had at a fish market i m sure some cat must like it because it s still being made but there s other thing out there much much better than this one',\n",
              " 'instead of a black graduation cap a top hat wa sent instead not great for a graduation gift also i think any buyer should be aware that by godiva pack they mean piece of candy very confusing description especially when you consider that the picture show at least piece of candy definitely not worth the price',\n",
              " 'these little taffy s are expensive i think i paid around for the pound they taste good but man do they give me gas after eating about my stomach would be rumbling for a few hour and i would have to pas gas a lot my girlfriend wouldn t let me eat them before bed hahaha there wa never any pain involved just gas i know it wa these doing it because we tested it over a few different day i wouldn t eat the taffy some day and would be fine all it took wa a few piece and an hour late the bubble gut would start br br this information may be useful since it not on amazon sugar free doe not carb free a pound bag is g br br from the manufacturer website br ingredient hydrogenated starch hydrolysate partially hydrogenated soybean and or coconut oil acid combination for flavor citric acid and or tartaric acid egg albumin salt lecithin sucralose natural and artificial flavor combination of red blue blue yellow yellow br br nutrition fact br serving size g br br amount per serving br calorie cal from fat br daily value br total fat g br saturated fat g br trans fat g br cholesterol mg br sodium mg br total carbohydrate g br sugar g br protein g',\n",
              " 'many people are buying this food believing it is safer because it is made in new zealand it is now made in the u by performance pet product i have been feeding this food to my cat since the recall horror of and prior to the change it wa excellent food and i wa thrilled with it since ziwipeak ha been switched to canning in the u it ha been a nightmare several time in the last year i have opened the food to find it is a green or blue colour i had to return those can because it made both my cat vomit and have loose stool also recently i have found large sharp bone piece are present and very large strange chunk of greyish pink material that look like connective tissue i ve contacted the u distributor twice but they have never replied a batch i got this month with an expiry date of ha caused severe vomiting and shedding with both cat who were previously healthy',\n",
              " 'my cat absolutely would not eat this food so it wa a waste of money it is just sitting in our cabinet i will donate it to a shelter',\n",
              " 'i ve eaten claxton farm fruit cake for over year and love them i thought i d be smart and order one pound cake at once a i know i d use them this time the quality control went out of town lousy absolutely disappointing of the loaf one wa good two were so dry they crumbled rather than be cut and i ended up adding them to cake batter in cupcake or put on ice cream a topping totally unable to slice br br the last two loaf just the opposite they were runny when taken out of the wrapper they just flopped over again had to use a ice cream topping or put into cake batter for cupcake br br claxton farm might have sold out or fired the quality controller awful quality after all these year do not order from claxton a you don t know what you ll get they lost a long time customer with me',\n",
              " 'in christmas i first ordered clayton fruit cake they where great nice big cherry and other fruit and nut these were overloaded with the good stuff that make a fruit cake really great so i re ordered in christmas of what a disappointment i ordered one pound cake when my order arrived i wa so excited yes i like fruit cake only too be very disappointed not only where the cake void of very much fruit unless you want too count the raisons a fruit i will not be ordering clayton fruit cake next year i can get the same result from a hostess fruit cake and only spend instead of close to dollar for the clayton cake',\n",
              " 'claxton dark fruitcake ha been a holiday tradition in our family since the mid s i ordered it directly from the company this year and when i served it at thanksgiving my guest and i thought i must have been fooled by a counterfeit website just claiming to sell claxton fruitcake it wa at best fruit and nut and consisted of a gummy light colored cake i emailed the company and expressed my disappointment after several email back and forth and after today talking to one of the owner they assured me that it wa the original dark recipe br br in reading the ingredient i noticed that corn syrup sugar and high fructose corn syrup were listed after flour which wa the th ingredient at the very end were listed molasses spice and artificial food dye high fructose corn syrup wasn t widely available until the mid s to mid s so i m not sure how it wa one of the original ingredient br br all of the people i talked to seemed to have the attitude that i wa so stupid that i couldn t possibly be observing what i had correctly although they offered to send replacement if i returned it at my own expense they told me that what i would receive would be identical to what i have one of the owner informed me that they had received zero complaint this year br br i am grieving the loss of an almost year tradition but the other cake are now in the trash',\n",
              " 'aweful they arrived immediately and still were a hard a cement the bag supposed re sealable zipper didn t re seal once and maybe the large amount had something to do with it but again i cannot believe how stale and terrible the candy inside wa',\n",
              " 'skittle are a great candy but for this product i would say do not buy it here i have seen this same bag for on sale and not on sale for at some big chain store the candy themselves are fine and if you are thinking of getting a big bag you know what they taste like just don t overspend to get a big bag price wise might be cheaper to buy a bunch of little bag',\n",
              " 'get this type of sugar any other way than through ordering it because the shipping is insane the sugar is fine but for the price of the shipping it wa not worth it',\n",
              " 'i bought this thing after a recommendation from a pet store rep my dog hardly touched the stuff and then i looked at the ingredient one of the first thing on it wa corn a grain known to cause allergy in dog a a matter of fact corn might be the most allergy prone food amongst dog not to mention thanks to our friend at monsanto it is almost always genetically modified gmo or a franken food unless it s organic real premium dog food brag that they ve no corn br br right at the top of the list of ingredient is chicken by product another no no among real premium dog food this mean all the waste that it is usually thrown out from the chicken since it s not real meat cheap dog food put this in their food simply because it s cheap but it s not real meat a little further down you will notice bha an artificial preservative which again real premium dog food do not have br br in short biljac is a joke it is basically insanely overpriced alpo with no organic ingredient whatsoever and us all the shortcut filler and chemistry that the cheapest dog food on the market use don t be fooled by the old fashioned appeal of the company s year in business there is nothing but modern chemistry in the bag and all the folksy appeal will not make up for cheap lousy ingredient calling this stuff premium dog food would be like calling a kia a mercedes for nearly the same price a this overpriced alpo one could buy organic dog food free of preservative corn and cheap by product',\n",
              " 'i am celiac and have been keeping a strictly gluten free diet for over six year and wa excited to learn about this product after eating it the taste and texture wa not bad i became sick in the way that i always do when ingesting gluten nana s also make non gluten product and clearly are not careful about cross contamination if you are concerned about ingesting gluten or keeping a strictly celiac diet i strongly recommend you avoid this product i also think that the company should not deceive their customer many who suffer from celiac disease and should more clearly label their product a it is a danger to the health of many who would be inclined to buy this product',\n",
              " 'the flavor is decent berry vanilla but i just can t handle the texture it s like a mouthful of sawdust that just disintegrates when you bite into it i ve been gluten free for about year and there are much better product out there my kid won t even eat these',\n",
              " 'like other reviewer i rarely eat cooky because i have an anaphylactic response to wheat gluten therefore i generally love any cooky i m not allergic to these are an exception the taste is mild and fleeting the texture is like sand and leaf a dry feeling in your mouth the only purpose these cooky are good for is dieting because they are simply inedible blah',\n",
              " 'i love the other nana s cookie bar and cooky so i thought i d give these a try even though they are no gluten and made with rice flour instead of wheat flour they look nice but the texture is a bit strange it s kind of like eating really fine sand and they are too dry and crumble at the slightest touch they don t taste bad which is a plus but i won t be buying these again',\n",
              " 'i purchased these because they do not contain dairy soy or corn well in addition to being dairy free soy free they are flavor free absolutely horrible dry tasting bar first word out of my mouth were taste like dirt so that s what i m going with do not waste your money',\n",
              " 'these are so gross i can t believe i wasted my money on them they gave me an immediate migraine from the overwhelming artificial smelling fragrance i am not that picky an eater and i generally love any gf cookie just b c i am so grateful they exist but omg i immediately spit this out and rinsed out my mouth even my snack loving toddler didn t like these eating them that is she did have a great time massaging it into a fine powder which take almost no effort at all what a mess and what a waste of money',\n",
              " 'we have a gluten free household of no one in our family like these my child are begging me to throw the box away i think they are afraid i ll sneak one in their lunchbox the cookie crumbles leaving a dry mess of rice flour and hardish chewy fruity bit in your mouth have a glass of water nearby if you try these i hate to leave a bad review but there are way better gluten free option out there br br i won t throw the box away i ll pas it on to another gluten free family i know and let them form their own opinion',\n",
              " 'i wa disappointed in the unpleasant flavor and dry texture of nana s chocolate munch cookie bar to me there wa an odd artificial almost chemical like after taste in them that cocoa powder can t even cover up i threw away the entire box after tasting the first bar',\n",
              " 'i have enjoyed this product for quite some time however i am disgusted by the fact that the price keep increasing at per case customer are paying more than per box for small cookie bar ridiculous i will find a healthier more reasonably priced snack to munch on shame on nana and amazon',\n",
              " 'taste like dry brownie w invisible piece of puffed rice which get stuck in your teeth come on we can do better than this for cookie bar',\n",
              " 'it s crunchy i m now love the smoother nana s like a href http www amazon com gp product b fnex c nana s no gluten lemon cookie ounce cooky pack of a or a href http www amazon com gp product b fnex m nana s no gluten chocolate cookie ounce pack of a you get the idea i hope br i don t have coffee or chocolate anymore br if you don t have a problem great but i found out i do',\n",
              " 'this product is definitely not a good a some other gluten free cooky try pamela s',\n",
              " 'i know what you re probably thinking they re vegan they re gluten free they re a dream come true the taste of these bar is very banana y br but i doubt you ll be able to ignor the texture long enough to enjoy that the texture is akin to eating a handful of dirt i m no dirt eating pro but when i wa trying to chew that s all i kept thinking please if you re thinking about trying these go down to your local natural food market and pick up a box there first while you re at it you may want to get some of your favorite soymilk and lot of it br br p br if you re in the market for a yummy vegan bar try the betty lous brand the strawberry is super good',\n",
              " 'i bought a box waist d my but people love me that i could give them this br after having a bough of having to rush to bathroom i re read the post and looked at ingredient closer br gluten free whole grain dextrin br if you don t have a problem great if you do you may end up re reading the s later br i like the idea of bite had them before going to try out pamela s br i love the nana s cooky but it s very hard not to eat the whole cookie the a href http www amazon com gp product b fnex c nana s no gluten lemon cookie ounce cooky pack of a a href http www amazon com gp product b fnb bc nana s no gluten ginger cookie ounce package pack of a it s two serving plus the texture is soooo smooth it go s down very easy i don t have coffee or chocolate anymore have green tea decaf br need to go to the nana s banana bar modify or delete my post br only bite i hope pamela s ginger work out for me br i do love this too a href http www amazon com gp product b fvum c lundberg eco farmed honey nut rice cake ounce unit pack of a a href http www amazon com gp product b fvum lundberg eco farmed buttery caramel rice cake ounce unit pack of a a href http www amazon com gp product b fvzw k lundberg eco farmed brown rice cake salt free ounce unit pack of a',\n",
              " 'be careful even though this is listed under gluten free section it is not gluten free',\n",
              " 'after eating this product i had a stomach ache followed by hour on the toilet those of you with a gluten intolerance and celiac disease know exactly what those symptom mean somehow this product is contaminated with gluten it is not gluten free please spare yourself the pain and suffering these cooky are not worth it br br for those of you who are tempted to continue eating this product even after you have been informed that it is not gluten free please keep these fact in mind br if you eat gluten it damage your intestinal lining br if you keep on eating gluten the damage to your intestine will get worse and so will your symptom br if you further continue to eat gluten you will end up in malabsorption increase your risk for intestinal cancer and lead to all sort of problem including infertility autoimmune disorder oteoporosis br in other word cheating on your diet is not worth it br don t eat nana s product br br instead i suggest you buy something like pamela s chunky chocolate cooky they are one of my favorite',\n",
              " 'i wa a bit disappointed in these they crumble very easily and have an unusual texture my son doe not like them',\n",
              " 'i don t think i ve ever eaten anything drier than these cookie bar ever in my life they taste okay but i just can t choke them down even with coffee',\n",
              " 'this device s lid doe not seal i am not sure why it is being sold a anything other than a trashcan did work well for beer a long a it wa transferred to a secondary right at the end of fermentation',\n",
              " 'i m sorry to hear about the difficulty in finding the detail about the hill s science diet savory chicken entr eacute e adult cat canned food on our website br br i checked our website and found that the item hill s science diet savory chicken entr eacute e adult cat canned food is currently only offered by the third party seller on our website br br amazon merchant and marketplace seller are independent third party seller who offer a variety of new and used merchandise through amazon com when buying from a third party your order is fulfilled directly by the merchant a a result amazon merchant set their own shipping term in general these charge reflect the handling cost for assembling and packaging each order a well a shipping cost br br product listed for sale by amazon merchant should be identical to the new item sold by amazon com with any difference noted in the description of the item s condition br br when you shop with an amazon merchant their merchant s shipping term will apply to your purchase rate restriction and method vary from merchant to merchant and are not set by amazon com for instance while some merchant will ship to international destination others do not br br you can always view detail of a merchant s rate and policy from the product detail page of an item you re interested in buying and from the order form before you submit your order br br a amazon com doesn t handle the shipping of amazon merchant item you ll need to contact the specific merchant with any question you may have before ordering they ll be happy to help answer your question',\n",
              " 'my kid love these fruit roll ups and i remember having them a a child so i wa delighted when i saw i could buy a large box however when they came we were disappointed the were were very old and hard we only opened one and it broke into piece because it s a food item you can t return which i think is ridiculous we couldn t even eat them i order lot of stuff from amazon and have had a great experience except for these fruit roll ups don t buy food from amazon the only reason i gave it star is because i had to click on something and they did arrive on time',\n",
              " 'the item shipped in an unsealed plastic bag within a brown cardboard shipping sleeve arrived with product loose and falling out of the cardboard no effort had been made to seal the plastic bag or the shipping sleeve unbelievable br the product itself is very foul tasting with a horrible lingering aftertaste could be the coating br br i am very disappointed in the purchase and would never buy again especially from this vendor stay away from these',\n",
              " 'we have two dog and after a few week of switching to the beneful healthy weight we ve noticed very unpleasant result they whine to go outside much more than they ever have and actually had bowel movement right in front of u if we don t get them outside in time our dog have gone from needing to go outside a few time a day to or time daily to handle the number of bowel movement they have my theory is this dog food just go right through the dog and not much of it actually is being utilized by the body which make me wonder how many nutrient my dog are actually receiving poor dog food in my opinion and should only be used if your dog need a laxative i will most likely be going back to purina one',\n",
              " 'ive noticed that my dog ha had more frequent bowel movement than usual he is on a strict schedule for potty break and ha been very good on it for the past year until i tried this food now he poop in my apt in front of u because he ha to go so bad like the poster above it one hell of a laxative when my very well trained yorkie cant even hold it in',\n",
              " 'i bought this dog food because the bag showed pictured of veggie and chunk of meat and with a name like beneful i thought i wa purchasing a nutritious brand of dog food my dog did eat this food but after reading the ingredient i completely regret purchasing it and feel just awful for feeding it to my dog the first three ingredient are ground yellow corn chicken by product meal and corn gluten meal how disgusting is that the main ingredient is a corn filler one thing my vet told me a while back that i never forgot when you eat corn what come out of the other end the same thing happens with dog basically dog cannot digest corn it is just a filler and cause them to actually eat more to feel full poop out more and retain less nutrient the only meat in beneful at all is a by product it not even a real meat by product are the stuff leftover once all the actual meat is harvested we re talking beak chicken foot eyeball even chicken poop i would not recommend this product to anyone for any reason ever it is an absolutely awful dog food i can t believe the picture of veggie and full chunk of meat on the bag can be allowed to be on the packaging of such a disgusting product it is very misleading and should be considered false advertising br br i recommend to stay far away from beneful and most purina product when purchasing a dog or cat food the most important thing to consider is the first ingredient just make sure those first three are decent ingredient that you would eat yourself now that i know what to look for i usually buy my pet all natural organic food such a blue buffalo halo or wellness',\n",
              " 'i started giving my dog this a couple of week ago he really loved a different beneful and so i gave this one a try he love it and is excited when it time to eat he would barely touch purina little bite i took him out of state to my mom s place and he pooped in the house time i took the blame for not paying enough attention to him however since we ve come back home he s pooped in my apt time in week he never doe that i thought that maybe he wa being spiteful but i really think he just can t help it the food is one hell of a laxative if thats what you re looking for i m glad i only bought the small bag because i will not be giving this one another try it only get star because he like it and because i m sure he would lose weight if he keep pooping this much terrible',\n",
              " 'disappointed the big box had a very different flavor than the smaller box i am not sure why but not good',\n",
              " 'we recently purchased the k cup machine and i wa quite excited a i drink iced tea rather than coffee this blend of black tea is quite bitter and not at all what i wa looking for it work a advertised just not the right tea for me',\n",
              " 'this is a really easy way to make terrible iced tea sometimes convenience outweighs taste but not always what this product doesn t tell you before you buy it is that the ingredient are black tea with tea extract hibiscus and citric acid it s not just tea and it doesn t taste like just tea either it taste like powdered iced tea from a jar it ha an overtaste of lemon that s probably the citric acid and that fake tea flavor that come from powdered iced tea mix i ll probably drink it when it s really convenient but i won t serve it to friend and i won t drink it if i have time to make a glass of real tea and pour it over ice',\n",
              " 'not a big fan will not buy this again plus she eats it really quick too other than the throw up part',\n",
              " 'the product wa hard a a rock i could not even break it in half both dog had hard time chewing them puppy could not either will not get product again unless the two package i got were old and dried out',\n",
              " 'we have a year old pug who will eat just about anything but these unfortunately he just would not go near them no matter how hard we tried to peak his interest',\n",
              " 'i had high hope for this product because it is healthy and affordable but neither of my chihuahua liked it one just sniffed at it and walked away the other dog chewed on it for a short while and then walked away from it one dog like a href http www amazon com gp product b kuo x nylabone nutri dent original minichews for mini dog count pouch a and the other dog like a href http www amazon com gp product b b w n bully stick free range standard regular thick select inch pack by downtown pet supply a i wa looking for some alternative that were healthy and more affordable i guess i ll be sticking with their current treat for now',\n",
              " 'these taste great and it s true what other reviewer have said about the consistency being good and them not sticking in your teeth however a an energy boost for running they don t do a thing for me in fact they actually cause a stitch so i just eat them whenever i feel i need a sugary fix',\n",
              " 'although some may like this drink it will not be a repeat buy for me calorie for an oz serving is too much when that amount of orange juice is actually this drink isn t orange tangerine juice but a mix of juice secondly if this were unaltered juice seems you wouldn t have to add ascorbic acid to get of your daily vitamin c since that amount of orange juice naturally provides over perhaps the processing requires it but ala the biggest issue for me wa taste it tasted to me like dishwashing liquid smell br br on the good side the carbonization is just right and the flavor is bold for those who seek that there is no sugar added and the non traditional taste is not overly sweet the taste may appeal to some but i m not a fan',\n",
              " 'i didn t like this carbonated juice although it appears to be all juice not artificial flavor it taste somewhat artificial perhaps it taste more like canned orange juice which taste nothing like real orange juice i fully expected to like this a i do like fizzy fruit juice drink this one did not do it for me',\n",
              " 'yeah it s gluten free and whatever but unless that s a really big issue for you and you re having trouble finding sugary drink to enjoy on your gluten free diet there s no real draw to this drink over say orange fanta or any number of other carbonated juice type drink i thought it wa massively overly sweet and i have something of a sweet tooth the orange flavor wasn t particularly authentic or delicious and it left a sour aftertaste i got a free sample this time and i cannot see actually paying money to buy this product again on an environmental note packaging and shipping these thing in tiny little can make for more waste and i don t appreciate that either not a fan',\n",
              " 'i wa surprised at the ingredient list and natural stamped on the side because this drink tasted just like a compeletely artifical energy drink this is going to be a short review for me because i don t really have much else to say i could barely tell it wa orange because a with energy drink it just taste like an amalgamation of fruit my wife wa especially confused she get sick at the smell of drink like monster and she had the exact same reaction here br br i know this isn t an energy drink but for the life of me i just can t reconcile the taste with the ingredient if you re the sort of person who drink some fresh fruit juice and think i really wish this tasted more like a completely artifical enegry drink instead of natural fruit juice then this is the product you ve been dreaming of',\n",
              " 'switch orange tangerine is billed a the natural alternative to soda and or artificially sweetened juice drink however i found it to be pretty ordinary br br first the good stuff it is orange tangerine juice ha no sweetners is natural ha of your daily allowance of vitamin c and ha a nice carbonation tang to it if you are health conscious and want to drink something like a soda w o actually drinking a soda this would probably be right down your alley br br however i found the taste to be somewhat odd i could definitely taste the tangerine in it mixed with the orange but the combination of the two or the bottling or something give this switch a taste akin to eating an orange that is almost too ripe you know that kind of fermented taste of an orange that you need to eat now because by tomorrow you ll need to put out for the bird not exactly something that i d look forward to drinking br br so for me although this wa somewhat good it not exactly something i would get again i m not really a health nut so if i wanted an orange soda i d just go out and get an orange crush',\n",
              " 'this drink contends to be a natural alternative to soda while it definitely is natural i would not agree with the alternative to soda aspect specifically the liquid is much closer in consistency to juice and in fact ha more sugar than juice over gram per ounce sure it s lightly carbonated but that alone doesn t make this drink a soda also if you wanted something natural i d go with hansen s soda or a number of natural soda which are definitely soda this drink is basically juice with carbonation br br the other notable issue i had with this wa it size oounces doesn t get you far gulp maybe and coupled with the thickness of the drink since it is juice with quite a bit of natural sugar you don t get very much thirst quenching effect from this the juice also account for the strong aftertaste br br finally natural sugar is still sugar and ha just a many calorie this stuff wouldn t make the cut in most school vending policy with it high sugar content and i wouldn t give this to my kid instead a couple of caprisun roaring water juice pouch which each have about the amount of sugar would do the trick for them br br not recommended sorry',\n",
              " ...]"
            ]
          },
          "metadata": {},
          "execution_count": 23
        }
      ],
      "source": [
        "corpus"
      ]
    },
    {
      "cell_type": "code",
      "execution_count": 24,
      "metadata": {
        "id": "8QqgBEvRfrZe"
      },
      "outputs": [],
      "source": [
        "from nltk import sent_tokenize\n",
        "from gensim.utils import simple_preprocess"
      ]
    },
    {
      "cell_type": "code",
      "execution_count": 25,
      "metadata": {
        "colab": {
          "base_uri": "https://localhost:8080/"
        },
        "id": "eeq5nwUmj2NH",
        "outputId": "48ed4dd1-1081-46d3-81a8-9546c61e6e89"
      },
      "outputs": [
        {
          "output_type": "stream",
          "name": "stderr",
          "text": [
            "100%|██████████| 85113/85113 [00:09<00:00, 8516.42it/s]\n"
          ]
        }
      ],
      "source": [
        "words = []\n",
        "for sent in tqdm(corpus):\n",
        "  sent_token=sent_tokenize(sent)\n",
        "  for sent in sent_token:\n",
        "    words.append(simple_preprocess(sent))"
      ]
    },
    {
      "cell_type": "code",
      "execution_count": 26,
      "metadata": {
        "id": "1kH3vD1TkN0L"
      },
      "outputs": [],
      "source": [
        "model = gensim.models.Word2Vec(words)"
      ]
    },
    {
      "cell_type": "code",
      "execution_count": 27,
      "metadata": {
        "colab": {
          "base_uri": "https://localhost:8080/"
        },
        "id": "a6jtKGZckqpa",
        "outputId": "d2e8ec10-9278-4453-9aed-a2401da0207f"
      },
      "outputs": [
        {
          "output_type": "execute_result",
          "data": {
            "text/plain": [
              "85113"
            ]
          },
          "metadata": {},
          "execution_count": 27
        }
      ],
      "source": [
        "model.corpus_count"
      ]
    },
    {
      "cell_type": "code",
      "execution_count": 28,
      "metadata": {
        "colab": {
          "base_uri": "https://localhost:8080/"
        },
        "id": "brSEnMyuktPX",
        "outputId": "87f8816c-22f2-439f-f5fe-84c41b48b63a"
      },
      "outputs": [
        {
          "output_type": "execute_result",
          "data": {
            "text/plain": [
              "5"
            ]
          },
          "metadata": {},
          "execution_count": 28
        }
      ],
      "source": [
        "model.epochs"
      ]
    },
    {
      "cell_type": "code",
      "execution_count": 29,
      "metadata": {
        "colab": {
          "base_uri": "https://localhost:8080/"
        },
        "id": "ArSybn1fkwbB",
        "outputId": "476d882f-98ff-4d9b-cb27-10812e61363b"
      },
      "outputs": [
        {
          "output_type": "execute_result",
          "data": {
            "text/plain": [
              "[('great', 0.7954294681549072),\n",
              " ('decent', 0.6746936440467834),\n",
              " ('bad', 0.6730168461799622),\n",
              " ('fantastic', 0.6566901206970215),\n",
              " ('tasty', 0.6439919471740723),\n",
              " ('ok', 0.6346919536590576),\n",
              " ('pleasant', 0.6218565702438354),\n",
              " ('delicious', 0.5878437757492065),\n",
              " ('nice', 0.5829324722290039),\n",
              " ('okay', 0.576754093170166)]"
            ]
          },
          "metadata": {},
          "execution_count": 29
        }
      ],
      "source": [
        "model.wv.similar_by_word('good')"
      ]
    },
    {
      "cell_type": "code",
      "execution_count": 30,
      "metadata": {
        "id": "Lijzbu9zk4gH"
      },
      "outputs": [],
      "source": [
        "def avg_word2vec(doc):\n",
        "  return np.mean([model.wv[word] for word in doc if word in model.wv.index_to_key],axis=0)"
      ]
    },
    {
      "cell_type": "code",
      "execution_count": 31,
      "metadata": {
        "colab": {
          "base_uri": "https://localhost:8080/"
        },
        "id": "bHhlOoC5lT47",
        "outputId": "4d5b8896-8415-497b-e3eb-cb1d17b9fdf1"
      },
      "outputs": [
        {
          "output_type": "stream",
          "name": "stderr",
          "text": [
            "100%|██████████| 85113/85113 [02:51<00:00, 496.24it/s]\n"
          ]
        }
      ],
      "source": [
        "x=[]\n",
        "for i in tqdm(range(len(words))):\n",
        "  try:\n",
        "    x.append(avg_word2vec(words[i]))\n",
        "  except RuntimeError:\n",
        "    print(\"Empty value at\",i)\n"
      ]
    },
    {
      "cell_type": "code",
      "execution_count": 32,
      "metadata": {
        "colab": {
          "base_uri": "https://localhost:8080/"
        },
        "id": "jKPySrAylcM4",
        "outputId": "403a0c1e-cfe3-4620-e118-4816968bcf53"
      },
      "outputs": [
        {
          "output_type": "execute_result",
          "data": {
            "text/plain": [
              "85113"
            ]
          },
          "metadata": {},
          "execution_count": 32
        }
      ],
      "source": [
        "len(x)"
      ]
    },
    {
      "cell_type": "code",
      "execution_count": 34,
      "metadata": {
        "colab": {
          "base_uri": "https://localhost:8080/",
          "height": 141
        },
        "id": "05PHKglfIvve",
        "outputId": "6b842a5a-f3a2-47ee-85a8-a87bc5e86b4b"
      },
      "outputs": [
        {
          "output_type": "error",
          "ename": "IndexError",
          "evalue": "list index out of range",
          "traceback": [
            "\u001b[0;31m---------------------------------------------------------------------------\u001b[0m",
            "\u001b[0;31mIndexError\u001b[0m                                Traceback (most recent call last)",
            "\u001b[0;32m<ipython-input-34-0c31d0c06e06>\u001b[0m in \u001b[0;36m<cell line: 1>\u001b[0;34m()\u001b[0m\n\u001b[0;32m----> 1\u001b[0;31m \u001b[0mx\u001b[0m\u001b[0;34m[\u001b[0m\u001b[0;36m187996\u001b[0m\u001b[0;34m]\u001b[0m\u001b[0;34m\u001b[0m\u001b[0;34m\u001b[0m\u001b[0m\n\u001b[0m",
            "\u001b[0;31mIndexError\u001b[0m: list index out of range"
          ]
        }
      ],
      "source": [
        "x[187996]"
      ]
    },
    {
      "cell_type": "code",
      "execution_count": 35,
      "metadata": {
        "colab": {
          "base_uri": "https://localhost:8080/"
        },
        "id": "ZI7oDmr5ST2q",
        "outputId": "b1ead37a-2d00-4bd0-c97b-67972636b1c1"
      },
      "outputs": [
        {
          "output_type": "stream",
          "name": "stdout",
          "text": [
            "Original length: 85113, Cleaned length: 85113\n"
          ]
        }
      ],
      "source": [
        "\n",
        "\n",
        "# Filter out invalid entries (e.g., NaN or None)\n",
        "x_cleaned = [vec for vec in x if vec is not None and not np.isnan(vec).any()]\n",
        "\n",
        "print(f\"Original length: {len(x)}, Cleaned length: {len(x_cleaned)}\")\n"
      ]
    },
    {
      "cell_type": "code",
      "execution_count": 36,
      "metadata": {
        "id": "WiCNz_gqlhGG"
      },
      "outputs": [],
      "source": [
        "x=x_cleaned"
      ]
    },
    {
      "cell_type": "code",
      "execution_count": 37,
      "metadata": {
        "colab": {
          "base_uri": "https://localhost:8080/"
        },
        "id": "t5kU2jgGlk14",
        "outputId": "1871c442-4c1e-4fa8-c914-811ad21d386e"
      },
      "outputs": [
        {
          "output_type": "stream",
          "name": "stdout",
          "text": [
            "85113\n"
          ]
        }
      ],
      "source": [
        "#x = np.delete(x,188001 )\n",
        "print(len(x))"
      ]
    },
    {
      "cell_type": "code",
      "execution_count": 38,
      "metadata": {
        "colab": {
          "base_uri": "https://localhost:8080/"
        },
        "id": "GsdrOXXZlndI",
        "outputId": "63352780-a68d-460a-cf25-a58c9334c2cd"
      },
      "outputs": [
        {
          "output_type": "stream",
          "name": "stdout",
          "text": [
            "0    0.0\n",
            "1    0.0\n",
            "2    0.0\n",
            "3    0.0\n",
            "4    0.0\n",
            "Name: Score, dtype: float64\n"
          ]
        }
      ],
      "source": [
        "y=data['Score']\n",
        "print(y.head())"
      ]
    },
    {
      "cell_type": "code",
      "execution_count": 39,
      "metadata": {
        "colab": {
          "base_uri": "https://localhost:8080/"
        },
        "id": "AJ5ZUwOas1w5",
        "outputId": "c9cd7374-91b3-4d9c-cda3-4b9042b08585"
      },
      "outputs": [
        {
          "output_type": "stream",
          "name": "stderr",
          "text": [
            "100%|██████████| 85113/85113 [00:00<00:00, 893144.35it/s]\n"
          ]
        }
      ],
      "source": [
        "data2 = []\n",
        "for i in tqdm(range(0, len(x))):\n",
        "    data2.append(x[i].reshape(1, -1))\n",
        "\n",
        "\n",
        "df = pd.DataFrame(np.vstack(data2))\n"
      ]
    },
    {
      "cell_type": "code",
      "execution_count": 40,
      "metadata": {
        "colab": {
          "base_uri": "https://localhost:8080/",
          "height": 255
        },
        "id": "OBKP6mbtnNlD",
        "outputId": "f5610794-e114-409c-c365-6e72de3fa380"
      },
      "outputs": [
        {
          "output_type": "execute_result",
          "data": {
            "text/plain": [
              "         0         1         2         3         4         5         6   \\\n",
              "0 -0.021764  0.627362 -0.124267 -0.134637  0.481551 -0.113179  0.005097   \n",
              "1 -0.055148  0.455837  0.479555  0.016780 -0.532870 -0.545283  0.457468   \n",
              "2 -0.382801  0.736770 -0.113886 -0.229216 -0.293731 -0.091330  0.304878   \n",
              "3 -0.485985  0.791153 -0.293308  0.065463 -0.440869 -0.160164 -0.194900   \n",
              "4 -0.293769  0.876703 -1.059570  0.370984  0.005596 -0.079276 -0.291085   \n",
              "\n",
              "         7         8         9   ...        90        91        92        93  \\\n",
              "0 -0.124020  0.070741  0.181760  ...  0.295989  0.149262  0.734991 -0.048673   \n",
              "1 -0.474547  0.612917  0.449376  ...  0.240227 -0.364871  0.702760  0.098458   \n",
              "2  0.187770  0.322322 -0.204775  ...  0.009905 -0.284170  0.599702 -0.098819   \n",
              "3  0.082499  0.679941  0.220660  ... -0.135065  0.012016  0.489067 -0.301516   \n",
              "4  0.196196  0.368528  0.353888  ...  0.386382  0.235662  0.810351  0.004268   \n",
              "\n",
              "         94        95        96        97        98        99  \n",
              "0  0.046482 -0.458000  0.001161  0.047459 -0.468331 -0.174157  \n",
              "1 -0.225699  0.429614 -0.252763 -0.092983  0.262343 -0.116374  \n",
              "2 -0.239884 -0.173517 -0.357961 -0.061946 -0.138134  0.007908  \n",
              "3 -0.578850 -0.235834  0.431674  0.287436  0.644099 -0.100064  \n",
              "4 -0.866289 -0.355452  0.216369  0.721730  0.778076 -0.297209  \n",
              "\n",
              "[5 rows x 100 columns]"
            ],
            "text/html": [
              "\n",
              "  <div id=\"df-2118f29a-6989-4aa3-a622-be70b6fb1667\" class=\"colab-df-container\">\n",
              "    <div>\n",
              "<style scoped>\n",
              "    .dataframe tbody tr th:only-of-type {\n",
              "        vertical-align: middle;\n",
              "    }\n",
              "\n",
              "    .dataframe tbody tr th {\n",
              "        vertical-align: top;\n",
              "    }\n",
              "\n",
              "    .dataframe thead th {\n",
              "        text-align: right;\n",
              "    }\n",
              "</style>\n",
              "<table border=\"1\" class=\"dataframe\">\n",
              "  <thead>\n",
              "    <tr style=\"text-align: right;\">\n",
              "      <th></th>\n",
              "      <th>0</th>\n",
              "      <th>1</th>\n",
              "      <th>2</th>\n",
              "      <th>3</th>\n",
              "      <th>4</th>\n",
              "      <th>5</th>\n",
              "      <th>6</th>\n",
              "      <th>7</th>\n",
              "      <th>8</th>\n",
              "      <th>9</th>\n",
              "      <th>...</th>\n",
              "      <th>90</th>\n",
              "      <th>91</th>\n",
              "      <th>92</th>\n",
              "      <th>93</th>\n",
              "      <th>94</th>\n",
              "      <th>95</th>\n",
              "      <th>96</th>\n",
              "      <th>97</th>\n",
              "      <th>98</th>\n",
              "      <th>99</th>\n",
              "    </tr>\n",
              "  </thead>\n",
              "  <tbody>\n",
              "    <tr>\n",
              "      <th>0</th>\n",
              "      <td>-0.021764</td>\n",
              "      <td>0.627362</td>\n",
              "      <td>-0.124267</td>\n",
              "      <td>-0.134637</td>\n",
              "      <td>0.481551</td>\n",
              "      <td>-0.113179</td>\n",
              "      <td>0.005097</td>\n",
              "      <td>-0.124020</td>\n",
              "      <td>0.070741</td>\n",
              "      <td>0.181760</td>\n",
              "      <td>...</td>\n",
              "      <td>0.295989</td>\n",
              "      <td>0.149262</td>\n",
              "      <td>0.734991</td>\n",
              "      <td>-0.048673</td>\n",
              "      <td>0.046482</td>\n",
              "      <td>-0.458000</td>\n",
              "      <td>0.001161</td>\n",
              "      <td>0.047459</td>\n",
              "      <td>-0.468331</td>\n",
              "      <td>-0.174157</td>\n",
              "    </tr>\n",
              "    <tr>\n",
              "      <th>1</th>\n",
              "      <td>-0.055148</td>\n",
              "      <td>0.455837</td>\n",
              "      <td>0.479555</td>\n",
              "      <td>0.016780</td>\n",
              "      <td>-0.532870</td>\n",
              "      <td>-0.545283</td>\n",
              "      <td>0.457468</td>\n",
              "      <td>-0.474547</td>\n",
              "      <td>0.612917</td>\n",
              "      <td>0.449376</td>\n",
              "      <td>...</td>\n",
              "      <td>0.240227</td>\n",
              "      <td>-0.364871</td>\n",
              "      <td>0.702760</td>\n",
              "      <td>0.098458</td>\n",
              "      <td>-0.225699</td>\n",
              "      <td>0.429614</td>\n",
              "      <td>-0.252763</td>\n",
              "      <td>-0.092983</td>\n",
              "      <td>0.262343</td>\n",
              "      <td>-0.116374</td>\n",
              "    </tr>\n",
              "    <tr>\n",
              "      <th>2</th>\n",
              "      <td>-0.382801</td>\n",
              "      <td>0.736770</td>\n",
              "      <td>-0.113886</td>\n",
              "      <td>-0.229216</td>\n",
              "      <td>-0.293731</td>\n",
              "      <td>-0.091330</td>\n",
              "      <td>0.304878</td>\n",
              "      <td>0.187770</td>\n",
              "      <td>0.322322</td>\n",
              "      <td>-0.204775</td>\n",
              "      <td>...</td>\n",
              "      <td>0.009905</td>\n",
              "      <td>-0.284170</td>\n",
              "      <td>0.599702</td>\n",
              "      <td>-0.098819</td>\n",
              "      <td>-0.239884</td>\n",
              "      <td>-0.173517</td>\n",
              "      <td>-0.357961</td>\n",
              "      <td>-0.061946</td>\n",
              "      <td>-0.138134</td>\n",
              "      <td>0.007908</td>\n",
              "    </tr>\n",
              "    <tr>\n",
              "      <th>3</th>\n",
              "      <td>-0.485985</td>\n",
              "      <td>0.791153</td>\n",
              "      <td>-0.293308</td>\n",
              "      <td>0.065463</td>\n",
              "      <td>-0.440869</td>\n",
              "      <td>-0.160164</td>\n",
              "      <td>-0.194900</td>\n",
              "      <td>0.082499</td>\n",
              "      <td>0.679941</td>\n",
              "      <td>0.220660</td>\n",
              "      <td>...</td>\n",
              "      <td>-0.135065</td>\n",
              "      <td>0.012016</td>\n",
              "      <td>0.489067</td>\n",
              "      <td>-0.301516</td>\n",
              "      <td>-0.578850</td>\n",
              "      <td>-0.235834</td>\n",
              "      <td>0.431674</td>\n",
              "      <td>0.287436</td>\n",
              "      <td>0.644099</td>\n",
              "      <td>-0.100064</td>\n",
              "    </tr>\n",
              "    <tr>\n",
              "      <th>4</th>\n",
              "      <td>-0.293769</td>\n",
              "      <td>0.876703</td>\n",
              "      <td>-1.059570</td>\n",
              "      <td>0.370984</td>\n",
              "      <td>0.005596</td>\n",
              "      <td>-0.079276</td>\n",
              "      <td>-0.291085</td>\n",
              "      <td>0.196196</td>\n",
              "      <td>0.368528</td>\n",
              "      <td>0.353888</td>\n",
              "      <td>...</td>\n",
              "      <td>0.386382</td>\n",
              "      <td>0.235662</td>\n",
              "      <td>0.810351</td>\n",
              "      <td>0.004268</td>\n",
              "      <td>-0.866289</td>\n",
              "      <td>-0.355452</td>\n",
              "      <td>0.216369</td>\n",
              "      <td>0.721730</td>\n",
              "      <td>0.778076</td>\n",
              "      <td>-0.297209</td>\n",
              "    </tr>\n",
              "  </tbody>\n",
              "</table>\n",
              "<p>5 rows × 100 columns</p>\n",
              "</div>\n",
              "    <div class=\"colab-df-buttons\">\n",
              "\n",
              "  <div class=\"colab-df-container\">\n",
              "    <button class=\"colab-df-convert\" onclick=\"convertToInteractive('df-2118f29a-6989-4aa3-a622-be70b6fb1667')\"\n",
              "            title=\"Convert this dataframe to an interactive table.\"\n",
              "            style=\"display:none;\">\n",
              "\n",
              "  <svg xmlns=\"http://www.w3.org/2000/svg\" height=\"24px\" viewBox=\"0 -960 960 960\">\n",
              "    <path d=\"M120-120v-720h720v720H120Zm60-500h600v-160H180v160Zm220 220h160v-160H400v160Zm0 220h160v-160H400v160ZM180-400h160v-160H180v160Zm440 0h160v-160H620v160ZM180-180h160v-160H180v160Zm440 0h160v-160H620v160Z\"/>\n",
              "  </svg>\n",
              "    </button>\n",
              "\n",
              "  <style>\n",
              "    .colab-df-container {\n",
              "      display:flex;\n",
              "      gap: 12px;\n",
              "    }\n",
              "\n",
              "    .colab-df-convert {\n",
              "      background-color: #E8F0FE;\n",
              "      border: none;\n",
              "      border-radius: 50%;\n",
              "      cursor: pointer;\n",
              "      display: none;\n",
              "      fill: #1967D2;\n",
              "      height: 32px;\n",
              "      padding: 0 0 0 0;\n",
              "      width: 32px;\n",
              "    }\n",
              "\n",
              "    .colab-df-convert:hover {\n",
              "      background-color: #E2EBFA;\n",
              "      box-shadow: 0px 1px 2px rgba(60, 64, 67, 0.3), 0px 1px 3px 1px rgba(60, 64, 67, 0.15);\n",
              "      fill: #174EA6;\n",
              "    }\n",
              "\n",
              "    .colab-df-buttons div {\n",
              "      margin-bottom: 4px;\n",
              "    }\n",
              "\n",
              "    [theme=dark] .colab-df-convert {\n",
              "      background-color: #3B4455;\n",
              "      fill: #D2E3FC;\n",
              "    }\n",
              "\n",
              "    [theme=dark] .colab-df-convert:hover {\n",
              "      background-color: #434B5C;\n",
              "      box-shadow: 0px 1px 3px 1px rgba(0, 0, 0, 0.15);\n",
              "      filter: drop-shadow(0px 1px 2px rgba(0, 0, 0, 0.3));\n",
              "      fill: #FFFFFF;\n",
              "    }\n",
              "  </style>\n",
              "\n",
              "    <script>\n",
              "      const buttonEl =\n",
              "        document.querySelector('#df-2118f29a-6989-4aa3-a622-be70b6fb1667 button.colab-df-convert');\n",
              "      buttonEl.style.display =\n",
              "        google.colab.kernel.accessAllowed ? 'block' : 'none';\n",
              "\n",
              "      async function convertToInteractive(key) {\n",
              "        const element = document.querySelector('#df-2118f29a-6989-4aa3-a622-be70b6fb1667');\n",
              "        const dataTable =\n",
              "          await google.colab.kernel.invokeFunction('convertToInteractive',\n",
              "                                                    [key], {});\n",
              "        if (!dataTable) return;\n",
              "\n",
              "        const docLinkHtml = 'Like what you see? Visit the ' +\n",
              "          '<a target=\"_blank\" href=https://colab.research.google.com/notebooks/data_table.ipynb>data table notebook</a>'\n",
              "          + ' to learn more about interactive tables.';\n",
              "        element.innerHTML = '';\n",
              "        dataTable['output_type'] = 'display_data';\n",
              "        await google.colab.output.renderOutput(dataTable, element);\n",
              "        const docLink = document.createElement('div');\n",
              "        docLink.innerHTML = docLinkHtml;\n",
              "        element.appendChild(docLink);\n",
              "      }\n",
              "    </script>\n",
              "  </div>\n",
              "\n",
              "\n",
              "<div id=\"df-f1b012b3-5099-42f1-bf64-4ccb1f6621b4\">\n",
              "  <button class=\"colab-df-quickchart\" onclick=\"quickchart('df-f1b012b3-5099-42f1-bf64-4ccb1f6621b4')\"\n",
              "            title=\"Suggest charts\"\n",
              "            style=\"display:none;\">\n",
              "\n",
              "<svg xmlns=\"http://www.w3.org/2000/svg\" height=\"24px\"viewBox=\"0 0 24 24\"\n",
              "     width=\"24px\">\n",
              "    <g>\n",
              "        <path d=\"M19 3H5c-1.1 0-2 .9-2 2v14c0 1.1.9 2 2 2h14c1.1 0 2-.9 2-2V5c0-1.1-.9-2-2-2zM9 17H7v-7h2v7zm4 0h-2V7h2v10zm4 0h-2v-4h2v4z\"/>\n",
              "    </g>\n",
              "</svg>\n",
              "  </button>\n",
              "\n",
              "<style>\n",
              "  .colab-df-quickchart {\n",
              "      --bg-color: #E8F0FE;\n",
              "      --fill-color: #1967D2;\n",
              "      --hover-bg-color: #E2EBFA;\n",
              "      --hover-fill-color: #174EA6;\n",
              "      --disabled-fill-color: #AAA;\n",
              "      --disabled-bg-color: #DDD;\n",
              "  }\n",
              "\n",
              "  [theme=dark] .colab-df-quickchart {\n",
              "      --bg-color: #3B4455;\n",
              "      --fill-color: #D2E3FC;\n",
              "      --hover-bg-color: #434B5C;\n",
              "      --hover-fill-color: #FFFFFF;\n",
              "      --disabled-bg-color: #3B4455;\n",
              "      --disabled-fill-color: #666;\n",
              "  }\n",
              "\n",
              "  .colab-df-quickchart {\n",
              "    background-color: var(--bg-color);\n",
              "    border: none;\n",
              "    border-radius: 50%;\n",
              "    cursor: pointer;\n",
              "    display: none;\n",
              "    fill: var(--fill-color);\n",
              "    height: 32px;\n",
              "    padding: 0;\n",
              "    width: 32px;\n",
              "  }\n",
              "\n",
              "  .colab-df-quickchart:hover {\n",
              "    background-color: var(--hover-bg-color);\n",
              "    box-shadow: 0 1px 2px rgba(60, 64, 67, 0.3), 0 1px 3px 1px rgba(60, 64, 67, 0.15);\n",
              "    fill: var(--button-hover-fill-color);\n",
              "  }\n",
              "\n",
              "  .colab-df-quickchart-complete:disabled,\n",
              "  .colab-df-quickchart-complete:disabled:hover {\n",
              "    background-color: var(--disabled-bg-color);\n",
              "    fill: var(--disabled-fill-color);\n",
              "    box-shadow: none;\n",
              "  }\n",
              "\n",
              "  .colab-df-spinner {\n",
              "    border: 2px solid var(--fill-color);\n",
              "    border-color: transparent;\n",
              "    border-bottom-color: var(--fill-color);\n",
              "    animation:\n",
              "      spin 1s steps(1) infinite;\n",
              "  }\n",
              "\n",
              "  @keyframes spin {\n",
              "    0% {\n",
              "      border-color: transparent;\n",
              "      border-bottom-color: var(--fill-color);\n",
              "      border-left-color: var(--fill-color);\n",
              "    }\n",
              "    20% {\n",
              "      border-color: transparent;\n",
              "      border-left-color: var(--fill-color);\n",
              "      border-top-color: var(--fill-color);\n",
              "    }\n",
              "    30% {\n",
              "      border-color: transparent;\n",
              "      border-left-color: var(--fill-color);\n",
              "      border-top-color: var(--fill-color);\n",
              "      border-right-color: var(--fill-color);\n",
              "    }\n",
              "    40% {\n",
              "      border-color: transparent;\n",
              "      border-right-color: var(--fill-color);\n",
              "      border-top-color: var(--fill-color);\n",
              "    }\n",
              "    60% {\n",
              "      border-color: transparent;\n",
              "      border-right-color: var(--fill-color);\n",
              "    }\n",
              "    80% {\n",
              "      border-color: transparent;\n",
              "      border-right-color: var(--fill-color);\n",
              "      border-bottom-color: var(--fill-color);\n",
              "    }\n",
              "    90% {\n",
              "      border-color: transparent;\n",
              "      border-bottom-color: var(--fill-color);\n",
              "    }\n",
              "  }\n",
              "</style>\n",
              "\n",
              "  <script>\n",
              "    async function quickchart(key) {\n",
              "      const quickchartButtonEl =\n",
              "        document.querySelector('#' + key + ' button');\n",
              "      quickchartButtonEl.disabled = true;  // To prevent multiple clicks.\n",
              "      quickchartButtonEl.classList.add('colab-df-spinner');\n",
              "      try {\n",
              "        const charts = await google.colab.kernel.invokeFunction(\n",
              "            'suggestCharts', [key], {});\n",
              "      } catch (error) {\n",
              "        console.error('Error during call to suggestCharts:', error);\n",
              "      }\n",
              "      quickchartButtonEl.classList.remove('colab-df-spinner');\n",
              "      quickchartButtonEl.classList.add('colab-df-quickchart-complete');\n",
              "    }\n",
              "    (() => {\n",
              "      let quickchartButtonEl =\n",
              "        document.querySelector('#df-f1b012b3-5099-42f1-bf64-4ccb1f6621b4 button');\n",
              "      quickchartButtonEl.style.display =\n",
              "        google.colab.kernel.accessAllowed ? 'block' : 'none';\n",
              "    })();\n",
              "  </script>\n",
              "</div>\n",
              "\n",
              "    </div>\n",
              "  </div>\n"
            ],
            "application/vnd.google.colaboratory.intrinsic+json": {
              "type": "dataframe",
              "variable_name": "df"
            }
          },
          "metadata": {},
          "execution_count": 40
        }
      ],
      "source": [
        "df.head()"
      ]
    },
    {
      "cell_type": "code",
      "execution_count": 41,
      "metadata": {
        "id": "XLaacif4pilN"
      },
      "outputs": [],
      "source": [
        "df['output']=y"
      ]
    },
    {
      "cell_type": "code",
      "execution_count": 42,
      "metadata": {
        "colab": {
          "base_uri": "https://localhost:8080/",
          "height": 255
        },
        "id": "9LtCL4T-pmdv",
        "outputId": "a5d319cb-d18c-49cd-ec2e-43142bc0adab"
      },
      "outputs": [
        {
          "output_type": "execute_result",
          "data": {
            "text/plain": [
              "          0         1         2         3         4         5         6  \\\n",
              "0 -0.021764  0.627362 -0.124267 -0.134637  0.481551 -0.113179  0.005097   \n",
              "1 -0.055148  0.455837  0.479555  0.016780 -0.532870 -0.545283  0.457468   \n",
              "2 -0.382801  0.736770 -0.113886 -0.229216 -0.293731 -0.091330  0.304878   \n",
              "3 -0.485985  0.791153 -0.293308  0.065463 -0.440869 -0.160164 -0.194900   \n",
              "4 -0.293769  0.876703 -1.059570  0.370984  0.005596 -0.079276 -0.291085   \n",
              "\n",
              "          7         8         9  ...        91        92        93        94  \\\n",
              "0 -0.124020  0.070741  0.181760  ...  0.149262  0.734991 -0.048673  0.046482   \n",
              "1 -0.474547  0.612917  0.449376  ... -0.364871  0.702760  0.098458 -0.225699   \n",
              "2  0.187770  0.322322 -0.204775  ... -0.284170  0.599702 -0.098819 -0.239884   \n",
              "3  0.082499  0.679941  0.220660  ...  0.012016  0.489067 -0.301516 -0.578850   \n",
              "4  0.196196  0.368528  0.353888  ...  0.235662  0.810351  0.004268 -0.866289   \n",
              "\n",
              "         95        96        97        98        99  output  \n",
              "0 -0.458000  0.001161  0.047459 -0.468331 -0.174157     0.0  \n",
              "1  0.429614 -0.252763 -0.092983  0.262343 -0.116374     0.0  \n",
              "2 -0.173517 -0.357961 -0.061946 -0.138134  0.007908     0.0  \n",
              "3 -0.235834  0.431674  0.287436  0.644099 -0.100064     0.0  \n",
              "4 -0.355452  0.216369  0.721730  0.778076 -0.297209     0.0  \n",
              "\n",
              "[5 rows x 101 columns]"
            ],
            "text/html": [
              "\n",
              "  <div id=\"df-a6244b66-512b-4184-86e8-2f2167c6e791\" class=\"colab-df-container\">\n",
              "    <div>\n",
              "<style scoped>\n",
              "    .dataframe tbody tr th:only-of-type {\n",
              "        vertical-align: middle;\n",
              "    }\n",
              "\n",
              "    .dataframe tbody tr th {\n",
              "        vertical-align: top;\n",
              "    }\n",
              "\n",
              "    .dataframe thead th {\n",
              "        text-align: right;\n",
              "    }\n",
              "</style>\n",
              "<table border=\"1\" class=\"dataframe\">\n",
              "  <thead>\n",
              "    <tr style=\"text-align: right;\">\n",
              "      <th></th>\n",
              "      <th>0</th>\n",
              "      <th>1</th>\n",
              "      <th>2</th>\n",
              "      <th>3</th>\n",
              "      <th>4</th>\n",
              "      <th>5</th>\n",
              "      <th>6</th>\n",
              "      <th>7</th>\n",
              "      <th>8</th>\n",
              "      <th>9</th>\n",
              "      <th>...</th>\n",
              "      <th>91</th>\n",
              "      <th>92</th>\n",
              "      <th>93</th>\n",
              "      <th>94</th>\n",
              "      <th>95</th>\n",
              "      <th>96</th>\n",
              "      <th>97</th>\n",
              "      <th>98</th>\n",
              "      <th>99</th>\n",
              "      <th>output</th>\n",
              "    </tr>\n",
              "  </thead>\n",
              "  <tbody>\n",
              "    <tr>\n",
              "      <th>0</th>\n",
              "      <td>-0.021764</td>\n",
              "      <td>0.627362</td>\n",
              "      <td>-0.124267</td>\n",
              "      <td>-0.134637</td>\n",
              "      <td>0.481551</td>\n",
              "      <td>-0.113179</td>\n",
              "      <td>0.005097</td>\n",
              "      <td>-0.124020</td>\n",
              "      <td>0.070741</td>\n",
              "      <td>0.181760</td>\n",
              "      <td>...</td>\n",
              "      <td>0.149262</td>\n",
              "      <td>0.734991</td>\n",
              "      <td>-0.048673</td>\n",
              "      <td>0.046482</td>\n",
              "      <td>-0.458000</td>\n",
              "      <td>0.001161</td>\n",
              "      <td>0.047459</td>\n",
              "      <td>-0.468331</td>\n",
              "      <td>-0.174157</td>\n",
              "      <td>0.0</td>\n",
              "    </tr>\n",
              "    <tr>\n",
              "      <th>1</th>\n",
              "      <td>-0.055148</td>\n",
              "      <td>0.455837</td>\n",
              "      <td>0.479555</td>\n",
              "      <td>0.016780</td>\n",
              "      <td>-0.532870</td>\n",
              "      <td>-0.545283</td>\n",
              "      <td>0.457468</td>\n",
              "      <td>-0.474547</td>\n",
              "      <td>0.612917</td>\n",
              "      <td>0.449376</td>\n",
              "      <td>...</td>\n",
              "      <td>-0.364871</td>\n",
              "      <td>0.702760</td>\n",
              "      <td>0.098458</td>\n",
              "      <td>-0.225699</td>\n",
              "      <td>0.429614</td>\n",
              "      <td>-0.252763</td>\n",
              "      <td>-0.092983</td>\n",
              "      <td>0.262343</td>\n",
              "      <td>-0.116374</td>\n",
              "      <td>0.0</td>\n",
              "    </tr>\n",
              "    <tr>\n",
              "      <th>2</th>\n",
              "      <td>-0.382801</td>\n",
              "      <td>0.736770</td>\n",
              "      <td>-0.113886</td>\n",
              "      <td>-0.229216</td>\n",
              "      <td>-0.293731</td>\n",
              "      <td>-0.091330</td>\n",
              "      <td>0.304878</td>\n",
              "      <td>0.187770</td>\n",
              "      <td>0.322322</td>\n",
              "      <td>-0.204775</td>\n",
              "      <td>...</td>\n",
              "      <td>-0.284170</td>\n",
              "      <td>0.599702</td>\n",
              "      <td>-0.098819</td>\n",
              "      <td>-0.239884</td>\n",
              "      <td>-0.173517</td>\n",
              "      <td>-0.357961</td>\n",
              "      <td>-0.061946</td>\n",
              "      <td>-0.138134</td>\n",
              "      <td>0.007908</td>\n",
              "      <td>0.0</td>\n",
              "    </tr>\n",
              "    <tr>\n",
              "      <th>3</th>\n",
              "      <td>-0.485985</td>\n",
              "      <td>0.791153</td>\n",
              "      <td>-0.293308</td>\n",
              "      <td>0.065463</td>\n",
              "      <td>-0.440869</td>\n",
              "      <td>-0.160164</td>\n",
              "      <td>-0.194900</td>\n",
              "      <td>0.082499</td>\n",
              "      <td>0.679941</td>\n",
              "      <td>0.220660</td>\n",
              "      <td>...</td>\n",
              "      <td>0.012016</td>\n",
              "      <td>0.489067</td>\n",
              "      <td>-0.301516</td>\n",
              "      <td>-0.578850</td>\n",
              "      <td>-0.235834</td>\n",
              "      <td>0.431674</td>\n",
              "      <td>0.287436</td>\n",
              "      <td>0.644099</td>\n",
              "      <td>-0.100064</td>\n",
              "      <td>0.0</td>\n",
              "    </tr>\n",
              "    <tr>\n",
              "      <th>4</th>\n",
              "      <td>-0.293769</td>\n",
              "      <td>0.876703</td>\n",
              "      <td>-1.059570</td>\n",
              "      <td>0.370984</td>\n",
              "      <td>0.005596</td>\n",
              "      <td>-0.079276</td>\n",
              "      <td>-0.291085</td>\n",
              "      <td>0.196196</td>\n",
              "      <td>0.368528</td>\n",
              "      <td>0.353888</td>\n",
              "      <td>...</td>\n",
              "      <td>0.235662</td>\n",
              "      <td>0.810351</td>\n",
              "      <td>0.004268</td>\n",
              "      <td>-0.866289</td>\n",
              "      <td>-0.355452</td>\n",
              "      <td>0.216369</td>\n",
              "      <td>0.721730</td>\n",
              "      <td>0.778076</td>\n",
              "      <td>-0.297209</td>\n",
              "      <td>0.0</td>\n",
              "    </tr>\n",
              "  </tbody>\n",
              "</table>\n",
              "<p>5 rows × 101 columns</p>\n",
              "</div>\n",
              "    <div class=\"colab-df-buttons\">\n",
              "\n",
              "  <div class=\"colab-df-container\">\n",
              "    <button class=\"colab-df-convert\" onclick=\"convertToInteractive('df-a6244b66-512b-4184-86e8-2f2167c6e791')\"\n",
              "            title=\"Convert this dataframe to an interactive table.\"\n",
              "            style=\"display:none;\">\n",
              "\n",
              "  <svg xmlns=\"http://www.w3.org/2000/svg\" height=\"24px\" viewBox=\"0 -960 960 960\">\n",
              "    <path d=\"M120-120v-720h720v720H120Zm60-500h600v-160H180v160Zm220 220h160v-160H400v160Zm0 220h160v-160H400v160ZM180-400h160v-160H180v160Zm440 0h160v-160H620v160ZM180-180h160v-160H180v160Zm440 0h160v-160H620v160Z\"/>\n",
              "  </svg>\n",
              "    </button>\n",
              "\n",
              "  <style>\n",
              "    .colab-df-container {\n",
              "      display:flex;\n",
              "      gap: 12px;\n",
              "    }\n",
              "\n",
              "    .colab-df-convert {\n",
              "      background-color: #E8F0FE;\n",
              "      border: none;\n",
              "      border-radius: 50%;\n",
              "      cursor: pointer;\n",
              "      display: none;\n",
              "      fill: #1967D2;\n",
              "      height: 32px;\n",
              "      padding: 0 0 0 0;\n",
              "      width: 32px;\n",
              "    }\n",
              "\n",
              "    .colab-df-convert:hover {\n",
              "      background-color: #E2EBFA;\n",
              "      box-shadow: 0px 1px 2px rgba(60, 64, 67, 0.3), 0px 1px 3px 1px rgba(60, 64, 67, 0.15);\n",
              "      fill: #174EA6;\n",
              "    }\n",
              "\n",
              "    .colab-df-buttons div {\n",
              "      margin-bottom: 4px;\n",
              "    }\n",
              "\n",
              "    [theme=dark] .colab-df-convert {\n",
              "      background-color: #3B4455;\n",
              "      fill: #D2E3FC;\n",
              "    }\n",
              "\n",
              "    [theme=dark] .colab-df-convert:hover {\n",
              "      background-color: #434B5C;\n",
              "      box-shadow: 0px 1px 3px 1px rgba(0, 0, 0, 0.15);\n",
              "      filter: drop-shadow(0px 1px 2px rgba(0, 0, 0, 0.3));\n",
              "      fill: #FFFFFF;\n",
              "    }\n",
              "  </style>\n",
              "\n",
              "    <script>\n",
              "      const buttonEl =\n",
              "        document.querySelector('#df-a6244b66-512b-4184-86e8-2f2167c6e791 button.colab-df-convert');\n",
              "      buttonEl.style.display =\n",
              "        google.colab.kernel.accessAllowed ? 'block' : 'none';\n",
              "\n",
              "      async function convertToInteractive(key) {\n",
              "        const element = document.querySelector('#df-a6244b66-512b-4184-86e8-2f2167c6e791');\n",
              "        const dataTable =\n",
              "          await google.colab.kernel.invokeFunction('convertToInteractive',\n",
              "                                                    [key], {});\n",
              "        if (!dataTable) return;\n",
              "\n",
              "        const docLinkHtml = 'Like what you see? Visit the ' +\n",
              "          '<a target=\"_blank\" href=https://colab.research.google.com/notebooks/data_table.ipynb>data table notebook</a>'\n",
              "          + ' to learn more about interactive tables.';\n",
              "        element.innerHTML = '';\n",
              "        dataTable['output_type'] = 'display_data';\n",
              "        await google.colab.output.renderOutput(dataTable, element);\n",
              "        const docLink = document.createElement('div');\n",
              "        docLink.innerHTML = docLinkHtml;\n",
              "        element.appendChild(docLink);\n",
              "      }\n",
              "    </script>\n",
              "  </div>\n",
              "\n",
              "\n",
              "<div id=\"df-4958918d-0e38-43c5-83ef-f7eb9164bf56\">\n",
              "  <button class=\"colab-df-quickchart\" onclick=\"quickchart('df-4958918d-0e38-43c5-83ef-f7eb9164bf56')\"\n",
              "            title=\"Suggest charts\"\n",
              "            style=\"display:none;\">\n",
              "\n",
              "<svg xmlns=\"http://www.w3.org/2000/svg\" height=\"24px\"viewBox=\"0 0 24 24\"\n",
              "     width=\"24px\">\n",
              "    <g>\n",
              "        <path d=\"M19 3H5c-1.1 0-2 .9-2 2v14c0 1.1.9 2 2 2h14c1.1 0 2-.9 2-2V5c0-1.1-.9-2-2-2zM9 17H7v-7h2v7zm4 0h-2V7h2v10zm4 0h-2v-4h2v4z\"/>\n",
              "    </g>\n",
              "</svg>\n",
              "  </button>\n",
              "\n",
              "<style>\n",
              "  .colab-df-quickchart {\n",
              "      --bg-color: #E8F0FE;\n",
              "      --fill-color: #1967D2;\n",
              "      --hover-bg-color: #E2EBFA;\n",
              "      --hover-fill-color: #174EA6;\n",
              "      --disabled-fill-color: #AAA;\n",
              "      --disabled-bg-color: #DDD;\n",
              "  }\n",
              "\n",
              "  [theme=dark] .colab-df-quickchart {\n",
              "      --bg-color: #3B4455;\n",
              "      --fill-color: #D2E3FC;\n",
              "      --hover-bg-color: #434B5C;\n",
              "      --hover-fill-color: #FFFFFF;\n",
              "      --disabled-bg-color: #3B4455;\n",
              "      --disabled-fill-color: #666;\n",
              "  }\n",
              "\n",
              "  .colab-df-quickchart {\n",
              "    background-color: var(--bg-color);\n",
              "    border: none;\n",
              "    border-radius: 50%;\n",
              "    cursor: pointer;\n",
              "    display: none;\n",
              "    fill: var(--fill-color);\n",
              "    height: 32px;\n",
              "    padding: 0;\n",
              "    width: 32px;\n",
              "  }\n",
              "\n",
              "  .colab-df-quickchart:hover {\n",
              "    background-color: var(--hover-bg-color);\n",
              "    box-shadow: 0 1px 2px rgba(60, 64, 67, 0.3), 0 1px 3px 1px rgba(60, 64, 67, 0.15);\n",
              "    fill: var(--button-hover-fill-color);\n",
              "  }\n",
              "\n",
              "  .colab-df-quickchart-complete:disabled,\n",
              "  .colab-df-quickchart-complete:disabled:hover {\n",
              "    background-color: var(--disabled-bg-color);\n",
              "    fill: var(--disabled-fill-color);\n",
              "    box-shadow: none;\n",
              "  }\n",
              "\n",
              "  .colab-df-spinner {\n",
              "    border: 2px solid var(--fill-color);\n",
              "    border-color: transparent;\n",
              "    border-bottom-color: var(--fill-color);\n",
              "    animation:\n",
              "      spin 1s steps(1) infinite;\n",
              "  }\n",
              "\n",
              "  @keyframes spin {\n",
              "    0% {\n",
              "      border-color: transparent;\n",
              "      border-bottom-color: var(--fill-color);\n",
              "      border-left-color: var(--fill-color);\n",
              "    }\n",
              "    20% {\n",
              "      border-color: transparent;\n",
              "      border-left-color: var(--fill-color);\n",
              "      border-top-color: var(--fill-color);\n",
              "    }\n",
              "    30% {\n",
              "      border-color: transparent;\n",
              "      border-left-color: var(--fill-color);\n",
              "      border-top-color: var(--fill-color);\n",
              "      border-right-color: var(--fill-color);\n",
              "    }\n",
              "    40% {\n",
              "      border-color: transparent;\n",
              "      border-right-color: var(--fill-color);\n",
              "      border-top-color: var(--fill-color);\n",
              "    }\n",
              "    60% {\n",
              "      border-color: transparent;\n",
              "      border-right-color: var(--fill-color);\n",
              "    }\n",
              "    80% {\n",
              "      border-color: transparent;\n",
              "      border-right-color: var(--fill-color);\n",
              "      border-bottom-color: var(--fill-color);\n",
              "    }\n",
              "    90% {\n",
              "      border-color: transparent;\n",
              "      border-bottom-color: var(--fill-color);\n",
              "    }\n",
              "  }\n",
              "</style>\n",
              "\n",
              "  <script>\n",
              "    async function quickchart(key) {\n",
              "      const quickchartButtonEl =\n",
              "        document.querySelector('#' + key + ' button');\n",
              "      quickchartButtonEl.disabled = true;  // To prevent multiple clicks.\n",
              "      quickchartButtonEl.classList.add('colab-df-spinner');\n",
              "      try {\n",
              "        const charts = await google.colab.kernel.invokeFunction(\n",
              "            'suggestCharts', [key], {});\n",
              "      } catch (error) {\n",
              "        console.error('Error during call to suggestCharts:', error);\n",
              "      }\n",
              "      quickchartButtonEl.classList.remove('colab-df-spinner');\n",
              "      quickchartButtonEl.classList.add('colab-df-quickchart-complete');\n",
              "    }\n",
              "    (() => {\n",
              "      let quickchartButtonEl =\n",
              "        document.querySelector('#df-4958918d-0e38-43c5-83ef-f7eb9164bf56 button');\n",
              "      quickchartButtonEl.style.display =\n",
              "        google.colab.kernel.accessAllowed ? 'block' : 'none';\n",
              "    })();\n",
              "  </script>\n",
              "</div>\n",
              "\n",
              "    </div>\n",
              "  </div>\n"
            ],
            "application/vnd.google.colaboratory.intrinsic+json": {
              "type": "dataframe",
              "variable_name": "df"
            }
          },
          "metadata": {},
          "execution_count": 42
        }
      ],
      "source": [
        "df.head()"
      ]
    },
    {
      "cell_type": "code",
      "execution_count": 43,
      "metadata": {
        "id": "0WKlpOOrpqxc"
      },
      "outputs": [],
      "source": [
        "df.dropna(inplace=True)"
      ]
    },
    {
      "cell_type": "code",
      "execution_count": 44,
      "metadata": {
        "colab": {
          "base_uri": "https://localhost:8080/",
          "height": 458
        },
        "id": "B_6sor4ypsFG",
        "outputId": "96d3bcf5-de9f-46d6-8430-567d756ddc0e"
      },
      "outputs": [
        {
          "output_type": "execute_result",
          "data": {
            "text/plain": [
              "0         0\n",
              "1         0\n",
              "2         0\n",
              "3         0\n",
              "4         0\n",
              "         ..\n",
              "96        0\n",
              "97        0\n",
              "98        0\n",
              "99        0\n",
              "output    0\n",
              "Length: 101, dtype: int64"
            ],
            "text/html": [
              "<div>\n",
              "<style scoped>\n",
              "    .dataframe tbody tr th:only-of-type {\n",
              "        vertical-align: middle;\n",
              "    }\n",
              "\n",
              "    .dataframe tbody tr th {\n",
              "        vertical-align: top;\n",
              "    }\n",
              "\n",
              "    .dataframe thead th {\n",
              "        text-align: right;\n",
              "    }\n",
              "</style>\n",
              "<table border=\"1\" class=\"dataframe\">\n",
              "  <thead>\n",
              "    <tr style=\"text-align: right;\">\n",
              "      <th></th>\n",
              "      <th>0</th>\n",
              "    </tr>\n",
              "  </thead>\n",
              "  <tbody>\n",
              "    <tr>\n",
              "      <th>0</th>\n",
              "      <td>0</td>\n",
              "    </tr>\n",
              "    <tr>\n",
              "      <th>1</th>\n",
              "      <td>0</td>\n",
              "    </tr>\n",
              "    <tr>\n",
              "      <th>2</th>\n",
              "      <td>0</td>\n",
              "    </tr>\n",
              "    <tr>\n",
              "      <th>3</th>\n",
              "      <td>0</td>\n",
              "    </tr>\n",
              "    <tr>\n",
              "      <th>4</th>\n",
              "      <td>0</td>\n",
              "    </tr>\n",
              "    <tr>\n",
              "      <th>...</th>\n",
              "      <td>...</td>\n",
              "    </tr>\n",
              "    <tr>\n",
              "      <th>96</th>\n",
              "      <td>0</td>\n",
              "    </tr>\n",
              "    <tr>\n",
              "      <th>97</th>\n",
              "      <td>0</td>\n",
              "    </tr>\n",
              "    <tr>\n",
              "      <th>98</th>\n",
              "      <td>0</td>\n",
              "    </tr>\n",
              "    <tr>\n",
              "      <th>99</th>\n",
              "      <td>0</td>\n",
              "    </tr>\n",
              "    <tr>\n",
              "      <th>output</th>\n",
              "      <td>0</td>\n",
              "    </tr>\n",
              "  </tbody>\n",
              "</table>\n",
              "<p>101 rows × 1 columns</p>\n",
              "</div><br><label><b>dtype:</b> int64</label>"
            ]
          },
          "metadata": {},
          "execution_count": 44
        }
      ],
      "source": [
        "df.isnull().sum()"
      ]
    },
    {
      "cell_type": "code",
      "execution_count": 45,
      "metadata": {
        "id": "r5rW-8SXpyj7"
      },
      "outputs": [],
      "source": [
        "x=df.drop('output',axis=1)\n",
        "y=df['output']"
      ]
    },
    {
      "cell_type": "code",
      "execution_count": 46,
      "metadata": {
        "id": "_bwi4yCip5wF"
      },
      "outputs": [],
      "source": [
        "from sklearn.model_selection import train_test_split\n",
        "x_train, x_test, y_train, y_test = train_test_split(x,y,test_size=0.2,random_state=42)"
      ]
    },
    {
      "cell_type": "code",
      "execution_count": 47,
      "metadata": {
        "colab": {
          "base_uri": "https://localhost:8080/",
          "height": 472
        },
        "id": "dgu_9t0xtyNd",
        "outputId": "ec495c84-c5bd-46ec-efba-55366fad5f16"
      },
      "outputs": [
        {
          "output_type": "display_data",
          "data": {
            "text/plain": [
              "<Figure size 640x480 with 1 Axes>"
            ],
            "image/png": "[encoded data removed]"
          },
          "metadata": {}
        }
      ],
      "source": [
        "score_counts = y_train.value_counts()\n",
        "\n",
        "plt.bar(score_counts.index, score_counts.values)\n",
        "\n",
        "plt.title('Score Distribution for Right Model Training')\n",
        "plt.xlabel('Score')\n",
        "plt.ylabel('Frequency')\n",
        "\n",
        "\n",
        "plt.show()\n"
      ]
    },
    {
      "cell_type": "code",
      "execution_count": 48,
      "metadata": {
        "colab": {
          "base_uri": "https://localhost:8080/",
          "height": 472
        },
        "id": "raID3ddLvkld",
        "outputId": "e6d92c0d-5d98-41fb-b287-96f59e445655"
      },
      "outputs": [
        {
          "output_type": "display_data",
          "data": {
            "text/plain": [
              "<Figure size 640x480 with 1 Axes>"
            ],
            "image/png": "[encoded data removed]"
          },
          "metadata": {}
        }
      ],
      "source": [
        "score_counts = y_test.value_counts()\n",
        "\n",
        "plt.bar(score_counts.index, score_counts.values)\n",
        "\n",
        "plt.title('Score Distribution for Right Model Training')\n",
        "plt.xlabel('Score')\n",
        "plt.ylabel('Frequency')\n",
        "\n",
        "\n",
        "plt.show()"
      ]
    },
    {
      "cell_type": "code",
      "execution_count": 49,
      "metadata": {
        "id": "D8oCYRZRqqQ_"
      },
      "outputs": [],
      "source": [
        "from sklearn.ensemble import RandomForestClassifier\n",
        "RF=RandomForestClassifier(n_estimators =5,random_state=18)\n",
        "RF.fit(x_train,y_train)\n",
        "y_pred=RF.predict(x_test)"
      ]
    },
    {
      "cell_type": "code",
      "execution_count": 50,
      "metadata": {
        "colab": {
          "base_uri": "https://localhost:8080/"
        },
        "id": "v2CxBZt2rIFT",
        "outputId": "b64161e9-3518-47bb-a077-c91bcd4e0d30"
      },
      "outputs": [
        {
          "output_type": "stream",
          "name": "stdout",
          "text": [
            "0.964753568701169\n",
            "              precision    recall  f1-score   support\n",
            "\n",
            "         0.0       0.97      1.00      0.98     16415\n",
            "         1.0       0.53      0.11      0.18       608\n",
            "\n",
            "    accuracy                           0.96     17023\n",
            "   macro avg       0.75      0.55      0.58     17023\n",
            "weighted avg       0.95      0.96      0.95     17023\n",
            "\n"
          ]
        }
      ],
      "source": [
        "from sklearn.metrics import accuracy_score, classification_report\n",
        "print(accuracy_score(y_test,y_pred))\n",
        "print(classification_report(y_test,y_pred))"
      ]
    },
    {
      "cell_type": "code",
      "execution_count": 51,
      "metadata": {
        "id": "RuufUfeEccDL"
      },
      "outputs": [],
      "source": [
        "from sklearn.linear_model import LogisticRegression\n",
        "LR = LogisticRegression(max_iter=1000)\n",
        "LR.fit(x_train, y_train)\n",
        "y_pred = LR.predict(x_test)"
      ]
    },
    {
      "cell_type": "code",
      "execution_count": 52,
      "metadata": {
        "colab": {
          "base_uri": "https://localhost:8080/"
        },
        "id": "brc52bApc30P",
        "outputId": "4a1cadb1-2c3f-4518-af05-3c11f719dcc6"
      },
      "outputs": [
        {
          "output_type": "stream",
          "name": "stdout",
          "text": [
            "0.9645773365446748\n",
            "              precision    recall  f1-score   support\n",
            "\n",
            "         0.0       0.97      1.00      0.98     16415\n",
            "         1.0       0.53      0.08      0.14       608\n",
            "\n",
            "    accuracy                           0.96     17023\n",
            "   macro avg       0.75      0.54      0.56     17023\n",
            "weighted avg       0.95      0.96      0.95     17023\n",
            "\n"
          ]
        }
      ],
      "source": [
        "from sklearn.metrics import accuracy_score, classification_report\n",
        "print(accuracy_score(y_test,y_pred))\n",
        "print(classification_report(y_test,y_pred))"
      ]
    },
    {
      "cell_type": "code",
      "execution_count": 53,
      "metadata": {
        "id": "yDwq39bjc9Xb"
      },
      "outputs": [],
      "source": [
        "from sklearn.tree import DecisionTreeClassifier\n",
        "DT = DecisionTreeClassifier(max_depth=100)\n",
        "DT.fit(x_train, y_train)\n",
        "y_pred = DT.predict(x_test)"
      ]
    },
    {
      "cell_type": "code",
      "execution_count": 54,
      "metadata": {
        "colab": {
          "base_uri": "https://localhost:8080/"
        },
        "id": "W9Jnb10BdZBI",
        "outputId": "763f69c3-3a4f-4173-ae59-3852f01d8ded"
      },
      "outputs": [
        {
          "output_type": "stream",
          "name": "stdout",
          "text": [
            "0.9418433883569288\n",
            "              precision    recall  f1-score   support\n",
            "\n",
            "         0.0       0.97      0.97      0.97     16415\n",
            "         1.0       0.23      0.27      0.25       608\n",
            "\n",
            "    accuracy                           0.94     17023\n",
            "   macro avg       0.60      0.62      0.61     17023\n",
            "weighted avg       0.95      0.94      0.94     17023\n",
            "\n"
          ]
        }
      ],
      "source": [
        "from sklearn.metrics import accuracy_score, classification_report\n",
        "print(accuracy_score(y_test,y_pred))\n",
        "print(classification_report(y_test,y_pred))"
      ]
    },
    {
      "cell_type": "code",
      "execution_count": 55,
      "metadata": {
        "id": "_R5hP8oVidlQ"
      },
      "outputs": [],
      "source": [
        "from xgboost import XGBClassifier\n",
        "XGB = XGBClassifier()\n",
        "XGB.fit(x_train, y_train)\n",
        "y_pred = XGB.predict(x_test)\n"
      ]
    },
    {
      "cell_type": "code",
      "execution_count": 56,
      "metadata": {
        "colab": {
          "base_uri": "https://localhost:8080/"
        },
        "id": "OGyKJum7im6r",
        "outputId": "44b95387-0d02-4d4f-e240-18dc095b197b"
      },
      "outputs": [
        {
          "output_type": "stream",
          "name": "stdout",
          "text": [
            "0.969335604770017\n",
            "              precision    recall  f1-score   support\n",
            "\n",
            "         0.0       0.97      1.00      0.98     16415\n",
            "         1.0       0.78      0.20      0.31       608\n",
            "\n",
            "    accuracy                           0.97     17023\n",
            "   macro avg       0.88      0.60      0.65     17023\n",
            "weighted avg       0.96      0.97      0.96     17023\n",
            "\n"
          ]
        }
      ],
      "source": [
        "from sklearn.metrics import accuracy_score, classification_report\n",
        "print(accuracy_score(y_test,y_pred))\n",
        "print(classification_report(y_test,y_pred))"
      ]
    },
    {
      "cell_type": "code",
      "execution_count": 57,
      "metadata": {
        "id": "LXBaRcpui59v",
        "colab": {
          "base_uri": "https://localhost:8080/"
        },
        "outputId": "39c471a1-bec8-420d-895b-8512f6002dbb"
      },
      "outputs": [
        {
          "output_type": "stream",
          "name": "stderr",
          "text": [
            "/usr/local/lib/python3.10/dist-packages/sklearn/neural_network/_multilayer_perceptron.py:698: UserWarning: Training interrupted by user.\n",
            "  warnings.warn(\"Training interrupted by user.\")\n"
          ]
        }
      ],
      "source": [
        "from sklearn.neural_network import MLPClassifier\n",
        "model = MLPClassifier(hidden_layer_sizes=(100,), max_iter=500)\n",
        "model.fit(x_train, y_train)\n",
        "y_pred = model.predict(x_test)\n"
      ]
    },
    {
      "cell_type": "code",
      "execution_count": 58,
      "metadata": {
        "colab": {
          "base_uri": "https://localhost:8080/"
        },
        "id": "E5q9jrJcjB4R",
        "outputId": "46a3d8d9-2a2c-4803-c931-2989fd66d80f"
      },
      "outputs": [
        {
          "output_type": "stream",
          "name": "stdout",
          "text": [
            "0.9686894201962052\n",
            "              precision    recall  f1-score   support\n",
            "\n",
            "         0.0       0.97      1.00      0.98     16415\n",
            "         1.0       0.72      0.20      0.31       608\n",
            "\n",
            "    accuracy                           0.97     17023\n",
            "   macro avg       0.85      0.60      0.65     17023\n",
            "weighted avg       0.96      0.97      0.96     17023\n",
            "\n"
          ]
        }
      ],
      "source": [
        "from sklearn.metrics import accuracy_score, classification_report\n",
        "print(accuracy_score(y_test,y_pred))\n",
        "print(classification_report(y_test,y_pred))"
      ]
    },
    {
      "cell_type": "code",
      "execution_count": 69,
      "metadata": {
        "id": "SiF1dIv-VLgU"
      },
      "outputs": [],
      "source": [
        "test= 'my friend is very bad'"
      ]
    },
    {
      "cell_type": "code",
      "execution_count": 70,
      "metadata": {
        "id": "kQJiybIVVMX9",
        "colab": {
          "base_uri": "https://localhost:8080/"
        },
        "outputId": "a10bf215-5a60-4a6d-87bf-6056d22671d4"
      },
      "outputs": [
        {
          "output_type": "stream",
          "name": "stderr",
          "text": [
            "100%|██████████| 1/1 [00:00<00:00, 5570.12it/s]"
          ]
        },
        {
          "output_type": "stream",
          "name": "stdout",
          "text": [
            "[['my', 'friend', 'is', 'very', 'bad']]\n"
          ]
        },
        {
          "output_type": "stream",
          "name": "stderr",
          "text": [
            "\n"
          ]
        }
      ],
      "source": [
        "words2 = []\n",
        "\n",
        "# Tokenize the text into sentences\n",
        "sent_token = sent_tokenize(test)\n",
        "\n",
        "# Process each sentence\n",
        "for sent in tqdm(sent_token):\n",
        "    words2.append(simple_preprocess(sent))\n",
        "\n",
        "print(words2)"
      ]
    },
    {
      "cell_type": "code",
      "execution_count": 71,
      "metadata": {
        "colab": {
          "base_uri": "https://localhost:8080/"
        },
        "id": "XwZiaqG7VOx-",
        "outputId": "d90efec3-bd23-4753-91fe-af548edcb0c8"
      },
      "outputs": [
        {
          "output_type": "execute_result",
          "data": {
            "text/plain": [
              "[['my', 'friend', 'is', 'very', 'bad']]"
            ]
          },
          "metadata": {},
          "execution_count": 71
        }
      ],
      "source": [
        "words2"
      ]
    },
    {
      "cell_type": "code",
      "execution_count": 72,
      "metadata": {
        "colab": {
          "base_uri": "https://localhost:8080/",
          "height": 304
        },
        "id": "zQPPehY5VRgA",
        "outputId": "3677058f-30db-4db2-f447-c11a28ee69a1"
      },
      "outputs": [
        {
          "output_type": "stream",
          "name": "stderr",
          "text": [
            "  0%|          | 0/1 [00:00<?, ?it/s]\n"
          ]
        },
        {
          "output_type": "error",
          "ename": "AttributeError",
          "evalue": "'MLPClassifier' object has no attribute 'wv'",
          "traceback": [
            "\u001b[0;31m---------------------------------------------------------------------------\u001b[0m",
            "\u001b[0;31mAttributeError\u001b[0m                            Traceback (most recent call last)",
            "\u001b[0;32m<ipython-input-72-f1dd6e8cbe27>\u001b[0m in \u001b[0;36m<cell line: 2>\u001b[0;34m()\u001b[0m\n\u001b[1;32m      4\u001b[0m         \u001b[0mprint\u001b[0m\u001b[0;34m(\u001b[0m\u001b[0;34mf\"Empty value at {i}\"\u001b[0m\u001b[0;34m)\u001b[0m\u001b[0;34m\u001b[0m\u001b[0;34m\u001b[0m\u001b[0m\n\u001b[1;32m      5\u001b[0m         \u001b[0;32mcontinue\u001b[0m\u001b[0;34m\u001b[0m\u001b[0;34m\u001b[0m\u001b[0m\n\u001b[0;32m----> 6\u001b[0;31m     \u001b[0mx2\u001b[0m\u001b[0;34m.\u001b[0m\u001b[0mappend\u001b[0m\u001b[0;34m(\u001b[0m\u001b[0mavg_word2vec\u001b[0m\u001b[0;34m(\u001b[0m\u001b[0mwords2\u001b[0m\u001b[0;34m[\u001b[0m\u001b[0mi\u001b[0m\u001b[0;34m]\u001b[0m\u001b[0;34m)\u001b[0m\u001b[0;34m)\u001b[0m\u001b[0;34m\u001b[0m\u001b[0;34m\u001b[0m\u001b[0m\n\u001b[0m",
            "\u001b[0;32m<ipython-input-30-e1e303066af8>\u001b[0m in \u001b[0;36mavg_word2vec\u001b[0;34m(doc)\u001b[0m\n\u001b[1;32m      1\u001b[0m \u001b[0;32mdef\u001b[0m \u001b[0mavg_word2vec\u001b[0m\u001b[0;34m(\u001b[0m\u001b[0mdoc\u001b[0m\u001b[0;34m)\u001b[0m\u001b[0;34m:\u001b[0m\u001b[0;34m\u001b[0m\u001b[0;34m\u001b[0m\u001b[0m\n\u001b[0;32m----> 2\u001b[0;31m   \u001b[0;32mreturn\u001b[0m \u001b[0mnp\u001b[0m\u001b[0;34m.\u001b[0m\u001b[0mmean\u001b[0m\u001b[0;34m(\u001b[0m\u001b[0;34m[\u001b[0m\u001b[0mmodel\u001b[0m\u001b[0;34m.\u001b[0m\u001b[0mwv\u001b[0m\u001b[0;34m[\u001b[0m\u001b[0mword\u001b[0m\u001b[0;34m]\u001b[0m \u001b[0;32mfor\u001b[0m \u001b[0mword\u001b[0m \u001b[0;32min\u001b[0m \u001b[0mdoc\u001b[0m \u001b[0;32mif\u001b[0m \u001b[0mword\u001b[0m \u001b[0;32min\u001b[0m \u001b[0mmodel\u001b[0m\u001b[0;34m.\u001b[0m\u001b[0mwv\u001b[0m\u001b[0;34m.\u001b[0m\u001b[0mindex_to_key\u001b[0m\u001b[0;34m]\u001b[0m\u001b[0;34m,\u001b[0m\u001b[0maxis\u001b[0m\u001b[0;34m=\u001b[0m\u001b[0;36m0\u001b[0m\u001b[0;34m)\u001b[0m\u001b[0;34m\u001b[0m\u001b[0;34m\u001b[0m\u001b[0m\n\u001b[0m",
            "\u001b[0;32m<ipython-input-30-e1e303066af8>\u001b[0m in \u001b[0;36m<listcomp>\u001b[0;34m(.0)\u001b[0m\n\u001b[1;32m      1\u001b[0m \u001b[0;32mdef\u001b[0m \u001b[0mavg_word2vec\u001b[0m\u001b[0;34m(\u001b[0m\u001b[0mdoc\u001b[0m\u001b[0;34m)\u001b[0m\u001b[0;34m:\u001b[0m\u001b[0;34m\u001b[0m\u001b[0;34m\u001b[0m\u001b[0m\n\u001b[0;32m----> 2\u001b[0;31m   \u001b[0;32mreturn\u001b[0m \u001b[0mnp\u001b[0m\u001b[0;34m.\u001b[0m\u001b[0mmean\u001b[0m\u001b[0;34m(\u001b[0m\u001b[0;34m[\u001b[0m\u001b[0mmodel\u001b[0m\u001b[0;34m.\u001b[0m\u001b[0mwv\u001b[0m\u001b[0;34m[\u001b[0m\u001b[0mword\u001b[0m\u001b[0;34m]\u001b[0m \u001b[0;32mfor\u001b[0m \u001b[0mword\u001b[0m \u001b[0;32min\u001b[0m \u001b[0mdoc\u001b[0m \u001b[0;32mif\u001b[0m \u001b[0mword\u001b[0m \u001b[0;32min\u001b[0m \u001b[0mmodel\u001b[0m\u001b[0;34m.\u001b[0m\u001b[0mwv\u001b[0m\u001b[0;34m.\u001b[0m\u001b[0mindex_to_key\u001b[0m\u001b[0;34m]\u001b[0m\u001b[0;34m,\u001b[0m\u001b[0maxis\u001b[0m\u001b[0;34m=\u001b[0m\u001b[0;36m0\u001b[0m\u001b[0;34m)\u001b[0m\u001b[0;34m\u001b[0m\u001b[0;34m\u001b[0m\u001b[0m\n\u001b[0m",
            "\u001b[0;31mAttributeError\u001b[0m: 'MLPClassifier' object has no attribute 'wv'"
          ]
        }
      ],
      "source": [
        "x2 = []\n",
        "for i in tqdm(range(len(words2))):\n",
        "    if not words2[i]:  # Check if the input is empty\n",
        "        print(f\"Empty value at {i}\")\n",
        "        continue\n",
        "    x2.append(avg_word2vec(words2[i]))\n"
      ]
    },
    {
      "cell_type": "code",
      "execution_count": 63,
      "metadata": {
        "id": "mL9c_zO7VUJ-",
        "colab": {
          "base_uri": "https://localhost:8080/",
          "height": 634
        },
        "outputId": "97a7ea52-fff4-46fd-e857-061fd745b159"
      },
      "outputs": [
        {
          "output_type": "error",
          "ename": "XGBoostError",
          "evalue": "[11:38:53] /workspace/src/predictor/cpu_predictor.cc:789: Check failed: m->NumColumns() == model.learner_model_param->num_feature (1 vs. 100) : Number of columns in data must equal to trained model.\nStack trace:\n  [bt] (0) /usr/local/lib/python3.10/dist-packages/xgboost/lib/libxgboost.so(+0x22dcbc) [0x7a46c642dcbc]\n  [bt] (1) /usr/local/lib/python3.10/dist-packages/xgboost/lib/libxgboost.so(+0x72fdc3) [0x7a46c692fdc3]\n  [bt] (2) /usr/local/lib/python3.10/dist-packages/xgboost/lib/libxgboost.so(+0x731b8d) [0x7a46c6931b8d]\n  [bt] (3) /usr/local/lib/python3.10/dist-packages/xgboost/lib/libxgboost.so(+0x57c708) [0x7a46c677c708]\n  [bt] (4) /usr/local/lib/python3.10/dist-packages/xgboost/lib/libxgboost.so(+0x5d0389) [0x7a46c67d0389]\n  [bt] (5) /usr/local/lib/python3.10/dist-packages/xgboost/lib/libxgboost.so(+0x13c2bc) [0x7a46c633c2bc]\n  [bt] (6) /usr/local/lib/python3.10/dist-packages/xgboost/lib/libxgboost.so(XGBoosterPredictFromDense+0x10b) [0x7a46c633c7eb]\n  [bt] (7) /lib/x86_64-linux-gnu/libffi.so.8(+0x7e2e) [0x7a4768d88e2e]\n  [bt] (8) /lib/x86_64-linux-gnu/libffi.so.8(+0x4493) [0x7a4768d85493]\n\n",
          "traceback": [
            "\u001b[0;31m---------------------------------------------------------------------------\u001b[0m",
            "\u001b[0;31mXGBoostError\u001b[0m                              Traceback (most recent call last)",
            "\u001b[0;32m<ipython-input-63-28968d34298a>\u001b[0m in \u001b[0;36m<cell line: 1>\u001b[0;34m()\u001b[0m\n\u001b[0;32m----> 1\u001b[0;31m \u001b[0my_pred2\u001b[0m\u001b[0;34m=\u001b[0m\u001b[0mXGB\u001b[0m\u001b[0;34m.\u001b[0m\u001b[0mpredict\u001b[0m\u001b[0;34m(\u001b[0m\u001b[0mx2\u001b[0m\u001b[0;34m)\u001b[0m\u001b[0;34m\u001b[0m\u001b[0;34m\u001b[0m\u001b[0m\n\u001b[0m",
            "\u001b[0;32m/usr/local/lib/python3.10/dist-packages/xgboost/sklearn.py\u001b[0m in \u001b[0;36mpredict\u001b[0;34m(self, X, output_margin, validate_features, base_margin, iteration_range)\u001b[0m\n\u001b[1;32m   1563\u001b[0m     ) -> ArrayLike:\n\u001b[1;32m   1564\u001b[0m         \u001b[0;32mwith\u001b[0m \u001b[0mconfig_context\u001b[0m\u001b[0;34m(\u001b[0m\u001b[0mverbosity\u001b[0m\u001b[0;34m=\u001b[0m\u001b[0mself\u001b[0m\u001b[0;34m.\u001b[0m\u001b[0mverbosity\u001b[0m\u001b[0;34m)\u001b[0m\u001b[0;34m:\u001b[0m\u001b[0;34m\u001b[0m\u001b[0;34m\u001b[0m\u001b[0m\n\u001b[0;32m-> 1565\u001b[0;31m             class_probs = super().predict(\n\u001b[0m\u001b[1;32m   1566\u001b[0m                 \u001b[0mX\u001b[0m\u001b[0;34m=\u001b[0m\u001b[0mX\u001b[0m\u001b[0;34m,\u001b[0m\u001b[0;34m\u001b[0m\u001b[0;34m\u001b[0m\u001b[0m\n\u001b[1;32m   1567\u001b[0m                 \u001b[0moutput_margin\u001b[0m\u001b[0;34m=\u001b[0m\u001b[0moutput_margin\u001b[0m\u001b[0;34m,\u001b[0m\u001b[0;34m\u001b[0m\u001b[0;34m\u001b[0m\u001b[0m\n",
            "\u001b[0;32m/usr/local/lib/python3.10/dist-packages/xgboost/sklearn.py\u001b[0m in \u001b[0;36mpredict\u001b[0;34m(self, X, output_margin, validate_features, base_margin, iteration_range)\u001b[0m\n\u001b[1;32m   1184\u001b[0m             \u001b[0;32mif\u001b[0m \u001b[0mself\u001b[0m\u001b[0;34m.\u001b[0m\u001b[0m_can_use_inplace_predict\u001b[0m\u001b[0;34m(\u001b[0m\u001b[0;34m)\u001b[0m\u001b[0;34m:\u001b[0m\u001b[0;34m\u001b[0m\u001b[0;34m\u001b[0m\u001b[0m\n\u001b[1;32m   1185\u001b[0m                 \u001b[0;32mtry\u001b[0m\u001b[0;34m:\u001b[0m\u001b[0;34m\u001b[0m\u001b[0;34m\u001b[0m\u001b[0m\n\u001b[0;32m-> 1186\u001b[0;31m                     predts = self.get_booster().inplace_predict(\n\u001b[0m\u001b[1;32m   1187\u001b[0m                         \u001b[0mdata\u001b[0m\u001b[0;34m=\u001b[0m\u001b[0mX\u001b[0m\u001b[0;34m,\u001b[0m\u001b[0;34m\u001b[0m\u001b[0;34m\u001b[0m\u001b[0m\n\u001b[1;32m   1188\u001b[0m                         \u001b[0miteration_range\u001b[0m\u001b[0;34m=\u001b[0m\u001b[0miteration_range\u001b[0m\u001b[0;34m,\u001b[0m\u001b[0;34m\u001b[0m\u001b[0;34m\u001b[0m\u001b[0m\n",
            "\u001b[0;32m/usr/local/lib/python3.10/dist-packages/xgboost/core.py\u001b[0m in \u001b[0;36minplace_predict\u001b[0;34m(self, data, iteration_range, predict_type, missing, validate_features, base_margin, strict_shape)\u001b[0m\n\u001b[1;32m   2531\u001b[0m \u001b[0;34m\u001b[0m\u001b[0m\n\u001b[1;32m   2532\u001b[0m             \u001b[0mdata\u001b[0m\u001b[0;34m,\u001b[0m \u001b[0m_\u001b[0m \u001b[0;34m=\u001b[0m \u001b[0m_ensure_np_dtype\u001b[0m\u001b[0;34m(\u001b[0m\u001b[0mdata\u001b[0m\u001b[0;34m,\u001b[0m \u001b[0mdata\u001b[0m\u001b[0;34m.\u001b[0m\u001b[0mdtype\u001b[0m\u001b[0;34m)\u001b[0m\u001b[0;34m\u001b[0m\u001b[0;34m\u001b[0m\u001b[0m\n\u001b[0;32m-> 2533\u001b[0;31m             _check_call(\n\u001b[0m\u001b[1;32m   2534\u001b[0m                 _LIB.XGBoosterPredictFromDense(\n\u001b[1;32m   2535\u001b[0m                     \u001b[0mself\u001b[0m\u001b[0;34m.\u001b[0m\u001b[0mhandle\u001b[0m\u001b[0;34m,\u001b[0m\u001b[0;34m\u001b[0m\u001b[0;34m\u001b[0m\u001b[0m\n",
            "\u001b[0;32m/usr/local/lib/python3.10/dist-packages/xgboost/core.py\u001b[0m in \u001b[0;36m_check_call\u001b[0;34m(ret)\u001b[0m\n\u001b[1;32m    282\u001b[0m     \"\"\"\n\u001b[1;32m    283\u001b[0m     \u001b[0;32mif\u001b[0m \u001b[0mret\u001b[0m \u001b[0;34m!=\u001b[0m \u001b[0;36m0\u001b[0m\u001b[0;34m:\u001b[0m\u001b[0;34m\u001b[0m\u001b[0;34m\u001b[0m\u001b[0m\n\u001b[0;32m--> 284\u001b[0;31m         \u001b[0;32mraise\u001b[0m \u001b[0mXGBoostError\u001b[0m\u001b[0;34m(\u001b[0m\u001b[0mpy_str\u001b[0m\u001b[0;34m(\u001b[0m\u001b[0m_LIB\u001b[0m\u001b[0;34m.\u001b[0m\u001b[0mXGBGetLastError\u001b[0m\u001b[0;34m(\u001b[0m\u001b[0;34m)\u001b[0m\u001b[0;34m)\u001b[0m\u001b[0;34m)\u001b[0m\u001b[0;34m\u001b[0m\u001b[0;34m\u001b[0m\u001b[0m\n\u001b[0m\u001b[1;32m    285\u001b[0m \u001b[0;34m\u001b[0m\u001b[0m\n\u001b[1;32m    286\u001b[0m \u001b[0;34m\u001b[0m\u001b[0m\n",
            "\u001b[0;31mXGBoostError\u001b[0m: [11:38:53] /workspace/src/predictor/cpu_predictor.cc:789: Check failed: m->NumColumns() == model.learner_model_param->num_feature (1 vs. 100) : Number of columns in data must equal to trained model.\nStack trace:\n  [bt] (0) /usr/local/lib/python3.10/dist-packages/xgboost/lib/libxgboost.so(+0x22dcbc) [0x7a46c642dcbc]\n  [bt] (1) /usr/local/lib/python3.10/dist-packages/xgboost/lib/libxgboost.so(+0x72fdc3) [0x7a46c692fdc3]\n  [bt] (2) /usr/local/lib/python3.10/dist-packages/xgboost/lib/libxgboost.so(+0x731b8d) [0x7a46c6931b8d]\n  [bt] (3) /usr/local/lib/python3.10/dist-packages/xgboost/lib/libxgboost.so(+0x57c708) [0x7a46c677c708]\n  [bt] (4) /usr/local/lib/python3.10/dist-packages/xgboost/lib/libxgboost.so(+0x5d0389) [0x7a46c67d0389]\n  [bt] (5) /usr/local/lib/python3.10/dist-packages/xgboost/lib/libxgboost.so(+0x13c2bc) [0x7a46c633c2bc]\n  [bt] (6) /usr/local/lib/python3.10/dist-packages/xgboost/lib/libxgboost.so(XGBoosterPredictFromDense+0x10b) [0x7a46c633c7eb]\n  [bt] (7) /lib/x86_64-linux-gnu/libffi.so.8(+0x7e2e) [0x7a4768d88e2e]\n  [bt] (8) /lib/x86_64-linux-gnu/libffi.so.8(+0x4493) [0x7a4768d85493]\n\n"
          ]
        }
      ],
      "source": [
        "y_pred2=XGB.predict(x2)"
      ]
    },
    {
      "cell_type": "code",
      "execution_count": 68,
      "metadata": {
        "colab": {
          "base_uri": "https://localhost:8080/",
          "height": 141
        },
        "id": "NLbKjUVyVXEM",
        "outputId": "8c9672ee-9f2f-412c-9ab1-8afdd45d7966"
      },
      "outputs": [
        {
          "output_type": "error",
          "ename": "NameError",
          "evalue": "name 'y_pred2' is not defined",
          "traceback": [
            "\u001b[0;31m---------------------------------------------------------------------------\u001b[0m",
            "\u001b[0;31mNameError\u001b[0m                                 Traceback (most recent call last)",
            "\u001b[0;32m<ipython-input-68-e8241ca14218>\u001b[0m in \u001b[0;36m<cell line: 1>\u001b[0;34m()\u001b[0m\n\u001b[0;32m----> 1\u001b[0;31m \u001b[0mprint\u001b[0m\u001b[0;34m(\u001b[0m\u001b[0my_pred2\u001b[0m\u001b[0;34m)\u001b[0m\u001b[0;34m\u001b[0m\u001b[0;34m\u001b[0m\u001b[0m\n\u001b[0m",
            "\u001b[0;31mNameError\u001b[0m: name 'y_pred2' is not defined"
          ]
        }
      ],
      "source": [
        "print(y_pred2)"
      ]
    }
  ],
  "metadata": {
    "colab": {
      "provenance": []
    },
    "kernelspec": {
      "display_name": "Python 3",
      "name": "python3"
    },
    "language_info": {
      "name": "python"
    }
  },
  "nbformat": 4,
  "nbformat_minor": 0
}